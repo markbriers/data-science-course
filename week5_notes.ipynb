{
  "nbformat": 4,
  "nbformat_minor": 0,
  "metadata": {
    "colab": {
      "name": "week5-notes.ipynb",
      "provenance": [],
      "authorship_tag": "ABX9TyPSSC59F0NoHf9PlyZiukLp",
      "include_colab_link": true
    },
    "kernelspec": {
      "name": "python3",
      "display_name": "Python 3"
    }
  },
  "cells": [
    {
      "cell_type": "markdown",
      "metadata": {
        "id": "view-in-github",
        "colab_type": "text"
      },
      "source": [
        "<a href=\"https://colab.research.google.com/github/markbriers/data-science-jupyter/blob/main/week5_notes.ipynb\" target=\"_parent\"><img src=\"https://colab.research.google.com/assets/colab-badge.svg\" alt=\"Open In Colab\"/></a>"
      ]
    },
    {
      "cell_type": "markdown",
      "metadata": {
        "id": "Y_GB92EFzACw"
      },
      "source": [
        "# Data Understanding (Week 5)"
      ]
    },
    {
      "cell_type": "markdown",
      "metadata": {
        "id": "yUxrmSdDzR1j"
      },
      "source": [
        "Code at: https://github.com/markbriers/data-science-jupyter"
      ]
    },
    {
      "cell_type": "markdown",
      "metadata": {
        "id": "lTql8IoHzTFE"
      },
      "source": [
        "## Recap - the story so far"
      ]
    },
    {
      "cell_type": "markdown",
      "metadata": {
        "id": "s2YOF7MmzVM-"
      },
      "source": [
        "Our goal is to follow a data science process (CRISP-DM) to deliver a successful business outcome.\n",
        "\n",
        "Our learning objectives are as follows:\n",
        "\n",
        "* Describe the six stages of a data processing pipeline (using CRISP-DM)\n",
        "\n",
        "* Demonstrate an understanding of the python programming language through the production of elementary data analysis programme\n",
        "\n",
        "* Analyse at least three different data sources by applying at least one python data processing library to extract and explore pertinent features\n",
        "\n",
        "* Be able to design a set of data requirements for a specified business problem\n",
        "\n",
        "* Describe and apply (using the python programming language) the main approaches to supervised learning for a given classification problem\n",
        "\n",
        "* Understand the use cases of Big Data technology (in particular Spark)\n",
        "\n",
        "* Produce a report including appropriate data visualisations covering the analysis of a business problem using a data science based approach"
      ]
    },
    {
      "cell_type": "markdown",
      "metadata": {
        "id": "WtEh6FJRzcn4"
      },
      "source": [
        "## Exploratory Data Analysis"
      ]
    },
    {
      "cell_type": "markdown",
      "metadata": {
        "id": "oHfC0B9IzhL9"
      },
      "source": [
        "The field of Statistics was originally invented to allow Governments to understand properties of their _populations_ given a _sample_ of data. We should use this framing and terminology when considering the utility of a dataset in the context of the business problem.\n",
        "\n",
        "Exploratory Data Analysis (EDA) is a statistical phrase governing the \"Data Understanding and Data Preparation\" parts of the CRISP-DM process. EDA involves graphical and non-graphical exploration of the data. During EDA, we will think about the following:\n",
        "\n",
        "* Explore the quality of the data collection: Listing the data sources acquired together with their locations, the methods used to acquire them and any problems encountered\n",
        "* Characterise the distribution of key attributes (for example, the target attribute of a prediction task)\n",
        "* Produce a description of the data that has been acquired including its format, its quantity (for example, the number of records and fields in each table).\n",
        "* Produce a description of any other surface features that have been discovered. Evaluate whether the data acquired satisfies the business requirements **(univariate analysis)**\n",
        "* Characterise the relationships between pairs or small numbers of attributes **(multivariate analysis)**\n",
        "* Results of simple aggregations\n",
        "* Properties of significant sub-populations\n",
        "* Simple statistical analyses, including missing data analysis and anomaly detection\n",
        "\n",
        "_Structured data_ often arrives in tabular format - that is, can be readily stored and manipulated in a Pandas DataFrame object within Python. The data _fields_ are often stored as columns, and each data point is stored as a row.\n",
        "\n",
        "_Unstructured data_ often has no discernable format. One of the initial tasks is to devise structure in order to undertake a statistical analysis. We will not cover unstructured data in this course."
      ]
    },
    {
      "cell_type": "markdown",
      "metadata": {
        "id": "UunHuX0-0aAU"
      },
      "source": [
        "### Univariate analysis - Categorical data"
      ]
    },
    {
      "cell_type": "markdown",
      "metadata": {
        "id": "eUHq2F9I0dtG"
      },
      "source": [
        "Let's regenerate the dataframe from last week (including mode imputation). First, we will load the data, extract the Categorical data, and complete the missing data."
      ]
    },
    {
      "cell_type": "code",
      "metadata": {
        "id": "yMUdPS4MyxgB"
      },
      "source": [
        "import pandas as pd\n",
        "import numpy as np\n",
        "import copy\n",
        "\n",
        "df_flights = pd.read_csv('https://raw.githubusercontent.com/ismayc/pnwflights14/master/data/flights.csv')\n",
        "\n",
        "df_flights['carrier'] = pd.Categorical(df_flights['carrier'])\n",
        "df_flights['tailnum'] = pd.Categorical(df_flights['tailnum'])\n",
        "df_flights['origin'] = pd.Categorical(df_flights['origin'])\n",
        "df_flights['dest'] = pd.Categorical(df_flights['dest'])\n",
        "\n",
        "cat_df_flights = df_flights.select_dtypes(include=['category']).copy()\n",
        "mode_tailnum = cat_df_flights['tailnum'].value_counts().index[0]\n",
        "cat_df_flights['tailnum'] = cat_df_flights['tailnum'].fillna(mode_tailnum)"
      ],
      "execution_count": 1,
      "outputs": []
    },
    {
      "cell_type": "markdown",
      "metadata": {
        "id": "aRrnJ8Gk0maE"
      },
      "source": [
        "Now, let's plot the histogram:"
      ]
    },
    {
      "cell_type": "code",
      "metadata": {
        "colab": {
          "base_uri": "https://localhost:8080/",
          "height": 681
        },
        "id": "xmZMi-bJz5hm",
        "outputId": "17a461f3-8919-4898-c0b4-510f9f4c20ce"
      },
      "source": [
        "import seaborn as sns\n",
        "import matplotlib.pyplot as plt\n",
        "%matplotlib inline\n",
        "\n",
        "plt.figure(figsize=(12,10))\n",
        "carrier_count = cat_df_flights['carrier'].value_counts()\n",
        "sns.set(style=\"darkgrid\")\n",
        "sns.barplot(carrier_count.index, carrier_count.values, alpha=0.9)\n",
        "plt.title('Frequency Distribution of Carriers')\n",
        "plt.ylabel('Number of Occurrences', fontsize=12)\n",
        "plt.xlabel('Carrier', fontsize=12)\n",
        "plt.show()"
      ],
      "execution_count": 2,
      "outputs": [
        {
          "output_type": "stream",
          "text": [
            "/usr/local/lib/python3.6/dist-packages/seaborn/_decorators.py:43: FutureWarning: Pass the following variables as keyword args: x, y. From version 0.12, the only valid positional argument will be `data`, and passing other arguments without an explicit keyword will result in an error or misinterpretation.\n",
            "  FutureWarning\n"
          ],
          "name": "stderr"
        },
        {
          "output_type": "display_data",
          "data": {
            "image/png": "[encoded data removed]",
            "text/plain": [
              "<Figure size 864x720 with 1 Axes>"
            ]
          },
          "metadata": {
            "tags": [],
            "needs_background": "light"
          }
        }
      ]
    },
    {
      "cell_type": "markdown",
      "metadata": {
        "id": "fMg9nEzc1Iqf"
      },
      "source": [
        "How do we order the data? We can `sort_values` in the dataframe, but this doesn't give us exactly what we want to display in the plot:"
      ]
    },
    {
      "cell_type": "code",
      "metadata": {
        "colab": {
          "base_uri": "https://localhost:8080/",
          "height": 402
        },
        "id": "0Dnme-pbz6JL",
        "outputId": "2ab83ea5-78d7-49eb-ad13-5eb9b43091c8"
      },
      "source": [
        "cat_df_flights.sort_values('carrier')"
      ],
      "execution_count": 3,
      "outputs": [
        {
          "output_type": "execute_result",
          "data": {
            "text/html": [
              "<div>\n",
              "<style scoped>\n",
              "    .dataframe tbody tr th:only-of-type {\n",
              "        vertical-align: middle;\n",
              "    }\n",
              "\n",
              "    .dataframe tbody tr th {\n",
              "        vertical-align: top;\n",
              "    }\n",
              "\n",
              "    .dataframe thead th {\n",
              "        text-align: right;\n",
              "    }\n",
              "</style>\n",
              "<table border=\"1\" class=\"dataframe\">\n",
              "  <thead>\n",
              "    <tr style=\"text-align: right;\">\n",
              "      <th></th>\n",
              "      <th>carrier</th>\n",
              "      <th>tailnum</th>\n",
              "      <th>origin</th>\n",
              "      <th>dest</th>\n",
              "    </tr>\n",
              "  </thead>\n",
              "  <tbody>\n",
              "    <tr>\n",
              "      <th>105664</th>\n",
              "      <td>AA</td>\n",
              "      <td>N5EKAA</td>\n",
              "      <td>SEA</td>\n",
              "      <td>DFW</td>\n",
              "    </tr>\n",
              "    <tr>\n",
              "      <th>132806</th>\n",
              "      <td>AA</td>\n",
              "      <td>N3CRAA</td>\n",
              "      <td>PDX</td>\n",
              "      <td>ORD</td>\n",
              "    </tr>\n",
              "    <tr>\n",
              "      <th>13108</th>\n",
              "      <td>AA</td>\n",
              "      <td>N3FXAA</td>\n",
              "      <td>SEA</td>\n",
              "      <td>JFK</td>\n",
              "    </tr>\n",
              "    <tr>\n",
              "      <th>38855</th>\n",
              "      <td>AA</td>\n",
              "      <td>N3BHAA</td>\n",
              "      <td>SEA</td>\n",
              "      <td>JFK</td>\n",
              "    </tr>\n",
              "    <tr>\n",
              "      <th>38853</th>\n",
              "      <td>AA</td>\n",
              "      <td>N3BMAA</td>\n",
              "      <td>SEA</td>\n",
              "      <td>DFW</td>\n",
              "    </tr>\n",
              "    <tr>\n",
              "      <th>...</th>\n",
              "      <td>...</td>\n",
              "      <td>...</td>\n",
              "      <td>...</td>\n",
              "      <td>...</td>\n",
              "    </tr>\n",
              "    <tr>\n",
              "      <th>113048</th>\n",
              "      <td>WN</td>\n",
              "      <td>N218WN</td>\n",
              "      <td>SEA</td>\n",
              "      <td>PHX</td>\n",
              "    </tr>\n",
              "    <tr>\n",
              "      <th>113055</th>\n",
              "      <td>WN</td>\n",
              "      <td>N375SW</td>\n",
              "      <td>PDX</td>\n",
              "      <td>OAK</td>\n",
              "    </tr>\n",
              "    <tr>\n",
              "      <th>113056</th>\n",
              "      <td>WN</td>\n",
              "      <td>N717SA</td>\n",
              "      <td>SEA</td>\n",
              "      <td>LAS</td>\n",
              "    </tr>\n",
              "    <tr>\n",
              "      <th>113065</th>\n",
              "      <td>WN</td>\n",
              "      <td>N918WN</td>\n",
              "      <td>SEA</td>\n",
              "      <td>DEN</td>\n",
              "    </tr>\n",
              "    <tr>\n",
              "      <th>162048</th>\n",
              "      <td>WN</td>\n",
              "      <td>N790SW</td>\n",
              "      <td>SEA</td>\n",
              "      <td>SMF</td>\n",
              "    </tr>\n",
              "  </tbody>\n",
              "</table>\n",
              "<p>162049 rows × 4 columns</p>\n",
              "</div>"
            ],
            "text/plain": [
              "       carrier tailnum origin dest\n",
              "105664      AA  N5EKAA    SEA  DFW\n",
              "132806      AA  N3CRAA    PDX  ORD\n",
              "13108       AA  N3FXAA    SEA  JFK\n",
              "38855       AA  N3BHAA    SEA  JFK\n",
              "38853       AA  N3BMAA    SEA  DFW\n",
              "...        ...     ...    ...  ...\n",
              "113048      WN  N218WN    SEA  PHX\n",
              "113055      WN  N375SW    PDX  OAK\n",
              "113056      WN  N717SA    SEA  LAS\n",
              "113065      WN  N918WN    SEA  DEN\n",
              "162048      WN  N790SW    SEA  SMF\n",
              "\n",
              "[162049 rows x 4 columns]"
            ]
          },
          "metadata": {
            "tags": []
          },
          "execution_count": 3
        }
      ]
    },
    {
      "cell_type": "markdown",
      "metadata": {
        "id": "mhMQyiBY8B1i"
      },
      "source": [
        "We can also sort by unique `value_counts` (from the documentation): The resulting object will be in descending order so that the first element is the most frequently-occurring element. "
      ]
    },
    {
      "cell_type": "code",
      "metadata": {
        "colab": {
          "base_uri": "https://localhost:8080/"
        },
        "id": "xdNEdBbR7kpP",
        "outputId": "d3276fab-335c-4559-d5de-f9945dca11d7"
      },
      "source": [
        "cat_df_flights['carrier'].value_counts()"
      ],
      "execution_count": 4,
      "outputs": [
        {
          "output_type": "execute_result",
          "data": {
            "text/plain": [
              "AS    62460\n",
              "WN    23355\n",
              "OO    18710\n",
              "DL    16716\n",
              "UA    16671\n",
              "AA     7586\n",
              "US     5946\n",
              "B6     3540\n",
              "VX     3272\n",
              "F9     2698\n",
              "HA     1095\n",
              "Name: carrier, dtype: int64"
            ]
          },
          "metadata": {
            "tags": []
          },
          "execution_count": 4
        }
      ]
    },
    {
      "cell_type": "code",
      "metadata": {
        "id": "BfH0grU47MRW",
        "colab": {
          "base_uri": "https://localhost:8080/",
          "height": 703
        },
        "outputId": "15b2330c-1f49-46d4-fe68-f2e1d200919d"
      },
      "source": [
        "fig,ax = plt.subplots(1, 2, figsize=(15,12))\n",
        "sns.barplot(x = carrier_count.index, y = carrier_count.values, ax=ax[0])\n",
        "sns.barplot(x = carrier_count.index, y = carrier_count.values, order=carrier_count.index, ax=ax[1])\n",
        "fig.show()"
      ],
      "execution_count": 5,
      "outputs": [
        {
          "output_type": "display_data",
          "data": {
            "image/png": "[encoded data removed]",
            "text/plain": [
              "<Figure size 1080x864 with 2 Axes>"
            ]
          },
          "metadata": {
            "tags": []
          }
        }
      ]
    },
    {
      "cell_type": "markdown",
      "metadata": {
        "id": "7Unh-ihK_OT8"
      },
      "source": [
        "### Multivariate analysis - Categorical data"
      ]
    },
    {
      "cell_type": "markdown",
      "metadata": {
        "id": "mdeQE2nj_Vtx"
      },
      "source": [
        "Now, let's say you want to calculate the number of flights for each carrier from each origin places, you can use the .groupby() and .count() methods on your DataFrame to do so:"
      ]
    },
    {
      "cell_type": "code",
      "metadata": {
        "id": "3Tgu28702sDP",
        "colab": {
          "base_uri": "https://localhost:8080/",
          "height": 728
        },
        "outputId": "c6c1c47c-e4ce-4cb2-8be8-5ca06b12c908"
      },
      "source": [
        "cat_df_flights.groupby(['origin','carrier']).count()"
      ],
      "execution_count": 6,
      "outputs": [
        {
          "output_type": "execute_result",
          "data": {
            "text/html": [
              "<div>\n",
              "<style scoped>\n",
              "    .dataframe tbody tr th:only-of-type {\n",
              "        vertical-align: middle;\n",
              "    }\n",
              "\n",
              "    .dataframe tbody tr th {\n",
              "        vertical-align: top;\n",
              "    }\n",
              "\n",
              "    .dataframe thead th {\n",
              "        text-align: right;\n",
              "    }\n",
              "</style>\n",
              "<table border=\"1\" class=\"dataframe\">\n",
              "  <thead>\n",
              "    <tr style=\"text-align: right;\">\n",
              "      <th></th>\n",
              "      <th></th>\n",
              "      <th>tailnum</th>\n",
              "      <th>dest</th>\n",
              "    </tr>\n",
              "    <tr>\n",
              "      <th>origin</th>\n",
              "      <th>carrier</th>\n",
              "      <th></th>\n",
              "      <th></th>\n",
              "    </tr>\n",
              "  </thead>\n",
              "  <tbody>\n",
              "    <tr>\n",
              "      <th rowspan=\"11\" valign=\"top\">PDX</th>\n",
              "      <th>AA</th>\n",
              "      <td>2187</td>\n",
              "      <td>2187</td>\n",
              "    </tr>\n",
              "    <tr>\n",
              "      <th>AS</th>\n",
              "      <td>12844</td>\n",
              "      <td>12844</td>\n",
              "    </tr>\n",
              "    <tr>\n",
              "      <th>B6</th>\n",
              "      <td>1287</td>\n",
              "      <td>1287</td>\n",
              "    </tr>\n",
              "    <tr>\n",
              "      <th>DL</th>\n",
              "      <td>5168</td>\n",
              "      <td>5168</td>\n",
              "    </tr>\n",
              "    <tr>\n",
              "      <th>F9</th>\n",
              "      <td>1362</td>\n",
              "      <td>1362</td>\n",
              "    </tr>\n",
              "    <tr>\n",
              "      <th>HA</th>\n",
              "      <td>365</td>\n",
              "      <td>365</td>\n",
              "    </tr>\n",
              "    <tr>\n",
              "      <th>OO</th>\n",
              "      <td>9841</td>\n",
              "      <td>9841</td>\n",
              "    </tr>\n",
              "    <tr>\n",
              "      <th>UA</th>\n",
              "      <td>6061</td>\n",
              "      <td>6061</td>\n",
              "    </tr>\n",
              "    <tr>\n",
              "      <th>US</th>\n",
              "      <td>2361</td>\n",
              "      <td>2361</td>\n",
              "    </tr>\n",
              "    <tr>\n",
              "      <th>VX</th>\n",
              "      <td>666</td>\n",
              "      <td>666</td>\n",
              "    </tr>\n",
              "    <tr>\n",
              "      <th>WN</th>\n",
              "      <td>11193</td>\n",
              "      <td>11193</td>\n",
              "    </tr>\n",
              "    <tr>\n",
              "      <th rowspan=\"11\" valign=\"top\">SEA</th>\n",
              "      <th>AA</th>\n",
              "      <td>5399</td>\n",
              "      <td>5399</td>\n",
              "    </tr>\n",
              "    <tr>\n",
              "      <th>AS</th>\n",
              "      <td>49616</td>\n",
              "      <td>49616</td>\n",
              "    </tr>\n",
              "    <tr>\n",
              "      <th>B6</th>\n",
              "      <td>2253</td>\n",
              "      <td>2253</td>\n",
              "    </tr>\n",
              "    <tr>\n",
              "      <th>DL</th>\n",
              "      <td>11548</td>\n",
              "      <td>11548</td>\n",
              "    </tr>\n",
              "    <tr>\n",
              "      <th>F9</th>\n",
              "      <td>1336</td>\n",
              "      <td>1336</td>\n",
              "    </tr>\n",
              "    <tr>\n",
              "      <th>HA</th>\n",
              "      <td>730</td>\n",
              "      <td>730</td>\n",
              "    </tr>\n",
              "    <tr>\n",
              "      <th>OO</th>\n",
              "      <td>8869</td>\n",
              "      <td>8869</td>\n",
              "    </tr>\n",
              "    <tr>\n",
              "      <th>UA</th>\n",
              "      <td>10610</td>\n",
              "      <td>10610</td>\n",
              "    </tr>\n",
              "    <tr>\n",
              "      <th>US</th>\n",
              "      <td>3585</td>\n",
              "      <td>3585</td>\n",
              "    </tr>\n",
              "    <tr>\n",
              "      <th>VX</th>\n",
              "      <td>2606</td>\n",
              "      <td>2606</td>\n",
              "    </tr>\n",
              "    <tr>\n",
              "      <th>WN</th>\n",
              "      <td>12162</td>\n",
              "      <td>12162</td>\n",
              "    </tr>\n",
              "  </tbody>\n",
              "</table>\n",
              "</div>"
            ],
            "text/plain": [
              "                tailnum   dest\n",
              "origin carrier                \n",
              "PDX    AA          2187   2187\n",
              "       AS         12844  12844\n",
              "       B6          1287   1287\n",
              "       DL          5168   5168\n",
              "       F9          1362   1362\n",
              "       HA           365    365\n",
              "       OO          9841   9841\n",
              "       UA          6061   6061\n",
              "       US          2361   2361\n",
              "       VX           666    666\n",
              "       WN         11193  11193\n",
              "SEA    AA          5399   5399\n",
              "       AS         49616  49616\n",
              "       B6          2253   2253\n",
              "       DL         11548  11548\n",
              "       F9          1336   1336\n",
              "       HA           730    730\n",
              "       OO          8869   8869\n",
              "       UA         10610  10610\n",
              "       US          3585   3585\n",
              "       VX          2606   2606\n",
              "       WN         12162  12162"
            ]
          },
          "metadata": {
            "tags": []
          },
          "execution_count": 6
        }
      ]
    },
    {
      "cell_type": "markdown",
      "metadata": {
        "id": "arHcuKe__cLj"
      },
      "source": [
        "We may wish to compute a heatmap to describe interactions between two variables, for example, to understand the number of flights from origin to destination:"
      ]
    },
    {
      "cell_type": "code",
      "metadata": {
        "colab": {
          "base_uri": "https://localhost:8080/",
          "height": 647
        },
        "id": "6n9LFpl6_Y4Z",
        "outputId": "565041e4-a1bd-44ef-adfa-01b961e1ad3d"
      },
      "source": [
        "plt.figure(figsize=(12,10))\n",
        "orig_dest = cat_df_flights.groupby([\"origin\", \"dest\"]).size()\n",
        "orig_dest = orig_dest.reset_index(name=\"count\")\n",
        "# Pivot the dataframe to create a [origin x dest] matrix containing counts\n",
        "sns.heatmap(orig_dest.pivot(\"origin\", \"dest\", \"count\"), annot=False, cmap=\"PuBuGn\")"
      ],
      "execution_count": 7,
      "outputs": [
        {
          "output_type": "execute_result",
          "data": {
            "text/plain": [
              "<matplotlib.axes._subplots.AxesSubplot at 0x7ff83decde80>"
            ]
          },
          "metadata": {
            "tags": []
          },
          "execution_count": 7
        },
        {
          "output_type": "display_data",
          "data": {
            "image/png": "[encoded data removed]",
            "text/plain": [
              "<Figure size 864x720 with 2 Axes>"
            ]
          },
          "metadata": {
            "tags": []
          }
        }
      ]
    },
    {
      "cell_type": "markdown",
      "metadata": {
        "id": "dCrMoOhq_lfG"
      },
      "source": [
        "From this, we can perform a comparative analysis across the two origin airports, noting that Portland International (PDX) has fewer flights that Seattle Tacoma (SEA), but the popular destinations for each airport are broadly equivalent."
      ]
    },
    {
      "cell_type": "markdown",
      "metadata": {
        "id": "McAYi_HZ_08V"
      },
      "source": [
        "### Univariate analysis - Numerical data"
      ]
    },
    {
      "cell_type": "markdown",
      "metadata": {
        "id": "zz6rZEVRAEbU"
      },
      "source": [
        "We are now going to explore the numerical data values. We will first compute summary statistics of all the fields."
      ]
    },
    {
      "cell_type": "code",
      "metadata": {
        "colab": {
          "base_uri": "https://localhost:8080/",
          "height": 304
        },
        "id": "m7NLjTxC_hMD",
        "outputId": "387ba960-0cc9-42ef-b95f-b3dafcbdbd54"
      },
      "source": [
        "df_flights.describe()"
      ],
      "execution_count": 8,
      "outputs": [
        {
          "output_type": "execute_result",
          "data": {
            "text/html": [
              "<div>\n",
              "<style scoped>\n",
              "    .dataframe tbody tr th:only-of-type {\n",
              "        vertical-align: middle;\n",
              "    }\n",
              "\n",
              "    .dataframe tbody tr th {\n",
              "        vertical-align: top;\n",
              "    }\n",
              "\n",
              "    .dataframe thead th {\n",
              "        text-align: right;\n",
              "    }\n",
              "</style>\n",
              "<table border=\"1\" class=\"dataframe\">\n",
              "  <thead>\n",
              "    <tr style=\"text-align: right;\">\n",
              "      <th></th>\n",
              "      <th>year</th>\n",
              "      <th>month</th>\n",
              "      <th>day</th>\n",
              "      <th>dep_time</th>\n",
              "      <th>dep_delay</th>\n",
              "      <th>arr_time</th>\n",
              "      <th>arr_delay</th>\n",
              "      <th>flight</th>\n",
              "      <th>air_time</th>\n",
              "      <th>distance</th>\n",
              "      <th>hour</th>\n",
              "      <th>minute</th>\n",
              "    </tr>\n",
              "  </thead>\n",
              "  <tbody>\n",
              "    <tr>\n",
              "      <th>count</th>\n",
              "      <td>162049.0</td>\n",
              "      <td>162049.000000</td>\n",
              "      <td>162049.000000</td>\n",
              "      <td>161192.000000</td>\n",
              "      <td>161192.000000</td>\n",
              "      <td>161061.000000</td>\n",
              "      <td>160748.000000</td>\n",
              "      <td>162049.000000</td>\n",
              "      <td>160748.000000</td>\n",
              "      <td>162049.000000</td>\n",
              "      <td>161192.000000</td>\n",
              "      <td>161192.000000</td>\n",
              "    </tr>\n",
              "    <tr>\n",
              "      <th>mean</th>\n",
              "      <td>2014.0</td>\n",
              "      <td>6.605027</td>\n",
              "      <td>15.749890</td>\n",
              "      <td>1278.283755</td>\n",
              "      <td>6.133859</td>\n",
              "      <td>1482.501282</td>\n",
              "      <td>2.240868</td>\n",
              "      <td>1357.356725</td>\n",
              "      <td>152.588511</td>\n",
              "      <td>1204.514634</td>\n",
              "      <td>12.479515</td>\n",
              "      <td>30.332244</td>\n",
              "    </tr>\n",
              "    <tr>\n",
              "      <th>std</th>\n",
              "      <td>0.0</td>\n",
              "      <td>3.324399</td>\n",
              "      <td>8.789417</td>\n",
              "      <td>522.583793</td>\n",
              "      <td>29.112035</td>\n",
              "      <td>523.958781</td>\n",
              "      <td>31.191037</td>\n",
              "      <td>1495.271031</td>\n",
              "      <td>72.547469</td>\n",
              "      <td>653.150062</td>\n",
              "      <td>5.232476</td>\n",
              "      <td>18.061569</td>\n",
              "    </tr>\n",
              "    <tr>\n",
              "      <th>min</th>\n",
              "      <td>2014.0</td>\n",
              "      <td>1.000000</td>\n",
              "      <td>1.000000</td>\n",
              "      <td>1.000000</td>\n",
              "      <td>-37.000000</td>\n",
              "      <td>1.000000</td>\n",
              "      <td>-67.000000</td>\n",
              "      <td>2.000000</td>\n",
              "      <td>18.000000</td>\n",
              "      <td>93.000000</td>\n",
              "      <td>0.000000</td>\n",
              "      <td>0.000000</td>\n",
              "    </tr>\n",
              "    <tr>\n",
              "      <th>25%</th>\n",
              "      <td>2014.0</td>\n",
              "      <td>4.000000</td>\n",
              "      <td>8.000000</td>\n",
              "      <td>831.000000</td>\n",
              "      <td>-5.000000</td>\n",
              "      <td>1127.000000</td>\n",
              "      <td>-12.000000</td>\n",
              "      <td>408.000000</td>\n",
              "      <td>103.000000</td>\n",
              "      <td>689.000000</td>\n",
              "      <td>8.000000</td>\n",
              "      <td>14.000000</td>\n",
              "    </tr>\n",
              "    <tr>\n",
              "      <th>50%</th>\n",
              "      <td>2014.0</td>\n",
              "      <td>7.000000</td>\n",
              "      <td>16.000000</td>\n",
              "      <td>1217.000000</td>\n",
              "      <td>-2.000000</td>\n",
              "      <td>1517.000000</td>\n",
              "      <td>-4.000000</td>\n",
              "      <td>694.000000</td>\n",
              "      <td>129.000000</td>\n",
              "      <td>991.000000</td>\n",
              "      <td>12.000000</td>\n",
              "      <td>30.000000</td>\n",
              "    </tr>\n",
              "    <tr>\n",
              "      <th>75%</th>\n",
              "      <td>2014.0</td>\n",
              "      <td>9.000000</td>\n",
              "      <td>23.000000</td>\n",
              "      <td>1721.000000</td>\n",
              "      <td>5.000000</td>\n",
              "      <td>1918.000000</td>\n",
              "      <td>7.000000</td>\n",
              "      <td>1726.000000</td>\n",
              "      <td>199.000000</td>\n",
              "      <td>1660.000000</td>\n",
              "      <td>17.000000</td>\n",
              "      <td>47.000000</td>\n",
              "    </tr>\n",
              "    <tr>\n",
              "      <th>max</th>\n",
              "      <td>2014.0</td>\n",
              "      <td>12.000000</td>\n",
              "      <td>31.000000</td>\n",
              "      <td>2400.000000</td>\n",
              "      <td>1553.000000</td>\n",
              "      <td>2400.000000</td>\n",
              "      <td>1539.000000</td>\n",
              "      <td>6527.000000</td>\n",
              "      <td>422.000000</td>\n",
              "      <td>2724.000000</td>\n",
              "      <td>24.000000</td>\n",
              "      <td>59.000000</td>\n",
              "    </tr>\n",
              "  </tbody>\n",
              "</table>\n",
              "</div>"
            ],
            "text/plain": [
              "           year          month  ...           hour         minute\n",
              "count  162049.0  162049.000000  ...  161192.000000  161192.000000\n",
              "mean     2014.0       6.605027  ...      12.479515      30.332244\n",
              "std         0.0       3.324399  ...       5.232476      18.061569\n",
              "min      2014.0       1.000000  ...       0.000000       0.000000\n",
              "25%      2014.0       4.000000  ...       8.000000      14.000000\n",
              "50%      2014.0       7.000000  ...      12.000000      30.000000\n",
              "75%      2014.0       9.000000  ...      17.000000      47.000000\n",
              "max      2014.0      12.000000  ...      24.000000      59.000000\n",
              "\n",
              "[8 rows x 12 columns]"
            ]
          },
          "metadata": {
            "tags": []
          },
          "execution_count": 8
        }
      ]
    },
    {
      "cell_type": "markdown",
      "metadata": {
        "id": "d6LPa2uCAJTP"
      },
      "source": [
        "Notice how the .describe() function automatically removes the non-numerical variables. We can select the numerical values as follows:"
      ]
    },
    {
      "cell_type": "code",
      "metadata": {
        "colab": {
          "base_uri": "https://localhost:8080/",
          "height": 195
        },
        "id": "TuWNOnU7AGLi",
        "outputId": "04026d0b-5bed-4062-b211-b73f10ffafed"
      },
      "source": [
        "df_num = df_flights.select_dtypes(include = ['float64','int64']).copy()\n",
        "df_num.head()"
      ],
      "execution_count": 9,
      "outputs": [
        {
          "output_type": "execute_result",
          "data": {
            "text/html": [
              "<div>\n",
              "<style scoped>\n",
              "    .dataframe tbody tr th:only-of-type {\n",
              "        vertical-align: middle;\n",
              "    }\n",
              "\n",
              "    .dataframe tbody tr th {\n",
              "        vertical-align: top;\n",
              "    }\n",
              "\n",
              "    .dataframe thead th {\n",
              "        text-align: right;\n",
              "    }\n",
              "</style>\n",
              "<table border=\"1\" class=\"dataframe\">\n",
              "  <thead>\n",
              "    <tr style=\"text-align: right;\">\n",
              "      <th></th>\n",
              "      <th>year</th>\n",
              "      <th>month</th>\n",
              "      <th>day</th>\n",
              "      <th>dep_time</th>\n",
              "      <th>dep_delay</th>\n",
              "      <th>arr_time</th>\n",
              "      <th>arr_delay</th>\n",
              "      <th>flight</th>\n",
              "      <th>air_time</th>\n",
              "      <th>distance</th>\n",
              "      <th>hour</th>\n",
              "      <th>minute</th>\n",
              "    </tr>\n",
              "  </thead>\n",
              "  <tbody>\n",
              "    <tr>\n",
              "      <th>0</th>\n",
              "      <td>2014</td>\n",
              "      <td>1</td>\n",
              "      <td>1</td>\n",
              "      <td>1.0</td>\n",
              "      <td>96.0</td>\n",
              "      <td>235.0</td>\n",
              "      <td>70.0</td>\n",
              "      <td>145</td>\n",
              "      <td>194.0</td>\n",
              "      <td>1542</td>\n",
              "      <td>0.0</td>\n",
              "      <td>1.0</td>\n",
              "    </tr>\n",
              "    <tr>\n",
              "      <th>1</th>\n",
              "      <td>2014</td>\n",
              "      <td>1</td>\n",
              "      <td>1</td>\n",
              "      <td>4.0</td>\n",
              "      <td>-6.0</td>\n",
              "      <td>738.0</td>\n",
              "      <td>-23.0</td>\n",
              "      <td>1830</td>\n",
              "      <td>252.0</td>\n",
              "      <td>2279</td>\n",
              "      <td>0.0</td>\n",
              "      <td>4.0</td>\n",
              "    </tr>\n",
              "    <tr>\n",
              "      <th>2</th>\n",
              "      <td>2014</td>\n",
              "      <td>1</td>\n",
              "      <td>1</td>\n",
              "      <td>8.0</td>\n",
              "      <td>13.0</td>\n",
              "      <td>548.0</td>\n",
              "      <td>-4.0</td>\n",
              "      <td>1609</td>\n",
              "      <td>201.0</td>\n",
              "      <td>1825</td>\n",
              "      <td>0.0</td>\n",
              "      <td>8.0</td>\n",
              "    </tr>\n",
              "    <tr>\n",
              "      <th>3</th>\n",
              "      <td>2014</td>\n",
              "      <td>1</td>\n",
              "      <td>1</td>\n",
              "      <td>28.0</td>\n",
              "      <td>-2.0</td>\n",
              "      <td>800.0</td>\n",
              "      <td>-23.0</td>\n",
              "      <td>466</td>\n",
              "      <td>251.0</td>\n",
              "      <td>2282</td>\n",
              "      <td>0.0</td>\n",
              "      <td>28.0</td>\n",
              "    </tr>\n",
              "    <tr>\n",
              "      <th>4</th>\n",
              "      <td>2014</td>\n",
              "      <td>1</td>\n",
              "      <td>1</td>\n",
              "      <td>34.0</td>\n",
              "      <td>44.0</td>\n",
              "      <td>325.0</td>\n",
              "      <td>43.0</td>\n",
              "      <td>121</td>\n",
              "      <td>201.0</td>\n",
              "      <td>1448</td>\n",
              "      <td>0.0</td>\n",
              "      <td>34.0</td>\n",
              "    </tr>\n",
              "  </tbody>\n",
              "</table>\n",
              "</div>"
            ],
            "text/plain": [
              "   year  month  day  dep_time  ...  air_time  distance  hour  minute\n",
              "0  2014      1    1       1.0  ...     194.0      1542   0.0     1.0\n",
              "1  2014      1    1       4.0  ...     252.0      2279   0.0     4.0\n",
              "2  2014      1    1       8.0  ...     201.0      1825   0.0     8.0\n",
              "3  2014      1    1      28.0  ...     251.0      2282   0.0    28.0\n",
              "4  2014      1    1      34.0  ...     201.0      1448   0.0    34.0\n",
              "\n",
              "[5 rows x 12 columns]"
            ]
          },
          "metadata": {
            "tags": []
          },
          "execution_count": 9
        }
      ]
    },
    {
      "cell_type": "markdown",
      "metadata": {
        "id": "a8fM5PzjASOv"
      },
      "source": [
        "Now lets plot a histogram of each of these variables."
      ]
    },
    {
      "cell_type": "code",
      "metadata": {
        "colab": {
          "base_uri": "https://localhost:8080/",
          "height": 1000
        },
        "id": "BYgMCJCCANCS",
        "outputId": "beaf0311-fdb5-480b-a1f2-08990499e3bf"
      },
      "source": [
        "df_num.hist(figsize=(10, 15), bins=50, xlabelsize=8, ylabelsize=8)"
      ],
      "execution_count": 10,
      "outputs": [
        {
          "output_type": "execute_result",
          "data": {
            "text/plain": [
              "array([[<matplotlib.axes._subplots.AxesSubplot object at 0x7ff826682908>,\n",
              "        <matplotlib.axes._subplots.AxesSubplot object at 0x7ff826632f60>,\n",
              "        <matplotlib.axes._subplots.AxesSubplot object at 0x7ff8265ee5f8>],\n",
              "       [<matplotlib.axes._subplots.AxesSubplot object at 0x7ff82661cc50>,\n",
              "        <matplotlib.axes._subplots.AxesSubplot object at 0x7ff8265dd2e8>,\n",
              "        <matplotlib.axes._subplots.AxesSubplot object at 0x7ff82f0739e8>],\n",
              "       [<matplotlib.axes._subplots.AxesSubplot object at 0x7ff82663fda0>,\n",
              "        <matplotlib.axes._subplots.AxesSubplot object at 0x7ff82f5c00b8>,\n",
              "        <matplotlib.axes._subplots.AxesSubplot object at 0x7ff82f5c0860>],\n",
              "       [<matplotlib.axes._subplots.AxesSubplot object at 0x7ff82653b160>,\n",
              "        <matplotlib.axes._subplots.AxesSubplot object at 0x7ff82656a7b8>,\n",
              "        <matplotlib.axes._subplots.AxesSubplot object at 0x7ff82651ce10>]],\n",
              "      dtype=object)"
            ]
          },
          "metadata": {
            "tags": []
          },
          "execution_count": 10
        },
        {
          "output_type": "display_data",
          "data": {
            "image/png": "[encoded data removed]",
            "text/plain": [
              "<Figure size 720x1080 with 12 Axes>"
            ]
          },
          "metadata": {
            "tags": []
          }
        }
      ]
    },
    {
      "cell_type": "code",
      "metadata": {
        "colab": {
          "base_uri": "https://localhost:8080/"
        },
        "id": "RHnFycyFAVj5",
        "outputId": "dda17007-e490-4d79-d93a-3984c54da5f3"
      },
      "source": [
        "df_flights['arr_delay'].describe()"
      ],
      "execution_count": 11,
      "outputs": [
        {
          "output_type": "execute_result",
          "data": {
            "text/plain": [
              "count    160748.000000\n",
              "mean          2.240868\n",
              "std          31.191037\n",
              "min         -67.000000\n",
              "25%         -12.000000\n",
              "50%          -4.000000\n",
              "75%           7.000000\n",
              "max        1539.000000\n",
              "Name: arr_delay, dtype: float64"
            ]
          },
          "metadata": {
            "tags": []
          },
          "execution_count": 11
        }
      ]
    },
    {
      "cell_type": "code",
      "metadata": {
        "colab": {
          "base_uri": "https://localhost:8080/"
        },
        "id": "fmQSx0GpAi92",
        "outputId": "24c77f5e-d6f1-4ddb-a736-44b2af683863"
      },
      "source": [
        "mean = df_flights['arr_delay'].mean()\n",
        "median = df_flights['arr_delay'].median()\n",
        "print(mean,median)"
      ],
      "execution_count": 12,
      "outputs": [
        {
          "output_type": "stream",
          "text": [
            "2.2408676935327345 -4.0\n"
          ],
          "name": "stdout"
        }
      ]
    },
    {
      "cell_type": "markdown",
      "metadata": {
        "id": "6v8pvkz8Auo9"
      },
      "source": [
        "We will now use matplotlib's subplot command again in order to stack multiple plots:"
      ]
    },
    {
      "cell_type": "code",
      "metadata": {
        "colab": {
          "base_uri": "https://localhost:8080/",
          "height": 970
        },
        "id": "j4j17X-XArmG",
        "outputId": "990911b4-ba70-4faa-f771-8ebd992ab6b1"
      },
      "source": [
        "f1, (ax_hist, ax_box) = plt.subplots(2, sharex=True, gridspec_kw= {\"height_ratios\": (1, 0.3)}, figsize=(15, 15))\n",
        "\n",
        "# subplot 1\n",
        "sns.distplot(df_flights['arr_delay'], bins=100, hist_kws={'alpha': 0.4}, ax=ax_hist)\n",
        "ax_hist.axvline(mean, color='r', linestyle='--')\n",
        "ax_hist.axvline(median, color='g', linestyle='-')\n",
        "\n",
        "\n",
        "# subplot 2\n",
        "sns.boxplot(df_flights['arr_delay'], ax=ax_box)\n",
        "ax_box.axvline(mean, color='r', linestyle='--')\n",
        "ax_box.axvline(median, color='g', linestyle='-')\n",
        "\n",
        "plt.legend({'Mean': mean,'Median': median})\n",
        "\n",
        "plt.show()"
      ],
      "execution_count": 13,
      "outputs": [
        {
          "output_type": "stream",
          "text": [
            "/usr/local/lib/python3.6/dist-packages/seaborn/distributions.py:2557: FutureWarning: `distplot` is a deprecated function and will be removed in a future version. Please adapt your code to use either `displot` (a figure-level function with similar flexibility) or `histplot` (an axes-level function for histograms).\n",
            "  warnings.warn(msg, FutureWarning)\n",
            "/usr/local/lib/python3.6/dist-packages/seaborn/_decorators.py:43: FutureWarning: Pass the following variable as a keyword arg: x. From version 0.12, the only valid positional argument will be `data`, and passing other arguments without an explicit keyword will result in an error or misinterpretation.\n",
            "  FutureWarning\n"
          ],
          "name": "stderr"
        },
        {
          "output_type": "display_data",
          "data": {
            "image/png": "[encoded data removed]",
            "text/plain": [
              "<Figure size 1080x1080 with 2 Axes>"
            ]
          },
          "metadata": {
            "tags": []
          }
        }
      ]
    },
    {
      "cell_type": "markdown",
      "metadata": {
        "id": "hY5aUczuBE9w"
      },
      "source": [
        "In the above diagram, it is clear to see that the values >1400 are anomolous. These are significant distances from the mean. Why do these anomalous values occur? What should we do about them? Are we likely to see them again?"
      ]
    },
    {
      "cell_type": "code",
      "metadata": {
        "colab": {
          "base_uri": "https://localhost:8080/"
        },
        "id": "q2DD5l0mA3aR",
        "outputId": "940a6dc3-3c62-4e34-b875-6305ae7b378c"
      },
      "source": [
        "df_flights['distance'].describe()"
      ],
      "execution_count": 14,
      "outputs": [
        {
          "output_type": "execute_result",
          "data": {
            "text/plain": [
              "count    162049.000000\n",
              "mean       1204.514634\n",
              "std         653.150062\n",
              "min          93.000000\n",
              "25%         689.000000\n",
              "50%         991.000000\n",
              "75%        1660.000000\n",
              "max        2724.000000\n",
              "Name: distance, dtype: float64"
            ]
          },
          "metadata": {
            "tags": []
          },
          "execution_count": 14
        }
      ]
    },
    {
      "cell_type": "code",
      "metadata": {
        "colab": {
          "base_uri": "https://localhost:8080/"
        },
        "id": "S-g5SP-YBJVY",
        "outputId": "f6004e4b-c057-4416-8913-7895f39d5a92"
      },
      "source": [
        "mean_dist = df_flights['distance'].mean()\n",
        "median_dist = df_flights['distance'].median()\n",
        "print(mean_dist,median_dist)"
      ],
      "execution_count": 15,
      "outputs": [
        {
          "output_type": "stream",
          "text": [
            "1204.5146344624156 991.0\n"
          ],
          "name": "stdout"
        }
      ]
    },
    {
      "cell_type": "code",
      "metadata": {
        "colab": {
          "base_uri": "https://localhost:8080/",
          "height": 970
        },
        "id": "5WMf2gyIBMEn",
        "outputId": "187e44a0-f9ef-4ee9-97b4-fa77267b88e0"
      },
      "source": [
        "f1, (ax_hist, ax_box) = plt.subplots(2, sharex=True, gridspec_kw= {\"height_ratios\": (1, 0.3)}, figsize=(15, 15))\n",
        "\n",
        "# subplot 1\n",
        "sns.distplot(df_flights['distance'], bins=100, hist_kws={'alpha': 0.4}, ax=ax_hist)\n",
        "ax_hist.axvline(mean_dist, color='r', linestyle='--')\n",
        "ax_hist.axvline(median_dist, color='g', linestyle='-')\n",
        "\n",
        "\n",
        "# subplot 2\n",
        "sns.boxplot(df_flights['distance'], ax=ax_box)\n",
        "ax_box.axvline(mean_dist, color='r', linestyle='--')\n",
        "ax_box.axvline(median_dist, color='g', linestyle='-')\n",
        "\n",
        "plt.legend({'Mean': mean,'Median': median})\n",
        "\n",
        "plt.show()"
      ],
      "execution_count": 16,
      "outputs": [
        {
          "output_type": "stream",
          "text": [
            "/usr/local/lib/python3.6/dist-packages/seaborn/distributions.py:2557: FutureWarning: `distplot` is a deprecated function and will be removed in a future version. Please adapt your code to use either `displot` (a figure-level function with similar flexibility) or `histplot` (an axes-level function for histograms).\n",
            "  warnings.warn(msg, FutureWarning)\n",
            "/usr/local/lib/python3.6/dist-packages/seaborn/_decorators.py:43: FutureWarning: Pass the following variable as a keyword arg: x. From version 0.12, the only valid positional argument will be `data`, and passing other arguments without an explicit keyword will result in an error or misinterpretation.\n",
            "  FutureWarning\n"
          ],
          "name": "stderr"
        },
        {
          "output_type": "display_data",
          "data": {
            "image/png": "[encoded data removed]",
            "text/plain": [
              "<Figure size 1080x1080 with 2 Axes>"
            ]
          },
          "metadata": {
            "tags": []
          }
        }
      ]
    },
    {
      "cell_type": "markdown",
      "metadata": {
        "id": "j_xVobAlBWFi"
      },
      "source": [
        "What does this distribution tell us?"
      ]
    },
    {
      "cell_type": "markdown",
      "metadata": {
        "id": "vFAi1yi3BW1s"
      },
      "source": [
        "### Multivariate analysis - Numerical data"
      ]
    },
    {
      "cell_type": "markdown",
      "metadata": {
        "id": "TDcw2orHBgOr"
      },
      "source": [
        "Finally, we should look at correlations between variables, and explore how variables interact with each other in a pairwise manner, that is, how tightly coupled they are."
      ]
    },
    {
      "cell_type": "code",
      "metadata": {
        "id": "k1ySO__9BPG-"
      },
      "source": [
        "z = 'hour'"
      ],
      "execution_count": 17,
      "outputs": []
    },
    {
      "cell_type": "code",
      "metadata": {
        "colab": {
          "base_uri": "https://localhost:8080/"
        },
        "id": "qKkHrnT0BijK",
        "outputId": "0e483a77-106a-4774-9c24-806202c1a14d"
      },
      "source": [
        "df_num_corr = df_num.corr()[z][:-1]\n",
        "golden_features_list = df_num_corr[abs(df_num_corr) > 0.5].sort_values(ascending=False)\n",
        "print(\"There is {} strongly correlated values with the query variable (z):\\n{}\".format(len(golden_features_list), golden_features_list))"
      ],
      "execution_count": 18,
      "outputs": [
        {
          "output_type": "stream",
          "text": [
            "There is 2 strongly correlated values with the query variable (z):\n",
            "hour        1.000000\n",
            "dep_time    0.999404\n",
            "Name: hour, dtype: float64\n"
          ],
          "name": "stdout"
        }
      ]
    },
    {
      "cell_type": "code",
      "metadata": {
        "colab": {
          "base_uri": "https://localhost:8080/",
          "height": 568
        },
        "id": "5zOnuF2BBk7F",
        "outputId": "2a75d8ae-9f4c-405e-a8aa-769b94b2a6fb"
      },
      "source": [
        "plt.figure(figsize=(15,20))\n",
        "for i in range(0, len(df_num.columns), 5):\n",
        "    sns.pairplot(data=df_num,\n",
        "                x_vars=df_num.columns[i:i+5],\n",
        "                y_vars=[z])"
      ],
      "execution_count": 19,
      "outputs": [
        {
          "output_type": "display_data",
          "data": {
            "text/plain": [
              "<Figure size 1080x1440 with 0 Axes>"
            ]
          },
          "metadata": {
            "tags": []
          }
        },
        {
          "output_type": "display_data",
          "data": {
            "image/png": "[encoded data removed]",
            "text/plain": [
              "<Figure size 900x180 with 5 Axes>"
            ]
          },
          "metadata": {
            "tags": []
          }
        },
        {
          "output_type": "display_data",
          "data": {
            "image/png": "[encoded data removed]",
            "text/plain": [
              "<Figure size 900x180 with 5 Axes>"
            ]
          },
          "metadata": {
            "tags": []
          }
        },
        {
          "output_type": "display_data",
          "data": {
            "image/png": "[encoded data removed]",
            "text/plain": [
              "<Figure size 360x180 with 3 Axes>"
            ]
          },
          "metadata": {
            "tags": []
          }
        }
      ]
    },
    {
      "cell_type": "markdown",
      "metadata": {
        "id": "yDf4NqgzfSiC"
      },
      "source": [
        "## COVID-19 case study (continued)"
      ]
    },
    {
      "cell_type": "markdown",
      "metadata": {
        "id": "Xf4Xb1pqfWIZ"
      },
      "source": [
        "Let's reload the data (reference https://towardsdatascience.com/covid-19-data-processing-58aaa3663f6):"
      ]
    },
    {
      "cell_type": "code",
      "metadata": {
        "colab": {
          "base_uri": "https://localhost:8080/"
        },
        "id": "yUIwNovoflVc",
        "outputId": "4e1cbac5-7110-43e3-a244-94c6c576eea2"
      },
      "source": [
        "!pip install wget"
      ],
      "execution_count": 20,
      "outputs": [
        {
          "output_type": "stream",
          "text": [
            "Collecting wget\n",
            "  Downloading https://files.pythonhosted.org/packages/47/6a/62e288da7bcda82b935ff0c6cfe542970f04e29c756b0e147251b2fb251f/wget-3.2.zip\n",
            "Building wheels for collected packages: wget\n",
            "  Building wheel for wget (setup.py) ... \u001b[?25l\u001b[?25hdone\n",
            "  Created wheel for wget: filename=wget-3.2-cp36-none-any.whl size=9682 sha256=7926dea58f83377e7afa489f0c946c40b8b0d62486324590e3c8d19ec4894c6a\n",
            "  Stored in directory: /root/.cache/pip/wheels/40/15/30/7d8f7cea2902b4db79e3fea550d7d7b85ecb27ef992b618f3f\n",
            "Successfully built wget\n",
            "Installing collected packages: wget\n",
            "Successfully installed wget-3.2\n"
          ],
          "name": "stdout"
        }
      ]
    },
    {
      "cell_type": "code",
      "metadata": {
        "id": "vemPNttFfW2T"
      },
      "source": [
        "import wget\n",
        "urls = [\n",
        "    'https://raw.githubusercontent.com/CSSEGISandData/COVID-19/master/csse_covid_19_data/csse_covid_19_time_series/time_series_covid19_confirmed_global.csv',\n",
        "    'https://raw.githubusercontent.com/CSSEGISandData/COVID-19/master/csse_covid_19_data/csse_covid_19_time_series/time_series_covid19_deaths_global.csv',\n",
        "    'https://raw.githubusercontent.com/CSSEGISandData/COVID-19/master/csse_covid_19_data/csse_covid_19_time_series/time_series_covid19_recovered_global.csv'\n",
        "]\n",
        "for link in urls:\n",
        "  wget.download(link)\n",
        "\n",
        "confirmed_df = pd.read_csv('time_series_covid19_confirmed_global.csv')\n",
        "deaths_df = pd.read_csv('time_series_covid19_deaths_global.csv')\n",
        "recovered_df = pd.read_csv('time_series_covid19_recovered_global.csv')"
      ],
      "execution_count": 21,
      "outputs": []
    },
    {
      "cell_type": "code",
      "metadata": {
        "colab": {
          "base_uri": "https://localhost:8080/",
          "height": 244
        },
        "id": "SeQ-mcaBiWgm",
        "outputId": "dea5bd32-97cb-430c-efb6-290ebd79c2b5"
      },
      "source": [
        "confirmed_df.head()"
      ],
      "execution_count": 22,
      "outputs": [
        {
          "output_type": "execute_result",
          "data": {
            "text/html": [
              "<div>\n",
              "<style scoped>\n",
              "    .dataframe tbody tr th:only-of-type {\n",
              "        vertical-align: middle;\n",
              "    }\n",
              "\n",
              "    .dataframe tbody tr th {\n",
              "        vertical-align: top;\n",
              "    }\n",
              "\n",
              "    .dataframe thead th {\n",
              "        text-align: right;\n",
              "    }\n",
              "</style>\n",
              "<table border=\"1\" class=\"dataframe\">\n",
              "  <thead>\n",
              "    <tr style=\"text-align: right;\">\n",
              "      <th></th>\n",
              "      <th>Province/State</th>\n",
              "      <th>Country/Region</th>\n",
              "      <th>Lat</th>\n",
              "      <th>Long</th>\n",
              "      <th>1/22/20</th>\n",
              "      <th>1/23/20</th>\n",
              "      <th>1/24/20</th>\n",
              "      <th>1/25/20</th>\n",
              "      <th>1/26/20</th>\n",
              "      <th>1/27/20</th>\n",
              "      <th>1/28/20</th>\n",
              "      <th>1/29/20</th>\n",
              "      <th>1/30/20</th>\n",
              "      <th>1/31/20</th>\n",
              "      <th>2/1/20</th>\n",
              "      <th>2/2/20</th>\n",
              "      <th>2/3/20</th>\n",
              "      <th>2/4/20</th>\n",
              "      <th>2/5/20</th>\n",
              "      <th>2/6/20</th>\n",
              "      <th>2/7/20</th>\n",
              "      <th>2/8/20</th>\n",
              "      <th>2/9/20</th>\n",
              "      <th>2/10/20</th>\n",
              "      <th>2/11/20</th>\n",
              "      <th>2/12/20</th>\n",
              "      <th>2/13/20</th>\n",
              "      <th>2/14/20</th>\n",
              "      <th>2/15/20</th>\n",
              "      <th>2/16/20</th>\n",
              "      <th>2/17/20</th>\n",
              "      <th>2/18/20</th>\n",
              "      <th>2/19/20</th>\n",
              "      <th>2/20/20</th>\n",
              "      <th>2/21/20</th>\n",
              "      <th>2/22/20</th>\n",
              "      <th>2/23/20</th>\n",
              "      <th>2/24/20</th>\n",
              "      <th>2/25/20</th>\n",
              "      <th>2/26/20</th>\n",
              "      <th>...</th>\n",
              "      <th>12/30/20</th>\n",
              "      <th>12/31/20</th>\n",
              "      <th>1/1/21</th>\n",
              "      <th>1/2/21</th>\n",
              "      <th>1/3/21</th>\n",
              "      <th>1/4/21</th>\n",
              "      <th>1/5/21</th>\n",
              "      <th>1/6/21</th>\n",
              "      <th>1/7/21</th>\n",
              "      <th>1/8/21</th>\n",
              "      <th>1/9/21</th>\n",
              "      <th>1/10/21</th>\n",
              "      <th>1/11/21</th>\n",
              "      <th>1/12/21</th>\n",
              "      <th>1/13/21</th>\n",
              "      <th>1/14/21</th>\n",
              "      <th>1/15/21</th>\n",
              "      <th>1/16/21</th>\n",
              "      <th>1/17/21</th>\n",
              "      <th>1/18/21</th>\n",
              "      <th>1/19/21</th>\n",
              "      <th>1/20/21</th>\n",
              "      <th>1/21/21</th>\n",
              "      <th>1/22/21</th>\n",
              "      <th>1/23/21</th>\n",
              "      <th>1/24/21</th>\n",
              "      <th>1/25/21</th>\n",
              "      <th>1/26/21</th>\n",
              "      <th>1/27/21</th>\n",
              "      <th>1/28/21</th>\n",
              "      <th>1/29/21</th>\n",
              "      <th>1/30/21</th>\n",
              "      <th>1/31/21</th>\n",
              "      <th>2/1/21</th>\n",
              "      <th>2/2/21</th>\n",
              "      <th>2/3/21</th>\n",
              "      <th>2/4/21</th>\n",
              "      <th>2/5/21</th>\n",
              "      <th>2/6/21</th>\n",
              "      <th>2/7/21</th>\n",
              "    </tr>\n",
              "  </thead>\n",
              "  <tbody>\n",
              "    <tr>\n",
              "      <th>0</th>\n",
              "      <td>NaN</td>\n",
              "      <td>Afghanistan</td>\n",
              "      <td>33.93911</td>\n",
              "      <td>67.709953</td>\n",
              "      <td>0</td>\n",
              "      <td>0</td>\n",
              "      <td>0</td>\n",
              "      <td>0</td>\n",
              "      <td>0</td>\n",
              "      <td>0</td>\n",
              "      <td>0</td>\n",
              "      <td>0</td>\n",
              "      <td>0</td>\n",
              "      <td>0</td>\n",
              "      <td>0</td>\n",
              "      <td>0</td>\n",
              "      <td>0</td>\n",
              "      <td>0</td>\n",
              "      <td>0</td>\n",
              "      <td>0</td>\n",
              "      <td>0</td>\n",
              "      <td>0</td>\n",
              "      <td>0</td>\n",
              "      <td>0</td>\n",
              "      <td>0</td>\n",
              "      <td>0</td>\n",
              "      <td>0</td>\n",
              "      <td>0</td>\n",
              "      <td>0</td>\n",
              "      <td>0</td>\n",
              "      <td>0</td>\n",
              "      <td>0</td>\n",
              "      <td>0</td>\n",
              "      <td>0</td>\n",
              "      <td>0</td>\n",
              "      <td>0</td>\n",
              "      <td>0</td>\n",
              "      <td>1</td>\n",
              "      <td>1</td>\n",
              "      <td>1</td>\n",
              "      <td>...</td>\n",
              "      <td>51405</td>\n",
              "      <td>51526</td>\n",
              "      <td>51526</td>\n",
              "      <td>51526</td>\n",
              "      <td>51526</td>\n",
              "      <td>53011</td>\n",
              "      <td>53105</td>\n",
              "      <td>53105</td>\n",
              "      <td>53207</td>\n",
              "      <td>53332</td>\n",
              "      <td>53400</td>\n",
              "      <td>53489</td>\n",
              "      <td>53538</td>\n",
              "      <td>53584</td>\n",
              "      <td>53584</td>\n",
              "      <td>53775</td>\n",
              "      <td>53831</td>\n",
              "      <td>53938</td>\n",
              "      <td>53984</td>\n",
              "      <td>54062</td>\n",
              "      <td>54141</td>\n",
              "      <td>54278</td>\n",
              "      <td>54403</td>\n",
              "      <td>54483</td>\n",
              "      <td>54559</td>\n",
              "      <td>54595</td>\n",
              "      <td>54672</td>\n",
              "      <td>54750</td>\n",
              "      <td>54854</td>\n",
              "      <td>54891</td>\n",
              "      <td>54939</td>\n",
              "      <td>55008</td>\n",
              "      <td>55023</td>\n",
              "      <td>55059</td>\n",
              "      <td>55121</td>\n",
              "      <td>55174</td>\n",
              "      <td>55231</td>\n",
              "      <td>55265</td>\n",
              "      <td>55330</td>\n",
              "      <td>55335</td>\n",
              "    </tr>\n",
              "    <tr>\n",
              "      <th>1</th>\n",
              "      <td>NaN</td>\n",
              "      <td>Albania</td>\n",
              "      <td>41.15330</td>\n",
              "      <td>20.168300</td>\n",
              "      <td>0</td>\n",
              "      <td>0</td>\n",
              "      <td>0</td>\n",
              "      <td>0</td>\n",
              "      <td>0</td>\n",
              "      <td>0</td>\n",
              "      <td>0</td>\n",
              "      <td>0</td>\n",
              "      <td>0</td>\n",
              "      <td>0</td>\n",
              "      <td>0</td>\n",
              "      <td>0</td>\n",
              "      <td>0</td>\n",
              "      <td>0</td>\n",
              "      <td>0</td>\n",
              "      <td>0</td>\n",
              "      <td>0</td>\n",
              "      <td>0</td>\n",
              "      <td>0</td>\n",
              "      <td>0</td>\n",
              "      <td>0</td>\n",
              "      <td>0</td>\n",
              "      <td>0</td>\n",
              "      <td>0</td>\n",
              "      <td>0</td>\n",
              "      <td>0</td>\n",
              "      <td>0</td>\n",
              "      <td>0</td>\n",
              "      <td>0</td>\n",
              "      <td>0</td>\n",
              "      <td>0</td>\n",
              "      <td>0</td>\n",
              "      <td>0</td>\n",
              "      <td>0</td>\n",
              "      <td>0</td>\n",
              "      <td>0</td>\n",
              "      <td>...</td>\n",
              "      <td>57727</td>\n",
              "      <td>58316</td>\n",
              "      <td>58316</td>\n",
              "      <td>58991</td>\n",
              "      <td>59438</td>\n",
              "      <td>59623</td>\n",
              "      <td>60283</td>\n",
              "      <td>61008</td>\n",
              "      <td>61705</td>\n",
              "      <td>62378</td>\n",
              "      <td>63033</td>\n",
              "      <td>63595</td>\n",
              "      <td>63971</td>\n",
              "      <td>64627</td>\n",
              "      <td>65334</td>\n",
              "      <td>65994</td>\n",
              "      <td>66635</td>\n",
              "      <td>67216</td>\n",
              "      <td>67690</td>\n",
              "      <td>67982</td>\n",
              "      <td>68568</td>\n",
              "      <td>69238</td>\n",
              "      <td>69916</td>\n",
              "      <td>70655</td>\n",
              "      <td>71441</td>\n",
              "      <td>72274</td>\n",
              "      <td>72812</td>\n",
              "      <td>73691</td>\n",
              "      <td>74567</td>\n",
              "      <td>75454</td>\n",
              "      <td>76350</td>\n",
              "      <td>77251</td>\n",
              "      <td>78127</td>\n",
              "      <td>78992</td>\n",
              "      <td>79934</td>\n",
              "      <td>80941</td>\n",
              "      <td>81993</td>\n",
              "      <td>83082</td>\n",
              "      <td>84212</td>\n",
              "      <td>85336</td>\n",
              "    </tr>\n",
              "    <tr>\n",
              "      <th>2</th>\n",
              "      <td>NaN</td>\n",
              "      <td>Algeria</td>\n",
              "      <td>28.03390</td>\n",
              "      <td>1.659600</td>\n",
              "      <td>0</td>\n",
              "      <td>0</td>\n",
              "      <td>0</td>\n",
              "      <td>0</td>\n",
              "      <td>0</td>\n",
              "      <td>0</td>\n",
              "      <td>0</td>\n",
              "      <td>0</td>\n",
              "      <td>0</td>\n",
              "      <td>0</td>\n",
              "      <td>0</td>\n",
              "      <td>0</td>\n",
              "      <td>0</td>\n",
              "      <td>0</td>\n",
              "      <td>0</td>\n",
              "      <td>0</td>\n",
              "      <td>0</td>\n",
              "      <td>0</td>\n",
              "      <td>0</td>\n",
              "      <td>0</td>\n",
              "      <td>0</td>\n",
              "      <td>0</td>\n",
              "      <td>0</td>\n",
              "      <td>0</td>\n",
              "      <td>0</td>\n",
              "      <td>0</td>\n",
              "      <td>0</td>\n",
              "      <td>0</td>\n",
              "      <td>0</td>\n",
              "      <td>0</td>\n",
              "      <td>0</td>\n",
              "      <td>0</td>\n",
              "      <td>0</td>\n",
              "      <td>0</td>\n",
              "      <td>1</td>\n",
              "      <td>1</td>\n",
              "      <td>...</td>\n",
              "      <td>99311</td>\n",
              "      <td>99610</td>\n",
              "      <td>99897</td>\n",
              "      <td>100159</td>\n",
              "      <td>100408</td>\n",
              "      <td>100645</td>\n",
              "      <td>100873</td>\n",
              "      <td>101120</td>\n",
              "      <td>101382</td>\n",
              "      <td>101657</td>\n",
              "      <td>101913</td>\n",
              "      <td>102144</td>\n",
              "      <td>102369</td>\n",
              "      <td>102641</td>\n",
              "      <td>102860</td>\n",
              "      <td>103127</td>\n",
              "      <td>103381</td>\n",
              "      <td>103611</td>\n",
              "      <td>103833</td>\n",
              "      <td>104092</td>\n",
              "      <td>104341</td>\n",
              "      <td>104606</td>\n",
              "      <td>104852</td>\n",
              "      <td>105124</td>\n",
              "      <td>105369</td>\n",
              "      <td>105596</td>\n",
              "      <td>105854</td>\n",
              "      <td>106097</td>\n",
              "      <td>106359</td>\n",
              "      <td>106610</td>\n",
              "      <td>106887</td>\n",
              "      <td>107122</td>\n",
              "      <td>107339</td>\n",
              "      <td>107578</td>\n",
              "      <td>107841</td>\n",
              "      <td>108116</td>\n",
              "      <td>108381</td>\n",
              "      <td>108629</td>\n",
              "      <td>108629</td>\n",
              "      <td>109088</td>\n",
              "    </tr>\n",
              "    <tr>\n",
              "      <th>3</th>\n",
              "      <td>NaN</td>\n",
              "      <td>Andorra</td>\n",
              "      <td>42.50630</td>\n",
              "      <td>1.521800</td>\n",
              "      <td>0</td>\n",
              "      <td>0</td>\n",
              "      <td>0</td>\n",
              "      <td>0</td>\n",
              "      <td>0</td>\n",
              "      <td>0</td>\n",
              "      <td>0</td>\n",
              "      <td>0</td>\n",
              "      <td>0</td>\n",
              "      <td>0</td>\n",
              "      <td>0</td>\n",
              "      <td>0</td>\n",
              "      <td>0</td>\n",
              "      <td>0</td>\n",
              "      <td>0</td>\n",
              "      <td>0</td>\n",
              "      <td>0</td>\n",
              "      <td>0</td>\n",
              "      <td>0</td>\n",
              "      <td>0</td>\n",
              "      <td>0</td>\n",
              "      <td>0</td>\n",
              "      <td>0</td>\n",
              "      <td>0</td>\n",
              "      <td>0</td>\n",
              "      <td>0</td>\n",
              "      <td>0</td>\n",
              "      <td>0</td>\n",
              "      <td>0</td>\n",
              "      <td>0</td>\n",
              "      <td>0</td>\n",
              "      <td>0</td>\n",
              "      <td>0</td>\n",
              "      <td>0</td>\n",
              "      <td>0</td>\n",
              "      <td>0</td>\n",
              "      <td>...</td>\n",
              "      <td>7983</td>\n",
              "      <td>8049</td>\n",
              "      <td>8117</td>\n",
              "      <td>8166</td>\n",
              "      <td>8192</td>\n",
              "      <td>8249</td>\n",
              "      <td>8308</td>\n",
              "      <td>8348</td>\n",
              "      <td>8348</td>\n",
              "      <td>8489</td>\n",
              "      <td>8586</td>\n",
              "      <td>8586</td>\n",
              "      <td>8586</td>\n",
              "      <td>8682</td>\n",
              "      <td>8818</td>\n",
              "      <td>8868</td>\n",
              "      <td>8946</td>\n",
              "      <td>9038</td>\n",
              "      <td>9083</td>\n",
              "      <td>9083</td>\n",
              "      <td>9194</td>\n",
              "      <td>9308</td>\n",
              "      <td>9379</td>\n",
              "      <td>9416</td>\n",
              "      <td>9499</td>\n",
              "      <td>9549</td>\n",
              "      <td>9596</td>\n",
              "      <td>9638</td>\n",
              "      <td>9716</td>\n",
              "      <td>9779</td>\n",
              "      <td>9837</td>\n",
              "      <td>9885</td>\n",
              "      <td>9937</td>\n",
              "      <td>9972</td>\n",
              "      <td>10017</td>\n",
              "      <td>10070</td>\n",
              "      <td>10137</td>\n",
              "      <td>10172</td>\n",
              "      <td>10206</td>\n",
              "      <td>10251</td>\n",
              "    </tr>\n",
              "    <tr>\n",
              "      <th>4</th>\n",
              "      <td>NaN</td>\n",
              "      <td>Angola</td>\n",
              "      <td>-11.20270</td>\n",
              "      <td>17.873900</td>\n",
              "      <td>0</td>\n",
              "      <td>0</td>\n",
              "      <td>0</td>\n",
              "      <td>0</td>\n",
              "      <td>0</td>\n",
              "      <td>0</td>\n",
              "      <td>0</td>\n",
              "      <td>0</td>\n",
              "      <td>0</td>\n",
              "      <td>0</td>\n",
              "      <td>0</td>\n",
              "      <td>0</td>\n",
              "      <td>0</td>\n",
              "      <td>0</td>\n",
              "      <td>0</td>\n",
              "      <td>0</td>\n",
              "      <td>0</td>\n",
              "      <td>0</td>\n",
              "      <td>0</td>\n",
              "      <td>0</td>\n",
              "      <td>0</td>\n",
              "      <td>0</td>\n",
              "      <td>0</td>\n",
              "      <td>0</td>\n",
              "      <td>0</td>\n",
              "      <td>0</td>\n",
              "      <td>0</td>\n",
              "      <td>0</td>\n",
              "      <td>0</td>\n",
              "      <td>0</td>\n",
              "      <td>0</td>\n",
              "      <td>0</td>\n",
              "      <td>0</td>\n",
              "      <td>0</td>\n",
              "      <td>0</td>\n",
              "      <td>0</td>\n",
              "      <td>...</td>\n",
              "      <td>17433</td>\n",
              "      <td>17553</td>\n",
              "      <td>17568</td>\n",
              "      <td>17608</td>\n",
              "      <td>17642</td>\n",
              "      <td>17684</td>\n",
              "      <td>17756</td>\n",
              "      <td>17864</td>\n",
              "      <td>17974</td>\n",
              "      <td>18066</td>\n",
              "      <td>18156</td>\n",
              "      <td>18193</td>\n",
              "      <td>18254</td>\n",
              "      <td>18343</td>\n",
              "      <td>18425</td>\n",
              "      <td>18613</td>\n",
              "      <td>18679</td>\n",
              "      <td>18765</td>\n",
              "      <td>18875</td>\n",
              "      <td>18926</td>\n",
              "      <td>19011</td>\n",
              "      <td>19093</td>\n",
              "      <td>19177</td>\n",
              "      <td>19269</td>\n",
              "      <td>19367</td>\n",
              "      <td>19399</td>\n",
              "      <td>19476</td>\n",
              "      <td>19553</td>\n",
              "      <td>19580</td>\n",
              "      <td>19672</td>\n",
              "      <td>19723</td>\n",
              "      <td>19782</td>\n",
              "      <td>19796</td>\n",
              "      <td>19829</td>\n",
              "      <td>19900</td>\n",
              "      <td>19937</td>\n",
              "      <td>19996</td>\n",
              "      <td>20030</td>\n",
              "      <td>20062</td>\n",
              "      <td>20086</td>\n",
              "    </tr>\n",
              "  </tbody>\n",
              "</table>\n",
              "<p>5 rows × 387 columns</p>\n",
              "</div>"
            ],
            "text/plain": [
              "  Province/State Country/Region       Lat  ...  2/5/21  2/6/21  2/7/21\n",
              "0            NaN    Afghanistan  33.93911  ...   55265   55330   55335\n",
              "1            NaN        Albania  41.15330  ...   83082   84212   85336\n",
              "2            NaN        Algeria  28.03390  ...  108629  108629  109088\n",
              "3            NaN        Andorra  42.50630  ...   10172   10206   10251\n",
              "4            NaN         Angola -11.20270  ...   20030   20062   20086\n",
              "\n",
              "[5 rows x 387 columns]"
            ]
          },
          "metadata": {
            "tags": []
          },
          "execution_count": 22
        }
      ]
    },
    {
      "cell_type": "markdown",
      "metadata": {
        "id": "5SoROJ4xYEZ0"
      },
      "source": [
        "Now, it's much more convenient to have a single table of data, so that we can more easily perform the univariate and multivariate analyses. First, lets `melt` the data. (See https://pandas.pydata.org/docs/reference/api/pandas.melt.html)"
      ]
    },
    {
      "cell_type": "code",
      "metadata": {
        "colab": {
          "base_uri": "https://localhost:8080/",
          "height": 195
        },
        "id": "Fn9xOiIKiLxW",
        "outputId": "8cce7a59-44fa-43c5-d864-6694aadb7bfa"
      },
      "source": [
        "dates = confirmed_df.columns[4:]\n",
        "confirmed_df_long = confirmed_df.melt(\n",
        "    id_vars=['Province/State', 'Country/Region', 'Lat', 'Long'], \n",
        "    value_vars=dates, \n",
        "    var_name='Date', \n",
        "    value_name='Confirmed'\n",
        ")\n",
        "deaths_df_long = deaths_df.melt(\n",
        "    id_vars=['Province/State', 'Country/Region', 'Lat', 'Long'], \n",
        "    value_vars=dates, \n",
        "    var_name='Date', \n",
        "    value_name='Deaths'\n",
        ")\n",
        "recovered_df_long = recovered_df.melt(\n",
        "    id_vars=['Province/State', 'Country/Region', 'Lat', 'Long'], \n",
        "    value_vars=dates, \n",
        "    var_name='Date', \n",
        "    value_name='Recovered'\n",
        ")\n",
        "\n",
        "confirmed_df.head()\n",
        "confirmed_df_long.head()"
      ],
      "execution_count": 23,
      "outputs": [
        {
          "output_type": "execute_result",
          "data": {
            "text/html": [
              "<div>\n",
              "<style scoped>\n",
              "    .dataframe tbody tr th:only-of-type {\n",
              "        vertical-align: middle;\n",
              "    }\n",
              "\n",
              "    .dataframe tbody tr th {\n",
              "        vertical-align: top;\n",
              "    }\n",
              "\n",
              "    .dataframe thead th {\n",
              "        text-align: right;\n",
              "    }\n",
              "</style>\n",
              "<table border=\"1\" class=\"dataframe\">\n",
              "  <thead>\n",
              "    <tr style=\"text-align: right;\">\n",
              "      <th></th>\n",
              "      <th>Province/State</th>\n",
              "      <th>Country/Region</th>\n",
              "      <th>Lat</th>\n",
              "      <th>Long</th>\n",
              "      <th>Date</th>\n",
              "      <th>Confirmed</th>\n",
              "    </tr>\n",
              "  </thead>\n",
              "  <tbody>\n",
              "    <tr>\n",
              "      <th>0</th>\n",
              "      <td>NaN</td>\n",
              "      <td>Afghanistan</td>\n",
              "      <td>33.93911</td>\n",
              "      <td>67.709953</td>\n",
              "      <td>1/22/20</td>\n",
              "      <td>0</td>\n",
              "    </tr>\n",
              "    <tr>\n",
              "      <th>1</th>\n",
              "      <td>NaN</td>\n",
              "      <td>Albania</td>\n",
              "      <td>41.15330</td>\n",
              "      <td>20.168300</td>\n",
              "      <td>1/22/20</td>\n",
              "      <td>0</td>\n",
              "    </tr>\n",
              "    <tr>\n",
              "      <th>2</th>\n",
              "      <td>NaN</td>\n",
              "      <td>Algeria</td>\n",
              "      <td>28.03390</td>\n",
              "      <td>1.659600</td>\n",
              "      <td>1/22/20</td>\n",
              "      <td>0</td>\n",
              "    </tr>\n",
              "    <tr>\n",
              "      <th>3</th>\n",
              "      <td>NaN</td>\n",
              "      <td>Andorra</td>\n",
              "      <td>42.50630</td>\n",
              "      <td>1.521800</td>\n",
              "      <td>1/22/20</td>\n",
              "      <td>0</td>\n",
              "    </tr>\n",
              "    <tr>\n",
              "      <th>4</th>\n",
              "      <td>NaN</td>\n",
              "      <td>Angola</td>\n",
              "      <td>-11.20270</td>\n",
              "      <td>17.873900</td>\n",
              "      <td>1/22/20</td>\n",
              "      <td>0</td>\n",
              "    </tr>\n",
              "  </tbody>\n",
              "</table>\n",
              "</div>"
            ],
            "text/plain": [
              "  Province/State Country/Region       Lat       Long     Date  Confirmed\n",
              "0            NaN    Afghanistan  33.93911  67.709953  1/22/20          0\n",
              "1            NaN        Albania  41.15330  20.168300  1/22/20          0\n",
              "2            NaN        Algeria  28.03390   1.659600  1/22/20          0\n",
              "3            NaN        Andorra  42.50630   1.521800  1/22/20          0\n",
              "4            NaN         Angola -11.20270  17.873900  1/22/20          0"
            ]
          },
          "metadata": {
            "tags": []
          },
          "execution_count": 23
        }
      ]
    },
    {
      "cell_type": "markdown",
      "metadata": {
        "id": "15-UbCGqcl2g"
      },
      "source": [
        "Canada is known to have messy data in the recovered table, so we need to remove this from the analysis:"
      ]
    },
    {
      "cell_type": "code",
      "metadata": {
        "id": "C9gFKwy7jBKN"
      },
      "source": [
        "recovered_df_long = recovered_df_long[recovered_df_long['Country/Region']!='Canada']"
      ],
      "execution_count": 24,
      "outputs": []
    },
    {
      "cell_type": "markdown",
      "metadata": {
        "id": "Bu4M2jgva4ga"
      },
      "source": [
        "Now we'll merge these tables, so that we have the full table (DataFrame):"
      ]
    },
    {
      "cell_type": "code",
      "metadata": {
        "id": "6L5qzQLjjEeE"
      },
      "source": [
        "# Merging confirmed_df_long and deaths_df_long\n",
        "full_table = confirmed_df_long.merge(\n",
        "  right=deaths_df_long, \n",
        "  how='left',\n",
        "  on=['Province/State', 'Country/Region', 'Date', 'Lat', 'Long']\n",
        ")\n",
        "# Merging full_table and recovered_df_long\n",
        "full_table = full_table.merge(\n",
        "  right=recovered_df_long, \n",
        "  how='left',\n",
        "  on=['Province/State', 'Country/Region', 'Date', 'Lat', 'Long']\n",
        ")"
      ],
      "execution_count": 25,
      "outputs": []
    },
    {
      "cell_type": "code",
      "metadata": {
        "colab": {
          "base_uri": "https://localhost:8080/",
          "height": 195
        },
        "id": "klBYx6FAjIjD",
        "outputId": "2e72584e-f843-4750-b1cd-3ce6f458cc63"
      },
      "source": [
        "full_table.head()"
      ],
      "execution_count": 26,
      "outputs": [
        {
          "output_type": "execute_result",
          "data": {
            "text/html": [
              "<div>\n",
              "<style scoped>\n",
              "    .dataframe tbody tr th:only-of-type {\n",
              "        vertical-align: middle;\n",
              "    }\n",
              "\n",
              "    .dataframe tbody tr th {\n",
              "        vertical-align: top;\n",
              "    }\n",
              "\n",
              "    .dataframe thead th {\n",
              "        text-align: right;\n",
              "    }\n",
              "</style>\n",
              "<table border=\"1\" class=\"dataframe\">\n",
              "  <thead>\n",
              "    <tr style=\"text-align: right;\">\n",
              "      <th></th>\n",
              "      <th>Province/State</th>\n",
              "      <th>Country/Region</th>\n",
              "      <th>Lat</th>\n",
              "      <th>Long</th>\n",
              "      <th>Date</th>\n",
              "      <th>Confirmed</th>\n",
              "      <th>Deaths</th>\n",
              "      <th>Recovered</th>\n",
              "    </tr>\n",
              "  </thead>\n",
              "  <tbody>\n",
              "    <tr>\n",
              "      <th>0</th>\n",
              "      <td>NaN</td>\n",
              "      <td>Afghanistan</td>\n",
              "      <td>33.93911</td>\n",
              "      <td>67.709953</td>\n",
              "      <td>1/22/20</td>\n",
              "      <td>0</td>\n",
              "      <td>0</td>\n",
              "      <td>0.0</td>\n",
              "    </tr>\n",
              "    <tr>\n",
              "      <th>1</th>\n",
              "      <td>NaN</td>\n",
              "      <td>Albania</td>\n",
              "      <td>41.15330</td>\n",
              "      <td>20.168300</td>\n",
              "      <td>1/22/20</td>\n",
              "      <td>0</td>\n",
              "      <td>0</td>\n",
              "      <td>0.0</td>\n",
              "    </tr>\n",
              "    <tr>\n",
              "      <th>2</th>\n",
              "      <td>NaN</td>\n",
              "      <td>Algeria</td>\n",
              "      <td>28.03390</td>\n",
              "      <td>1.659600</td>\n",
              "      <td>1/22/20</td>\n",
              "      <td>0</td>\n",
              "      <td>0</td>\n",
              "      <td>0.0</td>\n",
              "    </tr>\n",
              "    <tr>\n",
              "      <th>3</th>\n",
              "      <td>NaN</td>\n",
              "      <td>Andorra</td>\n",
              "      <td>42.50630</td>\n",
              "      <td>1.521800</td>\n",
              "      <td>1/22/20</td>\n",
              "      <td>0</td>\n",
              "      <td>0</td>\n",
              "      <td>0.0</td>\n",
              "    </tr>\n",
              "    <tr>\n",
              "      <th>4</th>\n",
              "      <td>NaN</td>\n",
              "      <td>Angola</td>\n",
              "      <td>-11.20270</td>\n",
              "      <td>17.873900</td>\n",
              "      <td>1/22/20</td>\n",
              "      <td>0</td>\n",
              "      <td>0</td>\n",
              "      <td>0.0</td>\n",
              "    </tr>\n",
              "  </tbody>\n",
              "</table>\n",
              "</div>"
            ],
            "text/plain": [
              "  Province/State Country/Region       Lat  ...  Confirmed Deaths  Recovered\n",
              "0            NaN    Afghanistan  33.93911  ...          0      0        0.0\n",
              "1            NaN        Albania  41.15330  ...          0      0        0.0\n",
              "2            NaN        Algeria  28.03390  ...          0      0        0.0\n",
              "3            NaN        Andorra  42.50630  ...          0      0        0.0\n",
              "4            NaN         Angola -11.20270  ...          0      0        0.0\n",
              "\n",
              "[5 rows x 8 columns]"
            ]
          },
          "metadata": {
            "tags": []
          },
          "execution_count": 26
        }
      ]
    },
    {
      "cell_type": "markdown",
      "metadata": {
        "id": "3yEQoHBYbAn0"
      },
      "source": [
        "Let's convert the `Date` field to datetime representations:"
      ]
    },
    {
      "cell_type": "code",
      "metadata": {
        "id": "68K-rMaDjQm7"
      },
      "source": [
        "full_table['Date'] = pd.to_datetime(full_table['Date'])"
      ],
      "execution_count": 27,
      "outputs": []
    },
    {
      "cell_type": "markdown",
      "metadata": {
        "id": "t2qIxIaujUci"
      },
      "source": [
        "Any missing data?"
      ]
    },
    {
      "cell_type": "code",
      "metadata": {
        "colab": {
          "base_uri": "https://localhost:8080/"
        },
        "id": "mXhlrXDpjT-j",
        "outputId": "fd9bbd22-2996-4aeb-a559-55a4f1f6fedd"
      },
      "source": [
        "full_table.isna().sum()"
      ],
      "execution_count": 28,
      "outputs": [
        {
          "output_type": "execute_result",
          "data": {
            "text/plain": [
              "Province/State    72387\n",
              "Country/Region        0\n",
              "Lat                 383\n",
              "Long                383\n",
              "Date                  0\n",
              "Confirmed             0\n",
              "Deaths                0\n",
              "Recovered          8043\n",
              "dtype: int64"
            ]
          },
          "metadata": {
            "tags": []
          },
          "execution_count": 28
        }
      ]
    },
    {
      "cell_type": "markdown",
      "metadata": {
        "id": "LjqVwmX4bJtV"
      },
      "source": [
        "Default missing values to `0`:"
      ]
    },
    {
      "cell_type": "code",
      "metadata": {
        "id": "yCxkeRXYjZul"
      },
      "source": [
        "full_table['Recovered'] = full_table['Recovered'].fillna(0)"
      ],
      "execution_count": 29,
      "outputs": []
    },
    {
      "cell_type": "markdown",
      "metadata": {
        "id": "7OngZdRGbNWU"
      },
      "source": [
        "The data are known to contain cruise liners. Let's remove those from the analysis, to keep it focussed on country level data:"
      ]
    },
    {
      "cell_type": "code",
      "metadata": {
        "id": "_VhTuNfbji3V"
      },
      "source": [
        "ship_rows = full_table['Province/State'].str.contains('Grand Princess') | full_table['Province/State'].str.contains('Diamond Princess') | full_table['Country/Region'].str.contains('Diamond Princess') | full_table['Country/Region'].str.contains('MS Zaandam')"
      ],
      "execution_count": 30,
      "outputs": []
    },
    {
      "cell_type": "code",
      "metadata": {
        "id": "o4W3CoC_jygz"
      },
      "source": [
        "full_table = full_table[~(ship_rows)]"
      ],
      "execution_count": 31,
      "outputs": []
    },
    {
      "cell_type": "markdown",
      "metadata": {
        "id": "mx4_llUKbWE3"
      },
      "source": [
        "Finally, we'll create an additional column of data, so we can see how many active cases there are at any point in time."
      ]
    },
    {
      "cell_type": "code",
      "metadata": {
        "id": "N2aCdlu6j1ah"
      },
      "source": [
        "# Active Case = confirmed - deaths - recovered\n",
        "full_table['Active'] = full_table['Confirmed'] - full_table['Deaths'] - full_table['Recovered']"
      ],
      "execution_count": 32,
      "outputs": []
    },
    {
      "cell_type": "markdown",
      "metadata": {
        "id": "Lw2qkmsXbc5B"
      },
      "source": [
        "Now view the final `full_table`:"
      ]
    },
    {
      "cell_type": "code",
      "metadata": {
        "colab": {
          "base_uri": "https://localhost:8080/",
          "height": 195
        },
        "id": "bcZId4N7j4aS",
        "outputId": "f2c3518b-e83e-4d15-bb39-a43a6d75101b"
      },
      "source": [
        "full_table.head()"
      ],
      "execution_count": 33,
      "outputs": [
        {
          "output_type": "execute_result",
          "data": {
            "text/html": [
              "<div>\n",
              "<style scoped>\n",
              "    .dataframe tbody tr th:only-of-type {\n",
              "        vertical-align: middle;\n",
              "    }\n",
              "\n",
              "    .dataframe tbody tr th {\n",
              "        vertical-align: top;\n",
              "    }\n",
              "\n",
              "    .dataframe thead th {\n",
              "        text-align: right;\n",
              "    }\n",
              "</style>\n",
              "<table border=\"1\" class=\"dataframe\">\n",
              "  <thead>\n",
              "    <tr style=\"text-align: right;\">\n",
              "      <th></th>\n",
              "      <th>Province/State</th>\n",
              "      <th>Country/Region</th>\n",
              "      <th>Lat</th>\n",
              "      <th>Long</th>\n",
              "      <th>Date</th>\n",
              "      <th>Confirmed</th>\n",
              "      <th>Deaths</th>\n",
              "      <th>Recovered</th>\n",
              "      <th>Active</th>\n",
              "    </tr>\n",
              "  </thead>\n",
              "  <tbody>\n",
              "    <tr>\n",
              "      <th>0</th>\n",
              "      <td>NaN</td>\n",
              "      <td>Afghanistan</td>\n",
              "      <td>33.93911</td>\n",
              "      <td>67.709953</td>\n",
              "      <td>2020-01-22</td>\n",
              "      <td>0</td>\n",
              "      <td>0</td>\n",
              "      <td>0.0</td>\n",
              "      <td>0.0</td>\n",
              "    </tr>\n",
              "    <tr>\n",
              "      <th>1</th>\n",
              "      <td>NaN</td>\n",
              "      <td>Albania</td>\n",
              "      <td>41.15330</td>\n",
              "      <td>20.168300</td>\n",
              "      <td>2020-01-22</td>\n",
              "      <td>0</td>\n",
              "      <td>0</td>\n",
              "      <td>0.0</td>\n",
              "      <td>0.0</td>\n",
              "    </tr>\n",
              "    <tr>\n",
              "      <th>2</th>\n",
              "      <td>NaN</td>\n",
              "      <td>Algeria</td>\n",
              "      <td>28.03390</td>\n",
              "      <td>1.659600</td>\n",
              "      <td>2020-01-22</td>\n",
              "      <td>0</td>\n",
              "      <td>0</td>\n",
              "      <td>0.0</td>\n",
              "      <td>0.0</td>\n",
              "    </tr>\n",
              "    <tr>\n",
              "      <th>3</th>\n",
              "      <td>NaN</td>\n",
              "      <td>Andorra</td>\n",
              "      <td>42.50630</td>\n",
              "      <td>1.521800</td>\n",
              "      <td>2020-01-22</td>\n",
              "      <td>0</td>\n",
              "      <td>0</td>\n",
              "      <td>0.0</td>\n",
              "      <td>0.0</td>\n",
              "    </tr>\n",
              "    <tr>\n",
              "      <th>4</th>\n",
              "      <td>NaN</td>\n",
              "      <td>Angola</td>\n",
              "      <td>-11.20270</td>\n",
              "      <td>17.873900</td>\n",
              "      <td>2020-01-22</td>\n",
              "      <td>0</td>\n",
              "      <td>0</td>\n",
              "      <td>0.0</td>\n",
              "      <td>0.0</td>\n",
              "    </tr>\n",
              "  </tbody>\n",
              "</table>\n",
              "</div>"
            ],
            "text/plain": [
              "  Province/State Country/Region       Lat  ...  Deaths Recovered  Active\n",
              "0            NaN    Afghanistan  33.93911  ...       0       0.0     0.0\n",
              "1            NaN        Albania  41.15330  ...       0       0.0     0.0\n",
              "2            NaN        Algeria  28.03390  ...       0       0.0     0.0\n",
              "3            NaN        Andorra  42.50630  ...       0       0.0     0.0\n",
              "4            NaN         Angola -11.20270  ...       0       0.0     0.0\n",
              "\n",
              "[5 rows x 9 columns]"
            ]
          },
          "metadata": {
            "tags": []
          },
          "execution_count": 33
        }
      ]
    },
    {
      "cell_type": "markdown",
      "metadata": {
        "id": "TVmowad-kCXT"
      },
      "source": [
        "Next, let’s aggregate data into Country/Region wise and group them by Date and Country/Region."
      ]
    },
    {
      "cell_type": "code",
      "metadata": {
        "colab": {
          "base_uri": "https://localhost:8080/"
        },
        "id": "q2Vwea_Yj_nw",
        "outputId": "3882dc1d-36eb-46a5-a0eb-0fd52a04773f"
      },
      "source": [
        "full_grouped = full_table.groupby(['Date', 'Country/Region'])['Confirmed', 'Deaths', 'Recovered', 'Active'].sum().reset_index()"
      ],
      "execution_count": 34,
      "outputs": [
        {
          "output_type": "stream",
          "text": [
            "/usr/local/lib/python3.6/dist-packages/ipykernel_launcher.py:1: FutureWarning: Indexing with multiple keys (implicitly converted to a tuple of keys) will be deprecated, use a list instead.\n",
            "  \"\"\"Entry point for launching an IPython kernel.\n"
          ],
          "name": "stderr"
        }
      ]
    },
    {
      "cell_type": "code",
      "metadata": {
        "id": "PqrNWqy-ognq",
        "colab": {
          "base_uri": "https://localhost:8080/",
          "height": 195
        },
        "outputId": "0e0463e4-59b3-4ca4-805a-aaf363c31133"
      },
      "source": [
        "full_grouped.head()"
      ],
      "execution_count": 35,
      "outputs": [
        {
          "output_type": "execute_result",
          "data": {
            "text/html": [
              "<div>\n",
              "<style scoped>\n",
              "    .dataframe tbody tr th:only-of-type {\n",
              "        vertical-align: middle;\n",
              "    }\n",
              "\n",
              "    .dataframe tbody tr th {\n",
              "        vertical-align: top;\n",
              "    }\n",
              "\n",
              "    .dataframe thead th {\n",
              "        text-align: right;\n",
              "    }\n",
              "</style>\n",
              "<table border=\"1\" class=\"dataframe\">\n",
              "  <thead>\n",
              "    <tr style=\"text-align: right;\">\n",
              "      <th></th>\n",
              "      <th>Date</th>\n",
              "      <th>Country/Region</th>\n",
              "      <th>Confirmed</th>\n",
              "      <th>Deaths</th>\n",
              "      <th>Recovered</th>\n",
              "      <th>Active</th>\n",
              "    </tr>\n",
              "  </thead>\n",
              "  <tbody>\n",
              "    <tr>\n",
              "      <th>0</th>\n",
              "      <td>2020-01-22</td>\n",
              "      <td>Afghanistan</td>\n",
              "      <td>0</td>\n",
              "      <td>0</td>\n",
              "      <td>0.0</td>\n",
              "      <td>0.0</td>\n",
              "    </tr>\n",
              "    <tr>\n",
              "      <th>1</th>\n",
              "      <td>2020-01-22</td>\n",
              "      <td>Albania</td>\n",
              "      <td>0</td>\n",
              "      <td>0</td>\n",
              "      <td>0.0</td>\n",
              "      <td>0.0</td>\n",
              "    </tr>\n",
              "    <tr>\n",
              "      <th>2</th>\n",
              "      <td>2020-01-22</td>\n",
              "      <td>Algeria</td>\n",
              "      <td>0</td>\n",
              "      <td>0</td>\n",
              "      <td>0.0</td>\n",
              "      <td>0.0</td>\n",
              "    </tr>\n",
              "    <tr>\n",
              "      <th>3</th>\n",
              "      <td>2020-01-22</td>\n",
              "      <td>Andorra</td>\n",
              "      <td>0</td>\n",
              "      <td>0</td>\n",
              "      <td>0.0</td>\n",
              "      <td>0.0</td>\n",
              "    </tr>\n",
              "    <tr>\n",
              "      <th>4</th>\n",
              "      <td>2020-01-22</td>\n",
              "      <td>Angola</td>\n",
              "      <td>0</td>\n",
              "      <td>0</td>\n",
              "      <td>0.0</td>\n",
              "      <td>0.0</td>\n",
              "    </tr>\n",
              "  </tbody>\n",
              "</table>\n",
              "</div>"
            ],
            "text/plain": [
              "        Date Country/Region  Confirmed  Deaths  Recovered  Active\n",
              "0 2020-01-22    Afghanistan          0       0        0.0     0.0\n",
              "1 2020-01-22        Albania          0       0        0.0     0.0\n",
              "2 2020-01-22        Algeria          0       0        0.0     0.0\n",
              "3 2020-01-22        Andorra          0       0        0.0     0.0\n",
              "4 2020-01-22         Angola          0       0        0.0     0.0"
            ]
          },
          "metadata": {
            "tags": []
          },
          "execution_count": 35
        }
      ]
    },
    {
      "cell_type": "markdown",
      "metadata": {
        "id": "CrdAx5OwbrtH"
      },
      "source": [
        "To finish, we'll plot the UK related data:"
      ]
    },
    {
      "cell_type": "code",
      "metadata": {
        "colab": {
          "base_uri": "https://localhost:8080/",
          "height": 313
        },
        "id": "wCBXM0dwlOgt",
        "outputId": "f3343852-b02b-4bf4-d710-429b5ecf97d7"
      },
      "source": [
        "uk = full_grouped[full_grouped['Country/Region'] == 'United Kingdom']\n",
        "sns.lineplot(x=\"Date\", y=\"Confirmed\", data=uk)\n",
        "sns.lineplot(x=\"Date\", y=\"Deaths\", data=uk)\n",
        "sns.lineplot(x=\"Date\", y=\"Recovered\", data=uk)"
      ],
      "execution_count": 36,
      "outputs": [
        {
          "output_type": "execute_result",
          "data": {
            "text/plain": [
              "<matplotlib.axes._subplots.AxesSubplot at 0x7ff824e853c8>"
            ]
          },
          "metadata": {
            "tags": []
          },
          "execution_count": 36
        },
        {
          "output_type": "display_data",
          "data": {
            "image/png": "[encoded data removed]",
            "text/plain": [
              "<Figure size 432x288 with 1 Axes>"
            ]
          },
          "metadata": {
            "tags": []
          }
        }
      ]
    },
    {
      "cell_type": "markdown",
      "metadata": {
        "id": "JemjVsx7B100"
      },
      "source": [
        "***\n",
        "Mandatory exercises:\n",
        "\n",
        "- [ ] Replicate all of the code in this notebook.\n",
        "- [ ] Produce a plot of the COVID-19 data from a country other than the UK. What do you notice (if anything) about the difference with the UK?\n",
        "- [ ] Read pages 1-22 of the following: https://www.stat.cmu.edu/~hseltman/309/Book/chapter4.pdf\n",
        "\n",
        "Optional reading:\n",
        "- [ ] Read: https://www.kaggle.com/ekami66/detailed-exploratory-data-analysis-with-python\n",
        "- [ ] Read Sections 1-4 of https://www.kaggle.com/pmarcelino/comprehensive-data-exploration-with-python"
      ]
    }
  ]
}