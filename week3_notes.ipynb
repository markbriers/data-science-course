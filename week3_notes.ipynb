{
  "nbformat": 4,
  "nbformat_minor": 0,
  "metadata": {
    "kernelspec": {
      "display_name": "Python 3",
      "language": "python",
      "name": "python3"
    },
    "language_info": {
      "codemirror_mode": {
        "name": "ipython",
        "version": 3
      },
      "file_extension": ".py",
      "mimetype": "text/x-python",
      "name": "python",
      "nbconvert_exporter": "python",
      "pygments_lexer": "ipython3",
      "version": "3.7.6"
    },
    "colab": {
      "name": "week3-notes.ipynb",
      "provenance": [],
      "collapsed_sections": [],
      "include_colab_link": true
    }
  },
  "cells": [
    {
      "cell_type": "markdown",
      "metadata": {
        "id": "view-in-github",
        "colab_type": "text"
      },
      "source": [
        "<a href=\"https://colab.research.google.com/github/markbriers/data-science-jupyter/blob/main/week3_notes.ipynb\" target=\"_parent\"><img src=\"https://colab.research.google.com/assets/colab-badge.svg\" alt=\"Open In Colab\"/></a>"
      ]
    },
    {
      "cell_type": "markdown",
      "metadata": {
        "id": "WLKmG83eSgoL"
      },
      "source": [
        "# Python fundamentals 2 (Week 3)"
      ]
    },
    {
      "cell_type": "markdown",
      "metadata": {
        "id": "pHLimtiatR79"
      },
      "source": [
        "My (new) email address: mark.briers@test-and-trace.nhs.uk"
      ]
    },
    {
      "cell_type": "markdown",
      "metadata": {
        "id": "gck_dXMTSgd0"
      },
      "source": [
        "## Module: Learning outcomes\n",
        "\n",
        "* Describe the six stages of a data processing pipeline (using CRISP-DM)\n",
        "\n",
        "* Demonstrate an understanding of the python programming language through the production of elementary data analysis programme\n",
        "\n",
        "* Analyse at least three different data sources by applying at least one python data processing library to extract and explore pertinent features\n",
        "\n",
        "* Be able to design a set of data requirements for a specified business problem\n",
        "\n",
        "* Describe and apply (using the python programming language) the main approaches to supervised learning for a given classification problem\n",
        "\n",
        "* Understand the use cases of Big Data technology (in particular Spark)\n",
        "\n",
        "* Produce a report including appropriate data visualisations covering the analysis of a business problem using a data science based approach"
      ]
    },
    {
      "cell_type": "markdown",
      "metadata": {
        "id": "B52Ci_eaSgR1"
      },
      "source": [
        "## Week 3: Learning outcome\n",
        "\n",
        "* At the end of week 3, you will be able to use Python to read data from a file on the internet. You will be able to compute elementary statistics from these data."
      ]
    },
    {
      "cell_type": "markdown",
      "metadata": {
        "id": "fZ2k7z0ISRup"
      },
      "source": [
        "***"
      ]
    },
    {
      "cell_type": "markdown",
      "metadata": {
        "id": "QjFz-AiDTai4"
      },
      "source": [
        "### Recap: arrays and indexing"
      ]
    },
    {
      "cell_type": "code",
      "metadata": {
        "id": "j3MxL3-bBxp5"
      },
      "source": [
        "import numpy as np"
      ],
      "execution_count": null,
      "outputs": []
    },
    {
      "cell_type": "markdown",
      "metadata": {
        "id": "4I_KSGJ9BRDU"
      },
      "source": [
        "Indexing a Python array can be performed by specifying up to three values, separated by two colons. The index format is as follows: _inclusive_start:exclusive_end:stride_"
      ]
    },
    {
      "cell_type": "code",
      "metadata": {
        "colab": {
          "base_uri": "https://localhost:8080/"
        },
        "id": "HWBUHJm_TdX7",
        "outputId": "dbb26547-5707-4b06-8a13-33f5d41f092a"
      },
      "source": [
        "# Build array/vector:\n",
        "x = np.linspace(1, 10, 10)\n",
        "print(x)"
      ],
      "execution_count": null,
      "outputs": [
        {
          "output_type": "stream",
          "text": [
            "[ 1.  2.  3.  4.  5.  6.  7.  8.  9. 10.]\n"
          ],
          "name": "stdout"
        }
      ]
    },
    {
      "cell_type": "code",
      "metadata": {
        "colab": {
          "base_uri": "https://localhost:8080/"
        },
        "id": "vPmgJebMB6no",
        "outputId": "2ddd5e73-e5c5-4758-9474-a371a53c1318"
      },
      "source": [
        "print(x[0])  # first element\n",
        "print(x[2])  # third element\n",
        "print(x[-1]) # last element\n",
        "print(x[-2]) # second to last element\n",
        "print(x[1:4])     # second to fourth element. Element 5 is not included\n",
        "print(x[0:-1:2])  # every other element\n",
        "print(x[:])       # print the whole vector\n",
        "print(x)          # print the whole vector\n",
        "print(x[-1:0:-1]) # reverse the vector (but remove the starting element)\n",
        "print(x[::-1])    # reverse the vector"
      ],
      "execution_count": null,
      "outputs": [
        {
          "output_type": "stream",
          "text": [
            "1.0\n",
            "3.0\n",
            "10.0\n",
            "9.0\n",
            "[2. 3. 4.]\n",
            "[1. 3. 5. 7. 9.]\n",
            "[ 1.  2.  3.  4.  5.  6.  7.  8.  9. 10.]\n",
            "[ 1.  2.  3.  4.  5.  6.  7.  8.  9. 10.]\n",
            "[10.  9.  8.  7.  6.  5.  4.  3.  2.]\n",
            "[10.  9.  8.  7.  6.  5.  4.  3.  2.  1.]\n"
          ],
          "name": "stdout"
        }
      ]
    },
    {
      "cell_type": "markdown",
      "metadata": {
        "id": "EP8z7ghXan-o"
      },
      "source": [
        "Taken from: https://docs.python.org/release/2.3.5/whatsnew/section-slices.html"
      ]
    },
    {
      "cell_type": "markdown",
      "metadata": {
        "id": "Ry14k9KaSRup"
      },
      "source": [
        "## An introduction to Pandas - towards data science!"
      ]
    },
    {
      "cell_type": "markdown",
      "metadata": {
        "id": "Nh2viKkNSRup"
      },
      "source": [
        "Pandas is an open source, BSD-licensed library providing high-performance, easy-to-use data structures and data analysis tools for the Python programming language (from https://pandas.pydata.org/). Some of the material in this notebook follows: https://jakevdp.github.io/PythonDataScienceHandbook/index.html"
      ]
    },
    {
      "cell_type": "markdown",
      "metadata": {
        "id": "gHXVKidfSRup"
      },
      "source": [
        "We will start by importing numpy and pandas:"
      ]
    },
    {
      "cell_type": "code",
      "metadata": {
        "id": "0NkMtJdGSRup"
      },
      "source": [
        "import pandas as pd"
      ],
      "execution_count": null,
      "outputs": []
    },
    {
      "cell_type": "markdown",
      "metadata": {
        "id": "WzTZZyAGSRuq"
      },
      "source": [
        "### Pandas Series"
      ]
    },
    {
      "cell_type": "code",
      "metadata": {
        "colab": {
          "base_uri": "https://localhost:8080/"
        },
        "id": "Y_cpu9ZUSRuq",
        "outputId": "21e1ad36-4156-437e-d6d3-7b9cc2166cb1"
      },
      "source": [
        "data = pd.Series([0.25, 0.5, 0.75, 1.0])\n",
        "data"
      ],
      "execution_count": null,
      "outputs": [
        {
          "output_type": "execute_result",
          "data": {
            "text/plain": [
              "0    0.25\n",
              "1    0.50\n",
              "2    0.75\n",
              "3    1.00\n",
              "dtype: float64"
            ]
          },
          "metadata": {
            "tags": []
          },
          "execution_count": 5
        }
      ]
    },
    {
      "cell_type": "markdown",
      "metadata": {
        "id": "pb4Cu9g9SRur"
      },
      "source": [
        "The Series instance above has a set of *values* and an *index*. At this stage, it is conceptually similar to a numpy array. In fact, the values are a numpy array:"
      ]
    },
    {
      "cell_type": "code",
      "metadata": {
        "colab": {
          "base_uri": "https://localhost:8080/"
        },
        "id": "UEC9gjd2SRur",
        "outputId": "5d1fa0b4-ca1f-4f53-ab97-acf4f991bb1c"
      },
      "source": [
        "data.values"
      ],
      "execution_count": null,
      "outputs": [
        {
          "output_type": "execute_result",
          "data": {
            "text/plain": [
              "array([0.25, 0.5 , 0.75, 1.  ])"
            ]
          },
          "metadata": {
            "tags": []
          },
          "execution_count": 6
        }
      ]
    },
    {
      "cell_type": "markdown",
      "metadata": {
        "id": "jNx7aE2lSRur"
      },
      "source": [
        "We can obtain entries from the series in a similar way to a numpy array:"
      ]
    },
    {
      "cell_type": "code",
      "metadata": {
        "colab": {
          "base_uri": "https://localhost:8080/"
        },
        "id": "X1DslCebSRus",
        "outputId": "5da1e8b1-e683-4e2e-9024-f2c4ac0c6672"
      },
      "source": [
        "data[1]"
      ],
      "execution_count": null,
      "outputs": [
        {
          "output_type": "execute_result",
          "data": {
            "text/plain": [
              "0.5"
            ]
          },
          "metadata": {
            "tags": []
          },
          "execution_count": 7
        }
      ]
    },
    {
      "cell_type": "code",
      "metadata": {
        "colab": {
          "base_uri": "https://localhost:8080/"
        },
        "id": "6QlbT0RVSRus",
        "outputId": "71c6317d-461b-4ef5-c940-4dec3336066e"
      },
      "source": [
        "print(data[2:])    # print all elements beginning at the third\n",
        "print(\"--\")\n",
        "print(data[1:3])   # print the second and third element (not the fourth)\n",
        "print(\"--\")\n",
        "print(data[::-1])  # print all elements, in reverse order"
      ],
      "execution_count": null,
      "outputs": [
        {
          "output_type": "stream",
          "text": [
            "2    0.75\n",
            "3    1.00\n",
            "dtype: float64\n",
            "--\n",
            "1    0.50\n",
            "2    0.75\n",
            "dtype: float64\n",
            "--\n",
            "3    1.00\n",
            "2    0.75\n",
            "1    0.50\n",
            "0    0.25\n",
            "dtype: float64\n"
          ],
          "name": "stdout"
        }
      ]
    },
    {
      "cell_type": "markdown",
      "metadata": {
        "id": "1V3aiRHjSRus"
      },
      "source": [
        "So why do we need this object when we have NumPy arrays? We can use the *index* to define non-integer indexes:"
      ]
    },
    {
      "cell_type": "code",
      "metadata": {
        "colab": {
          "base_uri": "https://localhost:8080/"
        },
        "id": "ckdaK-6fSRus",
        "outputId": "3f000720-4fd5-4860-a456-32259c0fd1aa"
      },
      "source": [
        "data = pd.Series([0.25, 0.5, 0.75, 1.0],\n",
        "                 index=['Mon', 'Tue', 'Wed', 'Thur'])\n",
        "data"
      ],
      "execution_count": null,
      "outputs": [
        {
          "output_type": "execute_result",
          "data": {
            "text/plain": [
              "Mon     0.25\n",
              "Tue     0.50\n",
              "Wed     0.75\n",
              "Thur    1.00\n",
              "dtype: float64"
            ]
          },
          "metadata": {
            "tags": []
          },
          "execution_count": 8
        }
      ]
    },
    {
      "cell_type": "code",
      "metadata": {
        "colab": {
          "base_uri": "https://localhost:8080/"
        },
        "id": "39W4eBjFSRut",
        "outputId": "650f2e1d-c7af-4511-efac-c4fec4ed3ede"
      },
      "source": [
        "data['Thur']"
      ],
      "execution_count": null,
      "outputs": [
        {
          "output_type": "execute_result",
          "data": {
            "text/plain": [
              "1.0"
            ]
          },
          "metadata": {
            "tags": []
          },
          "execution_count": 10
        }
      ]
    },
    {
      "cell_type": "markdown",
      "metadata": {
        "id": "V0l3tIq8SRut"
      },
      "source": [
        "We can even use non-contiguous indexes (confusingly?):"
      ]
    },
    {
      "cell_type": "code",
      "metadata": {
        "colab": {
          "base_uri": "https://localhost:8080/"
        },
        "id": "ZfmnVGojSRut",
        "outputId": "7d7ab950-1e45-4402-ff05-fc627c165d01"
      },
      "source": [
        "data = pd.Series([0.25, 0.5, 0.75, 1.0],\n",
        "                 index=[2, 5, 3, 7])\n",
        "data"
      ],
      "execution_count": null,
      "outputs": [
        {
          "output_type": "execute_result",
          "data": {
            "text/plain": [
              "2    0.25\n",
              "5    0.50\n",
              "3    0.75\n",
              "7    1.00\n",
              "dtype: float64"
            ]
          },
          "metadata": {
            "tags": []
          },
          "execution_count": 11
        }
      ]
    },
    {
      "cell_type": "code",
      "metadata": {
        "colab": {
          "base_uri": "https://localhost:8080/"
        },
        "id": "M4apPgVfSRut",
        "outputId": "dfc90de4-6f40-4886-b2b4-2b71e5eae978"
      },
      "source": [
        "data[7]"
      ],
      "execution_count": null,
      "outputs": [
        {
          "output_type": "execute_result",
          "data": {
            "text/plain": [
              "1.0"
            ]
          },
          "metadata": {
            "tags": []
          },
          "execution_count": 14
        }
      ]
    },
    {
      "cell_type": "markdown",
      "metadata": {
        "id": "VDJrRbrDSRut"
      },
      "source": [
        "Now that we have an index which no longer corresponds to the row number, how do we access the individual rows (e.g. the second row)?"
      ]
    },
    {
      "cell_type": "code",
      "metadata": {
        "colab": {
          "base_uri": "https://localhost:8080/"
        },
        "id": "0bj7JpSwSRuu",
        "outputId": "5d2996fb-f4c5-420d-9ce8-5dc7ffd63fa4"
      },
      "source": [
        "data.iloc[1]"
      ],
      "execution_count": null,
      "outputs": [
        {
          "output_type": "execute_result",
          "data": {
            "text/plain": [
              "0.5"
            ]
          },
          "metadata": {
            "tags": []
          },
          "execution_count": 13
        }
      ]
    },
    {
      "cell_type": "markdown",
      "metadata": {
        "id": "bBsbnGS8SRuu"
      },
      "source": [
        "We can construct Series objects by creating a python *dictionary* object:"
      ]
    },
    {
      "cell_type": "code",
      "metadata": {
        "colab": {
          "base_uri": "https://localhost:8080/"
        },
        "id": "S_egwi7JSRuu",
        "outputId": "ed2857c4-c1e6-4865-f85a-56c775f28894"
      },
      "source": [
        "population_dict = {'California': 38332521,\n",
        "                   'Texas': 26448193,\n",
        "                   'New York': 19651127,\n",
        "                   'Florida': 19552860,\n",
        "                   'Illinois': 12882135}\n",
        "population = pd.Series(population_dict)\n",
        "population"
      ],
      "execution_count": null,
      "outputs": [
        {
          "output_type": "execute_result",
          "data": {
            "text/plain": [
              "California    38332521\n",
              "Texas         26448193\n",
              "New York      19651127\n",
              "Florida       19552860\n",
              "Illinois      12882135\n",
              "dtype: int64"
            ]
          },
          "metadata": {
            "tags": []
          },
          "execution_count": 15
        }
      ]
    },
    {
      "cell_type": "code",
      "metadata": {
        "colab": {
          "base_uri": "https://localhost:8080/"
        },
        "id": "G4KgblATSRuu",
        "outputId": "f18dc60c-91c7-4681-c51e-1792baaf9f7a"
      },
      "source": [
        "population['New York']"
      ],
      "execution_count": null,
      "outputs": [
        {
          "output_type": "execute_result",
          "data": {
            "text/plain": [
              "19651127"
            ]
          },
          "metadata": {
            "tags": []
          },
          "execution_count": 16
        }
      ]
    },
    {
      "cell_type": "markdown",
      "metadata": {
        "id": "AiOsnPVqSRuu"
      },
      "source": [
        "And we can then slice the series:"
      ]
    },
    {
      "cell_type": "code",
      "metadata": {
        "colab": {
          "base_uri": "https://localhost:8080/"
        },
        "id": "0JoaDk5gSRuu",
        "outputId": "e729b647-99a6-4538-e9d6-80ab9915ccf0"
      },
      "source": [
        "population['Texas':]"
      ],
      "execution_count": null,
      "outputs": [
        {
          "output_type": "execute_result",
          "data": {
            "text/plain": [
              "Texas       26448193\n",
              "New York    19651127\n",
              "Florida     19552860\n",
              "Illinois    12882135\n",
              "dtype: int64"
            ]
          },
          "metadata": {
            "tags": []
          },
          "execution_count": 17
        }
      ]
    },
    {
      "cell_type": "markdown",
      "metadata": {
        "id": "5z5lZ9TfSRuv"
      },
      "source": [
        "We can test to see whether rows exist within the Series:"
      ]
    },
    {
      "cell_type": "code",
      "metadata": {
        "colab": {
          "base_uri": "https://localhost:8080/"
        },
        "id": "5WIdJhvVSRuv",
        "outputId": "6ba548c6-e06c-4ca3-df79-c1a3d7795399"
      },
      "source": [
        "'Texas' in population"
      ],
      "execution_count": null,
      "outputs": [
        {
          "output_type": "execute_result",
          "data": {
            "text/plain": [
              "True"
            ]
          },
          "metadata": {
            "tags": []
          },
          "execution_count": 19
        }
      ]
    },
    {
      "cell_type": "code",
      "metadata": {
        "colab": {
          "base_uri": "https://localhost:8080/"
        },
        "id": "2EmwNeMsSRuv",
        "outputId": "a5b578c2-1552-42a1-f033-4151eb2d8a8b"
      },
      "source": [
        "'New Mexico' in population"
      ],
      "execution_count": null,
      "outputs": [
        {
          "output_type": "execute_result",
          "data": {
            "text/plain": [
              "False"
            ]
          },
          "metadata": {
            "tags": []
          },
          "execution_count": 21
        }
      ]
    },
    {
      "cell_type": "markdown",
      "metadata": {
        "id": "5In1DIMuSRuv"
      },
      "source": [
        "### Pandas DataFrame"
      ]
    },
    {
      "cell_type": "markdown",
      "metadata": {
        "id": "SBCZkkdrSRuv"
      },
      "source": [
        "One way to think of a Series is a single colume with row labels. A *DataFrame* extends this concept to a two-dimensional array, that is, a representation of a table (think spreadsheet) where each row *and* column can have a label."
      ]
    },
    {
      "cell_type": "code",
      "metadata": {
        "colab": {
          "base_uri": "https://localhost:8080/"
        },
        "id": "9uz4iDRHSRuw",
        "outputId": "b1bc4feb-ce58-49ae-fea3-42d721997fd0"
      },
      "source": [
        "population_dict = {'California': 38332521,\n",
        "                   'Texas': 26448193,\n",
        "                   'New York': 19651127,\n",
        "                   'New York': 3327999,\n",
        "                   'Florida': 19552860,\n",
        "                   'Illinois': 12882135}\n",
        "area_dict = {'California': 423967,\n",
        "             'Texas': 695662,\n",
        "             'New York': 141297,\n",
        "             'Florida': 170312,\n",
        "             'Illinois': 149995}\n",
        "area = pd.Series(area_dict)\n",
        "area"
      ],
      "execution_count": null,
      "outputs": [
        {
          "output_type": "execute_result",
          "data": {
            "text/plain": [
              "California    423967\n",
              "Texas         695662\n",
              "New York      141297\n",
              "Florida       170312\n",
              "Illinois      149995\n",
              "dtype: int64"
            ]
          },
          "metadata": {
            "tags": []
          },
          "execution_count": 22
        }
      ]
    },
    {
      "cell_type": "code",
      "metadata": {
        "colab": {
          "base_uri": "https://localhost:8080/",
          "height": 195
        },
        "id": "kzUg_TpaSRuw",
        "outputId": "151dda90-d5e9-4b5c-91b8-a6b3541047d9"
      },
      "source": [
        "states = pd.DataFrame({'population': population,\n",
        "                       'area': area})\n",
        "states"
      ],
      "execution_count": null,
      "outputs": [
        {
          "output_type": "execute_result",
          "data": {
            "text/html": [
              "<div>\n",
              "<style scoped>\n",
              "    .dataframe tbody tr th:only-of-type {\n",
              "        vertical-align: middle;\n",
              "    }\n",
              "\n",
              "    .dataframe tbody tr th {\n",
              "        vertical-align: top;\n",
              "    }\n",
              "\n",
              "    .dataframe thead th {\n",
              "        text-align: right;\n",
              "    }\n",
              "</style>\n",
              "<table border=\"1\" class=\"dataframe\">\n",
              "  <thead>\n",
              "    <tr style=\"text-align: right;\">\n",
              "      <th></th>\n",
              "      <th>population</th>\n",
              "      <th>area</th>\n",
              "    </tr>\n",
              "  </thead>\n",
              "  <tbody>\n",
              "    <tr>\n",
              "      <th>California</th>\n",
              "      <td>38332521</td>\n",
              "      <td>423967</td>\n",
              "    </tr>\n",
              "    <tr>\n",
              "      <th>Texas</th>\n",
              "      <td>26448193</td>\n",
              "      <td>695662</td>\n",
              "    </tr>\n",
              "    <tr>\n",
              "      <th>New York</th>\n",
              "      <td>19651127</td>\n",
              "      <td>141297</td>\n",
              "    </tr>\n",
              "    <tr>\n",
              "      <th>Florida</th>\n",
              "      <td>19552860</td>\n",
              "      <td>170312</td>\n",
              "    </tr>\n",
              "    <tr>\n",
              "      <th>Illinois</th>\n",
              "      <td>12882135</td>\n",
              "      <td>149995</td>\n",
              "    </tr>\n",
              "  </tbody>\n",
              "</table>\n",
              "</div>"
            ],
            "text/plain": [
              "            population    area\n",
              "California    38332521  423967\n",
              "Texas         26448193  695662\n",
              "New York      19651127  141297\n",
              "Florida       19552860  170312\n",
              "Illinois      12882135  149995"
            ]
          },
          "metadata": {
            "tags": []
          },
          "execution_count": 23
        }
      ]
    },
    {
      "cell_type": "code",
      "metadata": {
        "colab": {
          "base_uri": "https://localhost:8080/"
        },
        "id": "d5oih3llSRuw",
        "outputId": "5cd54f4c-1bd5-4d9a-e456-d6b9ec0ce638"
      },
      "source": [
        "states.index"
      ],
      "execution_count": null,
      "outputs": [
        {
          "output_type": "execute_result",
          "data": {
            "text/plain": [
              "Index(['California', 'Texas', 'New York', 'Florida', 'Illinois'], dtype='object')"
            ]
          },
          "metadata": {
            "tags": []
          },
          "execution_count": 24
        }
      ]
    },
    {
      "cell_type": "code",
      "metadata": {
        "colab": {
          "base_uri": "https://localhost:8080/"
        },
        "id": "xwB5Z_lhSRuw",
        "outputId": "7bb6f155-abc9-444c-c5f8-520a656008ed"
      },
      "source": [
        "states.columns"
      ],
      "execution_count": null,
      "outputs": [
        {
          "output_type": "execute_result",
          "data": {
            "text/plain": [
              "Index(['population', 'area'], dtype='object')"
            ]
          },
          "metadata": {
            "tags": []
          },
          "execution_count": 25
        }
      ]
    },
    {
      "cell_type": "code",
      "metadata": {
        "colab": {
          "base_uri": "https://localhost:8080/"
        },
        "id": "2Z2BgrgmSRuw",
        "outputId": "215b42aa-5911-4bc3-f9e6-81158f84ab72"
      },
      "source": [
        "states.values"
      ],
      "execution_count": null,
      "outputs": [
        {
          "output_type": "execute_result",
          "data": {
            "text/plain": [
              "array([[38332521,   423967],\n",
              "       [26448193,   695662],\n",
              "       [19651127,   141297],\n",
              "       [19552860,   170312],\n",
              "       [12882135,   149995]])"
            ]
          },
          "metadata": {
            "tags": []
          },
          "execution_count": 26
        }
      ]
    },
    {
      "cell_type": "code",
      "metadata": {
        "colab": {
          "base_uri": "https://localhost:8080/"
        },
        "id": "9D-cHvMUSRux",
        "outputId": "80a4af42-2e2f-4e2f-f7a3-018c3c4a3802"
      },
      "source": [
        "type(states.values)"
      ],
      "execution_count": null,
      "outputs": [
        {
          "output_type": "execute_result",
          "data": {
            "text/plain": [
              "numpy.ndarray"
            ]
          },
          "metadata": {
            "tags": []
          },
          "execution_count": 24
        }
      ]
    },
    {
      "cell_type": "code",
      "metadata": {
        "colab": {
          "base_uri": "https://localhost:8080/"
        },
        "id": "EuqgFmFbSRux",
        "outputId": "a0297a23-29b9-414c-e9ac-3c073e608da0"
      },
      "source": [
        "states['area']"
      ],
      "execution_count": null,
      "outputs": [
        {
          "output_type": "execute_result",
          "data": {
            "text/plain": [
              "California    423967\n",
              "Texas         695662\n",
              "New York      141297\n",
              "Florida       170312\n",
              "Illinois      149995\n",
              "Name: area, dtype: int64"
            ]
          },
          "metadata": {
            "tags": []
          },
          "execution_count": 27
        }
      ]
    },
    {
      "cell_type": "markdown",
      "metadata": {
        "id": "pVxyMfkSSRux"
      },
      "source": [
        "We can access a specific cell value as follows:"
      ]
    },
    {
      "cell_type": "code",
      "metadata": {
        "colab": {
          "base_uri": "https://localhost:8080/"
        },
        "id": "cUwBs0dhSRux",
        "outputId": "2da904d8-82e2-44df-f0bb-8494f3183d20"
      },
      "source": [
        "states.at['Texas','population']"
      ],
      "execution_count": null,
      "outputs": [
        {
          "output_type": "execute_result",
          "data": {
            "text/plain": [
              "26448193"
            ]
          },
          "metadata": {
            "tags": []
          },
          "execution_count": 28
        }
      ]
    },
    {
      "cell_type": "markdown",
      "metadata": {
        "id": "tEUK0Dl7SRux"
      },
      "source": [
        "We can acquire a single row using the *loc* function:"
      ]
    },
    {
      "cell_type": "code",
      "metadata": {
        "colab": {
          "base_uri": "https://localhost:8080/"
        },
        "id": "JLgkYJm7SRux",
        "outputId": "a0086159-6532-4173-b96b-f1cf877563ec"
      },
      "source": [
        "states.loc['California']"
      ],
      "execution_count": null,
      "outputs": [
        {
          "output_type": "execute_result",
          "data": {
            "text/plain": [
              "population    38332521\n",
              "area            423967\n",
              "Name: California, dtype: int64"
            ]
          },
          "metadata": {
            "tags": []
          },
          "execution_count": 31
        }
      ]
    },
    {
      "cell_type": "markdown",
      "metadata": {
        "id": "DDkviBNsSRuy"
      },
      "source": [
        "And we can acquire a single row using an integer index using the iloc function:"
      ]
    },
    {
      "cell_type": "code",
      "metadata": {
        "colab": {
          "base_uri": "https://localhost:8080/"
        },
        "id": "UZBVoY_nSRuy",
        "outputId": "f4f83dbc-1b88-4409-ea38-ed64c16f8d45"
      },
      "source": [
        "states.iloc[1]"
      ],
      "execution_count": null,
      "outputs": [
        {
          "output_type": "execute_result",
          "data": {
            "text/plain": [
              "population    26448193\n",
              "area            695662\n",
              "Name: Texas, dtype: int64"
            ]
          },
          "metadata": {
            "tags": []
          },
          "execution_count": 34
        }
      ]
    },
    {
      "cell_type": "code",
      "metadata": {
        "colab": {
          "base_uri": "https://localhost:8080/"
        },
        "id": "rqcUNxpQSRuy",
        "outputId": "f3589bb7-fb5c-46ee-a5c5-4270cf5c35ea"
      },
      "source": [
        "states.iloc[1].population"
      ],
      "execution_count": null,
      "outputs": [
        {
          "output_type": "execute_result",
          "data": {
            "text/plain": [
              "26448193"
            ]
          },
          "metadata": {
            "tags": []
          },
          "execution_count": 29
        }
      ]
    },
    {
      "cell_type": "markdown",
      "metadata": {
        "id": "y3zqRnymSRuy"
      },
      "source": [
        "The previous line of code extracts the second line of data and the column titled 'population'."
      ]
    },
    {
      "cell_type": "markdown",
      "metadata": {
        "id": "agNj08PoSRuy"
      },
      "source": [
        "We can construct new columns from existing columns:"
      ]
    },
    {
      "cell_type": "code",
      "metadata": {
        "colab": {
          "base_uri": "https://localhost:8080/",
          "height": 195
        },
        "id": "z0GNuNJzSRuy",
        "outputId": "1f048365-ea4b-492f-a9f7-86614a382e9a"
      },
      "source": [
        "states['density'] = states['population'] / states['area']\n",
        "states"
      ],
      "execution_count": null,
      "outputs": [
        {
          "output_type": "execute_result",
          "data": {
            "text/html": [
              "<div>\n",
              "<style scoped>\n",
              "    .dataframe tbody tr th:only-of-type {\n",
              "        vertical-align: middle;\n",
              "    }\n",
              "\n",
              "    .dataframe tbody tr th {\n",
              "        vertical-align: top;\n",
              "    }\n",
              "\n",
              "    .dataframe thead th {\n",
              "        text-align: right;\n",
              "    }\n",
              "</style>\n",
              "<table border=\"1\" class=\"dataframe\">\n",
              "  <thead>\n",
              "    <tr style=\"text-align: right;\">\n",
              "      <th></th>\n",
              "      <th>population</th>\n",
              "      <th>area</th>\n",
              "      <th>population density</th>\n",
              "      <th>density</th>\n",
              "    </tr>\n",
              "  </thead>\n",
              "  <tbody>\n",
              "    <tr>\n",
              "      <th>California</th>\n",
              "      <td>38332521</td>\n",
              "      <td>423967</td>\n",
              "      <td>90.413926</td>\n",
              "      <td>90.413926</td>\n",
              "    </tr>\n",
              "    <tr>\n",
              "      <th>Texas</th>\n",
              "      <td>26448193</td>\n",
              "      <td>695662</td>\n",
              "      <td>38.018740</td>\n",
              "      <td>38.018740</td>\n",
              "    </tr>\n",
              "    <tr>\n",
              "      <th>New York</th>\n",
              "      <td>19651127</td>\n",
              "      <td>141297</td>\n",
              "      <td>139.076746</td>\n",
              "      <td>139.076746</td>\n",
              "    </tr>\n",
              "    <tr>\n",
              "      <th>Florida</th>\n",
              "      <td>19552860</td>\n",
              "      <td>170312</td>\n",
              "      <td>114.806121</td>\n",
              "      <td>114.806121</td>\n",
              "    </tr>\n",
              "    <tr>\n",
              "      <th>Illinois</th>\n",
              "      <td>12882135</td>\n",
              "      <td>149995</td>\n",
              "      <td>85.883763</td>\n",
              "      <td>85.883763</td>\n",
              "    </tr>\n",
              "  </tbody>\n",
              "</table>\n",
              "</div>"
            ],
            "text/plain": [
              "            population    area  population density     density\n",
              "California    38332521  423967           90.413926   90.413926\n",
              "Texas         26448193  695662           38.018740   38.018740\n",
              "New York      19651127  141297          139.076746  139.076746\n",
              "Florida       19552860  170312          114.806121  114.806121\n",
              "Illinois      12882135  149995           85.883763   85.883763"
            ]
          },
          "metadata": {
            "tags": []
          },
          "execution_count": 47
        }
      ]
    },
    {
      "cell_type": "markdown",
      "metadata": {
        "id": "gMsXWscuSRuz"
      },
      "source": [
        "We can switch the order of the rows and columns (transpose the DataFrame):"
      ]
    },
    {
      "cell_type": "code",
      "metadata": {
        "colab": {
          "base_uri": "https://localhost:8080/"
        },
        "id": "xmbACruaSRuz",
        "outputId": "554a1a27-3cc3-4232-94b8-3b5319c0a2e8"
      },
      "source": [
        "print(states.T)\n",
        "print(states.T.iloc[1])"
      ],
      "execution_count": null,
      "outputs": [
        {
          "output_type": "stream",
          "text": [
            "                      California         Texas  ...       Florida      Illinois\n",
            "population          3.833252e+07  2.644819e+07  ...  1.955286e+07  1.288214e+07\n",
            "area                4.239670e+05  6.956620e+05  ...  1.703120e+05  1.499950e+05\n",
            "population density  9.041393e+01  3.801874e+01  ...  1.148061e+02  8.588376e+01\n",
            "\n",
            "[3 rows x 5 columns]\n",
            "California    423967.0\n",
            "Texas         695662.0\n",
            "New York      141297.0\n",
            "Florida       170312.0\n",
            "Illinois      149995.0\n",
            "Name: area, dtype: float64\n"
          ],
          "name": "stdout"
        }
      ]
    },
    {
      "cell_type": "markdown",
      "metadata": {
        "id": "-aDzSkKdSRuz"
      },
      "source": [
        "We can slice the DataFrame by integer location:"
      ]
    },
    {
      "cell_type": "code",
      "metadata": {
        "colab": {
          "base_uri": "https://localhost:8080/",
          "height": 136
        },
        "id": "MbkZJR3pSRuz",
        "outputId": "83d168bd-3a1c-41db-8de6-21fc009ae746"
      },
      "source": [
        "states.iloc[:3, :2]"
      ],
      "execution_count": null,
      "outputs": [
        {
          "output_type": "execute_result",
          "data": {
            "text/html": [
              "<div>\n",
              "<style scoped>\n",
              "    .dataframe tbody tr th:only-of-type {\n",
              "        vertical-align: middle;\n",
              "    }\n",
              "\n",
              "    .dataframe tbody tr th {\n",
              "        vertical-align: top;\n",
              "    }\n",
              "\n",
              "    .dataframe thead th {\n",
              "        text-align: right;\n",
              "    }\n",
              "</style>\n",
              "<table border=\"1\" class=\"dataframe\">\n",
              "  <thead>\n",
              "    <tr style=\"text-align: right;\">\n",
              "      <th></th>\n",
              "      <th>population</th>\n",
              "      <th>area</th>\n",
              "    </tr>\n",
              "  </thead>\n",
              "  <tbody>\n",
              "    <tr>\n",
              "      <th>California</th>\n",
              "      <td>38332521</td>\n",
              "      <td>423967</td>\n",
              "    </tr>\n",
              "    <tr>\n",
              "      <th>Texas</th>\n",
              "      <td>26448193</td>\n",
              "      <td>695662</td>\n",
              "    </tr>\n",
              "    <tr>\n",
              "      <th>New York</th>\n",
              "      <td>19651127</td>\n",
              "      <td>141297</td>\n",
              "    </tr>\n",
              "  </tbody>\n",
              "</table>\n",
              "</div>"
            ],
            "text/plain": [
              "            population    area\n",
              "California    38332521  423967\n",
              "Texas         26448193  695662\n",
              "New York      19651127  141297"
            ]
          },
          "metadata": {
            "tags": []
          },
          "execution_count": 44
        }
      ]
    },
    {
      "cell_type": "code",
      "metadata": {
        "colab": {
          "base_uri": "https://localhost:8080/",
          "height": 136
        },
        "id": "5elLsnHRSRuz",
        "outputId": "0c9c6cd1-c98c-476c-cfa5-2e73ec83dfcb"
      },
      "source": [
        "states.T.iloc[:3,:2]"
      ],
      "execution_count": null,
      "outputs": [
        {
          "output_type": "execute_result",
          "data": {
            "text/html": [
              "<div>\n",
              "<style scoped>\n",
              "    .dataframe tbody tr th:only-of-type {\n",
              "        vertical-align: middle;\n",
              "    }\n",
              "\n",
              "    .dataframe tbody tr th {\n",
              "        vertical-align: top;\n",
              "    }\n",
              "\n",
              "    .dataframe thead th {\n",
              "        text-align: right;\n",
              "    }\n",
              "</style>\n",
              "<table border=\"1\" class=\"dataframe\">\n",
              "  <thead>\n",
              "    <tr style=\"text-align: right;\">\n",
              "      <th></th>\n",
              "      <th>California</th>\n",
              "      <th>Texas</th>\n",
              "    </tr>\n",
              "  </thead>\n",
              "  <tbody>\n",
              "    <tr>\n",
              "      <th>population</th>\n",
              "      <td>3.833252e+07</td>\n",
              "      <td>2.644819e+07</td>\n",
              "    </tr>\n",
              "    <tr>\n",
              "      <th>area</th>\n",
              "      <td>4.239670e+05</td>\n",
              "      <td>6.956620e+05</td>\n",
              "    </tr>\n",
              "    <tr>\n",
              "      <th>population density</th>\n",
              "      <td>9.041393e+01</td>\n",
              "      <td>3.801874e+01</td>\n",
              "    </tr>\n",
              "  </tbody>\n",
              "</table>\n",
              "</div>"
            ],
            "text/plain": [
              "                      California         Texas\n",
              "population          3.833252e+07  2.644819e+07\n",
              "area                4.239670e+05  6.956620e+05\n",
              "population density  9.041393e+01  3.801874e+01"
            ]
          },
          "metadata": {
            "tags": []
          },
          "execution_count": 45
        }
      ]
    },
    {
      "cell_type": "markdown",
      "metadata": {
        "id": "mIvciiwrSRuz"
      },
      "source": [
        "We can also extract specific columns based on computed logic (using the index names) and *loc* function:"
      ]
    },
    {
      "cell_type": "code",
      "metadata": {
        "colab": {
          "base_uri": "https://localhost:8080/",
          "height": 106
        },
        "id": "OtB7fXdsSRu0",
        "outputId": "476f5ab1-3013-4ecd-c9d0-cb1aebbad766"
      },
      "source": [
        "states.loc[states.density > 100, ['population', 'density']]"
      ],
      "execution_count": null,
      "outputs": [
        {
          "output_type": "execute_result",
          "data": {
            "text/html": [
              "<div>\n",
              "<style scoped>\n",
              "    .dataframe tbody tr th:only-of-type {\n",
              "        vertical-align: middle;\n",
              "    }\n",
              "\n",
              "    .dataframe tbody tr th {\n",
              "        vertical-align: top;\n",
              "    }\n",
              "\n",
              "    .dataframe thead th {\n",
              "        text-align: right;\n",
              "    }\n",
              "</style>\n",
              "<table border=\"1\" class=\"dataframe\">\n",
              "  <thead>\n",
              "    <tr style=\"text-align: right;\">\n",
              "      <th></th>\n",
              "      <th>population</th>\n",
              "      <th>density</th>\n",
              "    </tr>\n",
              "  </thead>\n",
              "  <tbody>\n",
              "    <tr>\n",
              "      <th>New York</th>\n",
              "      <td>19651127</td>\n",
              "      <td>139.076746</td>\n",
              "    </tr>\n",
              "    <tr>\n",
              "      <th>Florida</th>\n",
              "      <td>19552860</td>\n",
              "      <td>114.806121</td>\n",
              "    </tr>\n",
              "  </tbody>\n",
              "</table>\n",
              "</div>"
            ],
            "text/plain": [
              "          population     density\n",
              "New York    19651127  139.076746\n",
              "Florida     19552860  114.806121"
            ]
          },
          "metadata": {
            "tags": []
          },
          "execution_count": 48
        }
      ]
    },
    {
      "cell_type": "markdown",
      "metadata": {
        "id": "h9afe8B9SRu0"
      },
      "source": [
        "We can use numpy functions to perform operations on DataFrames, which preserves the indexes:"
      ]
    },
    {
      "cell_type": "code",
      "metadata": {
        "id": "2eqUAIc-SRu0"
      },
      "source": [
        "logStates = np.log(states)"
      ],
      "execution_count": null,
      "outputs": []
    },
    {
      "cell_type": "code",
      "metadata": {
        "colab": {
          "base_uri": "https://localhost:8080/",
          "height": 195
        },
        "id": "-yIzqo4NSRu0",
        "outputId": "b2ac50e0-5eb1-42d7-e0e9-279b8b76e7d7"
      },
      "source": [
        "logStates"
      ],
      "execution_count": null,
      "outputs": [
        {
          "output_type": "execute_result",
          "data": {
            "text/html": [
              "<div>\n",
              "<style scoped>\n",
              "    .dataframe tbody tr th:only-of-type {\n",
              "        vertical-align: middle;\n",
              "    }\n",
              "\n",
              "    .dataframe tbody tr th {\n",
              "        vertical-align: top;\n",
              "    }\n",
              "\n",
              "    .dataframe thead th {\n",
              "        text-align: right;\n",
              "    }\n",
              "</style>\n",
              "<table border=\"1\" class=\"dataframe\">\n",
              "  <thead>\n",
              "    <tr style=\"text-align: right;\">\n",
              "      <th></th>\n",
              "      <th>population</th>\n",
              "      <th>area</th>\n",
              "      <th>population density</th>\n",
              "      <th>density</th>\n",
              "    </tr>\n",
              "  </thead>\n",
              "  <tbody>\n",
              "    <tr>\n",
              "      <th>California</th>\n",
              "      <td>17.461809</td>\n",
              "      <td>12.957411</td>\n",
              "      <td>4.504398</td>\n",
              "      <td>4.504398</td>\n",
              "    </tr>\n",
              "    <tr>\n",
              "      <th>Texas</th>\n",
              "      <td>17.090698</td>\n",
              "      <td>13.452619</td>\n",
              "      <td>3.638079</td>\n",
              "      <td>3.638079</td>\n",
              "    </tr>\n",
              "    <tr>\n",
              "      <th>New York</th>\n",
              "      <td>16.793645</td>\n",
              "      <td>11.858619</td>\n",
              "      <td>4.935026</td>\n",
              "      <td>4.935026</td>\n",
              "    </tr>\n",
              "    <tr>\n",
              "      <th>Florida</th>\n",
              "      <td>16.788632</td>\n",
              "      <td>12.045387</td>\n",
              "      <td>4.743245</td>\n",
              "      <td>4.743245</td>\n",
              "    </tr>\n",
              "    <tr>\n",
              "      <th>Illinois</th>\n",
              "      <td>16.371352</td>\n",
              "      <td>11.918357</td>\n",
              "      <td>4.452995</td>\n",
              "      <td>4.452995</td>\n",
              "    </tr>\n",
              "  </tbody>\n",
              "</table>\n",
              "</div>"
            ],
            "text/plain": [
              "            population       area  population density   density\n",
              "California   17.461809  12.957411            4.504398  4.504398\n",
              "Texas        17.090698  13.452619            3.638079  3.638079\n",
              "New York     16.793645  11.858619            4.935026  4.935026\n",
              "Florida      16.788632  12.045387            4.743245  4.743245\n",
              "Illinois     16.371352  11.918357            4.452995  4.452995"
            ]
          },
          "metadata": {
            "tags": []
          },
          "execution_count": 50
        }
      ]
    },
    {
      "cell_type": "markdown",
      "metadata": {
        "id": "x1RSCFOU5UNV"
      },
      "source": [
        "We can compute basic summary statistics for each of the columns listed above:"
      ]
    },
    {
      "cell_type": "code",
      "metadata": {
        "colab": {
          "base_uri": "https://localhost:8080/",
          "height": 284
        },
        "id": "vbHh7csC5aBc",
        "outputId": "a1940e61-0203-4654-a241-d32c49009f76"
      },
      "source": [
        "states.describe()"
      ],
      "execution_count": null,
      "outputs": [
        {
          "output_type": "execute_result",
          "data": {
            "text/html": [
              "<div>\n",
              "<style scoped>\n",
              "    .dataframe tbody tr th:only-of-type {\n",
              "        vertical-align: middle;\n",
              "    }\n",
              "\n",
              "    .dataframe tbody tr th {\n",
              "        vertical-align: top;\n",
              "    }\n",
              "\n",
              "    .dataframe thead th {\n",
              "        text-align: right;\n",
              "    }\n",
              "</style>\n",
              "<table border=\"1\" class=\"dataframe\">\n",
              "  <thead>\n",
              "    <tr style=\"text-align: right;\">\n",
              "      <th></th>\n",
              "      <th>population</th>\n",
              "      <th>area</th>\n",
              "      <th>population density</th>\n",
              "      <th>density</th>\n",
              "    </tr>\n",
              "  </thead>\n",
              "  <tbody>\n",
              "    <tr>\n",
              "      <th>count</th>\n",
              "      <td>5.000000e+00</td>\n",
              "      <td>5.000000</td>\n",
              "      <td>5.000000</td>\n",
              "      <td>5.000000</td>\n",
              "    </tr>\n",
              "    <tr>\n",
              "      <th>mean</th>\n",
              "      <td>2.337337e+07</td>\n",
              "      <td>316246.600000</td>\n",
              "      <td>93.639859</td>\n",
              "      <td>93.639859</td>\n",
              "    </tr>\n",
              "    <tr>\n",
              "      <th>std</th>\n",
              "      <td>9.640386e+06</td>\n",
              "      <td>242437.411951</td>\n",
              "      <td>37.672251</td>\n",
              "      <td>37.672251</td>\n",
              "    </tr>\n",
              "    <tr>\n",
              "      <th>min</th>\n",
              "      <td>1.288214e+07</td>\n",
              "      <td>141297.000000</td>\n",
              "      <td>38.018740</td>\n",
              "      <td>38.018740</td>\n",
              "    </tr>\n",
              "    <tr>\n",
              "      <th>25%</th>\n",
              "      <td>1.955286e+07</td>\n",
              "      <td>149995.000000</td>\n",
              "      <td>85.883763</td>\n",
              "      <td>85.883763</td>\n",
              "    </tr>\n",
              "    <tr>\n",
              "      <th>50%</th>\n",
              "      <td>1.965113e+07</td>\n",
              "      <td>170312.000000</td>\n",
              "      <td>90.413926</td>\n",
              "      <td>90.413926</td>\n",
              "    </tr>\n",
              "    <tr>\n",
              "      <th>75%</th>\n",
              "      <td>2.644819e+07</td>\n",
              "      <td>423967.000000</td>\n",
              "      <td>114.806121</td>\n",
              "      <td>114.806121</td>\n",
              "    </tr>\n",
              "    <tr>\n",
              "      <th>max</th>\n",
              "      <td>3.833252e+07</td>\n",
              "      <td>695662.000000</td>\n",
              "      <td>139.076746</td>\n",
              "      <td>139.076746</td>\n",
              "    </tr>\n",
              "  </tbody>\n",
              "</table>\n",
              "</div>"
            ],
            "text/plain": [
              "         population           area  population density     density\n",
              "count  5.000000e+00       5.000000            5.000000    5.000000\n",
              "mean   2.337337e+07  316246.600000           93.639859   93.639859\n",
              "std    9.640386e+06  242437.411951           37.672251   37.672251\n",
              "min    1.288214e+07  141297.000000           38.018740   38.018740\n",
              "25%    1.955286e+07  149995.000000           85.883763   85.883763\n",
              "50%    1.965113e+07  170312.000000           90.413926   90.413926\n",
              "75%    2.644819e+07  423967.000000          114.806121  114.806121\n",
              "max    3.833252e+07  695662.000000          139.076746  139.076746"
            ]
          },
          "metadata": {
            "tags": []
          },
          "execution_count": 51
        }
      ]
    },
    {
      "cell_type": "markdown",
      "metadata": {
        "id": "CAcK5CdGSRu1"
      },
      "source": [
        "## Loading data into a DataFrame"
      ]
    },
    {
      "cell_type": "markdown",
      "metadata": {
        "id": "PdgQdi52SRu2"
      },
      "source": [
        "We can load data from a CSV file into a DataFrame as follows:"
      ]
    },
    {
      "cell_type": "code",
      "metadata": {
        "id": "4wLv8-yUSRu2"
      },
      "source": [
        "df = pd.read_csv('https://raw.githubusercontent.com/cs109/2014_data/master/countries.csv')"
      ],
      "execution_count": null,
      "outputs": []
    },
    {
      "cell_type": "code",
      "metadata": {
        "colab": {
          "base_uri": "https://localhost:8080/"
        },
        "id": "bVdoNEeUSRu2",
        "outputId": "4ccfde33-d1a3-46dd-9152-23e3598b08aa"
      },
      "source": [
        "df.shape"
      ],
      "execution_count": null,
      "outputs": [
        {
          "output_type": "execute_result",
          "data": {
            "text/plain": [
              "(194, 2)"
            ]
          },
          "metadata": {
            "tags": []
          },
          "execution_count": 53
        }
      ]
    },
    {
      "cell_type": "code",
      "metadata": {
        "colab": {
          "base_uri": "https://localhost:8080/",
          "height": 402
        },
        "id": "rueSmNUGSRu2",
        "outputId": "4ea25022-e044-4142-9a89-fc77ab75a027"
      },
      "source": [
        "df"
      ],
      "execution_count": null,
      "outputs": [
        {
          "output_type": "execute_result",
          "data": {
            "text/html": [
              "<div>\n",
              "<style scoped>\n",
              "    .dataframe tbody tr th:only-of-type {\n",
              "        vertical-align: middle;\n",
              "    }\n",
              "\n",
              "    .dataframe tbody tr th {\n",
              "        vertical-align: top;\n",
              "    }\n",
              "\n",
              "    .dataframe thead th {\n",
              "        text-align: right;\n",
              "    }\n",
              "</style>\n",
              "<table border=\"1\" class=\"dataframe\">\n",
              "  <thead>\n",
              "    <tr style=\"text-align: right;\">\n",
              "      <th></th>\n",
              "      <th>Country</th>\n",
              "      <th>Region</th>\n",
              "    </tr>\n",
              "  </thead>\n",
              "  <tbody>\n",
              "    <tr>\n",
              "      <th>0</th>\n",
              "      <td>Algeria</td>\n",
              "      <td>AFRICA</td>\n",
              "    </tr>\n",
              "    <tr>\n",
              "      <th>1</th>\n",
              "      <td>Angola</td>\n",
              "      <td>AFRICA</td>\n",
              "    </tr>\n",
              "    <tr>\n",
              "      <th>2</th>\n",
              "      <td>Benin</td>\n",
              "      <td>AFRICA</td>\n",
              "    </tr>\n",
              "    <tr>\n",
              "      <th>3</th>\n",
              "      <td>Botswana</td>\n",
              "      <td>AFRICA</td>\n",
              "    </tr>\n",
              "    <tr>\n",
              "      <th>4</th>\n",
              "      <td>Burkina</td>\n",
              "      <td>AFRICA</td>\n",
              "    </tr>\n",
              "    <tr>\n",
              "      <th>...</th>\n",
              "      <td>...</td>\n",
              "      <td>...</td>\n",
              "    </tr>\n",
              "    <tr>\n",
              "      <th>189</th>\n",
              "      <td>Paraguay</td>\n",
              "      <td>SOUTH AMERICA</td>\n",
              "    </tr>\n",
              "    <tr>\n",
              "      <th>190</th>\n",
              "      <td>Peru</td>\n",
              "      <td>SOUTH AMERICA</td>\n",
              "    </tr>\n",
              "    <tr>\n",
              "      <th>191</th>\n",
              "      <td>Suriname</td>\n",
              "      <td>SOUTH AMERICA</td>\n",
              "    </tr>\n",
              "    <tr>\n",
              "      <th>192</th>\n",
              "      <td>Uruguay</td>\n",
              "      <td>SOUTH AMERICA</td>\n",
              "    </tr>\n",
              "    <tr>\n",
              "      <th>193</th>\n",
              "      <td>Venezuela</td>\n",
              "      <td>SOUTH AMERICA</td>\n",
              "    </tr>\n",
              "  </tbody>\n",
              "</table>\n",
              "<p>194 rows × 2 columns</p>\n",
              "</div>"
            ],
            "text/plain": [
              "       Country         Region\n",
              "0      Algeria         AFRICA\n",
              "1       Angola         AFRICA\n",
              "2        Benin         AFRICA\n",
              "3     Botswana         AFRICA\n",
              "4      Burkina         AFRICA\n",
              "..         ...            ...\n",
              "189   Paraguay  SOUTH AMERICA\n",
              "190       Peru  SOUTH AMERICA\n",
              "191   Suriname  SOUTH AMERICA\n",
              "192    Uruguay  SOUTH AMERICA\n",
              "193  Venezuela  SOUTH AMERICA\n",
              "\n",
              "[194 rows x 2 columns]"
            ]
          },
          "metadata": {
            "tags": []
          },
          "execution_count": 54
        }
      ]
    },
    {
      "cell_type": "code",
      "metadata": {
        "id": "QY1n4v2gSRu2"
      },
      "source": [
        "df = pd.read_csv('https://raw.githubusercontent.com/cs109/2014_data/master/countries.csv', index_col=0)"
      ],
      "execution_count": null,
      "outputs": []
    },
    {
      "cell_type": "code",
      "metadata": {
        "colab": {
          "base_uri": "https://localhost:8080/",
          "height": 431
        },
        "id": "C2sOBxjmSRu2",
        "outputId": "af778e0e-d81c-4cba-d484-93a8f08ad9da"
      },
      "source": [
        "df"
      ],
      "execution_count": null,
      "outputs": [
        {
          "output_type": "execute_result",
          "data": {
            "text/html": [
              "<div>\n",
              "<style scoped>\n",
              "    .dataframe tbody tr th:only-of-type {\n",
              "        vertical-align: middle;\n",
              "    }\n",
              "\n",
              "    .dataframe tbody tr th {\n",
              "        vertical-align: top;\n",
              "    }\n",
              "\n",
              "    .dataframe thead th {\n",
              "        text-align: right;\n",
              "    }\n",
              "</style>\n",
              "<table border=\"1\" class=\"dataframe\">\n",
              "  <thead>\n",
              "    <tr style=\"text-align: right;\">\n",
              "      <th></th>\n",
              "      <th>Region</th>\n",
              "    </tr>\n",
              "    <tr>\n",
              "      <th>Country</th>\n",
              "      <th></th>\n",
              "    </tr>\n",
              "  </thead>\n",
              "  <tbody>\n",
              "    <tr>\n",
              "      <th>Algeria</th>\n",
              "      <td>AFRICA</td>\n",
              "    </tr>\n",
              "    <tr>\n",
              "      <th>Angola</th>\n",
              "      <td>AFRICA</td>\n",
              "    </tr>\n",
              "    <tr>\n",
              "      <th>Benin</th>\n",
              "      <td>AFRICA</td>\n",
              "    </tr>\n",
              "    <tr>\n",
              "      <th>Botswana</th>\n",
              "      <td>AFRICA</td>\n",
              "    </tr>\n",
              "    <tr>\n",
              "      <th>Burkina</th>\n",
              "      <td>AFRICA</td>\n",
              "    </tr>\n",
              "    <tr>\n",
              "      <th>...</th>\n",
              "      <td>...</td>\n",
              "    </tr>\n",
              "    <tr>\n",
              "      <th>Paraguay</th>\n",
              "      <td>SOUTH AMERICA</td>\n",
              "    </tr>\n",
              "    <tr>\n",
              "      <th>Peru</th>\n",
              "      <td>SOUTH AMERICA</td>\n",
              "    </tr>\n",
              "    <tr>\n",
              "      <th>Suriname</th>\n",
              "      <td>SOUTH AMERICA</td>\n",
              "    </tr>\n",
              "    <tr>\n",
              "      <th>Uruguay</th>\n",
              "      <td>SOUTH AMERICA</td>\n",
              "    </tr>\n",
              "    <tr>\n",
              "      <th>Venezuela</th>\n",
              "      <td>SOUTH AMERICA</td>\n",
              "    </tr>\n",
              "  </tbody>\n",
              "</table>\n",
              "<p>194 rows × 1 columns</p>\n",
              "</div>"
            ],
            "text/plain": [
              "                  Region\n",
              "Country                 \n",
              "Algeria           AFRICA\n",
              "Angola            AFRICA\n",
              "Benin             AFRICA\n",
              "Botswana          AFRICA\n",
              "Burkina           AFRICA\n",
              "...                  ...\n",
              "Paraguay   SOUTH AMERICA\n",
              "Peru       SOUTH AMERICA\n",
              "Suriname   SOUTH AMERICA\n",
              "Uruguay    SOUTH AMERICA\n",
              "Venezuela  SOUTH AMERICA\n",
              "\n",
              "[194 rows x 1 columns]"
            ]
          },
          "metadata": {
            "tags": []
          },
          "execution_count": 56
        }
      ]
    },
    {
      "cell_type": "code",
      "metadata": {
        "colab": {
          "base_uri": "https://localhost:8080/"
        },
        "id": "FH-DwN8HSRu3",
        "outputId": "1160d916-f912-4a4c-a446-7a1cb471008e"
      },
      "source": [
        "df.loc['United Kingdom']"
      ],
      "execution_count": null,
      "outputs": [
        {
          "output_type": "execute_result",
          "data": {
            "text/plain": [
              "Region    EUROPE\n",
              "Name: United Kingdom, dtype: object"
            ]
          },
          "metadata": {
            "tags": []
          },
          "execution_count": 57
        }
      ]
    },
    {
      "cell_type": "markdown",
      "metadata": {
        "id": "Fw55zcpT7HaJ"
      },
      "source": [
        "## Case study: COVID-19 data from John Hopkins University"
      ]
    },
    {
      "cell_type": "markdown",
      "metadata": {
        "id": "2S6Z92nkEC61"
      },
      "source": [
        "Let's install the Python package _wget_ into colab:"
      ]
    },
    {
      "cell_type": "code",
      "metadata": {
        "colab": {
          "base_uri": "https://localhost:8080/"
        },
        "id": "fOUAvDpR7wT4",
        "outputId": "480bcfe7-22bf-41ad-fdec-c18a69d466a6"
      },
      "source": [
        "!pip install wget"
      ],
      "execution_count": null,
      "outputs": [
        {
          "output_type": "stream",
          "text": [
            "Collecting wget\n",
            "  Downloading https://files.pythonhosted.org/packages/47/6a/62e288da7bcda82b935ff0c6cfe542970f04e29c756b0e147251b2fb251f/wget-3.2.zip\n",
            "Building wheels for collected packages: wget\n",
            "  Building wheel for wget (setup.py) ... \u001b[?25l\u001b[?25hdone\n",
            "  Created wheel for wget: filename=wget-3.2-cp36-none-any.whl size=9682 sha256=dc95d71d6d3be477510d87d56645a37251ac1c136a538e9f1f86948dd476a587\n",
            "  Stored in directory: /root/.cache/pip/wheels/40/15/30/7d8f7cea2902b4db79e3fea550d7d7b85ecb27ef992b618f3f\n",
            "Successfully built wget\n",
            "Installing collected packages: wget\n",
            "Successfully installed wget-3.2\n"
          ],
          "name": "stdout"
        }
      ]
    },
    {
      "cell_type": "code",
      "metadata": {
        "id": "yVS-EcEv7QIr"
      },
      "source": [
        "import wget"
      ],
      "execution_count": null,
      "outputs": []
    },
    {
      "cell_type": "markdown",
      "metadata": {
        "id": "jju3JHZTEJL-"
      },
      "source": [
        "We will grab two files from the internet, one for COVID-19 cases and one for deaths."
      ]
    },
    {
      "cell_type": "code",
      "metadata": {
        "colab": {
          "base_uri": "https://localhost:8080/"
        },
        "id": "p7nzB9gR7NW9",
        "outputId": "33ec02be-e98a-4d28-f0c9-3ba8e83acb6e"
      },
      "source": [
        "# url of the raw csv dataset\n",
        "urls = [\n",
        "    'https://raw.githubusercontent.com/CSSEGISandData/COVID-19/master/csse_covid_19_data/csse_covid_19_time_series/time_series_covid19_confirmed_global.csv',\n",
        "    'https://raw.githubusercontent.com/CSSEGISandData/COVID-19/master/csse_covid_19_data/csse_covid_19_time_series/time_series_covid19_deaths_global.csv',\n",
        "]\n",
        "[wget.download(url) for url in urls]"
      ],
      "execution_count": null,
      "outputs": [
        {
          "output_type": "execute_result",
          "data": {
            "text/plain": [
              "['time_series_covid19_confirmed_global.csv',\n",
              " 'time_series_covid19_deaths_global.csv']"
            ]
          },
          "metadata": {
            "tags": []
          },
          "execution_count": 60
        }
      ]
    },
    {
      "cell_type": "markdown",
      "metadata": {
        "id": "PP3L1pDzEdct"
      },
      "source": [
        "Let's read these into a dataframe:"
      ]
    },
    {
      "cell_type": "code",
      "metadata": {
        "id": "dBSA79Ld729m"
      },
      "source": [
        "confirmed_df = pd.read_csv('time_series_covid19_confirmed_global.csv')\n",
        "deaths_df = pd.read_csv('time_series_covid19_deaths_global.csv')"
      ],
      "execution_count": null,
      "outputs": []
    },
    {
      "cell_type": "code",
      "metadata": {
        "colab": {
          "base_uri": "https://localhost:8080/",
          "height": 244
        },
        "id": "W5nWla8o8DeG",
        "outputId": "0df36667-e8ad-4de1-c439-fdd2e6a5b0d5"
      },
      "source": [
        "confirmed_df.head()"
      ],
      "execution_count": null,
      "outputs": [
        {
          "output_type": "execute_result",
          "data": {
            "text/html": [
              "<div>\n",
              "<style scoped>\n",
              "    .dataframe tbody tr th:only-of-type {\n",
              "        vertical-align: middle;\n",
              "    }\n",
              "\n",
              "    .dataframe tbody tr th {\n",
              "        vertical-align: top;\n",
              "    }\n",
              "\n",
              "    .dataframe thead th {\n",
              "        text-align: right;\n",
              "    }\n",
              "</style>\n",
              "<table border=\"1\" class=\"dataframe\">\n",
              "  <thead>\n",
              "    <tr style=\"text-align: right;\">\n",
              "      <th></th>\n",
              "      <th>Province/State</th>\n",
              "      <th>Country/Region</th>\n",
              "      <th>Lat</th>\n",
              "      <th>Long</th>\n",
              "      <th>1/22/20</th>\n",
              "      <th>1/23/20</th>\n",
              "      <th>1/24/20</th>\n",
              "      <th>1/25/20</th>\n",
              "      <th>1/26/20</th>\n",
              "      <th>1/27/20</th>\n",
              "      <th>1/28/20</th>\n",
              "      <th>1/29/20</th>\n",
              "      <th>1/30/20</th>\n",
              "      <th>1/31/20</th>\n",
              "      <th>2/1/20</th>\n",
              "      <th>2/2/20</th>\n",
              "      <th>2/3/20</th>\n",
              "      <th>2/4/20</th>\n",
              "      <th>2/5/20</th>\n",
              "      <th>2/6/20</th>\n",
              "      <th>2/7/20</th>\n",
              "      <th>2/8/20</th>\n",
              "      <th>2/9/20</th>\n",
              "      <th>2/10/20</th>\n",
              "      <th>2/11/20</th>\n",
              "      <th>2/12/20</th>\n",
              "      <th>2/13/20</th>\n",
              "      <th>2/14/20</th>\n",
              "      <th>2/15/20</th>\n",
              "      <th>2/16/20</th>\n",
              "      <th>2/17/20</th>\n",
              "      <th>2/18/20</th>\n",
              "      <th>2/19/20</th>\n",
              "      <th>2/20/20</th>\n",
              "      <th>2/21/20</th>\n",
              "      <th>2/22/20</th>\n",
              "      <th>2/23/20</th>\n",
              "      <th>2/24/20</th>\n",
              "      <th>2/25/20</th>\n",
              "      <th>2/26/20</th>\n",
              "      <th>...</th>\n",
              "      <th>12/19/20</th>\n",
              "      <th>12/20/20</th>\n",
              "      <th>12/21/20</th>\n",
              "      <th>12/22/20</th>\n",
              "      <th>12/23/20</th>\n",
              "      <th>12/24/20</th>\n",
              "      <th>12/25/20</th>\n",
              "      <th>12/26/20</th>\n",
              "      <th>12/27/20</th>\n",
              "      <th>12/28/20</th>\n",
              "      <th>12/29/20</th>\n",
              "      <th>12/30/20</th>\n",
              "      <th>12/31/20</th>\n",
              "      <th>1/1/21</th>\n",
              "      <th>1/2/21</th>\n",
              "      <th>1/3/21</th>\n",
              "      <th>1/4/21</th>\n",
              "      <th>1/5/21</th>\n",
              "      <th>1/6/21</th>\n",
              "      <th>1/7/21</th>\n",
              "      <th>1/8/21</th>\n",
              "      <th>1/9/21</th>\n",
              "      <th>1/10/21</th>\n",
              "      <th>1/11/21</th>\n",
              "      <th>1/12/21</th>\n",
              "      <th>1/13/21</th>\n",
              "      <th>1/14/21</th>\n",
              "      <th>1/15/21</th>\n",
              "      <th>1/16/21</th>\n",
              "      <th>1/17/21</th>\n",
              "      <th>1/18/21</th>\n",
              "      <th>1/19/21</th>\n",
              "      <th>1/20/21</th>\n",
              "      <th>1/21/21</th>\n",
              "      <th>1/22/21</th>\n",
              "      <th>1/23/21</th>\n",
              "      <th>1/24/21</th>\n",
              "      <th>1/25/21</th>\n",
              "      <th>1/26/21</th>\n",
              "      <th>1/27/21</th>\n",
              "    </tr>\n",
              "  </thead>\n",
              "  <tbody>\n",
              "    <tr>\n",
              "      <th>0</th>\n",
              "      <td>NaN</td>\n",
              "      <td>Afghanistan</td>\n",
              "      <td>33.93911</td>\n",
              "      <td>67.709953</td>\n",
              "      <td>0</td>\n",
              "      <td>0</td>\n",
              "      <td>0</td>\n",
              "      <td>0</td>\n",
              "      <td>0</td>\n",
              "      <td>0</td>\n",
              "      <td>0</td>\n",
              "      <td>0</td>\n",
              "      <td>0</td>\n",
              "      <td>0</td>\n",
              "      <td>0</td>\n",
              "      <td>0</td>\n",
              "      <td>0</td>\n",
              "      <td>0</td>\n",
              "      <td>0</td>\n",
              "      <td>0</td>\n",
              "      <td>0</td>\n",
              "      <td>0</td>\n",
              "      <td>0</td>\n",
              "      <td>0</td>\n",
              "      <td>0</td>\n",
              "      <td>0</td>\n",
              "      <td>0</td>\n",
              "      <td>0</td>\n",
              "      <td>0</td>\n",
              "      <td>0</td>\n",
              "      <td>0</td>\n",
              "      <td>0</td>\n",
              "      <td>0</td>\n",
              "      <td>0</td>\n",
              "      <td>0</td>\n",
              "      <td>0</td>\n",
              "      <td>0</td>\n",
              "      <td>1</td>\n",
              "      <td>1</td>\n",
              "      <td>1</td>\n",
              "      <td>...</td>\n",
              "      <td>49681</td>\n",
              "      <td>49817</td>\n",
              "      <td>50013</td>\n",
              "      <td>50190</td>\n",
              "      <td>50433</td>\n",
              "      <td>50655</td>\n",
              "      <td>50810</td>\n",
              "      <td>50886</td>\n",
              "      <td>51039</td>\n",
              "      <td>51280</td>\n",
              "      <td>51350</td>\n",
              "      <td>51405</td>\n",
              "      <td>51526</td>\n",
              "      <td>51526</td>\n",
              "      <td>51526</td>\n",
              "      <td>51526</td>\n",
              "      <td>53011</td>\n",
              "      <td>53105</td>\n",
              "      <td>53105</td>\n",
              "      <td>53207</td>\n",
              "      <td>53332</td>\n",
              "      <td>53400</td>\n",
              "      <td>53489</td>\n",
              "      <td>53538</td>\n",
              "      <td>53584</td>\n",
              "      <td>53584</td>\n",
              "      <td>53775</td>\n",
              "      <td>53831</td>\n",
              "      <td>53938</td>\n",
              "      <td>53984</td>\n",
              "      <td>54062</td>\n",
              "      <td>54141</td>\n",
              "      <td>54278</td>\n",
              "      <td>54403</td>\n",
              "      <td>54483</td>\n",
              "      <td>54559</td>\n",
              "      <td>54595</td>\n",
              "      <td>54672</td>\n",
              "      <td>54750</td>\n",
              "      <td>54854</td>\n",
              "    </tr>\n",
              "    <tr>\n",
              "      <th>1</th>\n",
              "      <td>NaN</td>\n",
              "      <td>Albania</td>\n",
              "      <td>41.15330</td>\n",
              "      <td>20.168300</td>\n",
              "      <td>0</td>\n",
              "      <td>0</td>\n",
              "      <td>0</td>\n",
              "      <td>0</td>\n",
              "      <td>0</td>\n",
              "      <td>0</td>\n",
              "      <td>0</td>\n",
              "      <td>0</td>\n",
              "      <td>0</td>\n",
              "      <td>0</td>\n",
              "      <td>0</td>\n",
              "      <td>0</td>\n",
              "      <td>0</td>\n",
              "      <td>0</td>\n",
              "      <td>0</td>\n",
              "      <td>0</td>\n",
              "      <td>0</td>\n",
              "      <td>0</td>\n",
              "      <td>0</td>\n",
              "      <td>0</td>\n",
              "      <td>0</td>\n",
              "      <td>0</td>\n",
              "      <td>0</td>\n",
              "      <td>0</td>\n",
              "      <td>0</td>\n",
              "      <td>0</td>\n",
              "      <td>0</td>\n",
              "      <td>0</td>\n",
              "      <td>0</td>\n",
              "      <td>0</td>\n",
              "      <td>0</td>\n",
              "      <td>0</td>\n",
              "      <td>0</td>\n",
              "      <td>0</td>\n",
              "      <td>0</td>\n",
              "      <td>0</td>\n",
              "      <td>...</td>\n",
              "      <td>52542</td>\n",
              "      <td>53003</td>\n",
              "      <td>53425</td>\n",
              "      <td>53814</td>\n",
              "      <td>54317</td>\n",
              "      <td>54827</td>\n",
              "      <td>55380</td>\n",
              "      <td>55755</td>\n",
              "      <td>56254</td>\n",
              "      <td>56572</td>\n",
              "      <td>57146</td>\n",
              "      <td>57727</td>\n",
              "      <td>58316</td>\n",
              "      <td>58316</td>\n",
              "      <td>58991</td>\n",
              "      <td>59438</td>\n",
              "      <td>59623</td>\n",
              "      <td>60283</td>\n",
              "      <td>61008</td>\n",
              "      <td>61705</td>\n",
              "      <td>62378</td>\n",
              "      <td>63033</td>\n",
              "      <td>63595</td>\n",
              "      <td>63971</td>\n",
              "      <td>64627</td>\n",
              "      <td>65334</td>\n",
              "      <td>65994</td>\n",
              "      <td>66635</td>\n",
              "      <td>67216</td>\n",
              "      <td>67690</td>\n",
              "      <td>67982</td>\n",
              "      <td>68568</td>\n",
              "      <td>69238</td>\n",
              "      <td>69916</td>\n",
              "      <td>70655</td>\n",
              "      <td>71441</td>\n",
              "      <td>72274</td>\n",
              "      <td>72812</td>\n",
              "      <td>73691</td>\n",
              "      <td>74567</td>\n",
              "    </tr>\n",
              "    <tr>\n",
              "      <th>2</th>\n",
              "      <td>NaN</td>\n",
              "      <td>Algeria</td>\n",
              "      <td>28.03390</td>\n",
              "      <td>1.659600</td>\n",
              "      <td>0</td>\n",
              "      <td>0</td>\n",
              "      <td>0</td>\n",
              "      <td>0</td>\n",
              "      <td>0</td>\n",
              "      <td>0</td>\n",
              "      <td>0</td>\n",
              "      <td>0</td>\n",
              "      <td>0</td>\n",
              "      <td>0</td>\n",
              "      <td>0</td>\n",
              "      <td>0</td>\n",
              "      <td>0</td>\n",
              "      <td>0</td>\n",
              "      <td>0</td>\n",
              "      <td>0</td>\n",
              "      <td>0</td>\n",
              "      <td>0</td>\n",
              "      <td>0</td>\n",
              "      <td>0</td>\n",
              "      <td>0</td>\n",
              "      <td>0</td>\n",
              "      <td>0</td>\n",
              "      <td>0</td>\n",
              "      <td>0</td>\n",
              "      <td>0</td>\n",
              "      <td>0</td>\n",
              "      <td>0</td>\n",
              "      <td>0</td>\n",
              "      <td>0</td>\n",
              "      <td>0</td>\n",
              "      <td>0</td>\n",
              "      <td>0</td>\n",
              "      <td>0</td>\n",
              "      <td>1</td>\n",
              "      <td>1</td>\n",
              "      <td>...</td>\n",
              "      <td>94781</td>\n",
              "      <td>95203</td>\n",
              "      <td>95659</td>\n",
              "      <td>96069</td>\n",
              "      <td>96549</td>\n",
              "      <td>97007</td>\n",
              "      <td>97441</td>\n",
              "      <td>97857</td>\n",
              "      <td>98249</td>\n",
              "      <td>98631</td>\n",
              "      <td>98988</td>\n",
              "      <td>99311</td>\n",
              "      <td>99610</td>\n",
              "      <td>99897</td>\n",
              "      <td>100159</td>\n",
              "      <td>100408</td>\n",
              "      <td>100645</td>\n",
              "      <td>100873</td>\n",
              "      <td>101120</td>\n",
              "      <td>101382</td>\n",
              "      <td>101657</td>\n",
              "      <td>101913</td>\n",
              "      <td>102144</td>\n",
              "      <td>102369</td>\n",
              "      <td>102641</td>\n",
              "      <td>102860</td>\n",
              "      <td>103127</td>\n",
              "      <td>103381</td>\n",
              "      <td>103611</td>\n",
              "      <td>103833</td>\n",
              "      <td>104092</td>\n",
              "      <td>104341</td>\n",
              "      <td>104606</td>\n",
              "      <td>104852</td>\n",
              "      <td>105124</td>\n",
              "      <td>105369</td>\n",
              "      <td>105596</td>\n",
              "      <td>105854</td>\n",
              "      <td>106097</td>\n",
              "      <td>106359</td>\n",
              "    </tr>\n",
              "    <tr>\n",
              "      <th>3</th>\n",
              "      <td>NaN</td>\n",
              "      <td>Andorra</td>\n",
              "      <td>42.50630</td>\n",
              "      <td>1.521800</td>\n",
              "      <td>0</td>\n",
              "      <td>0</td>\n",
              "      <td>0</td>\n",
              "      <td>0</td>\n",
              "      <td>0</td>\n",
              "      <td>0</td>\n",
              "      <td>0</td>\n",
              "      <td>0</td>\n",
              "      <td>0</td>\n",
              "      <td>0</td>\n",
              "      <td>0</td>\n",
              "      <td>0</td>\n",
              "      <td>0</td>\n",
              "      <td>0</td>\n",
              "      <td>0</td>\n",
              "      <td>0</td>\n",
              "      <td>0</td>\n",
              "      <td>0</td>\n",
              "      <td>0</td>\n",
              "      <td>0</td>\n",
              "      <td>0</td>\n",
              "      <td>0</td>\n",
              "      <td>0</td>\n",
              "      <td>0</td>\n",
              "      <td>0</td>\n",
              "      <td>0</td>\n",
              "      <td>0</td>\n",
              "      <td>0</td>\n",
              "      <td>0</td>\n",
              "      <td>0</td>\n",
              "      <td>0</td>\n",
              "      <td>0</td>\n",
              "      <td>0</td>\n",
              "      <td>0</td>\n",
              "      <td>0</td>\n",
              "      <td>0</td>\n",
              "      <td>...</td>\n",
              "      <td>7560</td>\n",
              "      <td>7577</td>\n",
              "      <td>7602</td>\n",
              "      <td>7633</td>\n",
              "      <td>7669</td>\n",
              "      <td>7699</td>\n",
              "      <td>7756</td>\n",
              "      <td>7806</td>\n",
              "      <td>7821</td>\n",
              "      <td>7875</td>\n",
              "      <td>7919</td>\n",
              "      <td>7983</td>\n",
              "      <td>8049</td>\n",
              "      <td>8117</td>\n",
              "      <td>8166</td>\n",
              "      <td>8192</td>\n",
              "      <td>8249</td>\n",
              "      <td>8308</td>\n",
              "      <td>8348</td>\n",
              "      <td>8348</td>\n",
              "      <td>8489</td>\n",
              "      <td>8586</td>\n",
              "      <td>8586</td>\n",
              "      <td>8586</td>\n",
              "      <td>8682</td>\n",
              "      <td>8818</td>\n",
              "      <td>8868</td>\n",
              "      <td>8946</td>\n",
              "      <td>9038</td>\n",
              "      <td>9083</td>\n",
              "      <td>9083</td>\n",
              "      <td>9194</td>\n",
              "      <td>9308</td>\n",
              "      <td>9379</td>\n",
              "      <td>9416</td>\n",
              "      <td>9499</td>\n",
              "      <td>9549</td>\n",
              "      <td>9596</td>\n",
              "      <td>9638</td>\n",
              "      <td>9716</td>\n",
              "    </tr>\n",
              "    <tr>\n",
              "      <th>4</th>\n",
              "      <td>NaN</td>\n",
              "      <td>Angola</td>\n",
              "      <td>-11.20270</td>\n",
              "      <td>17.873900</td>\n",
              "      <td>0</td>\n",
              "      <td>0</td>\n",
              "      <td>0</td>\n",
              "      <td>0</td>\n",
              "      <td>0</td>\n",
              "      <td>0</td>\n",
              "      <td>0</td>\n",
              "      <td>0</td>\n",
              "      <td>0</td>\n",
              "      <td>0</td>\n",
              "      <td>0</td>\n",
              "      <td>0</td>\n",
              "      <td>0</td>\n",
              "      <td>0</td>\n",
              "      <td>0</td>\n",
              "      <td>0</td>\n",
              "      <td>0</td>\n",
              "      <td>0</td>\n",
              "      <td>0</td>\n",
              "      <td>0</td>\n",
              "      <td>0</td>\n",
              "      <td>0</td>\n",
              "      <td>0</td>\n",
              "      <td>0</td>\n",
              "      <td>0</td>\n",
              "      <td>0</td>\n",
              "      <td>0</td>\n",
              "      <td>0</td>\n",
              "      <td>0</td>\n",
              "      <td>0</td>\n",
              "      <td>0</td>\n",
              "      <td>0</td>\n",
              "      <td>0</td>\n",
              "      <td>0</td>\n",
              "      <td>0</td>\n",
              "      <td>0</td>\n",
              "      <td>...</td>\n",
              "      <td>16626</td>\n",
              "      <td>16644</td>\n",
              "      <td>16686</td>\n",
              "      <td>16802</td>\n",
              "      <td>16931</td>\n",
              "      <td>17029</td>\n",
              "      <td>17099</td>\n",
              "      <td>17149</td>\n",
              "      <td>17240</td>\n",
              "      <td>17296</td>\n",
              "      <td>17371</td>\n",
              "      <td>17433</td>\n",
              "      <td>17553</td>\n",
              "      <td>17568</td>\n",
              "      <td>17608</td>\n",
              "      <td>17642</td>\n",
              "      <td>17684</td>\n",
              "      <td>17756</td>\n",
              "      <td>17864</td>\n",
              "      <td>17974</td>\n",
              "      <td>18066</td>\n",
              "      <td>18156</td>\n",
              "      <td>18193</td>\n",
              "      <td>18254</td>\n",
              "      <td>18343</td>\n",
              "      <td>18425</td>\n",
              "      <td>18613</td>\n",
              "      <td>18679</td>\n",
              "      <td>18765</td>\n",
              "      <td>18875</td>\n",
              "      <td>18926</td>\n",
              "      <td>19011</td>\n",
              "      <td>19093</td>\n",
              "      <td>19177</td>\n",
              "      <td>19269</td>\n",
              "      <td>19367</td>\n",
              "      <td>19399</td>\n",
              "      <td>19476</td>\n",
              "      <td>19553</td>\n",
              "      <td>19580</td>\n",
              "    </tr>\n",
              "  </tbody>\n",
              "</table>\n",
              "<p>5 rows × 376 columns</p>\n",
              "</div>"
            ],
            "text/plain": [
              "  Province/State Country/Region       Lat  ...  1/25/21  1/26/21  1/27/21\n",
              "0            NaN    Afghanistan  33.93911  ...    54672    54750    54854\n",
              "1            NaN        Albania  41.15330  ...    72812    73691    74567\n",
              "2            NaN        Algeria  28.03390  ...   105854   106097   106359\n",
              "3            NaN        Andorra  42.50630  ...     9596     9638     9716\n",
              "4            NaN         Angola -11.20270  ...    19476    19553    19580\n",
              "\n",
              "[5 rows x 376 columns]"
            ]
          },
          "metadata": {
            "tags": []
          },
          "execution_count": 63
        }
      ]
    },
    {
      "cell_type": "markdown",
      "metadata": {
        "id": "YeRPxH6gEhXU"
      },
      "source": [
        "Let's take a quick look at the column headings:"
      ]
    },
    {
      "cell_type": "code",
      "metadata": {
        "colab": {
          "base_uri": "https://localhost:8080/"
        },
        "id": "M7T53ZX18X82",
        "outputId": "4c1c91a5-54c8-4ab8-c022-9b2d04783868"
      },
      "source": [
        "print(confirmed_df.columns)\n",
        "print(deaths_df.columns)"
      ],
      "execution_count": null,
      "outputs": [
        {
          "output_type": "stream",
          "text": [
            "Index(['Province/State', 'Country/Region', 'Lat', 'Long', '1/22/20', '1/23/20',\n",
            "       '1/24/20', '1/25/20', '1/26/20', '1/27/20',\n",
            "       ...\n",
            "       '1/18/21', '1/19/21', '1/20/21', '1/21/21', '1/22/21', '1/23/21',\n",
            "       '1/24/21', '1/25/21', '1/26/21', '1/27/21'],\n",
            "      dtype='object', length=376)\n",
            "Index(['Province/State', 'Country/Region', 'Lat', 'Long', '1/22/20', '1/23/20',\n",
            "       '1/24/20', '1/25/20', '1/26/20', '1/27/20',\n",
            "       ...\n",
            "       '1/18/21', '1/19/21', '1/20/21', '1/21/21', '1/22/21', '1/23/21',\n",
            "       '1/24/21', '1/25/21', '1/26/21', '1/27/21'],\n",
            "      dtype='object', length=376)\n"
          ],
          "name": "stdout"
        }
      ]
    },
    {
      "cell_type": "markdown",
      "metadata": {
        "id": "Zn-oHGXrElHs"
      },
      "source": [
        "Let's have a quick look at a summary of the columns:"
      ]
    },
    {
      "cell_type": "code",
      "metadata": {
        "colab": {
          "base_uri": "https://localhost:8080/",
          "height": 333
        },
        "id": "c3ArgArx8ovl",
        "outputId": "62c2210f-3a9d-4fea-8561-6670decc3842"
      },
      "source": [
        "confirmed_df.describe()"
      ],
      "execution_count": null,
      "outputs": [
        {
          "output_type": "execute_result",
          "data": {
            "text/html": [
              "<div>\n",
              "<style scoped>\n",
              "    .dataframe tbody tr th:only-of-type {\n",
              "        vertical-align: middle;\n",
              "    }\n",
              "\n",
              "    .dataframe tbody tr th {\n",
              "        vertical-align: top;\n",
              "    }\n",
              "\n",
              "    .dataframe thead th {\n",
              "        text-align: right;\n",
              "    }\n",
              "</style>\n",
              "<table border=\"1\" class=\"dataframe\">\n",
              "  <thead>\n",
              "    <tr style=\"text-align: right;\">\n",
              "      <th></th>\n",
              "      <th>Lat</th>\n",
              "      <th>Long</th>\n",
              "      <th>1/22/20</th>\n",
              "      <th>1/23/20</th>\n",
              "      <th>1/24/20</th>\n",
              "      <th>1/25/20</th>\n",
              "      <th>1/26/20</th>\n",
              "      <th>1/27/20</th>\n",
              "      <th>1/28/20</th>\n",
              "      <th>1/29/20</th>\n",
              "      <th>1/30/20</th>\n",
              "      <th>1/31/20</th>\n",
              "      <th>2/1/20</th>\n",
              "      <th>2/2/20</th>\n",
              "      <th>2/3/20</th>\n",
              "      <th>2/4/20</th>\n",
              "      <th>2/5/20</th>\n",
              "      <th>2/6/20</th>\n",
              "      <th>2/7/20</th>\n",
              "      <th>2/8/20</th>\n",
              "      <th>2/9/20</th>\n",
              "      <th>2/10/20</th>\n",
              "      <th>2/11/20</th>\n",
              "      <th>2/12/20</th>\n",
              "      <th>2/13/20</th>\n",
              "      <th>2/14/20</th>\n",
              "      <th>2/15/20</th>\n",
              "      <th>2/16/20</th>\n",
              "      <th>2/17/20</th>\n",
              "      <th>2/18/20</th>\n",
              "      <th>2/19/20</th>\n",
              "      <th>2/20/20</th>\n",
              "      <th>2/21/20</th>\n",
              "      <th>2/22/20</th>\n",
              "      <th>2/23/20</th>\n",
              "      <th>2/24/20</th>\n",
              "      <th>2/25/20</th>\n",
              "      <th>2/26/20</th>\n",
              "      <th>2/27/20</th>\n",
              "      <th>2/28/20</th>\n",
              "      <th>...</th>\n",
              "      <th>12/19/20</th>\n",
              "      <th>12/20/20</th>\n",
              "      <th>12/21/20</th>\n",
              "      <th>12/22/20</th>\n",
              "      <th>12/23/20</th>\n",
              "      <th>12/24/20</th>\n",
              "      <th>12/25/20</th>\n",
              "      <th>12/26/20</th>\n",
              "      <th>12/27/20</th>\n",
              "      <th>12/28/20</th>\n",
              "      <th>12/29/20</th>\n",
              "      <th>12/30/20</th>\n",
              "      <th>12/31/20</th>\n",
              "      <th>1/1/21</th>\n",
              "      <th>1/2/21</th>\n",
              "      <th>1/3/21</th>\n",
              "      <th>1/4/21</th>\n",
              "      <th>1/5/21</th>\n",
              "      <th>1/6/21</th>\n",
              "      <th>1/7/21</th>\n",
              "      <th>1/8/21</th>\n",
              "      <th>1/9/21</th>\n",
              "      <th>1/10/21</th>\n",
              "      <th>1/11/21</th>\n",
              "      <th>1/12/21</th>\n",
              "      <th>1/13/21</th>\n",
              "      <th>1/14/21</th>\n",
              "      <th>1/15/21</th>\n",
              "      <th>1/16/21</th>\n",
              "      <th>1/17/21</th>\n",
              "      <th>1/18/21</th>\n",
              "      <th>1/19/21</th>\n",
              "      <th>1/20/21</th>\n",
              "      <th>1/21/21</th>\n",
              "      <th>1/22/21</th>\n",
              "      <th>1/23/21</th>\n",
              "      <th>1/24/21</th>\n",
              "      <th>1/25/21</th>\n",
              "      <th>1/26/21</th>\n",
              "      <th>1/27/21</th>\n",
              "    </tr>\n",
              "  </thead>\n",
              "  <tbody>\n",
              "    <tr>\n",
              "      <th>count</th>\n",
              "      <td>272.000000</td>\n",
              "      <td>272.000000</td>\n",
              "      <td>273.000000</td>\n",
              "      <td>273.000000</td>\n",
              "      <td>273.000000</td>\n",
              "      <td>273.000000</td>\n",
              "      <td>273.000000</td>\n",
              "      <td>273.000000</td>\n",
              "      <td>273.000000</td>\n",
              "      <td>273.000000</td>\n",
              "      <td>273.000000</td>\n",
              "      <td>273.000000</td>\n",
              "      <td>273.000000</td>\n",
              "      <td>273.000000</td>\n",
              "      <td>273.000000</td>\n",
              "      <td>273.000000</td>\n",
              "      <td>273.000000</td>\n",
              "      <td>273.000000</td>\n",
              "      <td>273.000000</td>\n",
              "      <td>273.000000</td>\n",
              "      <td>273.000000</td>\n",
              "      <td>273.000000</td>\n",
              "      <td>273.000000</td>\n",
              "      <td>273.000000</td>\n",
              "      <td>273.000000</td>\n",
              "      <td>273.000000</td>\n",
              "      <td>273.000000</td>\n",
              "      <td>273.000000</td>\n",
              "      <td>273.000000</td>\n",
              "      <td>273.000000</td>\n",
              "      <td>273.000000</td>\n",
              "      <td>273.000000</td>\n",
              "      <td>273.000000</td>\n",
              "      <td>273.000000</td>\n",
              "      <td>273.000000</td>\n",
              "      <td>273.000000</td>\n",
              "      <td>273.000000</td>\n",
              "      <td>273.000000</td>\n",
              "      <td>273.000000</td>\n",
              "      <td>273.000000</td>\n",
              "      <td>...</td>\n",
              "      <td>2.730000e+02</td>\n",
              "      <td>2.730000e+02</td>\n",
              "      <td>2.730000e+02</td>\n",
              "      <td>2.730000e+02</td>\n",
              "      <td>2.730000e+02</td>\n",
              "      <td>2.730000e+02</td>\n",
              "      <td>2.730000e+02</td>\n",
              "      <td>2.730000e+02</td>\n",
              "      <td>2.730000e+02</td>\n",
              "      <td>2.730000e+02</td>\n",
              "      <td>2.730000e+02</td>\n",
              "      <td>2.730000e+02</td>\n",
              "      <td>2.730000e+02</td>\n",
              "      <td>2.730000e+02</td>\n",
              "      <td>2.730000e+02</td>\n",
              "      <td>2.730000e+02</td>\n",
              "      <td>2.730000e+02</td>\n",
              "      <td>2.730000e+02</td>\n",
              "      <td>2.730000e+02</td>\n",
              "      <td>2.730000e+02</td>\n",
              "      <td>2.730000e+02</td>\n",
              "      <td>2.730000e+02</td>\n",
              "      <td>2.730000e+02</td>\n",
              "      <td>2.730000e+02</td>\n",
              "      <td>2.730000e+02</td>\n",
              "      <td>2.730000e+02</td>\n",
              "      <td>2.730000e+02</td>\n",
              "      <td>2.730000e+02</td>\n",
              "      <td>2.730000e+02</td>\n",
              "      <td>2.730000e+02</td>\n",
              "      <td>2.730000e+02</td>\n",
              "      <td>2.730000e+02</td>\n",
              "      <td>2.730000e+02</td>\n",
              "      <td>2.730000e+02</td>\n",
              "      <td>2.730000e+02</td>\n",
              "      <td>2.730000e+02</td>\n",
              "      <td>2.730000e+02</td>\n",
              "      <td>2.730000e+02</td>\n",
              "      <td>2.730000e+02</td>\n",
              "      <td>2.730000e+02</td>\n",
              "    </tr>\n",
              "    <tr>\n",
              "      <th>mean</th>\n",
              "      <td>20.639516</td>\n",
              "      <td>23.165585</td>\n",
              "      <td>2.040293</td>\n",
              "      <td>2.399267</td>\n",
              "      <td>3.446886</td>\n",
              "      <td>5.249084</td>\n",
              "      <td>7.758242</td>\n",
              "      <td>10.721612</td>\n",
              "      <td>20.432234</td>\n",
              "      <td>22.589744</td>\n",
              "      <td>30.164835</td>\n",
              "      <td>36.362637</td>\n",
              "      <td>44.095238</td>\n",
              "      <td>61.490842</td>\n",
              "      <td>72.846154</td>\n",
              "      <td>87.538462</td>\n",
              "      <td>101.256410</td>\n",
              "      <td>112.831502</td>\n",
              "      <td>125.992674</td>\n",
              "      <td>136.007326</td>\n",
              "      <td>147.106227</td>\n",
              "      <td>156.663004</td>\n",
              "      <td>164.142857</td>\n",
              "      <td>165.673993</td>\n",
              "      <td>221.179487</td>\n",
              "      <td>245.087912</td>\n",
              "      <td>252.937729</td>\n",
              "      <td>260.934066</td>\n",
              "      <td>268.388278</td>\n",
              "      <td>275.282051</td>\n",
              "      <td>277.113553</td>\n",
              "      <td>279.164835</td>\n",
              "      <td>281.468864</td>\n",
              "      <td>287.919414</td>\n",
              "      <td>289.311355</td>\n",
              "      <td>291.377289</td>\n",
              "      <td>294.501832</td>\n",
              "      <td>298.080586</td>\n",
              "      <td>303.062271</td>\n",
              "      <td>308.142857</td>\n",
              "      <td>...</td>\n",
              "      <td>2.797483e+05</td>\n",
              "      <td>2.817014e+05</td>\n",
              "      <td>2.837119e+05</td>\n",
              "      <td>2.860893e+05</td>\n",
              "      <td>2.886311e+05</td>\n",
              "      <td>2.910706e+05</td>\n",
              "      <td>2.927716e+05</td>\n",
              "      <td>2.946512e+05</td>\n",
              "      <td>2.962564e+05</td>\n",
              "      <td>2.980747e+05</td>\n",
              "      <td>3.005017e+05</td>\n",
              "      <td>3.032848e+05</td>\n",
              "      <td>3.059327e+05</td>\n",
              "      <td>3.078789e+05</td>\n",
              "      <td>3.101720e+05</td>\n",
              "      <td>3.121260e+05</td>\n",
              "      <td>3.141538e+05</td>\n",
              "      <td>3.168586e+05</td>\n",
              "      <td>3.197212e+05</td>\n",
              "      <td>3.228640e+05</td>\n",
              "      <td>3.258731e+05</td>\n",
              "      <td>3.286649e+05</td>\n",
              "      <td>3.308230e+05</td>\n",
              "      <td>3.330888e+05</td>\n",
              "      <td>3.356714e+05</td>\n",
              "      <td>3.384095e+05</td>\n",
              "      <td>3.411741e+05</td>\n",
              "      <td>3.439768e+05</td>\n",
              "      <td>3.462380e+05</td>\n",
              "      <td>3.482500e+05</td>\n",
              "      <td>3.501349e+05</td>\n",
              "      <td>3.523628e+05</td>\n",
              "      <td>3.549052e+05</td>\n",
              "      <td>3.573107e+05</td>\n",
              "      <td>3.597221e+05</td>\n",
              "      <td>3.618004e+05</td>\n",
              "      <td>3.634339e+05</td>\n",
              "      <td>3.652974e+05</td>\n",
              "      <td>3.673134e+05</td>\n",
              "      <td>3.694726e+05</td>\n",
              "    </tr>\n",
              "    <tr>\n",
              "      <th>std</th>\n",
              "      <td>25.181450</td>\n",
              "      <td>73.696719</td>\n",
              "      <td>26.928183</td>\n",
              "      <td>27.026232</td>\n",
              "      <td>33.646272</td>\n",
              "      <td>46.828263</td>\n",
              "      <td>65.442780</td>\n",
              "      <td>88.174227</td>\n",
              "      <td>216.374412</td>\n",
              "      <td>217.699503</td>\n",
              "      <td>300.001701</td>\n",
              "      <td>355.680061</td>\n",
              "      <td>437.683212</td>\n",
              "      <td>680.184951</td>\n",
              "      <td>822.250641</td>\n",
              "      <td>1013.386311</td>\n",
              "      <td>1194.199877</td>\n",
              "      <td>1342.439727</td>\n",
              "      <td>1514.391693</td>\n",
              "      <td>1644.405187</td>\n",
              "      <td>1797.481036</td>\n",
              "      <td>1924.323293</td>\n",
              "      <td>2023.436842</td>\n",
              "      <td>2023.775677</td>\n",
              "      <td>2919.944492</td>\n",
              "      <td>3294.720787</td>\n",
              "      <td>3406.217613</td>\n",
              "      <td>3523.133043</td>\n",
              "      <td>3632.411763</td>\n",
              "      <td>3734.796674</td>\n",
              "      <td>3755.931200</td>\n",
              "      <td>3780.771608</td>\n",
              "      <td>3794.149139</td>\n",
              "      <td>3880.108063</td>\n",
              "      <td>3880.148205</td>\n",
              "      <td>3892.498923</td>\n",
              "      <td>3922.720488</td>\n",
              "      <td>3947.162843</td>\n",
              "      <td>3972.463824</td>\n",
              "      <td>3992.676119</td>\n",
              "      <td>...</td>\n",
              "      <td>1.348405e+06</td>\n",
              "      <td>1.359262e+06</td>\n",
              "      <td>1.370565e+06</td>\n",
              "      <td>1.382623e+06</td>\n",
              "      <td>1.396127e+06</td>\n",
              "      <td>1.408140e+06</td>\n",
              "      <td>1.414705e+06</td>\n",
              "      <td>1.427149e+06</td>\n",
              "      <td>1.436216e+06</td>\n",
              "      <td>1.446264e+06</td>\n",
              "      <td>1.458494e+06</td>\n",
              "      <td>1.472571e+06</td>\n",
              "      <td>1.486198e+06</td>\n",
              "      <td>1.495536e+06</td>\n",
              "      <td>1.512272e+06</td>\n",
              "      <td>1.524066e+06</td>\n",
              "      <td>1.534814e+06</td>\n",
              "      <td>1.548939e+06</td>\n",
              "      <td>1.564296e+06</td>\n",
              "      <td>1.581217e+06</td>\n",
              "      <td>1.598015e+06</td>\n",
              "      <td>1.614110e+06</td>\n",
              "      <td>1.626559e+06</td>\n",
              "      <td>1.639037e+06</td>\n",
              "      <td>1.652922e+06</td>\n",
              "      <td>1.667095e+06</td>\n",
              "      <td>1.681620e+06</td>\n",
              "      <td>1.696508e+06</td>\n",
              "      <td>1.708868e+06</td>\n",
              "      <td>1.719632e+06</td>\n",
              "      <td>1.728483e+06</td>\n",
              "      <td>1.739779e+06</td>\n",
              "      <td>1.751641e+06</td>\n",
              "      <td>1.763820e+06</td>\n",
              "      <td>1.775856e+06</td>\n",
              "      <td>1.786727e+06</td>\n",
              "      <td>1.794873e+06</td>\n",
              "      <td>1.804149e+06</td>\n",
              "      <td>1.813808e+06</td>\n",
              "      <td>1.823894e+06</td>\n",
              "    </tr>\n",
              "    <tr>\n",
              "      <th>min</th>\n",
              "      <td>-51.796300</td>\n",
              "      <td>-178.116500</td>\n",
              "      <td>0.000000</td>\n",
              "      <td>0.000000</td>\n",
              "      <td>0.000000</td>\n",
              "      <td>0.000000</td>\n",
              "      <td>0.000000</td>\n",
              "      <td>0.000000</td>\n",
              "      <td>0.000000</td>\n",
              "      <td>0.000000</td>\n",
              "      <td>0.000000</td>\n",
              "      <td>0.000000</td>\n",
              "      <td>0.000000</td>\n",
              "      <td>0.000000</td>\n",
              "      <td>0.000000</td>\n",
              "      <td>0.000000</td>\n",
              "      <td>0.000000</td>\n",
              "      <td>0.000000</td>\n",
              "      <td>0.000000</td>\n",
              "      <td>0.000000</td>\n",
              "      <td>0.000000</td>\n",
              "      <td>0.000000</td>\n",
              "      <td>0.000000</td>\n",
              "      <td>0.000000</td>\n",
              "      <td>0.000000</td>\n",
              "      <td>0.000000</td>\n",
              "      <td>0.000000</td>\n",
              "      <td>0.000000</td>\n",
              "      <td>0.000000</td>\n",
              "      <td>0.000000</td>\n",
              "      <td>0.000000</td>\n",
              "      <td>0.000000</td>\n",
              "      <td>0.000000</td>\n",
              "      <td>0.000000</td>\n",
              "      <td>0.000000</td>\n",
              "      <td>0.000000</td>\n",
              "      <td>0.000000</td>\n",
              "      <td>0.000000</td>\n",
              "      <td>0.000000</td>\n",
              "      <td>0.000000</td>\n",
              "      <td>...</td>\n",
              "      <td>0.000000e+00</td>\n",
              "      <td>0.000000e+00</td>\n",
              "      <td>0.000000e+00</td>\n",
              "      <td>0.000000e+00</td>\n",
              "      <td>0.000000e+00</td>\n",
              "      <td>0.000000e+00</td>\n",
              "      <td>0.000000e+00</td>\n",
              "      <td>0.000000e+00</td>\n",
              "      <td>0.000000e+00</td>\n",
              "      <td>0.000000e+00</td>\n",
              "      <td>0.000000e+00</td>\n",
              "      <td>0.000000e+00</td>\n",
              "      <td>0.000000e+00</td>\n",
              "      <td>0.000000e+00</td>\n",
              "      <td>0.000000e+00</td>\n",
              "      <td>0.000000e+00</td>\n",
              "      <td>0.000000e+00</td>\n",
              "      <td>0.000000e+00</td>\n",
              "      <td>0.000000e+00</td>\n",
              "      <td>0.000000e+00</td>\n",
              "      <td>0.000000e+00</td>\n",
              "      <td>0.000000e+00</td>\n",
              "      <td>0.000000e+00</td>\n",
              "      <td>0.000000e+00</td>\n",
              "      <td>0.000000e+00</td>\n",
              "      <td>0.000000e+00</td>\n",
              "      <td>0.000000e+00</td>\n",
              "      <td>0.000000e+00</td>\n",
              "      <td>0.000000e+00</td>\n",
              "      <td>0.000000e+00</td>\n",
              "      <td>0.000000e+00</td>\n",
              "      <td>0.000000e+00</td>\n",
              "      <td>0.000000e+00</td>\n",
              "      <td>0.000000e+00</td>\n",
              "      <td>0.000000e+00</td>\n",
              "      <td>0.000000e+00</td>\n",
              "      <td>0.000000e+00</td>\n",
              "      <td>0.000000e+00</td>\n",
              "      <td>0.000000e+00</td>\n",
              "      <td>0.000000e+00</td>\n",
              "    </tr>\n",
              "    <tr>\n",
              "      <th>25%</th>\n",
              "      <td>6.105887</td>\n",
              "      <td>-20.026050</td>\n",
              "      <td>0.000000</td>\n",
              "      <td>0.000000</td>\n",
              "      <td>0.000000</td>\n",
              "      <td>0.000000</td>\n",
              "      <td>0.000000</td>\n",
              "      <td>0.000000</td>\n",
              "      <td>0.000000</td>\n",
              "      <td>0.000000</td>\n",
              "      <td>0.000000</td>\n",
              "      <td>0.000000</td>\n",
              "      <td>0.000000</td>\n",
              "      <td>0.000000</td>\n",
              "      <td>0.000000</td>\n",
              "      <td>0.000000</td>\n",
              "      <td>0.000000</td>\n",
              "      <td>0.000000</td>\n",
              "      <td>0.000000</td>\n",
              "      <td>0.000000</td>\n",
              "      <td>0.000000</td>\n",
              "      <td>0.000000</td>\n",
              "      <td>0.000000</td>\n",
              "      <td>0.000000</td>\n",
              "      <td>0.000000</td>\n",
              "      <td>0.000000</td>\n",
              "      <td>0.000000</td>\n",
              "      <td>0.000000</td>\n",
              "      <td>0.000000</td>\n",
              "      <td>0.000000</td>\n",
              "      <td>0.000000</td>\n",
              "      <td>0.000000</td>\n",
              "      <td>0.000000</td>\n",
              "      <td>0.000000</td>\n",
              "      <td>0.000000</td>\n",
              "      <td>0.000000</td>\n",
              "      <td>0.000000</td>\n",
              "      <td>0.000000</td>\n",
              "      <td>0.000000</td>\n",
              "      <td>0.000000</td>\n",
              "      <td>...</td>\n",
              "      <td>6.430000e+02</td>\n",
              "      <td>6.660000e+02</td>\n",
              "      <td>6.660000e+02</td>\n",
              "      <td>6.840000e+02</td>\n",
              "      <td>6.840000e+02</td>\n",
              "      <td>6.840000e+02</td>\n",
              "      <td>6.840000e+02</td>\n",
              "      <td>6.840000e+02</td>\n",
              "      <td>6.840000e+02</td>\n",
              "      <td>6.840000e+02</td>\n",
              "      <td>6.840000e+02</td>\n",
              "      <td>6.840000e+02</td>\n",
              "      <td>6.840000e+02</td>\n",
              "      <td>6.890000e+02</td>\n",
              "      <td>7.100000e+02</td>\n",
              "      <td>7.120000e+02</td>\n",
              "      <td>7.120000e+02</td>\n",
              "      <td>7.120000e+02</td>\n",
              "      <td>7.430000e+02</td>\n",
              "      <td>7.430000e+02</td>\n",
              "      <td>7.710000e+02</td>\n",
              "      <td>8.080000e+02</td>\n",
              "      <td>8.110000e+02</td>\n",
              "      <td>8.190000e+02</td>\n",
              "      <td>8.230000e+02</td>\n",
              "      <td>8.360000e+02</td>\n",
              "      <td>8.420000e+02</td>\n",
              "      <td>8.430000e+02</td>\n",
              "      <td>8.510000e+02</td>\n",
              "      <td>8.550000e+02</td>\n",
              "      <td>8.620000e+02</td>\n",
              "      <td>8.650000e+02</td>\n",
              "      <td>8.650000e+02</td>\n",
              "      <td>8.650000e+02</td>\n",
              "      <td>8.660000e+02</td>\n",
              "      <td>8.660000e+02</td>\n",
              "      <td>8.660000e+02</td>\n",
              "      <td>8.860000e+02</td>\n",
              "      <td>8.900000e+02</td>\n",
              "      <td>8.930000e+02</td>\n",
              "    </tr>\n",
              "    <tr>\n",
              "      <th>50%</th>\n",
              "      <td>21.805100</td>\n",
              "      <td>20.972650</td>\n",
              "      <td>0.000000</td>\n",
              "      <td>0.000000</td>\n",
              "      <td>0.000000</td>\n",
              "      <td>0.000000</td>\n",
              "      <td>0.000000</td>\n",
              "      <td>0.000000</td>\n",
              "      <td>0.000000</td>\n",
              "      <td>0.000000</td>\n",
              "      <td>0.000000</td>\n",
              "      <td>0.000000</td>\n",
              "      <td>0.000000</td>\n",
              "      <td>0.000000</td>\n",
              "      <td>0.000000</td>\n",
              "      <td>0.000000</td>\n",
              "      <td>0.000000</td>\n",
              "      <td>0.000000</td>\n",
              "      <td>0.000000</td>\n",
              "      <td>0.000000</td>\n",
              "      <td>0.000000</td>\n",
              "      <td>0.000000</td>\n",
              "      <td>0.000000</td>\n",
              "      <td>0.000000</td>\n",
              "      <td>0.000000</td>\n",
              "      <td>0.000000</td>\n",
              "      <td>0.000000</td>\n",
              "      <td>0.000000</td>\n",
              "      <td>0.000000</td>\n",
              "      <td>0.000000</td>\n",
              "      <td>0.000000</td>\n",
              "      <td>0.000000</td>\n",
              "      <td>0.000000</td>\n",
              "      <td>0.000000</td>\n",
              "      <td>0.000000</td>\n",
              "      <td>0.000000</td>\n",
              "      <td>0.000000</td>\n",
              "      <td>0.000000</td>\n",
              "      <td>0.000000</td>\n",
              "      <td>0.000000</td>\n",
              "      <td>...</td>\n",
              "      <td>8.078000e+03</td>\n",
              "      <td>8.152000e+03</td>\n",
              "      <td>8.237000e+03</td>\n",
              "      <td>8.300000e+03</td>\n",
              "      <td>8.353000e+03</td>\n",
              "      <td>8.424000e+03</td>\n",
              "      <td>8.481000e+03</td>\n",
              "      <td>8.540000e+03</td>\n",
              "      <td>8.610000e+03</td>\n",
              "      <td>8.671000e+03</td>\n",
              "      <td>8.724000e+03</td>\n",
              "      <td>8.778000e+03</td>\n",
              "      <td>8.846000e+03</td>\n",
              "      <td>8.888000e+03</td>\n",
              "      <td>8.923000e+03</td>\n",
              "      <td>8.964000e+03</td>\n",
              "      <td>9.017000e+03</td>\n",
              "      <td>9.118000e+03</td>\n",
              "      <td>9.118000e+03</td>\n",
              "      <td>9.225000e+03</td>\n",
              "      <td>9.368000e+03</td>\n",
              "      <td>9.461000e+03</td>\n",
              "      <td>9.630000e+03</td>\n",
              "      <td>9.740000e+03</td>\n",
              "      <td>9.740000e+03</td>\n",
              "      <td>9.819000e+03</td>\n",
              "      <td>9.991000e+03</td>\n",
              "      <td>1.056900e+04</td>\n",
              "      <td>1.063500e+04</td>\n",
              "      <td>1.078100e+04</td>\n",
              "      <td>1.078100e+04</td>\n",
              "      <td>1.085200e+04</td>\n",
              "      <td>1.090700e+04</td>\n",
              "      <td>1.096300e+04</td>\n",
              "      <td>1.096300e+04</td>\n",
              "      <td>1.103500e+04</td>\n",
              "      <td>1.109900e+04</td>\n",
              "      <td>1.109900e+04</td>\n",
              "      <td>1.128600e+04</td>\n",
              "      <td>1.128600e+04</td>\n",
              "    </tr>\n",
              "    <tr>\n",
              "      <th>75%</th>\n",
              "      <td>41.123000</td>\n",
              "      <td>84.497525</td>\n",
              "      <td>0.000000</td>\n",
              "      <td>0.000000</td>\n",
              "      <td>0.000000</td>\n",
              "      <td>0.000000</td>\n",
              "      <td>0.000000</td>\n",
              "      <td>0.000000</td>\n",
              "      <td>0.000000</td>\n",
              "      <td>0.000000</td>\n",
              "      <td>0.000000</td>\n",
              "      <td>0.000000</td>\n",
              "      <td>0.000000</td>\n",
              "      <td>0.000000</td>\n",
              "      <td>0.000000</td>\n",
              "      <td>0.000000</td>\n",
              "      <td>0.000000</td>\n",
              "      <td>0.000000</td>\n",
              "      <td>0.000000</td>\n",
              "      <td>0.000000</td>\n",
              "      <td>0.000000</td>\n",
              "      <td>0.000000</td>\n",
              "      <td>0.000000</td>\n",
              "      <td>0.000000</td>\n",
              "      <td>0.000000</td>\n",
              "      <td>0.000000</td>\n",
              "      <td>0.000000</td>\n",
              "      <td>0.000000</td>\n",
              "      <td>0.000000</td>\n",
              "      <td>0.000000</td>\n",
              "      <td>0.000000</td>\n",
              "      <td>0.000000</td>\n",
              "      <td>0.000000</td>\n",
              "      <td>0.000000</td>\n",
              "      <td>0.000000</td>\n",
              "      <td>1.000000</td>\n",
              "      <td>1.000000</td>\n",
              "      <td>2.000000</td>\n",
              "      <td>2.000000</td>\n",
              "      <td>2.000000</td>\n",
              "      <td>...</td>\n",
              "      <td>1.162120e+05</td>\n",
              "      <td>1.170220e+05</td>\n",
              "      <td>1.171900e+05</td>\n",
              "      <td>1.179460e+05</td>\n",
              "      <td>1.200940e+05</td>\n",
              "      <td>1.213990e+05</td>\n",
              "      <td>1.218800e+05</td>\n",
              "      <td>1.224130e+05</td>\n",
              "      <td>1.228640e+05</td>\n",
              "      <td>1.231450e+05</td>\n",
              "      <td>1.233880e+05</td>\n",
              "      <td>1.238560e+05</td>\n",
              "      <td>1.246300e+05</td>\n",
              "      <td>1.250420e+05</td>\n",
              "      <td>1.256160e+05</td>\n",
              "      <td>1.263450e+05</td>\n",
              "      <td>1.269350e+05</td>\n",
              "      <td>1.283700e+05</td>\n",
              "      <td>1.298880e+05</td>\n",
              "      <td>1.300700e+05</td>\n",
              "      <td>1.358840e+05</td>\n",
              "      <td>1.385180e+05</td>\n",
              "      <td>1.392810e+05</td>\n",
              "      <td>1.397130e+05</td>\n",
              "      <td>1.415870e+05</td>\n",
              "      <td>1.445180e+05</td>\n",
              "      <td>1.466890e+05</td>\n",
              "      <td>1.470160e+05</td>\n",
              "      <td>1.483700e+05</td>\n",
              "      <td>1.486070e+05</td>\n",
              "      <td>1.489250e+05</td>\n",
              "      <td>1.494620e+05</td>\n",
              "      <td>1.499730e+05</td>\n",
              "      <td>1.504790e+05</td>\n",
              "      <td>1.510410e+05</td>\n",
              "      <td>1.516460e+05</td>\n",
              "      <td>1.519800e+05</td>\n",
              "      <td>1.524120e+05</td>\n",
              "      <td>1.532260e+05</td>\n",
              "      <td>1.540830e+05</td>\n",
              "    </tr>\n",
              "    <tr>\n",
              "      <th>max</th>\n",
              "      <td>71.706900</td>\n",
              "      <td>178.065000</td>\n",
              "      <td>444.000000</td>\n",
              "      <td>444.000000</td>\n",
              "      <td>549.000000</td>\n",
              "      <td>761.000000</td>\n",
              "      <td>1058.000000</td>\n",
              "      <td>1423.000000</td>\n",
              "      <td>3554.000000</td>\n",
              "      <td>3554.000000</td>\n",
              "      <td>4903.000000</td>\n",
              "      <td>5806.000000</td>\n",
              "      <td>7153.000000</td>\n",
              "      <td>11177.000000</td>\n",
              "      <td>13522.000000</td>\n",
              "      <td>16678.000000</td>\n",
              "      <td>19665.000000</td>\n",
              "      <td>22112.000000</td>\n",
              "      <td>24953.000000</td>\n",
              "      <td>27100.000000</td>\n",
              "      <td>29631.000000</td>\n",
              "      <td>31728.000000</td>\n",
              "      <td>33366.000000</td>\n",
              "      <td>33366.000000</td>\n",
              "      <td>48206.000000</td>\n",
              "      <td>54406.000000</td>\n",
              "      <td>56249.000000</td>\n",
              "      <td>58182.000000</td>\n",
              "      <td>59989.000000</td>\n",
              "      <td>61682.000000</td>\n",
              "      <td>62031.000000</td>\n",
              "      <td>62442.000000</td>\n",
              "      <td>62662.000000</td>\n",
              "      <td>64084.000000</td>\n",
              "      <td>64084.000000</td>\n",
              "      <td>64287.000000</td>\n",
              "      <td>64786.000000</td>\n",
              "      <td>65187.000000</td>\n",
              "      <td>65596.000000</td>\n",
              "      <td>65914.000000</td>\n",
              "      <td>...</td>\n",
              "      <td>1.773748e+07</td>\n",
              "      <td>1.792503e+07</td>\n",
              "      <td>1.812364e+07</td>\n",
              "      <td>1.832088e+07</td>\n",
              "      <td>1.854964e+07</td>\n",
              "      <td>1.874280e+07</td>\n",
              "      <td>1.883953e+07</td>\n",
              "      <td>1.906638e+07</td>\n",
              "      <td>1.922206e+07</td>\n",
              "      <td>1.939624e+07</td>\n",
              "      <td>1.959512e+07</td>\n",
              "      <td>1.982713e+07</td>\n",
              "      <td>2.006105e+07</td>\n",
              "      <td>2.021339e+07</td>\n",
              "      <td>2.051368e+07</td>\n",
              "      <td>2.072223e+07</td>\n",
              "      <td>2.090602e+07</td>\n",
              "      <td>2.113955e+07</td>\n",
              "      <td>2.139346e+07</td>\n",
              "      <td>2.167020e+07</td>\n",
              "      <td>2.196225e+07</td>\n",
              "      <td>2.222422e+07</td>\n",
              "      <td>2.243750e+07</td>\n",
              "      <td>2.265146e+07</td>\n",
              "      <td>2.287770e+07</td>\n",
              "      <td>2.310757e+07</td>\n",
              "      <td>2.334255e+07</td>\n",
              "      <td>2.358326e+07</td>\n",
              "      <td>2.378402e+07</td>\n",
              "      <td>2.396142e+07</td>\n",
              "      <td>2.410403e+07</td>\n",
              "      <td>2.428101e+07</td>\n",
              "      <td>2.446359e+07</td>\n",
              "      <td>2.465665e+07</td>\n",
              "      <td>2.484668e+07</td>\n",
              "      <td>2.501682e+07</td>\n",
              "      <td>2.514789e+07</td>\n",
              "      <td>2.529899e+07</td>\n",
              "      <td>2.544558e+07</td>\n",
              "      <td>2.559806e+07</td>\n",
              "    </tr>\n",
              "  </tbody>\n",
              "</table>\n",
              "<p>8 rows × 374 columns</p>\n",
              "</div>"
            ],
            "text/plain": [
              "              Lat        Long  ...       1/26/21       1/27/21\n",
              "count  272.000000  272.000000  ...  2.730000e+02  2.730000e+02\n",
              "mean    20.639516   23.165585  ...  3.673134e+05  3.694726e+05\n",
              "std     25.181450   73.696719  ...  1.813808e+06  1.823894e+06\n",
              "min    -51.796300 -178.116500  ...  0.000000e+00  0.000000e+00\n",
              "25%      6.105887  -20.026050  ...  8.900000e+02  8.930000e+02\n",
              "50%     21.805100   20.972650  ...  1.128600e+04  1.128600e+04\n",
              "75%     41.123000   84.497525  ...  1.532260e+05  1.540830e+05\n",
              "max     71.706900  178.065000  ...  2.544558e+07  2.559806e+07\n",
              "\n",
              "[8 rows x 374 columns]"
            ]
          },
          "metadata": {
            "tags": []
          },
          "execution_count": 65
        }
      ]
    },
    {
      "cell_type": "code",
      "metadata": {
        "colab": {
          "base_uri": "https://localhost:8080/",
          "height": 333
        },
        "id": "rvtQbXxu-SEa",
        "outputId": "fdc39102-ef11-4439-8fe0-90552fdfeb24"
      },
      "source": [
        "deaths_df.describe()"
      ],
      "execution_count": null,
      "outputs": [
        {
          "output_type": "execute_result",
          "data": {
            "text/html": [
              "<div>\n",
              "<style scoped>\n",
              "    .dataframe tbody tr th:only-of-type {\n",
              "        vertical-align: middle;\n",
              "    }\n",
              "\n",
              "    .dataframe tbody tr th {\n",
              "        vertical-align: top;\n",
              "    }\n",
              "\n",
              "    .dataframe thead th {\n",
              "        text-align: right;\n",
              "    }\n",
              "</style>\n",
              "<table border=\"1\" class=\"dataframe\">\n",
              "  <thead>\n",
              "    <tr style=\"text-align: right;\">\n",
              "      <th></th>\n",
              "      <th>Lat</th>\n",
              "      <th>Long</th>\n",
              "      <th>1/22/20</th>\n",
              "      <th>1/23/20</th>\n",
              "      <th>1/24/20</th>\n",
              "      <th>1/25/20</th>\n",
              "      <th>1/26/20</th>\n",
              "      <th>1/27/20</th>\n",
              "      <th>1/28/20</th>\n",
              "      <th>1/29/20</th>\n",
              "      <th>1/30/20</th>\n",
              "      <th>1/31/20</th>\n",
              "      <th>2/1/20</th>\n",
              "      <th>2/2/20</th>\n",
              "      <th>2/3/20</th>\n",
              "      <th>2/4/20</th>\n",
              "      <th>2/5/20</th>\n",
              "      <th>2/6/20</th>\n",
              "      <th>2/7/20</th>\n",
              "      <th>2/8/20</th>\n",
              "      <th>2/9/20</th>\n",
              "      <th>2/10/20</th>\n",
              "      <th>2/11/20</th>\n",
              "      <th>2/12/20</th>\n",
              "      <th>2/13/20</th>\n",
              "      <th>2/14/20</th>\n",
              "      <th>2/15/20</th>\n",
              "      <th>2/16/20</th>\n",
              "      <th>2/17/20</th>\n",
              "      <th>2/18/20</th>\n",
              "      <th>2/19/20</th>\n",
              "      <th>2/20/20</th>\n",
              "      <th>2/21/20</th>\n",
              "      <th>2/22/20</th>\n",
              "      <th>2/23/20</th>\n",
              "      <th>2/24/20</th>\n",
              "      <th>2/25/20</th>\n",
              "      <th>2/26/20</th>\n",
              "      <th>2/27/20</th>\n",
              "      <th>2/28/20</th>\n",
              "      <th>...</th>\n",
              "      <th>12/19/20</th>\n",
              "      <th>12/20/20</th>\n",
              "      <th>12/21/20</th>\n",
              "      <th>12/22/20</th>\n",
              "      <th>12/23/20</th>\n",
              "      <th>12/24/20</th>\n",
              "      <th>12/25/20</th>\n",
              "      <th>12/26/20</th>\n",
              "      <th>12/27/20</th>\n",
              "      <th>12/28/20</th>\n",
              "      <th>12/29/20</th>\n",
              "      <th>12/30/20</th>\n",
              "      <th>12/31/20</th>\n",
              "      <th>1/1/21</th>\n",
              "      <th>1/2/21</th>\n",
              "      <th>1/3/21</th>\n",
              "      <th>1/4/21</th>\n",
              "      <th>1/5/21</th>\n",
              "      <th>1/6/21</th>\n",
              "      <th>1/7/21</th>\n",
              "      <th>1/8/21</th>\n",
              "      <th>1/9/21</th>\n",
              "      <th>1/10/21</th>\n",
              "      <th>1/11/21</th>\n",
              "      <th>1/12/21</th>\n",
              "      <th>1/13/21</th>\n",
              "      <th>1/14/21</th>\n",
              "      <th>1/15/21</th>\n",
              "      <th>1/16/21</th>\n",
              "      <th>1/17/21</th>\n",
              "      <th>1/18/21</th>\n",
              "      <th>1/19/21</th>\n",
              "      <th>1/20/21</th>\n",
              "      <th>1/21/21</th>\n",
              "      <th>1/22/21</th>\n",
              "      <th>1/23/21</th>\n",
              "      <th>1/24/21</th>\n",
              "      <th>1/25/21</th>\n",
              "      <th>1/26/21</th>\n",
              "      <th>1/27/21</th>\n",
              "    </tr>\n",
              "  </thead>\n",
              "  <tbody>\n",
              "    <tr>\n",
              "      <th>count</th>\n",
              "      <td>272.000000</td>\n",
              "      <td>272.000000</td>\n",
              "      <td>273.000000</td>\n",
              "      <td>273.000000</td>\n",
              "      <td>273.000000</td>\n",
              "      <td>273.000000</td>\n",
              "      <td>273.000000</td>\n",
              "      <td>273.000000</td>\n",
              "      <td>273.000000</td>\n",
              "      <td>273.000000</td>\n",
              "      <td>273.000000</td>\n",
              "      <td>273.00000</td>\n",
              "      <td>273.000000</td>\n",
              "      <td>273.000000</td>\n",
              "      <td>273.000000</td>\n",
              "      <td>273.000000</td>\n",
              "      <td>273.000000</td>\n",
              "      <td>273.000000</td>\n",
              "      <td>273.000000</td>\n",
              "      <td>273.000000</td>\n",
              "      <td>273.000000</td>\n",
              "      <td>273.000000</td>\n",
              "      <td>273.000000</td>\n",
              "      <td>273.000000</td>\n",
              "      <td>273.000000</td>\n",
              "      <td>273.000000</td>\n",
              "      <td>273.000000</td>\n",
              "      <td>273.000000</td>\n",
              "      <td>273.000000</td>\n",
              "      <td>273.000000</td>\n",
              "      <td>273.000000</td>\n",
              "      <td>273.000000</td>\n",
              "      <td>273.000000</td>\n",
              "      <td>273.000000</td>\n",
              "      <td>273.000000</td>\n",
              "      <td>273.000000</td>\n",
              "      <td>273.000000</td>\n",
              "      <td>273.000000</td>\n",
              "      <td>273.000000</td>\n",
              "      <td>273.00000</td>\n",
              "      <td>...</td>\n",
              "      <td>273.000000</td>\n",
              "      <td>273.000000</td>\n",
              "      <td>273.000000</td>\n",
              "      <td>273.000000</td>\n",
              "      <td>273.000000</td>\n",
              "      <td>273.000000</td>\n",
              "      <td>273.000000</td>\n",
              "      <td>273.000000</td>\n",
              "      <td>273.000000</td>\n",
              "      <td>273.000000</td>\n",
              "      <td>273.000000</td>\n",
              "      <td>273.000000</td>\n",
              "      <td>273.000000</td>\n",
              "      <td>273.000000</td>\n",
              "      <td>273.000000</td>\n",
              "      <td>273.000000</td>\n",
              "      <td>273.000000</td>\n",
              "      <td>273.000000</td>\n",
              "      <td>273.000000</td>\n",
              "      <td>273.000000</td>\n",
              "      <td>273.000000</td>\n",
              "      <td>273.000000</td>\n",
              "      <td>273.00000</td>\n",
              "      <td>273.000000</td>\n",
              "      <td>273.000000</td>\n",
              "      <td>273.000000</td>\n",
              "      <td>273.000000</td>\n",
              "      <td>273.000000</td>\n",
              "      <td>273.000000</td>\n",
              "      <td>273.000000</td>\n",
              "      <td>273.000000</td>\n",
              "      <td>273.000000</td>\n",
              "      <td>273.000000</td>\n",
              "      <td>273.000000</td>\n",
              "      <td>273.000000</td>\n",
              "      <td>273.000000</td>\n",
              "      <td>273.000000</td>\n",
              "      <td>273.000000</td>\n",
              "      <td>273.000000</td>\n",
              "      <td>273.000000</td>\n",
              "    </tr>\n",
              "    <tr>\n",
              "      <th>mean</th>\n",
              "      <td>20.639516</td>\n",
              "      <td>23.165585</td>\n",
              "      <td>0.062271</td>\n",
              "      <td>0.065934</td>\n",
              "      <td>0.095238</td>\n",
              "      <td>0.153846</td>\n",
              "      <td>0.205128</td>\n",
              "      <td>0.300366</td>\n",
              "      <td>0.479853</td>\n",
              "      <td>0.487179</td>\n",
              "      <td>0.626374</td>\n",
              "      <td>0.78022</td>\n",
              "      <td>0.948718</td>\n",
              "      <td>1.326007</td>\n",
              "      <td>1.560440</td>\n",
              "      <td>1.802198</td>\n",
              "      <td>2.065934</td>\n",
              "      <td>2.322344</td>\n",
              "      <td>2.633700</td>\n",
              "      <td>2.952381</td>\n",
              "      <td>3.318681</td>\n",
              "      <td>3.710623</td>\n",
              "      <td>4.076923</td>\n",
              "      <td>4.095238</td>\n",
              "      <td>5.021978</td>\n",
              "      <td>5.578755</td>\n",
              "      <td>6.102564</td>\n",
              "      <td>6.483516</td>\n",
              "      <td>6.842491</td>\n",
              "      <td>7.355311</td>\n",
              "      <td>7.776557</td>\n",
              "      <td>8.234432</td>\n",
              "      <td>8.249084</td>\n",
              "      <td>9.007326</td>\n",
              "      <td>9.047619</td>\n",
              "      <td>9.633700</td>\n",
              "      <td>9.926740</td>\n",
              "      <td>10.150183</td>\n",
              "      <td>10.307692</td>\n",
              "      <td>10.52381</td>\n",
              "      <td>...</td>\n",
              "      <td>6174.904762</td>\n",
              "      <td>6202.981685</td>\n",
              "      <td>6237.714286</td>\n",
              "      <td>6289.937729</td>\n",
              "      <td>6340.406593</td>\n",
              "      <td>6382.919414</td>\n",
              "      <td>6413.249084</td>\n",
              "      <td>6439.153846</td>\n",
              "      <td>6465.663004</td>\n",
              "      <td>6500.681319</td>\n",
              "      <td>6556.538462</td>\n",
              "      <td>6612.571429</td>\n",
              "      <td>6660.571429</td>\n",
              "      <td>6695.003663</td>\n",
              "      <td>6724.959707</td>\n",
              "      <td>6751.703297</td>\n",
              "      <td>6789.402930</td>\n",
              "      <td>6845.772894</td>\n",
              "      <td>6900.783883</td>\n",
              "      <td>6954.454212</td>\n",
              "      <td>7010.732601</td>\n",
              "      <td>7057.329670</td>\n",
              "      <td>7087.25641</td>\n",
              "      <td>7124.725275</td>\n",
              "      <td>7187.362637</td>\n",
              "      <td>7248.216117</td>\n",
              "      <td>7304.311355</td>\n",
              "      <td>7359.406593</td>\n",
              "      <td>7407.146520</td>\n",
              "      <td>7439.043956</td>\n",
              "      <td>7473.029304</td>\n",
              "      <td>7534.732601</td>\n",
              "      <td>7600.003663</td>\n",
              "      <td>7661.333333</td>\n",
              "      <td>7719.490842</td>\n",
              "      <td>7767.967033</td>\n",
              "      <td>7800.168498</td>\n",
              "      <td>7839.282051</td>\n",
              "      <td>7902.864469</td>\n",
              "      <td>7963.842491</td>\n",
              "    </tr>\n",
              "    <tr>\n",
              "      <th>std</th>\n",
              "      <td>25.181450</td>\n",
              "      <td>73.696719</td>\n",
              "      <td>1.028887</td>\n",
              "      <td>1.030443</td>\n",
              "      <td>1.454612</td>\n",
              "      <td>2.421972</td>\n",
              "      <td>3.148595</td>\n",
              "      <td>4.600739</td>\n",
              "      <td>7.565435</td>\n",
              "      <td>7.565937</td>\n",
              "      <td>9.805065</td>\n",
              "      <td>12.34653</td>\n",
              "      <td>15.069603</td>\n",
              "      <td>21.181810</td>\n",
              "      <td>25.055032</td>\n",
              "      <td>28.988672</td>\n",
              "      <td>33.224770</td>\n",
              "      <td>37.400733</td>\n",
              "      <td>42.302455</td>\n",
              "      <td>47.204358</td>\n",
              "      <td>52.711175</td>\n",
              "      <td>58.944395</td>\n",
              "      <td>64.633167</td>\n",
              "      <td>64.632830</td>\n",
              "      <td>79.277757</td>\n",
              "      <td>88.174471</td>\n",
              "      <td>96.586618</td>\n",
              "      <td>102.637751</td>\n",
              "      <td>108.266492</td>\n",
              "      <td>116.255084</td>\n",
              "      <td>122.790013</td>\n",
              "      <td>129.747790</td>\n",
              "      <td>129.747082</td>\n",
              "      <td>141.971025</td>\n",
              "      <td>141.969761</td>\n",
              "      <td>150.986333</td>\n",
              "      <td>155.101444</td>\n",
              "      <td>158.248581</td>\n",
              "      <td>159.824492</td>\n",
              "      <td>162.30912</td>\n",
              "      <td>...</td>\n",
              "      <td>26435.083168</td>\n",
              "      <td>26536.659898</td>\n",
              "      <td>26658.914272</td>\n",
              "      <td>26881.329158</td>\n",
              "      <td>27095.294230</td>\n",
              "      <td>27281.610943</td>\n",
              "      <td>27380.206943</td>\n",
              "      <td>27481.672412</td>\n",
              "      <td>27570.225452</td>\n",
              "      <td>27694.624264</td>\n",
              "      <td>27935.068592</td>\n",
              "      <td>28181.898965</td>\n",
              "      <td>28400.625965</td>\n",
              "      <td>28537.160714</td>\n",
              "      <td>28677.078269</td>\n",
              "      <td>28769.887061</td>\n",
              "      <td>28904.806694</td>\n",
              "      <td>29154.759463</td>\n",
              "      <td>29410.199468</td>\n",
              "      <td>29671.192252</td>\n",
              "      <td>29928.495800</td>\n",
              "      <td>30152.512034</td>\n",
              "      <td>30273.87659</td>\n",
              "      <td>30413.504890</td>\n",
              "      <td>30703.331756</td>\n",
              "      <td>30972.023229</td>\n",
              "      <td>31229.003910</td>\n",
              "      <td>31482.743629</td>\n",
              "      <td>31709.771457</td>\n",
              "      <td>31833.441864</td>\n",
              "      <td>31943.259053</td>\n",
              "      <td>32170.974820</td>\n",
              "      <td>32469.875793</td>\n",
              "      <td>32758.782922</td>\n",
              "      <td>33019.729922</td>\n",
              "      <td>33253.944374</td>\n",
              "      <td>33379.568735</td>\n",
              "      <td>33521.827953</td>\n",
              "      <td>33808.458180</td>\n",
              "      <td>34087.686744</td>\n",
              "    </tr>\n",
              "    <tr>\n",
              "      <th>min</th>\n",
              "      <td>-51.796300</td>\n",
              "      <td>-178.116500</td>\n",
              "      <td>0.000000</td>\n",
              "      <td>0.000000</td>\n",
              "      <td>0.000000</td>\n",
              "      <td>0.000000</td>\n",
              "      <td>0.000000</td>\n",
              "      <td>0.000000</td>\n",
              "      <td>0.000000</td>\n",
              "      <td>0.000000</td>\n",
              "      <td>0.000000</td>\n",
              "      <td>0.00000</td>\n",
              "      <td>0.000000</td>\n",
              "      <td>0.000000</td>\n",
              "      <td>0.000000</td>\n",
              "      <td>0.000000</td>\n",
              "      <td>0.000000</td>\n",
              "      <td>0.000000</td>\n",
              "      <td>0.000000</td>\n",
              "      <td>0.000000</td>\n",
              "      <td>0.000000</td>\n",
              "      <td>0.000000</td>\n",
              "      <td>0.000000</td>\n",
              "      <td>0.000000</td>\n",
              "      <td>0.000000</td>\n",
              "      <td>0.000000</td>\n",
              "      <td>0.000000</td>\n",
              "      <td>0.000000</td>\n",
              "      <td>0.000000</td>\n",
              "      <td>0.000000</td>\n",
              "      <td>0.000000</td>\n",
              "      <td>0.000000</td>\n",
              "      <td>0.000000</td>\n",
              "      <td>0.000000</td>\n",
              "      <td>0.000000</td>\n",
              "      <td>0.000000</td>\n",
              "      <td>0.000000</td>\n",
              "      <td>0.000000</td>\n",
              "      <td>0.000000</td>\n",
              "      <td>0.00000</td>\n",
              "      <td>...</td>\n",
              "      <td>0.000000</td>\n",
              "      <td>0.000000</td>\n",
              "      <td>0.000000</td>\n",
              "      <td>0.000000</td>\n",
              "      <td>0.000000</td>\n",
              "      <td>0.000000</td>\n",
              "      <td>0.000000</td>\n",
              "      <td>0.000000</td>\n",
              "      <td>0.000000</td>\n",
              "      <td>0.000000</td>\n",
              "      <td>0.000000</td>\n",
              "      <td>0.000000</td>\n",
              "      <td>0.000000</td>\n",
              "      <td>0.000000</td>\n",
              "      <td>0.000000</td>\n",
              "      <td>0.000000</td>\n",
              "      <td>0.000000</td>\n",
              "      <td>0.000000</td>\n",
              "      <td>0.000000</td>\n",
              "      <td>0.000000</td>\n",
              "      <td>0.000000</td>\n",
              "      <td>0.000000</td>\n",
              "      <td>0.00000</td>\n",
              "      <td>0.000000</td>\n",
              "      <td>0.000000</td>\n",
              "      <td>0.000000</td>\n",
              "      <td>0.000000</td>\n",
              "      <td>0.000000</td>\n",
              "      <td>0.000000</td>\n",
              "      <td>0.000000</td>\n",
              "      <td>0.000000</td>\n",
              "      <td>0.000000</td>\n",
              "      <td>0.000000</td>\n",
              "      <td>0.000000</td>\n",
              "      <td>0.000000</td>\n",
              "      <td>0.000000</td>\n",
              "      <td>0.000000</td>\n",
              "      <td>0.000000</td>\n",
              "      <td>0.000000</td>\n",
              "      <td>0.000000</td>\n",
              "    </tr>\n",
              "    <tr>\n",
              "      <th>25%</th>\n",
              "      <td>6.105887</td>\n",
              "      <td>-20.026050</td>\n",
              "      <td>0.000000</td>\n",
              "      <td>0.000000</td>\n",
              "      <td>0.000000</td>\n",
              "      <td>0.000000</td>\n",
              "      <td>0.000000</td>\n",
              "      <td>0.000000</td>\n",
              "      <td>0.000000</td>\n",
              "      <td>0.000000</td>\n",
              "      <td>0.000000</td>\n",
              "      <td>0.00000</td>\n",
              "      <td>0.000000</td>\n",
              "      <td>0.000000</td>\n",
              "      <td>0.000000</td>\n",
              "      <td>0.000000</td>\n",
              "      <td>0.000000</td>\n",
              "      <td>0.000000</td>\n",
              "      <td>0.000000</td>\n",
              "      <td>0.000000</td>\n",
              "      <td>0.000000</td>\n",
              "      <td>0.000000</td>\n",
              "      <td>0.000000</td>\n",
              "      <td>0.000000</td>\n",
              "      <td>0.000000</td>\n",
              "      <td>0.000000</td>\n",
              "      <td>0.000000</td>\n",
              "      <td>0.000000</td>\n",
              "      <td>0.000000</td>\n",
              "      <td>0.000000</td>\n",
              "      <td>0.000000</td>\n",
              "      <td>0.000000</td>\n",
              "      <td>0.000000</td>\n",
              "      <td>0.000000</td>\n",
              "      <td>0.000000</td>\n",
              "      <td>0.000000</td>\n",
              "      <td>0.000000</td>\n",
              "      <td>0.000000</td>\n",
              "      <td>0.000000</td>\n",
              "      <td>0.00000</td>\n",
              "      <td>...</td>\n",
              "      <td>6.000000</td>\n",
              "      <td>6.000000</td>\n",
              "      <td>6.000000</td>\n",
              "      <td>6.000000</td>\n",
              "      <td>6.000000</td>\n",
              "      <td>6.000000</td>\n",
              "      <td>6.000000</td>\n",
              "      <td>6.000000</td>\n",
              "      <td>6.000000</td>\n",
              "      <td>6.000000</td>\n",
              "      <td>6.000000</td>\n",
              "      <td>6.000000</td>\n",
              "      <td>6.000000</td>\n",
              "      <td>6.000000</td>\n",
              "      <td>6.000000</td>\n",
              "      <td>6.000000</td>\n",
              "      <td>6.000000</td>\n",
              "      <td>6.000000</td>\n",
              "      <td>6.000000</td>\n",
              "      <td>6.000000</td>\n",
              "      <td>6.000000</td>\n",
              "      <td>6.000000</td>\n",
              "      <td>6.00000</td>\n",
              "      <td>6.000000</td>\n",
              "      <td>6.000000</td>\n",
              "      <td>6.000000</td>\n",
              "      <td>6.000000</td>\n",
              "      <td>6.000000</td>\n",
              "      <td>6.000000</td>\n",
              "      <td>6.000000</td>\n",
              "      <td>6.000000</td>\n",
              "      <td>6.000000</td>\n",
              "      <td>6.000000</td>\n",
              "      <td>6.000000</td>\n",
              "      <td>6.000000</td>\n",
              "      <td>6.000000</td>\n",
              "      <td>6.000000</td>\n",
              "      <td>6.000000</td>\n",
              "      <td>6.000000</td>\n",
              "      <td>6.000000</td>\n",
              "    </tr>\n",
              "    <tr>\n",
              "      <th>50%</th>\n",
              "      <td>21.805100</td>\n",
              "      <td>20.972650</td>\n",
              "      <td>0.000000</td>\n",
              "      <td>0.000000</td>\n",
              "      <td>0.000000</td>\n",
              "      <td>0.000000</td>\n",
              "      <td>0.000000</td>\n",
              "      <td>0.000000</td>\n",
              "      <td>0.000000</td>\n",
              "      <td>0.000000</td>\n",
              "      <td>0.000000</td>\n",
              "      <td>0.00000</td>\n",
              "      <td>0.000000</td>\n",
              "      <td>0.000000</td>\n",
              "      <td>0.000000</td>\n",
              "      <td>0.000000</td>\n",
              "      <td>0.000000</td>\n",
              "      <td>0.000000</td>\n",
              "      <td>0.000000</td>\n",
              "      <td>0.000000</td>\n",
              "      <td>0.000000</td>\n",
              "      <td>0.000000</td>\n",
              "      <td>0.000000</td>\n",
              "      <td>0.000000</td>\n",
              "      <td>0.000000</td>\n",
              "      <td>0.000000</td>\n",
              "      <td>0.000000</td>\n",
              "      <td>0.000000</td>\n",
              "      <td>0.000000</td>\n",
              "      <td>0.000000</td>\n",
              "      <td>0.000000</td>\n",
              "      <td>0.000000</td>\n",
              "      <td>0.000000</td>\n",
              "      <td>0.000000</td>\n",
              "      <td>0.000000</td>\n",
              "      <td>0.000000</td>\n",
              "      <td>0.000000</td>\n",
              "      <td>0.000000</td>\n",
              "      <td>0.000000</td>\n",
              "      <td>0.00000</td>\n",
              "      <td>...</td>\n",
              "      <td>114.000000</td>\n",
              "      <td>118.000000</td>\n",
              "      <td>118.000000</td>\n",
              "      <td>118.000000</td>\n",
              "      <td>118.000000</td>\n",
              "      <td>118.000000</td>\n",
              "      <td>119.000000</td>\n",
              "      <td>119.000000</td>\n",
              "      <td>119.000000</td>\n",
              "      <td>120.000000</td>\n",
              "      <td>120.000000</td>\n",
              "      <td>121.000000</td>\n",
              "      <td>122.000000</td>\n",
              "      <td>124.000000</td>\n",
              "      <td>124.000000</td>\n",
              "      <td>124.000000</td>\n",
              "      <td>124.000000</td>\n",
              "      <td>125.000000</td>\n",
              "      <td>126.000000</td>\n",
              "      <td>127.000000</td>\n",
              "      <td>127.000000</td>\n",
              "      <td>128.000000</td>\n",
              "      <td>128.00000</td>\n",
              "      <td>128.000000</td>\n",
              "      <td>130.000000</td>\n",
              "      <td>130.000000</td>\n",
              "      <td>133.000000</td>\n",
              "      <td>138.000000</td>\n",
              "      <td>138.000000</td>\n",
              "      <td>140.000000</td>\n",
              "      <td>142.000000</td>\n",
              "      <td>142.000000</td>\n",
              "      <td>142.000000</td>\n",
              "      <td>142.000000</td>\n",
              "      <td>143.000000</td>\n",
              "      <td>145.000000</td>\n",
              "      <td>146.000000</td>\n",
              "      <td>146.000000</td>\n",
              "      <td>147.000000</td>\n",
              "      <td>151.000000</td>\n",
              "    </tr>\n",
              "    <tr>\n",
              "      <th>75%</th>\n",
              "      <td>41.123000</td>\n",
              "      <td>84.497525</td>\n",
              "      <td>0.000000</td>\n",
              "      <td>0.000000</td>\n",
              "      <td>0.000000</td>\n",
              "      <td>0.000000</td>\n",
              "      <td>0.000000</td>\n",
              "      <td>0.000000</td>\n",
              "      <td>0.000000</td>\n",
              "      <td>0.000000</td>\n",
              "      <td>0.000000</td>\n",
              "      <td>0.00000</td>\n",
              "      <td>0.000000</td>\n",
              "      <td>0.000000</td>\n",
              "      <td>0.000000</td>\n",
              "      <td>0.000000</td>\n",
              "      <td>0.000000</td>\n",
              "      <td>0.000000</td>\n",
              "      <td>0.000000</td>\n",
              "      <td>0.000000</td>\n",
              "      <td>0.000000</td>\n",
              "      <td>0.000000</td>\n",
              "      <td>0.000000</td>\n",
              "      <td>0.000000</td>\n",
              "      <td>0.000000</td>\n",
              "      <td>0.000000</td>\n",
              "      <td>0.000000</td>\n",
              "      <td>0.000000</td>\n",
              "      <td>0.000000</td>\n",
              "      <td>0.000000</td>\n",
              "      <td>0.000000</td>\n",
              "      <td>0.000000</td>\n",
              "      <td>0.000000</td>\n",
              "      <td>0.000000</td>\n",
              "      <td>0.000000</td>\n",
              "      <td>0.000000</td>\n",
              "      <td>0.000000</td>\n",
              "      <td>0.000000</td>\n",
              "      <td>0.000000</td>\n",
              "      <td>0.00000</td>\n",
              "      <td>...</td>\n",
              "      <td>1777.000000</td>\n",
              "      <td>1788.000000</td>\n",
              "      <td>1795.000000</td>\n",
              "      <td>1798.000000</td>\n",
              "      <td>1803.000000</td>\n",
              "      <td>1808.000000</td>\n",
              "      <td>1816.000000</td>\n",
              "      <td>1819.000000</td>\n",
              "      <td>1825.000000</td>\n",
              "      <td>1879.000000</td>\n",
              "      <td>1913.000000</td>\n",
              "      <td>1918.000000</td>\n",
              "      <td>1923.000000</td>\n",
              "      <td>1937.000000</td>\n",
              "      <td>1944.000000</td>\n",
              "      <td>1948.000000</td>\n",
              "      <td>1950.000000</td>\n",
              "      <td>1996.000000</td>\n",
              "      <td>2036.000000</td>\n",
              "      <td>2076.000000</td>\n",
              "      <td>2119.000000</td>\n",
              "      <td>2171.000000</td>\n",
              "      <td>2197.00000</td>\n",
              "      <td>2232.000000</td>\n",
              "      <td>2272.000000</td>\n",
              "      <td>2301.000000</td>\n",
              "      <td>2314.000000</td>\n",
              "      <td>2324.000000</td>\n",
              "      <td>2336.000000</td>\n",
              "      <td>2339.000000</td>\n",
              "      <td>2343.000000</td>\n",
              "      <td>2346.000000</td>\n",
              "      <td>2354.000000</td>\n",
              "      <td>2363.000000</td>\n",
              "      <td>2370.000000</td>\n",
              "      <td>2373.000000</td>\n",
              "      <td>2378.000000</td>\n",
              "      <td>2385.000000</td>\n",
              "      <td>2477.000000</td>\n",
              "      <td>2553.000000</td>\n",
              "    </tr>\n",
              "    <tr>\n",
              "      <th>max</th>\n",
              "      <td>71.706900</td>\n",
              "      <td>178.065000</td>\n",
              "      <td>17.000000</td>\n",
              "      <td>17.000000</td>\n",
              "      <td>24.000000</td>\n",
              "      <td>40.000000</td>\n",
              "      <td>52.000000</td>\n",
              "      <td>76.000000</td>\n",
              "      <td>125.000000</td>\n",
              "      <td>125.000000</td>\n",
              "      <td>162.000000</td>\n",
              "      <td>204.00000</td>\n",
              "      <td>249.000000</td>\n",
              "      <td>350.000000</td>\n",
              "      <td>414.000000</td>\n",
              "      <td>479.000000</td>\n",
              "      <td>549.000000</td>\n",
              "      <td>618.000000</td>\n",
              "      <td>699.000000</td>\n",
              "      <td>780.000000</td>\n",
              "      <td>871.000000</td>\n",
              "      <td>974.000000</td>\n",
              "      <td>1068.000000</td>\n",
              "      <td>1068.000000</td>\n",
              "      <td>1310.000000</td>\n",
              "      <td>1457.000000</td>\n",
              "      <td>1596.000000</td>\n",
              "      <td>1696.000000</td>\n",
              "      <td>1789.000000</td>\n",
              "      <td>1921.000000</td>\n",
              "      <td>2029.000000</td>\n",
              "      <td>2144.000000</td>\n",
              "      <td>2144.000000</td>\n",
              "      <td>2346.000000</td>\n",
              "      <td>2346.000000</td>\n",
              "      <td>2495.000000</td>\n",
              "      <td>2563.000000</td>\n",
              "      <td>2615.000000</td>\n",
              "      <td>2641.000000</td>\n",
              "      <td>2682.00000</td>\n",
              "      <td>...</td>\n",
              "      <td>316382.000000</td>\n",
              "      <td>317877.000000</td>\n",
              "      <td>319664.000000</td>\n",
              "      <td>323037.000000</td>\n",
              "      <td>326391.000000</td>\n",
              "      <td>329258.000000</td>\n",
              "      <td>330434.000000</td>\n",
              "      <td>332075.000000</td>\n",
              "      <td>333289.000000</td>\n",
              "      <td>335130.000000</td>\n",
              "      <td>338793.000000</td>\n",
              "      <td>342542.000000</td>\n",
              "      <td>345955.000000</td>\n",
              "      <td>347982.000000</td>\n",
              "      <td>350310.000000</td>\n",
              "      <td>351657.000000</td>\n",
              "      <td>353652.000000</td>\n",
              "      <td>357402.000000</td>\n",
              "      <td>361292.000000</td>\n",
              "      <td>365242.000000</td>\n",
              "      <td>369279.000000</td>\n",
              "      <td>372530.000000</td>\n",
              "      <td>374354.00000</td>\n",
              "      <td>376360.000000</td>\n",
              "      <td>380826.000000</td>\n",
              "      <td>384790.000000</td>\n",
              "      <td>388720.000000</td>\n",
              "      <td>392525.000000</td>\n",
              "      <td>395877.000000</td>\n",
              "      <td>397628.000000</td>\n",
              "      <td>399033.000000</td>\n",
              "      <td>401807.000000</td>\n",
              "      <td>406184.000000</td>\n",
              "      <td>410387.000000</td>\n",
              "      <td>414147.000000</td>\n",
              "      <td>417476.000000</td>\n",
              "      <td>419251.000000</td>\n",
              "      <td>421168.000000</td>\n",
              "      <td>425252.000000</td>\n",
              "      <td>429195.000000</td>\n",
              "    </tr>\n",
              "  </tbody>\n",
              "</table>\n",
              "<p>8 rows × 374 columns</p>\n",
              "</div>"
            ],
            "text/plain": [
              "              Lat        Long  ...        1/26/21        1/27/21\n",
              "count  272.000000  272.000000  ...     273.000000     273.000000\n",
              "mean    20.639516   23.165585  ...    7902.864469    7963.842491\n",
              "std     25.181450   73.696719  ...   33808.458180   34087.686744\n",
              "min    -51.796300 -178.116500  ...       0.000000       0.000000\n",
              "25%      6.105887  -20.026050  ...       6.000000       6.000000\n",
              "50%     21.805100   20.972650  ...     147.000000     151.000000\n",
              "75%     41.123000   84.497525  ...    2477.000000    2553.000000\n",
              "max     71.706900  178.065000  ...  425252.000000  429195.000000\n",
              "\n",
              "[8 rows x 374 columns]"
            ]
          },
          "metadata": {
            "tags": []
          },
          "execution_count": 66
        }
      ]
    },
    {
      "cell_type": "markdown",
      "metadata": {
        "id": "N30KeCqfTRFY"
      },
      "source": [
        "***"
      ]
    },
    {
      "cell_type": "markdown",
      "metadata": {
        "id": "ektO83ZITEPT"
      },
      "source": [
        "## Week 3: Learning outcome\n",
        "\n",
        "* At the end of week 3, you will be able to use Python to read data from a file on the internet. You will be able to compute elementary statistics from these data."
      ]
    },
    {
      "cell_type": "markdown",
      "metadata": {
        "id": "4dJd3YB6TLE0"
      },
      "source": [
        "## Exercises"
      ]
    },
    {
      "cell_type": "markdown",
      "metadata": {
        "id": "whFUQV0rTJg8"
      },
      "source": [
        "Mandatory exercises:\n",
        "\n",
        "- [ ] Replicate all of the code in this notebook.\n",
        "- [ ] Introduce COVID-19 recoveries into the analysis above. 'https://raw.githubusercontent.com/CSSEGISandData/COVID-19/master/csse_covid_19_data/csse_covid_19_time_series/time_series_covid19_recovered_global.csv'. What do you notice about the mean number of recoveries as a function of time?"
      ]
    },
    {
      "cell_type": "markdown",
      "metadata": {
        "id": "W-pOMqirDtHs"
      },
      "source": [
        ""
      ]
    },
    {
      "cell_type": "code",
      "metadata": {
        "id": "nnUZ00uYD052"
      },
      "source": [
        ""
      ],
      "execution_count": null,
      "outputs": []
    }
  ]
}