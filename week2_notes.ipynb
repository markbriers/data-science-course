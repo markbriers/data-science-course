{
  "nbformat": 4,
  "nbformat_minor": 0,
  "metadata": {
    "colab": {
      "name": "week2-notes.ipynb",
      "provenance": [],
      "authorship_tag": "ABX9TyMUsC4RUq+479D2wjH8j/Us",
      "include_colab_link": true
    },
    "kernelspec": {
      "name": "python3",
      "display_name": "Python 3"
    }
  },
  "cells": [
    {
      "cell_type": "markdown",
      "metadata": {
        "id": "view-in-github",
        "colab_type": "text"
      },
      "source": [
        "<a href=\"https://colab.research.google.com/github/markbriers/data-science-jupyter/blob/main/week2_notes.ipynb\" target=\"_parent\"><img src=\"https://colab.research.google.com/assets/colab-badge.svg\" alt=\"Open In Colab\"/></a>"
      ]
    },
    {
      "cell_type": "markdown",
      "metadata": {
        "id": "qNIPLENaVzvu"
      },
      "source": [
        "# Python fundamentals 1 (Week 2)"
      ]
    },
    {
      "cell_type": "markdown",
      "metadata": {
        "id": "5VntuezuaDbf"
      },
      "source": [
        "## Module: Learning outcomes\n",
        "\n",
        "* Describe the six stages of a data processing pipeline (using CRISP-DM)\n",
        "\n",
        "* Demonstrate an understanding of the python programming language through the production of elementary data analysis programme\n",
        "\n",
        "* Analyse at least three different data sources by applying at least one python data processing library to extract and explore pertinent features\n",
        "\n",
        "* Be able to design a set of data requirements for a specified business problem\n",
        "\n",
        "* Describe and apply (using the python programming language) the main approaches to supervised learning for a given classification problem\n",
        "\n",
        "* Understand the use cases of Big Data technology (in particular Spark)\n",
        "\n",
        "* Produce a report including appropriate data visualisations covering the analysis of a business problem using a data science based approach"
      ]
    },
    {
      "cell_type": "markdown",
      "metadata": {
        "id": "EBoNhH2zabbZ"
      },
      "source": [
        "## Week 2: Learning outcome\n",
        "\n",
        "* At the end of week 2, you will have a foundational level knowledge of Python. You will be able to write code and text using Markdown."
      ]
    },
    {
      "cell_type": "markdown",
      "metadata": {
        "id": "DTJ-cX2Rat5B"
      },
      "source": [
        "## An introduction to Markdown"
      ]
    },
    {
      "cell_type": "markdown",
      "metadata": {
        "id": "E3mGzyvZXOFv"
      },
      "source": [
        "Let's start with the text interface, which allows Markdown to be written. Markdown is a lightweight markup language (similar to HTML for webpages) that allows us to write text and embed images and mathematics. This allows for interactive visualisations, allowing for better reproducibility, sharing, and decision making."
      ]
    },
    {
      "cell_type": "markdown",
      "metadata": {
        "id": "rMYj0H7zXlrX"
      },
      "source": [
        "Example:"
      ]
    },
    {
      "cell_type": "markdown",
      "metadata": {
        "id": "SDmq3Et1Xo3J"
      },
      "source": [
        "# Title 1"
      ]
    },
    {
      "cell_type": "markdown",
      "metadata": {
        "id": "dG-PDjEvYeMS"
      },
      "source": [
        "## Title 2"
      ]
    },
    {
      "cell_type": "markdown",
      "metadata": {
        "id": "1i1esfmwYikA"
      },
      "source": [
        "### Title 3"
      ]
    },
    {
      "cell_type": "markdown",
      "metadata": {
        "id": "wE0LDedgYn8k"
      },
      "source": [
        "This is a line of text."
      ]
    },
    {
      "cell_type": "markdown",
      "metadata": {
        "id": "x_FUn9ivYpVT"
      },
      "source": [
        "* This is a bullet\n",
        "* This is a second bullet\n",
        "* This is a bullet with _italic_ text\n",
        "* This is a bullet with **bold** text"
      ]
    },
    {
      "cell_type": "markdown",
      "metadata": {
        "id": "EUXCaIYdYsdx"
      },
      "source": [
        "This is an equation written in LaTex:\n",
        "\\begin{equation}\n",
        "f(x) = x^2\n",
        "\\end{equation}"
      ]
    },
    {
      "cell_type": "markdown",
      "metadata": {
        "id": "YyfnmOMlYy0T"
      },
      "source": [
        "This is an equation $x^2$ written inline."
      ]
    },
    {
      "cell_type": "markdown",
      "metadata": {
        "id": "4csP65qNZpl9"
      },
      "source": [
        "Further details on Markdown and LaTex can be found here:\n",
        "Mandatory exercises\n",
        "- [ ] Read this reference: https://colab.research.google.com/notebooks/markdown_guide.ipynb\n",
        "\n",
        "Optional exercises\n",
        "- [ ] Use this cheat sheet when writing Markdown for your own work: https://medium.com/ibm-data-science-experience/markdown-for-jupyter-notebooks-cheatsheet-386c05aeebed\n",
        "- [ ] Read this reference: https://www.math.ubc.ca/~pwalls/math-python/jupyter/latex/"
      ]
    },
    {
      "cell_type": "markdown",
      "metadata": {
        "id": "aEVGIE86b_uk"
      },
      "source": [
        "## Mathematical foundations"
      ]
    },
    {
      "cell_type": "markdown",
      "metadata": {
        "id": "Qhg6yw59cE-z"
      },
      "source": [
        "### Notation\n",
        "\n",
        "* $4\\times4\\times4 = 4^3 = 64$\n",
        "* $x\\times x\\times x = x^3$ (e.g. when $x=4$, $x^3 = 64$)\n",
        "* In the expression above, $x$ is a _variable_"
      ]
    },
    {
      "cell_type": "code",
      "metadata": {
        "colab": {
          "base_uri": "https://localhost:8080/"
        },
        "id": "ab0anNz1cnsw",
        "outputId": "26498082-e3e2-41cc-b236-0e7d7a572435"
      },
      "source": [
        "4 * 4 * 4"
      ],
      "execution_count": null,
      "outputs": [
        {
          "output_type": "execute_result",
          "data": {
            "text/plain": [
              "64"
            ]
          },
          "metadata": {
            "tags": []
          },
          "execution_count": 1
        }
      ]
    },
    {
      "cell_type": "markdown",
      "metadata": {
        "id": "c8XS_JlNc0Vx"
      },
      "source": [
        "This can be equivalently written as:"
      ]
    },
    {
      "cell_type": "code",
      "metadata": {
        "colab": {
          "base_uri": "https://localhost:8080/"
        },
        "id": "8ecHJeH0c4gS",
        "outputId": "022cfbbd-4f97-4b78-d3a3-e0ca7404ad43"
      },
      "source": [
        "4 ** 3"
      ],
      "execution_count": null,
      "outputs": [
        {
          "output_type": "execute_result",
          "data": {
            "text/plain": [
              "64"
            ]
          },
          "metadata": {
            "tags": []
          },
          "execution_count": 2
        }
      ]
    },
    {
      "cell_type": "markdown",
      "metadata": {
        "id": "KfHOUQdYdT9k"
      },
      "source": [
        "We can introduce variables, such as $x = 4$"
      ]
    },
    {
      "cell_type": "code",
      "metadata": {
        "id": "50b1FzLFdlxU"
      },
      "source": [
        "x = 4"
      ],
      "execution_count": null,
      "outputs": []
    },
    {
      "cell_type": "markdown",
      "metadata": {
        "id": "CZO6IRtYdoOt"
      },
      "source": [
        "We can then manipulate variable x, rather than specific values."
      ]
    },
    {
      "cell_type": "code",
      "metadata": {
        "colab": {
          "base_uri": "https://localhost:8080/"
        },
        "id": "gLKoYU4dd2PD",
        "outputId": "6fb5deff-b532-40a5-b82a-5a531036bc4f"
      },
      "source": [
        "x * x * x"
      ],
      "execution_count": null,
      "outputs": [
        {
          "output_type": "execute_result",
          "data": {
            "text/plain": [
              "64"
            ]
          },
          "metadata": {
            "tags": []
          },
          "execution_count": 4
        }
      ]
    },
    {
      "cell_type": "code",
      "metadata": {
        "id": "Rdm2JdZRd7Wo"
      },
      "source": [
        "y = 2"
      ],
      "execution_count": null,
      "outputs": []
    },
    {
      "cell_type": "code",
      "metadata": {
        "colab": {
          "base_uri": "https://localhost:8080/"
        },
        "id": "-h4Ka42teJ9x",
        "outputId": "0b6a9b9c-6fa6-4694-8124-6ff56b4a5759"
      },
      "source": [
        "x ** y"
      ],
      "execution_count": null,
      "outputs": [
        {
          "output_type": "execute_result",
          "data": {
            "text/plain": [
              "16"
            ]
          },
          "metadata": {
            "tags": []
          },
          "execution_count": 9
        }
      ]
    },
    {
      "cell_type": "markdown",
      "metadata": {
        "id": "0QQdZKmReMDr"
      },
      "source": [
        "We can then change the values of x and y, to maximise code reuse."
      ]
    },
    {
      "cell_type": "markdown",
      "metadata": {
        "id": "tDfM05RCciUG"
      },
      "source": [
        "* We could generalise further and say $f(x) = x^2$, where \"$f$ is a function of the variable $x$\" (e.g. $f(4) = 16$)\n",
        "* A function is a relation between sets that associates to every element of a first set exactly one element of the second set\n",
        "* A set is a well defined collection of distinct items. e.g. $\\{apple,orange,banana\\}$\n",
        "\n",
        "Let's look at how we do this in Python."
      ]
    },
    {
      "cell_type": "markdown",
      "metadata": {
        "id": "UUTR-fbxiUqY"
      },
      "source": [
        "In Python, a function is defined using the def keyword:"
      ]
    },
    {
      "cell_type": "code",
      "metadata": {
        "id": "B3CMEGQ-iTWO",
        "colab": {
          "base_uri": "https://localhost:8080/"
        },
        "outputId": "22d40f93-77bf-4c0a-e0b8-31dc82b49edb"
      },
      "source": [
        "def print_hello():\n",
        "  print(\"Hello world\")\n",
        "\n",
        "# this is a comment\n",
        "x = 4\n",
        "print(x)"
      ],
      "execution_count": null,
      "outputs": [
        {
          "output_type": "stream",
          "text": [
            "4\n"
          ],
          "name": "stdout"
        }
      ]
    },
    {
      "cell_type": "code",
      "metadata": {
        "id": "vyjNXOK8yo9h"
      },
      "source": [
        "def print_hello_user(user):\n",
        "  print(\"Hello \"+user)"
      ],
      "execution_count": null,
      "outputs": []
    },
    {
      "cell_type": "code",
      "metadata": {
        "colab": {
          "base_uri": "https://localhost:8080/"
        },
        "id": "5z7qXxEqiX1b",
        "outputId": "cc11a421-6126-469e-bfff-9e9d6ea09016"
      },
      "source": [
        "print_hello_user(\"Mark\")"
      ],
      "execution_count": null,
      "outputs": [
        {
          "output_type": "stream",
          "text": [
            "Hello Mark\n"
          ],
          "name": "stdout"
        }
      ]
    },
    {
      "cell_type": "code",
      "metadata": {
        "colab": {
          "base_uri": "https://localhost:8080/"
        },
        "id": "zuDOGyk0xLHU",
        "outputId": "b5b27238-8078-4425-892f-df478fcafb1e"
      },
      "source": [
        "print_hello()"
      ],
      "execution_count": null,
      "outputs": [
        {
          "output_type": "stream",
          "text": [
            "Hello world\n"
          ],
          "name": "stdout"
        }
      ]
    },
    {
      "cell_type": "markdown",
      "metadata": {
        "id": "aO1ZICojioed"
      },
      "source": [
        "We can pass variable arguments to functions:"
      ]
    },
    {
      "cell_type": "code",
      "metadata": {
        "id": "U0_LkJHechDN"
      },
      "source": [
        "def square(x):\n",
        "  return x ** 2"
      ],
      "execution_count": null,
      "outputs": []
    },
    {
      "cell_type": "markdown",
      "metadata": {
        "id": "fP1Cx_KJe-Zd"
      },
      "source": [
        "We can use this function several times, in order to reduce the amount of code that we need to write and to maximise code sharing."
      ]
    },
    {
      "cell_type": "code",
      "metadata": {
        "colab": {
          "base_uri": "https://localhost:8080/"
        },
        "id": "rtZ4wYDafhyi",
        "outputId": "4c19797a-098b-4917-ed1a-cc82e86f508b"
      },
      "source": [
        "x = 3\n",
        "print(x)\n",
        "print(x == 4)"
      ],
      "execution_count": null,
      "outputs": [
        {
          "output_type": "stream",
          "text": [
            "3\n",
            "False\n"
          ],
          "name": "stdout"
        }
      ]
    },
    {
      "cell_type": "code",
      "metadata": {
        "colab": {
          "base_uri": "https://localhost:8080/"
        },
        "id": "qT3tOWsgfj9h",
        "outputId": "1fed6837-08e5-4e32-ea75-3a2a98615fd3"
      },
      "source": [
        "square(5)"
      ],
      "execution_count": null,
      "outputs": [
        {
          "output_type": "execute_result",
          "data": {
            "text/plain": [
              "25"
            ]
          },
          "metadata": {
            "tags": []
          },
          "execution_count": 18
        }
      ]
    },
    {
      "cell_type": "markdown",
      "metadata": {
        "id": "DWqFm9ytixeB"
      },
      "source": [
        "We can also define recursive functions (e.g. factorial(5) = 5! = 5 x 4 x 3 x 2 x 1)"
      ]
    },
    {
      "cell_type": "code",
      "metadata": {
        "id": "hteT6gC4iyy3"
      },
      "source": [
        "def factorial(n):  \n",
        "   if n == 1:  \n",
        "       return n  \n",
        "   else:  \n",
        "       return n*factorial(n-1)"
      ],
      "execution_count": null,
      "outputs": []
    },
    {
      "cell_type": "code",
      "metadata": {
        "colab": {
          "base_uri": "https://localhost:8080/"
        },
        "id": "stEl9x3ri-68",
        "outputId": "f7d7ed01-5910-4fed-ccd9-473449f5e881"
      },
      "source": [
        "factorial(5)"
      ],
      "execution_count": null,
      "outputs": [
        {
          "output_type": "execute_result",
          "data": {
            "text/plain": [
              "120"
            ]
          },
          "metadata": {
            "tags": []
          },
          "execution_count": 27
        }
      ]
    },
    {
      "cell_type": "code",
      "metadata": {
        "colab": {
          "base_uri": "https://localhost:8080/"
        },
        "id": "sIQ74Fp4i-uA",
        "outputId": "adb9e582-125b-4fab-d2dd-6ebd90c8bcc0"
      },
      "source": [
        "factorial(3)"
      ],
      "execution_count": null,
      "outputs": [
        {
          "output_type": "execute_result",
          "data": {
            "text/plain": [
              "6"
            ]
          },
          "metadata": {
            "tags": []
          },
          "execution_count": 30
        }
      ]
    },
    {
      "cell_type": "markdown",
      "metadata": {
        "id": "Z9TZ8s_Sgmow"
      },
      "source": [
        "We can perform operations with different Python native datatypes (Boolean, Integer, Float, List, String).\n",
        "\n",
        "Booleans are either assigned to True or False. Python expects an expression to evaluate to a boolean value. These are called Boolean contexts."
      ]
    },
    {
      "cell_type": "code",
      "metadata": {
        "colab": {
          "base_uri": "https://localhost:8080/"
        },
        "id": "f3Ri3XZcgsif",
        "outputId": "e7d41cd0-52ac-41c8-feca-00bbac451eb1"
      },
      "source": [
        "x > 10"
      ],
      "execution_count": null,
      "outputs": [
        {
          "output_type": "execute_result",
          "data": {
            "text/plain": [
              "False"
            ]
          },
          "metadata": {
            "tags": []
          },
          "execution_count": 32
        }
      ]
    },
    {
      "cell_type": "code",
      "metadata": {
        "colab": {
          "base_uri": "https://localhost:8080/"
        },
        "id": "8YLz8hnhgx1c",
        "outputId": "97065786-fb0b-48d8-95f6-5e2b2917dda3"
      },
      "source": [
        "x == 2"
      ],
      "execution_count": null,
      "outputs": [
        {
          "output_type": "execute_result",
          "data": {
            "text/plain": [
              "False"
            ]
          },
          "metadata": {
            "tags": []
          },
          "execution_count": 33
        }
      ]
    },
    {
      "cell_type": "code",
      "metadata": {
        "colab": {
          "base_uri": "https://localhost:8080/"
        },
        "id": "jmDh5vCIhBIP",
        "outputId": "ba82131e-00ca-47a6-ba61-d95ee66efcba"
      },
      "source": [
        "if x < 4:\n",
        "  print(\"x<4\")\n",
        "else:\n",
        "  print(\"x>=4\")"
      ],
      "execution_count": null,
      "outputs": [
        {
          "output_type": "stream",
          "text": [
            "x>=4\n"
          ],
          "name": "stdout"
        }
      ]
    },
    {
      "cell_type": "code",
      "metadata": {
        "id": "qdznU3ihhk1r"
      },
      "source": [
        "x = 10"
      ],
      "execution_count": null,
      "outputs": []
    },
    {
      "cell_type": "markdown",
      "metadata": {
        "id": "LFHIFcj7h3R1"
      },
      "source": [
        "A float (floating point real number) is defined with a decimal, or explicitly:"
      ]
    },
    {
      "cell_type": "code",
      "metadata": {
        "id": "XTupgEkoh8YJ"
      },
      "source": [
        "pi = 3.14"
      ],
      "execution_count": null,
      "outputs": []
    },
    {
      "cell_type": "code",
      "metadata": {
        "colab": {
          "base_uri": "https://localhost:8080/"
        },
        "id": "aNtY8EhDiBvP",
        "outputId": "6bb8530a-7b8d-41e5-8e16-69fd0e6c60d2"
      },
      "source": [
        "print(pi)"
      ],
      "execution_count": null,
      "outputs": [
        {
          "output_type": "stream",
          "text": [
            "3.14\n"
          ],
          "name": "stdout"
        }
      ]
    },
    {
      "cell_type": "code",
      "metadata": {
        "colab": {
          "base_uri": "https://localhost:8080/"
        },
        "id": "SWfLQu2biGV_",
        "outputId": "fb87d252-e9d9-45e7-ea9e-c9f4598da8b1"
      },
      "source": [
        "float(2)"
      ],
      "execution_count": null,
      "outputs": [
        {
          "output_type": "execute_result",
          "data": {
            "text/plain": [
              "2.0"
            ]
          },
          "metadata": {
            "tags": []
          },
          "execution_count": 42
        }
      ]
    },
    {
      "cell_type": "markdown",
      "metadata": {
        "id": "CFj5TVmsgVfU"
      },
      "source": [
        "## Libraries"
      ]
    },
    {
      "cell_type": "markdown",
      "metadata": {
        "id": "PZrXqu6SjeDl"
      },
      "source": [
        "The power of Python (with respect to data science) is its extensibility. We can import libraries and use functions and data types from such libraries. NumPy (https://numpy.org/) is the basis of many data science libraries. We import it as follows:"
      ]
    },
    {
      "cell_type": "code",
      "metadata": {
        "id": "OfpgjGVzfpi9"
      },
      "source": [
        "import numpy as np"
      ],
      "execution_count": null,
      "outputs": []
    },
    {
      "cell_type": "markdown",
      "metadata": {
        "id": "sSjenVGpjo7U"
      },
      "source": [
        "We can use numpy to define _vectors_ and _matrices_, and to perform mathematical operations:"
      ]
    },
    {
      "cell_type": "code",
      "metadata": {
        "id": "VVzcuFj6jgMo"
      },
      "source": [
        "# Create a vector as a row\n",
        "vector_row = np.array([1, 2, 3])"
      ],
      "execution_count": null,
      "outputs": []
    },
    {
      "cell_type": "code",
      "metadata": {
        "colab": {
          "base_uri": "https://localhost:8080/"
        },
        "id": "WEWgseyyj77q",
        "outputId": "79c9aaf8-2c2b-444e-ab91-55852f8e2aa2"
      },
      "source": [
        "print(vector_row)"
      ],
      "execution_count": null,
      "outputs": [
        {
          "output_type": "stream",
          "text": [
            "[1 2 3]\n"
          ],
          "name": "stdout"
        }
      ]
    },
    {
      "cell_type": "code",
      "metadata": {
        "id": "6woweiySj9Tn"
      },
      "source": [
        "# Create a vector as a column\n",
        "vector_column = np.array([[1],\n",
        "                          [2],\n",
        "                          [3]])"
      ],
      "execution_count": null,
      "outputs": []
    },
    {
      "cell_type": "code",
      "metadata": {
        "colab": {
          "base_uri": "https://localhost:8080/"
        },
        "id": "FPHLZhDG3m1Q",
        "outputId": "2d2c0416-270f-4370-ebb2-290bc1ca24c7"
      },
      "source": [
        "print(vector_column)"
      ],
      "execution_count": null,
      "outputs": [
        {
          "output_type": "stream",
          "text": [
            "[[1]\n",
            " [2]\n",
            " [3]]\n"
          ],
          "name": "stdout"
        }
      ]
    },
    {
      "cell_type": "markdown",
      "metadata": {
        "id": "vkJp7RMJkCka"
      },
      "source": [
        "Let's call the _linspace_ function, in order to produce a list of values that are equally spaced:"
      ]
    },
    {
      "cell_type": "code",
      "metadata": {
        "colab": {
          "base_uri": "https://localhost:8080/"
        },
        "id": "i9JZy1Mpj_iF",
        "outputId": "c553bd90-b28e-4a15-a190-89ed24b3fedf"
      },
      "source": [
        "# Build array/vector:\n",
        "x = np.linspace(-np.pi, np.pi, 10)\n",
        "print(x)"
      ],
      "execution_count": null,
      "outputs": [
        {
          "output_type": "stream",
          "text": [
            "[-3.14159265 -2.44346095 -1.74532925 -1.04719755 -0.34906585  0.34906585\n",
            "  1.04719755  1.74532925  2.44346095  3.14159265]\n"
          ],
          "name": "stdout"
        }
      ]
    },
    {
      "cell_type": "code",
      "metadata": {
        "colab": {
          "base_uri": "https://localhost:8080/"
        },
        "id": "l7nVfI10kI2t",
        "outputId": "4e2a0e14-1ea9-48ff-86d8-a59db19c2eb4"
      },
      "source": [
        "print(x[0])  # first element\n",
        "print(x[2])  # third element\n",
        "print(x[-1]) # last element\n",
        "print(x[-2]) # second to last element"
      ],
      "execution_count": null,
      "outputs": [
        {
          "output_type": "stream",
          "text": [
            "-3.141592653589793\n",
            "-1.7453292519943295\n",
            "3.141592653589793\n",
            "2.443460952792061\n"
          ],
          "name": "stdout"
        }
      ]
    },
    {
      "cell_type": "code",
      "metadata": {
        "colab": {
          "base_uri": "https://localhost:8080/"
        },
        "id": "T6sb5zw_kUnY",
        "outputId": "2e44873c-2f11-4702-dd20-224ad7830845"
      },
      "source": [
        "print(x[1:4])     # second to fourth element. Element 5 is not included\n",
        "print(x[0:-1:2])  # every other element\n",
        "print(x[:])       # print the whole vector\n",
        "print(x[-1:0:-1]) # reverse the vector!"
      ],
      "execution_count": null,
      "outputs": [
        {
          "output_type": "stream",
          "text": [
            "[-2.44346095 -1.74532925 -1.04719755]\n",
            "[-3.14159265 -1.74532925 -0.34906585  1.04719755  2.44346095]\n",
            "[-3.14159265 -2.44346095 -1.74532925 -1.04719755 -0.34906585  0.34906585\n",
            "  1.04719755  1.74532925  2.44346095  3.14159265]\n",
            "[ 3.14159265  2.44346095  1.74532925  1.04719755  0.34906585 -0.34906585\n",
            " -1.04719755 -1.74532925 -2.44346095]\n"
          ],
          "name": "stdout"
        }
      ]
    },
    {
      "cell_type": "markdown",
      "metadata": {
        "id": "89z9r27pk9jK"
      },
      "source": [
        "Consider if we want the part of the vector where x > 2:"
      ]
    },
    {
      "cell_type": "code",
      "metadata": {
        "colab": {
          "base_uri": "https://localhost:8080/"
        },
        "id": "Z7nmO6GCklm-",
        "outputId": "010fd59d-4eb7-40ff-d616-43b322f8060f"
      },
      "source": [
        "print(x > 2)\n",
        "y = x[x > 2]\n",
        "print(y)\n",
        "y[0]"
      ],
      "execution_count": null,
      "outputs": [
        {
          "output_type": "stream",
          "text": [
            "[False False False False False False False False  True  True]\n",
            "[2.44346095 3.14159265]\n"
          ],
          "name": "stdout"
        },
        {
          "output_type": "execute_result",
          "data": {
            "text/plain": [
              "2.443460952792061"
            ]
          },
          "metadata": {
            "tags": []
          },
          "execution_count": 58
        }
      ]
    },
    {
      "cell_type": "markdown",
      "metadata": {
        "id": "fo29SrBYmhwU"
      },
      "source": [
        "In the above, we have been programmatically manipulating arrays. A mathematical representation of an array is known as a vector.\n",
        "* (Imprecisely) a *vector* is an ordered set of elements, $\\vec{x}=(x_{1}~x_{2}~\\ldots~x_{n})\\in\\mathbb{R}^n$"
      ]
    },
    {
      "cell_type": "markdown",
      "metadata": {
        "id": "7ob7qB3ImxfX"
      },
      "source": [
        "* Let:\n",
        "\\begin{eqnarray}\n",
        "   \\vec{a} = \\left[\\begin{matrix} \n",
        "   a_{11} \\\\\n",
        "   a_{21} \\\\\n",
        "   a_{31} \\\\\n",
        "   \\end{matrix}\\right], & ~~~ &\n",
        "   \\vec{b} = \\left[\\begin{matrix} \n",
        "   b_{11} \\\\\n",
        "   b_{21} \\\\\n",
        "   b_{31} \\\\\n",
        "   \\end{matrix}\\right]\n",
        "\\end{eqnarray}"
      ]
    },
    {
      "cell_type": "markdown",
      "metadata": {
        "id": "iZEBaFWLnY-R"
      },
      "source": [
        "* Then:\n",
        "\\begin{equation}\n",
        "\\vec{a}+\\vec{b} = \\left[\\begin{matrix} \n",
        "   a_{11}+b_{11} \\\\\n",
        "   a_{21}+b_{21} \\\\\n",
        "   a_{31}+b_{31} \\\\\n",
        "   \\end{matrix}\\right]\n",
        "  \\end{equation}"
      ]
    },
    {
      "cell_type": "markdown",
      "metadata": {
        "id": "9VNHL-GPncAD"
      },
      "source": [
        "We will return to this when we delve deeper into modelling, later in the course."
      ]
    },
    {
      "cell_type": "markdown",
      "metadata": {
        "id": "PrXph2zinqRC"
      },
      "source": [
        "## Matrix\n",
        "\n",
        "* A matrix is a two-dimensional representation of numbers (a grid)\n",
        "* In data science, we will use linear representations to map our input to our output space, to store neural network weights, while features are stored as vector inputs\n",
        "* This allows us to have compact mathematical representations of the models, and to exploit computational resources (such as GPUs) in order to perform extremely fast processing\n",
        "* Example:\n",
        "\\begin{equation}\n",
        "A =\n",
        "   \\left[\\begin{matrix} \n",
        "   11 & 14 & 18 & 9 \\\\\n",
        "   32 & 14 & 24 & 17 \\\\\n",
        "   10 & 7 & 6 & 28 \\\\\n",
        "   \\end{matrix}\\right]\n",
        "\\end{equation}\n",
        "* We can define operations between matrices, or between matrices and vectors"
      ]
    },
    {
      "cell_type": "code",
      "metadata": {
        "id": "ekNNa8zanbu7"
      },
      "source": [
        "# Create a matrix\n",
        "matrix = np.array([[11, 14, 18, 9],\n",
        "                   [32, 14, 24, 17],\n",
        "                   [10, 7, 6, 28]])"
      ],
      "execution_count": null,
      "outputs": []
    },
    {
      "cell_type": "code",
      "metadata": {
        "colab": {
          "base_uri": "https://localhost:8080/"
        },
        "id": "SMbD1KClk_ji",
        "outputId": "bdde018d-3c4a-4f41-f6a8-ce8aea6178c2"
      },
      "source": [
        "matrix[0,2]"
      ],
      "execution_count": null,
      "outputs": [
        {
          "output_type": "execute_result",
          "data": {
            "text/plain": [
              "18"
            ]
          },
          "metadata": {
            "tags": []
          },
          "execution_count": 61
        }
      ]
    },
    {
      "cell_type": "code",
      "metadata": {
        "colab": {
          "base_uri": "https://localhost:8080/"
        },
        "id": "6HabVpRIn93K",
        "outputId": "b0268ef5-e2a7-488d-cd63-e0785abf44a9"
      },
      "source": [
        "matrix.size"
      ],
      "execution_count": null,
      "outputs": [
        {
          "output_type": "execute_result",
          "data": {
            "text/plain": [
              "12"
            ]
          },
          "metadata": {
            "tags": []
          },
          "execution_count": 62
        }
      ]
    },
    {
      "cell_type": "code",
      "metadata": {
        "colab": {
          "base_uri": "https://localhost:8080/"
        },
        "id": "Ccp-du1woAOi",
        "outputId": "daeb62a6-bf43-4f6d-d7c1-f0f0f9fedf5e"
      },
      "source": [
        "matrix.shape"
      ],
      "execution_count": null,
      "outputs": [
        {
          "output_type": "execute_result",
          "data": {
            "text/plain": [
              "(3, 4)"
            ]
          },
          "metadata": {
            "tags": []
          },
          "execution_count": 65
        }
      ]
    },
    {
      "cell_type": "code",
      "metadata": {
        "colab": {
          "base_uri": "https://localhost:8080/"
        },
        "id": "ngV2eOoJoCv3",
        "outputId": "9d2786e0-2b21-4bfb-c900-5849d0bec6a9"
      },
      "source": [
        "matrix.T"
      ],
      "execution_count": null,
      "outputs": [
        {
          "output_type": "execute_result",
          "data": {
            "text/plain": [
              "array([[11, 32, 10],\n",
              "       [14, 14,  7],\n",
              "       [18, 24,  6],\n",
              "       [ 9, 17, 28]])"
            ]
          },
          "metadata": {
            "tags": []
          },
          "execution_count": 68
        }
      ]
    },
    {
      "cell_type": "markdown",
      "metadata": {
        "id": "2XiQAFj8oKUM"
      },
      "source": [
        "We can perform algebraic operations on matrices:"
      ]
    },
    {
      "cell_type": "code",
      "metadata": {
        "colab": {
          "base_uri": "https://localhost:8080/"
        },
        "id": "usxBDzbsoEoA",
        "outputId": "d21364d7-984d-4b3d-aedc-98291d606ae2"
      },
      "source": [
        "# Create matrix\n",
        "matrix_a = np.array([[1, 1, 1],\n",
        "                     [1, 1, 1],\n",
        "                     [1, 1, 2]])\n",
        "\n",
        "# Create matrix\n",
        "matrix_b = np.array([[1, 3, 1],\n",
        "                     [1, 3, 1],\n",
        "                     [1, 3, 8]])\n",
        "\n",
        "# Add two matrices\n",
        "np.add(matrix_a, matrix_b)"
      ],
      "execution_count": null,
      "outputs": [
        {
          "output_type": "execute_result",
          "data": {
            "text/plain": [
              "array([[ 2,  4,  2],\n",
              "       [ 2,  4,  2],\n",
              "       [ 2,  4, 10]])"
            ]
          },
          "metadata": {
            "tags": []
          },
          "execution_count": 69
        }
      ]
    },
    {
      "cell_type": "markdown",
      "metadata": {
        "id": "hwa3oXsxoX8R"
      },
      "source": [
        "Or equivalently:"
      ]
    },
    {
      "cell_type": "code",
      "metadata": {
        "colab": {
          "base_uri": "https://localhost:8080/"
        },
        "id": "Ah81qW5BoQa_",
        "outputId": "ee8b95a7-84a5-40fe-8d52-864bd36d9098"
      },
      "source": [
        "matrix_a + matrix_b"
      ],
      "execution_count": null,
      "outputs": [
        {
          "output_type": "execute_result",
          "data": {
            "text/plain": [
              "array([[ 2,  4,  2],\n",
              "       [ 2,  4,  2],\n",
              "       [ 2,  4, 10]])"
            ]
          },
          "metadata": {
            "tags": []
          },
          "execution_count": 70
        }
      ]
    },
    {
      "cell_type": "code",
      "metadata": {
        "colab": {
          "base_uri": "https://localhost:8080/"
        },
        "id": "U-UJIiYyoZzF",
        "outputId": "c8892695-af36-4c3a-9383-6d890b0ba06f"
      },
      "source": [
        "matrix_a - matrix_b"
      ],
      "execution_count": null,
      "outputs": [
        {
          "output_type": "execute_result",
          "data": {
            "text/plain": [
              "array([[ 0, -2,  0],\n",
              "       [ 0, -2,  0],\n",
              "       [ 0, -2, -6]])"
            ]
          },
          "metadata": {
            "tags": []
          },
          "execution_count": 71
        }
      ]
    },
    {
      "cell_type": "markdown",
      "metadata": {
        "id": "J5IZwPwdoleT"
      },
      "source": [
        "## Exercises"
      ]
    },
    {
      "cell_type": "markdown",
      "metadata": {
        "id": "sXzyTw-oon9Y"
      },
      "source": [
        "Mandatory exercises:\n",
        "- [ ] Introduce a function that computes $x+2$ for any value of $x$. Call the function addTwo.\n",
        "- [ ] Replicate all of the code in this notebook.\n",
        "\n",
        "\n",
        "Advanced (optional) exercises (for students with existing Python knowledge):\n",
        "- [ ] By reading the NumPy documentation, create a 3-dimensional array (a _tensor_)\n",
        "- [ ] Create your own simple Python class for a Matrix, that is, an object based representation of a two-dimensional array"
      ]
    }
  ]
}