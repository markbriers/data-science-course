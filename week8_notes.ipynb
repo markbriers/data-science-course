{
  "nbformat": 4,
  "nbformat_minor": 0,
  "metadata": {
    "colab": {
      "name": "week8-notes.ipynb",
      "provenance": [],
      "authorship_tag": "ABX9TyMvl0tiOaIpAs4tvQjekNkG",
      "include_colab_link": true
    },
    "kernelspec": {
      "name": "python3",
      "display_name": "Python 3"
    }
  },
  "cells": [
    {
      "cell_type": "markdown",
      "metadata": {
        "id": "view-in-github",
        "colab_type": "text"
      },
      "source": [
        "<a href=\"https://colab.research.google.com/github/markbriers/data-science-jupyter/blob/main/week8_notes.ipynb\" target=\"_parent\"><img src=\"https://colab.research.google.com/assets/colab-badge.svg\" alt=\"Open In Colab\"/></a>"
      ]
    },
    {
      "cell_type": "markdown",
      "metadata": {
        "id": "gLrbkBC9NgB2"
      },
      "source": [
        " # Modelling part 3 (Week 8)"
      ]
    },
    {
      "cell_type": "markdown",
      "metadata": {
        "id": "G9WUKeYENpRx"
      },
      "source": [
        "Code at: https://github.com/markbriers/data-science-jupyter"
      ]
    },
    {
      "cell_type": "markdown",
      "metadata": {
        "id": "TDtdyAqfNrdb"
      },
      "source": [
        "## Recap - the story so far"
      ]
    },
    {
      "cell_type": "markdown",
      "metadata": {
        "id": "xeDfHRh5Ntqs"
      },
      "source": [
        "Our goal is to follow a data science process (CRISP-DM) to deliver a successful business outcome.\n",
        "\n",
        "Our learning objectives are as follows:\n",
        "\n",
        "* Describe the six stages of a data processing pipeline (using CRISP-DM)\n",
        "\n",
        "* Demonstrate an understanding of the python programming language through the production of elementary data analysis programme\n",
        "\n",
        "* Analyse at least three different data sources by applying at least one python data processing library to extract and explore pertinent features\n",
        "\n",
        "* Be able to design a set of data requirements for a specified business problem\n",
        "\n",
        "* Describe and apply (using the python programming language) the main approaches to supervised learning for a given classification problem\n",
        "\n",
        "* Understand the use cases of Big Data technology (in particular Spark)\n",
        "\n",
        "* Produce a report including appropriate data visualisations covering the analysis of a business problem using a data science based approach"
      ]
    },
    {
      "cell_type": "markdown",
      "metadata": {
        "id": "A5G8Tam5Nx6H"
      },
      "source": [
        "## Learning outcome\n",
        "\n",
        "* By the end of the lecture, you will be able to use the tensorflow library to estimate parameters of a binary classification model.\n",
        "\n",
        "* By the end of the lecture, you will be able to use the tensorflow library to estimate parameters of a deep neural network.\n",
        "\n",
        "* By the end of the lecture, you will have a high level understanding of Generative Adversarial Networks (GANs), and how they can be used to generate \"fake news\"."
      ]
    },
    {
      "cell_type": "markdown",
      "metadata": {
        "id": "6kfHeB0xOPz2"
      },
      "source": [
        "# Bernoulli distribution and coin tossing"
      ]
    },
    {
      "cell_type": "markdown",
      "metadata": {
        "id": "4ZifwgyAOVCI"
      },
      "source": [
        "Let's compute the following probabilities:\n",
        "* Tossing T with a fair coin\n",
        "* Tossing HH with a fair coin\n",
        "* Tossing HT with a fair coin\n",
        "* Tossing HTH with a fair coin\n",
        "* Tossing H with a biased coin ($p(head) = \\lambda = 0.1$)\n",
        "* Tossing HT with a biased coin ($p(head) = \\lambda = 0.1$)"
      ]
    },
    {
      "cell_type": "markdown",
      "metadata": {
        "id": "Gn0vPwpZOYBM"
      },
      "source": [
        "Now we'll (informally) introduce the concept of a random variable, denoted $C$, where $C=0$ corresponds to coin landing on heads and $C=1$ corresponds to coin landing on tails. The probability of $C=1$ is equal to $\\lambda$. If $\\lambda=0.5$ then the coin is unbiased (and we're maximally uncertain about the outcome of a coin toss."
      ]
    },
    {
      "cell_type": "markdown",
      "metadata": {
        "id": "S49kuyroOa29"
      },
      "source": [
        "We can say that $C$ follows a Bernoulli distribution, with *probability mass function* equal to the following expression:\n",
        "\\begin{equation}\n",
        "p(C|\\lambda) = \\lambda^{C}(1-\\lambda)^{1-C}\n",
        "\\end{equation}"
      ]
    },
    {
      "cell_type": "markdown",
      "metadata": {
        "id": "Anjj8-FGOdzT"
      },
      "source": [
        "## Logistic regression - binary classification (supervised learning)"
      ]
    },
    {
      "cell_type": "markdown",
      "metadata": {
        "id": "hDK43Y6BOg_g"
      },
      "source": [
        "Consider the scenario where we wish to partition objects into two categories (e.g. spam or not spam, fraud or not fraud, positive sentiment or negative sentiment, face present or face not present, ...) given a set of attributes. The simplest (and widest used) model to achieve this is known as a Logistic Regression model. The Logistic Regression model \"squashes\" the output of a linear regression model, so that the resultant squashed output is between $0$ and $1$. This \"squashed\" output can be interpreted as a class probabaility (e.g. probability of spam or not spam). So what is the squashing function? "
      ]
    },
    {
      "cell_type": "markdown",
      "metadata": {
        "id": "uk6wTn0JOjlB"
      },
      "source": [
        "### Sigmoid function"
      ]
    },
    {
      "cell_type": "markdown",
      "metadata": {
        "id": "JxM-mw__Omai"
      },
      "source": [
        "$sigm(\\eta)$ is known as the sigmoid function (also known as the _logistic_ or _logit_ function):"
      ]
    },
    {
      "cell_type": "markdown",
      "metadata": {
        "id": "7KNVAYYEOo4X"
      },
      "source": [
        "\\begin{equation}\n",
        "sigm(\\eta) = \\frac{1}{1+e^{-\\eta}} = \\frac{e^{\\eta}}{e^{\\eta}+1}\n",
        "\\end{equation}"
      ]
    },
    {
      "cell_type": "markdown",
      "metadata": {
        "id": "0HdpBmF-Oreq"
      },
      "source": [
        "This function has the property that is \"squashes\" any input (from $-\\infty < \\eta < \\infty$) to a value between 0 and 1."
      ]
    },
    {
      "cell_type": "markdown",
      "metadata": {
        "id": "QG8NF9M7OuXP"
      },
      "source": [
        "We can use the Bernouilli expression introduced above to model input data and (probabilistically) ascertain whether the data are from one class or another:"
      ]
    },
    {
      "cell_type": "markdown",
      "metadata": {
        "id": "JiaZX9QjOw6O"
      },
      "source": [
        "\\begin{equation}\n",
        "\\prod_{i=1}^{N} Ber(C_{i}|sigm(\\theta x_{i})) = \\prod_{i=1}^{N} \\left[\\frac{1}{1+e^{-\\theta x_{i}}} \\right]^{C_{i}} \\left[1-\\frac{1}{1+e^{-\\theta x_{i}}} \\right]^{1-C_{i}}\n",
        "\\end{equation}"
      ]
    },
    {
      "cell_type": "markdown",
      "metadata": {
        "id": "PpecF5z2OzVB"
      },
      "source": [
        "So how do we estimate model parameters $\\theta$? What is the loss function?"
      ]
    },
    {
      "cell_type": "markdown",
      "metadata": {
        "id": "FRqvu_LIO15y"
      },
      "source": [
        "### Cross-entropy loss"
      ]
    },
    {
      "cell_type": "markdown",
      "metadata": {
        "id": "xxIXxMsTO4kw"
      },
      "source": [
        "Let's introduce entropy: https://en.wikipedia.org/wiki/Entropy_(information_theory). Entropy can be considered to be a measure of uncertainty. For example, in the case of coin tossing, the value oof $\\lambda$ that maximises entropy is $\\lambda = 0.5$ - we are maximally uncertain about the outcome of the \"experiment\". We therefore want to chose a value of $\\theta$ (in the above model) that minimises *cross entropy loss*:\n",
        "\\begin{equation}\n",
        "c(\\theta) = -\\frac{1}{N}\\sum_{i=1}^{N} \\left[C_{i}log\\hat{C}_{i}+(1-C_{i})log(1-\\hat{C}_{i})\\right]\n",
        "\\end{equation}"
      ]
    },
    {
      "cell_type": "markdown",
      "metadata": {
        "id": "75LA3C_pO7V5"
      },
      "source": [
        "where:\n",
        "\\begin{equation}\n",
        "\\hat{C}_{i} = \\frac{1}{1+e^{-\\theta x_{i}}}\n",
        "\\end{equation}"
      ]
    },
    {
      "cell_type": "markdown",
      "metadata": {
        "id": "VL_kMHlPO-WZ"
      },
      "source": [
        "In order to compute the optimal value of $\\theta$ that minimises the cross entropy loss, we use the chain rule (differentiation of composed functions) and gradient descent."
      ]
    },
    {
      "cell_type": "markdown",
      "metadata": {
        "id": "tXX1c8aYTAlG"
      },
      "source": [
        "### Tensorflow implementation\n"
      ]
    },
    {
      "cell_type": "code",
      "metadata": {
        "id": "-vUJBWSuTEje"
      },
      "source": [
        "import pandas as pd\n",
        "import numpy as np\n",
        "import seaborn as sns \n",
        "import tensorflow as tf \n",
        "import matplotlib.pyplot as plt \n",
        "%matplotlib inline"
      ],
      "execution_count": 1,
      "outputs": []
    },
    {
      "cell_type": "markdown",
      "metadata": {
        "id": "7q9Yzr0jTJz3"
      },
      "source": [
        "The dataset basically consists of 7 columns:\n",
        "\n",
        "* price (the buying price of the car)\n",
        "* maint (the maintenance cost)\n",
        "* doors (number of doors)\n",
        "* persons (the seating capacity)\n",
        "* lug_capacity (the luggage capacity)\n",
        "* safety (how safe is the car)\n",
        "* output (the condition of the car)\n",
        "\n",
        "Given the first 6 columns, the task is to predict the value for the 7th column i.e. the output column."
      ]
    },
    {
      "cell_type": "code",
      "metadata": {
        "id": "LAF3OGHiTann",
        "colab": {
          "base_uri": "https://localhost:8080/",
          "height": 195
        },
        "outputId": "17138f26-b9a3-49bc-c2be-968b6e324991"
      },
      "source": [
        "cols = ['price', 'maint', 'doors', 'persons', 'lug_capacity', 'safety','output']\n",
        "cars = pd.read_csv('https://raw.githubusercontent.com/vortexeye/Car-Evaluation/master/car_evaluation.csv', names=cols, header=None)\n",
        "cars.head()"
      ],
      "execution_count": 2,
      "outputs": [
        {
          "output_type": "execute_result",
          "data": {
            "text/html": [
              "<div>\n",
              "<style scoped>\n",
              "    .dataframe tbody tr th:only-of-type {\n",
              "        vertical-align: middle;\n",
              "    }\n",
              "\n",
              "    .dataframe tbody tr th {\n",
              "        vertical-align: top;\n",
              "    }\n",
              "\n",
              "    .dataframe thead th {\n",
              "        text-align: right;\n",
              "    }\n",
              "</style>\n",
              "<table border=\"1\" class=\"dataframe\">\n",
              "  <thead>\n",
              "    <tr style=\"text-align: right;\">\n",
              "      <th></th>\n",
              "      <th>price</th>\n",
              "      <th>maint</th>\n",
              "      <th>doors</th>\n",
              "      <th>persons</th>\n",
              "      <th>lug_capacity</th>\n",
              "      <th>safety</th>\n",
              "      <th>output</th>\n",
              "    </tr>\n",
              "  </thead>\n",
              "  <tbody>\n",
              "    <tr>\n",
              "      <th>0</th>\n",
              "      <td>vhigh</td>\n",
              "      <td>vhigh</td>\n",
              "      <td>2</td>\n",
              "      <td>2</td>\n",
              "      <td>small</td>\n",
              "      <td>low</td>\n",
              "      <td>unacc</td>\n",
              "    </tr>\n",
              "    <tr>\n",
              "      <th>1</th>\n",
              "      <td>vhigh</td>\n",
              "      <td>vhigh</td>\n",
              "      <td>2</td>\n",
              "      <td>2</td>\n",
              "      <td>small</td>\n",
              "      <td>med</td>\n",
              "      <td>unacc</td>\n",
              "    </tr>\n",
              "    <tr>\n",
              "      <th>2</th>\n",
              "      <td>vhigh</td>\n",
              "      <td>vhigh</td>\n",
              "      <td>2</td>\n",
              "      <td>2</td>\n",
              "      <td>small</td>\n",
              "      <td>high</td>\n",
              "      <td>unacc</td>\n",
              "    </tr>\n",
              "    <tr>\n",
              "      <th>3</th>\n",
              "      <td>vhigh</td>\n",
              "      <td>vhigh</td>\n",
              "      <td>2</td>\n",
              "      <td>2</td>\n",
              "      <td>med</td>\n",
              "      <td>low</td>\n",
              "      <td>unacc</td>\n",
              "    </tr>\n",
              "    <tr>\n",
              "      <th>4</th>\n",
              "      <td>vhigh</td>\n",
              "      <td>vhigh</td>\n",
              "      <td>2</td>\n",
              "      <td>2</td>\n",
              "      <td>med</td>\n",
              "      <td>med</td>\n",
              "      <td>unacc</td>\n",
              "    </tr>\n",
              "  </tbody>\n",
              "</table>\n",
              "</div>"
            ],
            "text/plain": [
              "   price  maint doors persons lug_capacity safety output\n",
              "0  vhigh  vhigh     2       2        small    low  unacc\n",
              "1  vhigh  vhigh     2       2        small    med  unacc\n",
              "2  vhigh  vhigh     2       2        small   high  unacc\n",
              "3  vhigh  vhigh     2       2          med    low  unacc\n",
              "4  vhigh  vhigh     2       2          med    med  unacc"
            ]
          },
          "metadata": {
            "tags": []
          },
          "execution_count": 2
        }
      ]
    },
    {
      "cell_type": "markdown",
      "metadata": {
        "id": "E30FLltNVN9S"
      },
      "source": [
        "### Brief exploratory analysis"
      ]
    },
    {
      "cell_type": "markdown",
      "metadata": {
        "id": "OdaDK4tjJDiK"
      },
      "source": [
        "Let's perform a brief exploratory analysis of the data:"
      ]
    },
    {
      "cell_type": "code",
      "metadata": {
        "colab": {
          "base_uri": "https://localhost:8080/",
          "height": 265
        },
        "id": "0zEuL2tSVaEf",
        "outputId": "d78f5699-bb3a-4d97-a6af-5cf1b9fdd90b"
      },
      "source": [
        "cars.output.value_counts().plot(kind='pie', autopct='%0.05f%%', colors=['lightblue', 'lightgreen', 'orange', 'pink'], explode=(0.05, 0.05, 0.05,0.05))"
      ],
      "execution_count": 3,
      "outputs": [
        {
          "output_type": "execute_result",
          "data": {
            "text/plain": [
              "<matplotlib.axes._subplots.AxesSubplot at 0x7f1363945610>"
            ]
          },
          "metadata": {
            "tags": []
          },
          "execution_count": 3
        },
        {
          "output_type": "display_data",
          "data": {
            "image/png": "[encoded data removed]",
            "text/plain": [
              "<Figure size 432x288 with 1 Axes>"
            ]
          },
          "metadata": {
            "tags": []
          }
        }
      ]
    },
    {
      "cell_type": "markdown",
      "metadata": {
        "id": "B7Fv-mCQVnmI"
      },
      "source": [
        "Let's convert the categorical values into numerical values (https://pandas.pydata.org/pandas-docs/stable/reference/api/pandas.get_dummies.html?highlight=get_dummies#pandas.get_dummies):"
      ]
    },
    {
      "cell_type": "code",
      "metadata": {
        "id": "U6493ntKVqGz"
      },
      "source": [
        "price = pd.get_dummies(cars.price, prefix='price') #The get_dummies() function is used to convert categorical variable into dummy/indicator variables\n",
        "maint = pd.get_dummies(cars.maint, prefix='maint')\n",
        "\n",
        "doors = pd.get_dummies(cars.doors, prefix='doors')\n",
        "persons = pd.get_dummies(cars.persons, prefix='persons')\n",
        "\n",
        "lug_capacity = pd.get_dummies(cars.lug_capacity, prefix='lug_capacity')\n",
        "safety = pd.get_dummies(cars.safety, prefix='safety')\n",
        "\n",
        "labels = pd.get_dummies(cars.output, prefix='condition')"
      ],
      "execution_count": 5,
      "outputs": []
    },
    {
      "cell_type": "markdown",
      "metadata": {
        "id": "_etXvdh3JyO3"
      },
      "source": [
        "Now concatonate the two data frames (https://pandas.pydata.org/pandas-docs/stable/reference/api/pandas.concat.html):"
      ]
    },
    {
      "cell_type": "code",
      "metadata": {
        "colab": {
          "base_uri": "https://localhost:8080/",
          "height": 215
        },
        "id": "lG_3PYIYVtoQ",
        "outputId": "0f8811d9-b5a4-492e-82bb-1838123c4ad6"
      },
      "source": [
        "X = pd.concat([price, maint, doors, persons, lug_capacity, safety] , axis=1)\n",
        "X.head()"
      ],
      "execution_count": 6,
      "outputs": [
        {
          "output_type": "execute_result",
          "data": {
            "text/html": [
              "<div>\n",
              "<style scoped>\n",
              "    .dataframe tbody tr th:only-of-type {\n",
              "        vertical-align: middle;\n",
              "    }\n",
              "\n",
              "    .dataframe tbody tr th {\n",
              "        vertical-align: top;\n",
              "    }\n",
              "\n",
              "    .dataframe thead th {\n",
              "        text-align: right;\n",
              "    }\n",
              "</style>\n",
              "<table border=\"1\" class=\"dataframe\">\n",
              "  <thead>\n",
              "    <tr style=\"text-align: right;\">\n",
              "      <th></th>\n",
              "      <th>price_high</th>\n",
              "      <th>price_low</th>\n",
              "      <th>price_med</th>\n",
              "      <th>price_vhigh</th>\n",
              "      <th>maint_high</th>\n",
              "      <th>maint_low</th>\n",
              "      <th>maint_med</th>\n",
              "      <th>maint_vhigh</th>\n",
              "      <th>doors_2</th>\n",
              "      <th>doors_3</th>\n",
              "      <th>doors_4</th>\n",
              "      <th>doors_5more</th>\n",
              "      <th>persons_2</th>\n",
              "      <th>persons_4</th>\n",
              "      <th>persons_more</th>\n",
              "      <th>lug_capacity_big</th>\n",
              "      <th>lug_capacity_med</th>\n",
              "      <th>lug_capacity_small</th>\n",
              "      <th>safety_high</th>\n",
              "      <th>safety_low</th>\n",
              "      <th>safety_med</th>\n",
              "    </tr>\n",
              "  </thead>\n",
              "  <tbody>\n",
              "    <tr>\n",
              "      <th>0</th>\n",
              "      <td>0</td>\n",
              "      <td>0</td>\n",
              "      <td>0</td>\n",
              "      <td>1</td>\n",
              "      <td>0</td>\n",
              "      <td>0</td>\n",
              "      <td>0</td>\n",
              "      <td>1</td>\n",
              "      <td>1</td>\n",
              "      <td>0</td>\n",
              "      <td>0</td>\n",
              "      <td>0</td>\n",
              "      <td>1</td>\n",
              "      <td>0</td>\n",
              "      <td>0</td>\n",
              "      <td>0</td>\n",
              "      <td>0</td>\n",
              "      <td>1</td>\n",
              "      <td>0</td>\n",
              "      <td>1</td>\n",
              "      <td>0</td>\n",
              "    </tr>\n",
              "    <tr>\n",
              "      <th>1</th>\n",
              "      <td>0</td>\n",
              "      <td>0</td>\n",
              "      <td>0</td>\n",
              "      <td>1</td>\n",
              "      <td>0</td>\n",
              "      <td>0</td>\n",
              "      <td>0</td>\n",
              "      <td>1</td>\n",
              "      <td>1</td>\n",
              "      <td>0</td>\n",
              "      <td>0</td>\n",
              "      <td>0</td>\n",
              "      <td>1</td>\n",
              "      <td>0</td>\n",
              "      <td>0</td>\n",
              "      <td>0</td>\n",
              "      <td>0</td>\n",
              "      <td>1</td>\n",
              "      <td>0</td>\n",
              "      <td>0</td>\n",
              "      <td>1</td>\n",
              "    </tr>\n",
              "    <tr>\n",
              "      <th>2</th>\n",
              "      <td>0</td>\n",
              "      <td>0</td>\n",
              "      <td>0</td>\n",
              "      <td>1</td>\n",
              "      <td>0</td>\n",
              "      <td>0</td>\n",
              "      <td>0</td>\n",
              "      <td>1</td>\n",
              "      <td>1</td>\n",
              "      <td>0</td>\n",
              "      <td>0</td>\n",
              "      <td>0</td>\n",
              "      <td>1</td>\n",
              "      <td>0</td>\n",
              "      <td>0</td>\n",
              "      <td>0</td>\n",
              "      <td>0</td>\n",
              "      <td>1</td>\n",
              "      <td>1</td>\n",
              "      <td>0</td>\n",
              "      <td>0</td>\n",
              "    </tr>\n",
              "    <tr>\n",
              "      <th>3</th>\n",
              "      <td>0</td>\n",
              "      <td>0</td>\n",
              "      <td>0</td>\n",
              "      <td>1</td>\n",
              "      <td>0</td>\n",
              "      <td>0</td>\n",
              "      <td>0</td>\n",
              "      <td>1</td>\n",
              "      <td>1</td>\n",
              "      <td>0</td>\n",
              "      <td>0</td>\n",
              "      <td>0</td>\n",
              "      <td>1</td>\n",
              "      <td>0</td>\n",
              "      <td>0</td>\n",
              "      <td>0</td>\n",
              "      <td>1</td>\n",
              "      <td>0</td>\n",
              "      <td>0</td>\n",
              "      <td>1</td>\n",
              "      <td>0</td>\n",
              "    </tr>\n",
              "    <tr>\n",
              "      <th>4</th>\n",
              "      <td>0</td>\n",
              "      <td>0</td>\n",
              "      <td>0</td>\n",
              "      <td>1</td>\n",
              "      <td>0</td>\n",
              "      <td>0</td>\n",
              "      <td>0</td>\n",
              "      <td>1</td>\n",
              "      <td>1</td>\n",
              "      <td>0</td>\n",
              "      <td>0</td>\n",
              "      <td>0</td>\n",
              "      <td>1</td>\n",
              "      <td>0</td>\n",
              "      <td>0</td>\n",
              "      <td>0</td>\n",
              "      <td>1</td>\n",
              "      <td>0</td>\n",
              "      <td>0</td>\n",
              "      <td>0</td>\n",
              "      <td>1</td>\n",
              "    </tr>\n",
              "  </tbody>\n",
              "</table>\n",
              "</div>"
            ],
            "text/plain": [
              "   price_high  price_low  price_med  ...  safety_high  safety_low  safety_med\n",
              "0           0          0          0  ...            0           1           0\n",
              "1           0          0          0  ...            0           0           1\n",
              "2           0          0          0  ...            1           0           0\n",
              "3           0          0          0  ...            0           1           0\n",
              "4           0          0          0  ...            0           0           1\n",
              "\n",
              "[5 rows x 21 columns]"
            ]
          },
          "metadata": {
            "tags": []
          },
          "execution_count": 6
        }
      ]
    },
    {
      "cell_type": "markdown",
      "metadata": {
        "id": "TwLMM5WxPKhP"
      },
      "source": [
        "The labels dataframe corresponds to the output category (i.e. the condition of the vehicle):"
      ]
    },
    {
      "cell_type": "code",
      "metadata": {
        "colab": {
          "base_uri": "https://localhost:8080/",
          "height": 195
        },
        "id": "tR10u7IXVwsW",
        "outputId": "aef0118a-8ea3-442a-ee49-63df0c5f9d69"
      },
      "source": [
        "labels.head()"
      ],
      "execution_count": 7,
      "outputs": [
        {
          "output_type": "execute_result",
          "data": {
            "text/html": [
              "<div>\n",
              "<style scoped>\n",
              "    .dataframe tbody tr th:only-of-type {\n",
              "        vertical-align: middle;\n",
              "    }\n",
              "\n",
              "    .dataframe tbody tr th {\n",
              "        vertical-align: top;\n",
              "    }\n",
              "\n",
              "    .dataframe thead th {\n",
              "        text-align: right;\n",
              "    }\n",
              "</style>\n",
              "<table border=\"1\" class=\"dataframe\">\n",
              "  <thead>\n",
              "    <tr style=\"text-align: right;\">\n",
              "      <th></th>\n",
              "      <th>condition_acc</th>\n",
              "      <th>condition_good</th>\n",
              "      <th>condition_unacc</th>\n",
              "      <th>condition_vgood</th>\n",
              "    </tr>\n",
              "  </thead>\n",
              "  <tbody>\n",
              "    <tr>\n",
              "      <th>0</th>\n",
              "      <td>0</td>\n",
              "      <td>0</td>\n",
              "      <td>1</td>\n",
              "      <td>0</td>\n",
              "    </tr>\n",
              "    <tr>\n",
              "      <th>1</th>\n",
              "      <td>0</td>\n",
              "      <td>0</td>\n",
              "      <td>1</td>\n",
              "      <td>0</td>\n",
              "    </tr>\n",
              "    <tr>\n",
              "      <th>2</th>\n",
              "      <td>0</td>\n",
              "      <td>0</td>\n",
              "      <td>1</td>\n",
              "      <td>0</td>\n",
              "    </tr>\n",
              "    <tr>\n",
              "      <th>3</th>\n",
              "      <td>0</td>\n",
              "      <td>0</td>\n",
              "      <td>1</td>\n",
              "      <td>0</td>\n",
              "    </tr>\n",
              "    <tr>\n",
              "      <th>4</th>\n",
              "      <td>0</td>\n",
              "      <td>0</td>\n",
              "      <td>1</td>\n",
              "      <td>0</td>\n",
              "    </tr>\n",
              "  </tbody>\n",
              "</table>\n",
              "</div>"
            ],
            "text/plain": [
              "   condition_acc  condition_good  condition_unacc  condition_vgood\n",
              "0              0               0                1                0\n",
              "1              0               0                1                0\n",
              "2              0               0                1                0\n",
              "3              0               0                1                0\n",
              "4              0               0                1                0"
            ]
          },
          "metadata": {
            "tags": []
          },
          "execution_count": 7
        }
      ]
    },
    {
      "cell_type": "code",
      "metadata": {
        "id": "oW4WxktAVzQP"
      },
      "source": [
        "y = labels.values"
      ],
      "execution_count": 8,
      "outputs": []
    },
    {
      "cell_type": "markdown",
      "metadata": {
        "id": "liZRIICoV1hE"
      },
      "source": [
        "We'll randomly split the data into training and test data:"
      ]
    },
    {
      "cell_type": "code",
      "metadata": {
        "id": "voUr4rKWV4km"
      },
      "source": [
        "from sklearn.model_selection import train_test_split\n",
        "X_train, X_test, y_train, y_test = train_test_split(X, y, test_size=0.20, random_state=42)"
      ],
      "execution_count": 13,
      "outputs": []
    },
    {
      "cell_type": "markdown",
      "metadata": {
        "id": "Jj8SJT5mV35H"
      },
      "source": [
        "And create the model as layers in tensorflow:"
      ]
    },
    {
      "cell_type": "code",
      "metadata": {
        "id": "gZ5VPs2GV9kK"
      },
      "source": [
        "from tensorflow.keras.layers import Input, Dense, Activation,Dropout\n",
        "from tensorflow.keras.models import Model"
      ],
      "execution_count": 14,
      "outputs": []
    },
    {
      "cell_type": "code",
      "metadata": {
        "id": "X3ySC9EuV_oz"
      },
      "source": [
        "input_layer = Input(shape=(X.shape[1],))\n",
        "output = Dense(y.shape[1], activation='softmax')(input_layer)\n",
        "\n",
        "model = Model(inputs=input_layer, outputs=output)\n",
        "model.compile(loss='categorical_crossentropy', optimizer='sgd', metrics=['acc'])"
      ],
      "execution_count": 15,
      "outputs": []
    },
    {
      "cell_type": "markdown",
      "metadata": {
        "id": "K5YmJGcfWDfB"
      },
      "source": [
        "The softmax activation function acts as a generalisation of the sigmoid function in logistic regression, to allow for multi-class classification problems (i.e. it extends binary classification) - see https://www.kdnuggets.com/2016/07/softmax-regression-related-logistic-regression.html"
      ]
    },
    {
      "cell_type": "code",
      "metadata": {
        "colab": {
          "base_uri": "https://localhost:8080/"
        },
        "id": "1zcpn2vUWGE2",
        "outputId": "9efc1496-82f7-472b-9d7e-d9ba17684354"
      },
      "source": [
        "print(model.summary())"
      ],
      "execution_count": 16,
      "outputs": [
        {
          "output_type": "stream",
          "text": [
            "Model: \"model_1\"\n",
            "_________________________________________________________________\n",
            "Layer (type)                 Output Shape              Param #   \n",
            "=================================================================\n",
            "input_2 (InputLayer)         [(None, 21)]              0         \n",
            "_________________________________________________________________\n",
            "dense_1 (Dense)              (None, 4)                 88        \n",
            "=================================================================\n",
            "Total params: 88\n",
            "Trainable params: 88\n",
            "Non-trainable params: 0\n",
            "_________________________________________________________________\n",
            "None\n"
          ],
          "name": "stdout"
        }
      ]
    },
    {
      "cell_type": "markdown",
      "metadata": {
        "id": "qPRuxgg7PcaW"
      },
      "source": [
        "Now we can fit the model (i.e. estimate the parameters):"
      ]
    },
    {
      "cell_type": "code",
      "metadata": {
        "colab": {
          "base_uri": "https://localhost:8080/"
        },
        "id": "lfjXAVMlWI0b",
        "outputId": "e955357d-8228-46ae-b196-23f1a79d1535"
      },
      "source": [
        "history = model.fit(X_train, y_train, batch_size=8, epochs=50, verbose=1, validation_split=0.2)"
      ],
      "execution_count": 17,
      "outputs": [
        {
          "output_type": "stream",
          "text": [
            "Epoch 1/50\n",
            "139/139 [==============================] - 1s 3ms/step - loss: 1.3379 - acc: 0.3924 - val_loss: 0.9411 - val_acc: 0.6570\n",
            "Epoch 2/50\n",
            "139/139 [==============================] - 0s 1ms/step - loss: 0.8254 - acc: 0.7237 - val_loss: 0.8297 - val_acc: 0.6787\n",
            "Epoch 3/50\n",
            "139/139 [==============================] - 0s 1ms/step - loss: 0.7189 - acc: 0.7477 - val_loss: 0.7780 - val_acc: 0.6679\n",
            "Epoch 4/50\n",
            "139/139 [==============================] - 0s 1ms/step - loss: 0.6592 - acc: 0.7414 - val_loss: 0.7412 - val_acc: 0.6751\n",
            "Epoch 5/50\n",
            "139/139 [==============================] - 0s 1ms/step - loss: 0.6408 - acc: 0.7369 - val_loss: 0.7131 - val_acc: 0.6823\n",
            "Epoch 6/50\n",
            "139/139 [==============================] - 0s 1ms/step - loss: 0.5840 - acc: 0.7513 - val_loss: 0.6889 - val_acc: 0.6968\n",
            "Epoch 7/50\n",
            "139/139 [==============================] - 0s 2ms/step - loss: 0.5348 - acc: 0.7739 - val_loss: 0.6688 - val_acc: 0.7148\n",
            "Epoch 8/50\n",
            "139/139 [==============================] - 0s 1ms/step - loss: 0.5326 - acc: 0.7701 - val_loss: 0.6522 - val_acc: 0.7148\n",
            "Epoch 9/50\n",
            "139/139 [==============================] - 0s 1ms/step - loss: 0.5369 - acc: 0.7852 - val_loss: 0.6374 - val_acc: 0.7473\n",
            "Epoch 10/50\n",
            "139/139 [==============================] - 0s 1ms/step - loss: 0.5074 - acc: 0.8055 - val_loss: 0.6239 - val_acc: 0.7653\n",
            "Epoch 11/50\n",
            "139/139 [==============================] - 0s 1ms/step - loss: 0.4957 - acc: 0.8323 - val_loss: 0.6116 - val_acc: 0.7762\n",
            "Epoch 12/50\n",
            "139/139 [==============================] - 0s 2ms/step - loss: 0.5143 - acc: 0.8206 - val_loss: 0.6013 - val_acc: 0.7690\n",
            "Epoch 13/50\n",
            "139/139 [==============================] - 0s 1ms/step - loss: 0.4824 - acc: 0.8334 - val_loss: 0.5906 - val_acc: 0.7834\n",
            "Epoch 14/50\n",
            "139/139 [==============================] - 0s 1ms/step - loss: 0.4975 - acc: 0.8379 - val_loss: 0.5816 - val_acc: 0.7798\n",
            "Epoch 15/50\n",
            "139/139 [==============================] - 0s 1ms/step - loss: 0.4663 - acc: 0.8378 - val_loss: 0.5730 - val_acc: 0.7870\n",
            "Epoch 16/50\n",
            "139/139 [==============================] - 0s 2ms/step - loss: 0.4630 - acc: 0.8441 - val_loss: 0.5646 - val_acc: 0.7834\n",
            "Epoch 17/50\n",
            "139/139 [==============================] - 0s 2ms/step - loss: 0.4571 - acc: 0.8408 - val_loss: 0.5565 - val_acc: 0.7978\n",
            "Epoch 18/50\n",
            "139/139 [==============================] - 0s 1ms/step - loss: 0.4635 - acc: 0.8463 - val_loss: 0.5499 - val_acc: 0.7906\n",
            "Epoch 19/50\n",
            "139/139 [==============================] - 0s 2ms/step - loss: 0.4651 - acc: 0.8402 - val_loss: 0.5426 - val_acc: 0.7978\n",
            "Epoch 20/50\n",
            "139/139 [==============================] - 0s 1ms/step - loss: 0.4458 - acc: 0.8494 - val_loss: 0.5359 - val_acc: 0.8123\n",
            "Epoch 21/50\n",
            "139/139 [==============================] - 0s 2ms/step - loss: 0.4172 - acc: 0.8541 - val_loss: 0.5299 - val_acc: 0.8087\n",
            "Epoch 22/50\n",
            "139/139 [==============================] - 0s 1ms/step - loss: 0.4007 - acc: 0.8731 - val_loss: 0.5239 - val_acc: 0.8087\n",
            "Epoch 23/50\n",
            "139/139 [==============================] - 0s 1ms/step - loss: 0.4103 - acc: 0.8645 - val_loss: 0.5179 - val_acc: 0.8051\n",
            "Epoch 24/50\n",
            "139/139 [==============================] - 0s 1ms/step - loss: 0.4081 - acc: 0.8641 - val_loss: 0.5129 - val_acc: 0.8051\n",
            "Epoch 25/50\n",
            "139/139 [==============================] - 0s 2ms/step - loss: 0.4377 - acc: 0.8400 - val_loss: 0.5079 - val_acc: 0.8195\n",
            "Epoch 26/50\n",
            "139/139 [==============================] - 0s 1ms/step - loss: 0.4026 - acc: 0.8714 - val_loss: 0.5031 - val_acc: 0.8231\n",
            "Epoch 27/50\n",
            "139/139 [==============================] - 0s 1ms/step - loss: 0.3976 - acc: 0.8573 - val_loss: 0.4984 - val_acc: 0.8231\n",
            "Epoch 28/50\n",
            "139/139 [==============================] - 0s 1ms/step - loss: 0.3931 - acc: 0.8590 - val_loss: 0.4942 - val_acc: 0.8231\n",
            "Epoch 29/50\n",
            "139/139 [==============================] - 0s 1ms/step - loss: 0.3793 - acc: 0.8741 - val_loss: 0.4900 - val_acc: 0.8231\n",
            "Epoch 30/50\n",
            "139/139 [==============================] - 0s 2ms/step - loss: 0.4017 - acc: 0.8641 - val_loss: 0.4862 - val_acc: 0.8231\n",
            "Epoch 31/50\n",
            "139/139 [==============================] - 0s 2ms/step - loss: 0.4072 - acc: 0.8444 - val_loss: 0.4821 - val_acc: 0.8231\n",
            "Epoch 32/50\n",
            "139/139 [==============================] - 0s 2ms/step - loss: 0.3736 - acc: 0.8687 - val_loss: 0.4787 - val_acc: 0.8231\n",
            "Epoch 33/50\n",
            "139/139 [==============================] - 0s 1ms/step - loss: 0.3768 - acc: 0.8661 - val_loss: 0.4751 - val_acc: 0.8231\n",
            "Epoch 34/50\n",
            "139/139 [==============================] - 0s 1ms/step - loss: 0.3859 - acc: 0.8510 - val_loss: 0.4717 - val_acc: 0.8231\n",
            "Epoch 35/50\n",
            "139/139 [==============================] - 0s 1ms/step - loss: 0.3722 - acc: 0.8576 - val_loss: 0.4682 - val_acc: 0.8231\n",
            "Epoch 36/50\n",
            "139/139 [==============================] - 0s 2ms/step - loss: 0.3625 - acc: 0.8643 - val_loss: 0.4650 - val_acc: 0.8267\n",
            "Epoch 37/50\n",
            "139/139 [==============================] - 0s 1ms/step - loss: 0.3729 - acc: 0.8656 - val_loss: 0.4620 - val_acc: 0.8231\n",
            "Epoch 38/50\n",
            "139/139 [==============================] - 0s 1ms/step - loss: 0.3599 - acc: 0.8600 - val_loss: 0.4591 - val_acc: 0.8231\n",
            "Epoch 39/50\n",
            "139/139 [==============================] - 0s 1ms/step - loss: 0.3642 - acc: 0.8593 - val_loss: 0.4562 - val_acc: 0.8267\n",
            "Epoch 40/50\n",
            "139/139 [==============================] - 0s 1ms/step - loss: 0.3638 - acc: 0.8632 - val_loss: 0.4535 - val_acc: 0.8267\n",
            "Epoch 41/50\n",
            "139/139 [==============================] - 0s 2ms/step - loss: 0.3685 - acc: 0.8575 - val_loss: 0.4508 - val_acc: 0.8267\n",
            "Epoch 42/50\n",
            "139/139 [==============================] - 0s 2ms/step - loss: 0.3706 - acc: 0.8713 - val_loss: 0.4482 - val_acc: 0.8267\n",
            "Epoch 43/50\n",
            "139/139 [==============================] - 0s 1ms/step - loss: 0.3434 - acc: 0.8689 - val_loss: 0.4458 - val_acc: 0.8267\n",
            "Epoch 44/50\n",
            "139/139 [==============================] - 0s 2ms/step - loss: 0.3681 - acc: 0.8437 - val_loss: 0.4433 - val_acc: 0.8267\n",
            "Epoch 45/50\n",
            "139/139 [==============================] - 0s 1ms/step - loss: 0.3482 - acc: 0.8527 - val_loss: 0.4410 - val_acc: 0.8267\n",
            "Epoch 46/50\n",
            "139/139 [==============================] - 0s 1ms/step - loss: 0.3564 - acc: 0.8537 - val_loss: 0.4387 - val_acc: 0.8267\n",
            "Epoch 47/50\n",
            "139/139 [==============================] - 0s 1ms/step - loss: 0.3361 - acc: 0.8738 - val_loss: 0.4364 - val_acc: 0.8303\n",
            "Epoch 48/50\n",
            "139/139 [==============================] - 0s 1ms/step - loss: 0.3389 - acc: 0.8678 - val_loss: 0.4342 - val_acc: 0.8303\n",
            "Epoch 49/50\n",
            "139/139 [==============================] - 0s 1ms/step - loss: 0.3428 - acc: 0.8565 - val_loss: 0.4325 - val_acc: 0.8303\n",
            "Epoch 50/50\n",
            "139/139 [==============================] - 0s 2ms/step - loss: 0.3503 - acc: 0.8568 - val_loss: 0.4302 - val_acc: 0.8303\n"
          ],
          "name": "stdout"
        }
      ]
    },
    {
      "cell_type": "markdown",
      "metadata": {
        "id": "790zNksLPgV_"
      },
      "source": [
        "And evaluate how well the model has performed on the held-out test set:"
      ]
    },
    {
      "cell_type": "code",
      "metadata": {
        "colab": {
          "base_uri": "https://localhost:8080/"
        },
        "id": "uHg6PGlAWNHb",
        "outputId": "ccf579b4-b128-4529-fe0a-2fa5cbd59f25"
      },
      "source": [
        "score = model.evaluate(X_test, y_test, verbose=1)\n",
        "\n",
        "print(\"Test Score:\", score[0])\n",
        "print(\"Test Accuracy:\", score[1])"
      ],
      "execution_count": null,
      "outputs": [
        {
          "output_type": "stream",
          "text": [
            "11/11 [==============================] - 0s 1ms/step - loss: 0.3828 - acc: 0.8497\n",
            "Test Score: 0.38277667760849\n",
            "Test Accuracy: 0.849711000919342\n"
          ],
          "name": "stdout"
        }
      ]
    },
    {
      "cell_type": "markdown",
      "metadata": {
        "id": "IDUaW9B3WTLN"
      },
      "source": [
        "## Deep Neural Network"
      ]
    },
    {
      "cell_type": "markdown",
      "metadata": {
        "id": "3TlumoIPWVr4"
      },
      "source": [
        "Finally, we can make our model \"Deep\" (i.e. we can create a deep neural network) by adding additional layers:"
      ]
    },
    {
      "cell_type": "code",
      "metadata": {
        "id": "IXQx1p0oWS-a"
      },
      "source": [
        "input_layer = Input(shape=(X.shape[1],))\n",
        "dense_layer_1 = Dense(15, activation='relu')(input_layer)\n",
        "dense_layer_2 = Dense(10, activation='relu')(dense_layer_1)\n",
        "dense_layer_3 = Dense(20, activation='relu')(dense_layer_2)\n",
        "output = Dense(y.shape[1], activation='softmax')(dense_layer_3)\n",
        "\n",
        "model = Model(inputs=input_layer, outputs=output)\n",
        "model.compile(loss='categorical_crossentropy', optimizer='adam', metrics=['acc'])"
      ],
      "execution_count": null,
      "outputs": []
    },
    {
      "cell_type": "markdown",
      "metadata": {
        "id": "SKLr2lCNWaAY"
      },
      "source": [
        "Here we use a relu (rectified linear unit) activation function: https://www.tinymind.com/learn/terms/relu"
      ]
    },
    {
      "cell_type": "code",
      "metadata": {
        "colab": {
          "base_uri": "https://localhost:8080/"
        },
        "id": "hH__sJJ6Wb11",
        "outputId": "b8066904-2369-4f93-a76b-1dd3709d6dac"
      },
      "source": [
        "print(model.summary())"
      ],
      "execution_count": null,
      "outputs": [
        {
          "output_type": "stream",
          "text": [
            "Model: \"model_1\"\n",
            "_________________________________________________________________\n",
            "Layer (type)                 Output Shape              Param #   \n",
            "=================================================================\n",
            "input_2 (InputLayer)         [(None, 21)]              0         \n",
            "_________________________________________________________________\n",
            "dense_1 (Dense)              (None, 15)                330       \n",
            "_________________________________________________________________\n",
            "dense_2 (Dense)              (None, 10)                160       \n",
            "_________________________________________________________________\n",
            "dense_3 (Dense)              (None, 20)                220       \n",
            "_________________________________________________________________\n",
            "dense_4 (Dense)              (None, 4)                 84        \n",
            "=================================================================\n",
            "Total params: 794\n",
            "Trainable params: 794\n",
            "Non-trainable params: 0\n",
            "_________________________________________________________________\n",
            "None\n"
          ],
          "name": "stdout"
        }
      ]
    },
    {
      "cell_type": "code",
      "metadata": {
        "colab": {
          "base_uri": "https://localhost:8080/"
        },
        "id": "3MWdBSHmWeg9",
        "outputId": "308dc306-4f54-409e-bd67-abec21d7c9cf"
      },
      "source": [
        "history = model.fit(X_train, y_train, batch_size=8, epochs=50, verbose=1, validation_split=0.2)"
      ],
      "execution_count": null,
      "outputs": [
        {
          "output_type": "stream",
          "text": [
            "Epoch 1/50\n",
            "139/139 [==============================] - 1s 3ms/step - loss: 1.0615 - acc: 0.7142 - val_loss: 0.8876 - val_acc: 0.6498\n",
            "Epoch 2/50\n",
            "139/139 [==============================] - 0s 1ms/step - loss: 0.7216 - acc: 0.7251 - val_loss: 0.6928 - val_acc: 0.6498\n",
            "Epoch 3/50\n",
            "139/139 [==============================] - 0s 2ms/step - loss: 0.5149 - acc: 0.7491 - val_loss: 0.5129 - val_acc: 0.7617\n",
            "Epoch 4/50\n",
            "139/139 [==============================] - 0s 2ms/step - loss: 0.3965 - acc: 0.8296 - val_loss: 0.4182 - val_acc: 0.8159\n",
            "Epoch 5/50\n",
            "139/139 [==============================] - 0s 2ms/step - loss: 0.2844 - acc: 0.8903 - val_loss: 0.3337 - val_acc: 0.8664\n",
            "Epoch 6/50\n",
            "139/139 [==============================] - 0s 2ms/step - loss: 0.2358 - acc: 0.9124 - val_loss: 0.2880 - val_acc: 0.8773\n",
            "Epoch 7/50\n",
            "139/139 [==============================] - 0s 2ms/step - loss: 0.2078 - acc: 0.9032 - val_loss: 0.2575 - val_acc: 0.8845\n",
            "Epoch 8/50\n",
            "139/139 [==============================] - 0s 1ms/step - loss: 0.1677 - acc: 0.9430 - val_loss: 0.2176 - val_acc: 0.9097\n",
            "Epoch 9/50\n",
            "139/139 [==============================] - 0s 2ms/step - loss: 0.1438 - acc: 0.9501 - val_loss: 0.2065 - val_acc: 0.9097\n",
            "Epoch 10/50\n",
            "139/139 [==============================] - 0s 1ms/step - loss: 0.1192 - acc: 0.9670 - val_loss: 0.1767 - val_acc: 0.9495\n",
            "Epoch 11/50\n",
            "139/139 [==============================] - 0s 1ms/step - loss: 0.1062 - acc: 0.9722 - val_loss: 0.1581 - val_acc: 0.9531\n",
            "Epoch 12/50\n",
            "139/139 [==============================] - 0s 2ms/step - loss: 0.0907 - acc: 0.9697 - val_loss: 0.1612 - val_acc: 0.9495\n",
            "Epoch 13/50\n",
            "139/139 [==============================] - 0s 2ms/step - loss: 0.0837 - acc: 0.9776 - val_loss: 0.1315 - val_acc: 0.9639\n",
            "Epoch 14/50\n",
            "139/139 [==============================] - 0s 1ms/step - loss: 0.0870 - acc: 0.9768 - val_loss: 0.1208 - val_acc: 0.9675\n",
            "Epoch 15/50\n",
            "139/139 [==============================] - 0s 1ms/step - loss: 0.0720 - acc: 0.9806 - val_loss: 0.1125 - val_acc: 0.9603\n",
            "Epoch 16/50\n",
            "139/139 [==============================] - 0s 1ms/step - loss: 0.0547 - acc: 0.9909 - val_loss: 0.1201 - val_acc: 0.9567\n",
            "Epoch 17/50\n",
            "139/139 [==============================] - 0s 1ms/step - loss: 0.0529 - acc: 0.9900 - val_loss: 0.0982 - val_acc: 0.9603\n",
            "Epoch 18/50\n",
            "139/139 [==============================] - 0s 2ms/step - loss: 0.0469 - acc: 0.9927 - val_loss: 0.0932 - val_acc: 0.9675\n",
            "Epoch 19/50\n",
            "139/139 [==============================] - 0s 1ms/step - loss: 0.0407 - acc: 0.9915 - val_loss: 0.0974 - val_acc: 0.9567\n",
            "Epoch 20/50\n",
            "139/139 [==============================] - 0s 1ms/step - loss: 0.0319 - acc: 0.9923 - val_loss: 0.0955 - val_acc: 0.9639\n",
            "Epoch 21/50\n",
            "139/139 [==============================] - 0s 1ms/step - loss: 0.0389 - acc: 0.9889 - val_loss: 0.0799 - val_acc: 0.9603\n",
            "Epoch 22/50\n",
            "139/139 [==============================] - 0s 1ms/step - loss: 0.0282 - acc: 0.9989 - val_loss: 0.0840 - val_acc: 0.9639\n",
            "Epoch 23/50\n",
            "139/139 [==============================] - 0s 1ms/step - loss: 0.0277 - acc: 0.9950 - val_loss: 0.0925 - val_acc: 0.9639\n",
            "Epoch 24/50\n",
            "139/139 [==============================] - 0s 1ms/step - loss: 0.0245 - acc: 0.9975 - val_loss: 0.0644 - val_acc: 0.9747\n",
            "Epoch 25/50\n",
            "139/139 [==============================] - 0s 1ms/step - loss: 0.0176 - acc: 0.9971 - val_loss: 0.0821 - val_acc: 0.9639\n",
            "Epoch 26/50\n",
            "139/139 [==============================] - 0s 2ms/step - loss: 0.0181 - acc: 0.9981 - val_loss: 0.0708 - val_acc: 0.9675\n",
            "Epoch 27/50\n",
            "139/139 [==============================] - 0s 1ms/step - loss: 0.0152 - acc: 0.9973 - val_loss: 0.0581 - val_acc: 0.9747\n",
            "Epoch 28/50\n",
            "139/139 [==============================] - 0s 1ms/step - loss: 0.0200 - acc: 0.9960 - val_loss: 0.0550 - val_acc: 0.9747\n",
            "Epoch 29/50\n",
            "139/139 [==============================] - 0s 1ms/step - loss: 0.0132 - acc: 0.9999 - val_loss: 0.0690 - val_acc: 0.9747\n",
            "Epoch 30/50\n",
            "139/139 [==============================] - 0s 1ms/step - loss: 0.0095 - acc: 0.9993 - val_loss: 0.0543 - val_acc: 0.9747\n",
            "Epoch 31/50\n",
            "139/139 [==============================] - 0s 2ms/step - loss: 0.0107 - acc: 1.0000 - val_loss: 0.0572 - val_acc: 0.9711\n",
            "Epoch 32/50\n",
            "139/139 [==============================] - 0s 2ms/step - loss: 0.0078 - acc: 0.9997 - val_loss: 0.0605 - val_acc: 0.9747\n",
            "Epoch 33/50\n",
            "139/139 [==============================] - 0s 1ms/step - loss: 0.0114 - acc: 0.9983 - val_loss: 0.0460 - val_acc: 0.9856\n",
            "Epoch 34/50\n",
            "139/139 [==============================] - 0s 2ms/step - loss: 0.0077 - acc: 1.0000 - val_loss: 0.0451 - val_acc: 0.9747\n",
            "Epoch 35/50\n",
            "139/139 [==============================] - 0s 1ms/step - loss: 0.0069 - acc: 1.0000 - val_loss: 0.0508 - val_acc: 0.9711\n",
            "Epoch 36/50\n",
            "139/139 [==============================] - 0s 1ms/step - loss: 0.0042 - acc: 1.0000 - val_loss: 0.0565 - val_acc: 0.9711\n",
            "Epoch 37/50\n",
            "139/139 [==============================] - 0s 2ms/step - loss: 0.0050 - acc: 1.0000 - val_loss: 0.0678 - val_acc: 0.9747\n",
            "Epoch 38/50\n",
            "139/139 [==============================] - 0s 2ms/step - loss: 0.0044 - acc: 1.0000 - val_loss: 0.0437 - val_acc: 0.9819\n",
            "Epoch 39/50\n",
            "139/139 [==============================] - 0s 2ms/step - loss: 0.0038 - acc: 1.0000 - val_loss: 0.0479 - val_acc: 0.9783\n",
            "Epoch 40/50\n",
            "139/139 [==============================] - 0s 2ms/step - loss: 0.0035 - acc: 1.0000 - val_loss: 0.0455 - val_acc: 0.9819\n",
            "Epoch 41/50\n",
            "139/139 [==============================] - 0s 2ms/step - loss: 0.0030 - acc: 1.0000 - val_loss: 0.0508 - val_acc: 0.9819\n",
            "Epoch 42/50\n",
            "139/139 [==============================] - 0s 2ms/step - loss: 0.0035 - acc: 1.0000 - val_loss: 0.0431 - val_acc: 0.9783\n",
            "Epoch 43/50\n",
            "139/139 [==============================] - 0s 2ms/step - loss: 0.0025 - acc: 1.0000 - val_loss: 0.0480 - val_acc: 0.9783\n",
            "Epoch 44/50\n",
            "139/139 [==============================] - 0s 1ms/step - loss: 0.0023 - acc: 1.0000 - val_loss: 0.0452 - val_acc: 0.9819\n",
            "Epoch 45/50\n",
            "139/139 [==============================] - 0s 1ms/step - loss: 0.0022 - acc: 1.0000 - val_loss: 0.0390 - val_acc: 0.9819\n",
            "Epoch 46/50\n",
            "139/139 [==============================] - 0s 2ms/step - loss: 0.0017 - acc: 1.0000 - val_loss: 0.0372 - val_acc: 0.9819\n",
            "Epoch 47/50\n",
            "139/139 [==============================] - 0s 1ms/step - loss: 0.0019 - acc: 1.0000 - val_loss: 0.0534 - val_acc: 0.9711\n",
            "Epoch 48/50\n",
            "139/139 [==============================] - 0s 1ms/step - loss: 0.0019 - acc: 1.0000 - val_loss: 0.0431 - val_acc: 0.9783\n",
            "Epoch 49/50\n",
            "139/139 [==============================] - 0s 2ms/step - loss: 0.0016 - acc: 1.0000 - val_loss: 0.0284 - val_acc: 0.9856\n",
            "Epoch 50/50\n",
            "139/139 [==============================] - 0s 1ms/step - loss: 0.0015 - acc: 1.0000 - val_loss: 0.0329 - val_acc: 0.9856\n"
          ],
          "name": "stdout"
        }
      ]
    },
    {
      "cell_type": "markdown",
      "metadata": {
        "id": "s2VpFF3HPm6Z"
      },
      "source": [
        "Notice the difference (improvement) in classification performance when we added more layers into the model:"
      ]
    },
    {
      "cell_type": "code",
      "metadata": {
        "id": "HydrpJiMWir9",
        "colab": {
          "base_uri": "https://localhost:8080/"
        },
        "outputId": "b1ac6a75-2ccf-48b1-c006-6734e85ad11f"
      },
      "source": [
        "score = model.evaluate(X_test, y_test, verbose=1)\n",
        "\n",
        "print(\"Test Score:\", score[0])\n",
        "print(\"Test Accuracy:\", score[1])"
      ],
      "execution_count": null,
      "outputs": [
        {
          "output_type": "stream",
          "text": [
            "11/11 [==============================] - 0s 1ms/step - loss: 0.0248 - acc: 0.9942\n",
            "Test Score: 0.02476133219897747\n",
            "Test Accuracy: 0.9942196607589722\n"
          ],
          "name": "stdout"
        }
      ]
    },
    {
      "cell_type": "markdown",
      "metadata": {
        "id": "PEn_R3M_WiNx"
      },
      "source": [
        "The art and science of deep neural networks involves designing appropriately large networks (with billions of parameters), defining the \"activation\" functions, and using specific \"bells and whistles\" to optimise performance. A further analysis of deep neural networks is beyond the scope of this module. The interested reader is referred to https://www.coursera.org/learn/neural-networks-deep-learning for an in-depth exposition."
      ]
    },
    {
      "cell_type": "markdown",
      "metadata": {
        "id": "NYmUosIBSQUG"
      },
      "source": [
        "## Generative Adversarial Networks"
      ]
    },
    {
      "cell_type": "markdown",
      "metadata": {
        "id": "Kez1yuuRPtVp"
      },
      "source": [
        "The user of Generative Adversarial Networks is becoming widespread, underpinning lots of misinformation on the internet. The ability to use a pair of deep neural networks in order to produce realistic, but deceptive, information, is likely to be societally disruptive in the coming years. A recent example of a \"Deepfake\" is in the video below (is this real or fake?!):"
      ]
    },
    {
      "cell_type": "code",
      "metadata": {
        "colab": {
          "base_uri": "https://localhost:8080/",
          "height": 321
        },
        "id": "UMZ_vgfwR6BD",
        "outputId": "715435aa-6123-4d94-a446-5252bce11b9c"
      },
      "source": [
        "from IPython.display import YouTubeVideo\n",
        "YouTubeVideo('iyiOVUbsPcM')"
      ],
      "execution_count": null,
      "outputs": [
        {
          "output_type": "execute_result",
          "data": {
            "text/html": [
              "\n",
              "        <iframe\n",
              "            width=\"400\"\n",
              "            height=\"300\"\n",
              "            src=\"https://www.youtube.com/embed/iyiOVUbsPcM\"\n",
              "            frameborder=\"0\"\n",
              "            allowfullscreen\n",
              "        ></iframe>\n",
              "        "
            ],
            "text/plain": [
              "<IPython.lib.display.YouTubeVideo at 0x7f9d70302350>"
            ],
            "image/jpeg": "[encoded data removed]"
          },
          "metadata": {
            "tags": []
          },
          "execution_count": 2
        }
      ]
    },
    {
      "cell_type": "markdown",
      "metadata": {
        "id": "cb80sY89Ub9M"
      },
      "source": [
        "Here's another example, this time in text generation: https://deepai.org/machine-learning-model/text-generator"
      ]
    },
    {
      "cell_type": "markdown",
      "metadata": {
        "id": "vAQh1_iMTRv_"
      },
      "source": [
        "A GAN uses two deep neural networks in order to build up a statistical representation of a data set, which can be used to generate synthetic data. A detailed methodological review of GANs is beyond the scope of this module. However, those interested in the detail should read: https://machinelearningmastery.com/what-are-generative-adversarial-networks-gans/ for example."
      ]
    },
    {
      "cell_type": "markdown",
      "metadata": {
        "id": "bVSA8rWLPEFi"
      },
      "source": [
        "***\n",
        "Mandatory exercises:\n",
        "\n",
        "- [ ] Carefully read the material above, and ask questions over email.\n",
        "- [ ] Replicate all of the code in this notebook."
      ]
    }
  ]
}