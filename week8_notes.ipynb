{
  "nbformat": 4,
  "nbformat_minor": 0,
  "metadata": {
    "colab": {
      "name": "week8-notes.ipynb",
      "provenance": [],
      "include_colab_link": true
    },
    "kernelspec": {
      "name": "python3",
      "display_name": "Python 3"
    }
  },
  "cells": [
    {
      "cell_type": "markdown",
      "metadata": {
        "id": "view-in-github",
        "colab_type": "text"
      },
      "source": [
        "<a href=\"https://colab.research.google.com/github/markbriers/data-science-jupyter/blob/main/week8_notes.ipynb\" target=\"_parent\"><img src=\"https://colab.research.google.com/assets/colab-badge.svg\" alt=\"Open In Colab\"/></a>"
      ]
    },
    {
      "cell_type": "markdown",
      "metadata": {
        "id": "gLrbkBC9NgB2"
      },
      "source": [
        " # Modelling part 3 (Week 8)"
      ]
    },
    {
      "cell_type": "markdown",
      "metadata": {
        "id": "G9WUKeYENpRx"
      },
      "source": [
        "Code at: https://github.com/markbriers/data-science-jupyter"
      ]
    },
    {
      "cell_type": "markdown",
      "metadata": {
        "id": "TDtdyAqfNrdb"
      },
      "source": [
        "## Recap - the story so far"
      ]
    },
    {
      "cell_type": "markdown",
      "metadata": {
        "id": "xeDfHRh5Ntqs"
      },
      "source": [
        "Our goal is to follow a data science process (CRISP-DM) to deliver a successful business outcome.\n",
        "\n",
        "Our learning objectives are as follows:\n",
        "\n",
        "* Describe the six stages of a data processing pipeline (using CRISP-DM)\n",
        "\n",
        "* Demonstrate an understanding of the python programming language through the production of elementary data analysis programme\n",
        "\n",
        "* Analyse at least three different data sources by applying at least one python data processing library to extract and explore pertinent features\n",
        "\n",
        "* Be able to design a set of data requirements for a specified business problem\n",
        "\n",
        "* Describe and apply (using the python programming language) the main approaches to supervised learning for a given classification problem\n",
        "\n",
        "* Understand the use cases of Big Data technology (in particular Spark)\n",
        "\n",
        "* Produce a report including appropriate data visualisations covering the analysis of a business problem using a data science based approach"
      ]
    },
    {
      "cell_type": "markdown",
      "metadata": {
        "id": "A5G8Tam5Nx6H"
      },
      "source": [
        "## Learning outcome\n",
        "\n",
        "* By the end of the lecture, you will be able to use the tensorflow library to estimate parameters of a binary classification model.\n",
        "\n",
        "* By the end of the lecture, you will be able to use the tensorflow library to estimate parameters of a deep neural network.\n",
        "\n",
        "* By the end of the lecture, you will have a high level understanding of Generative Adversarial Networks (GANs), and how they can be used to generate \"fake news\"."
      ]
    },
    {
      "cell_type": "markdown",
      "metadata": {
        "id": "6kfHeB0xOPz2"
      },
      "source": [
        "# Bernoulli distribution and coin tossing"
      ]
    },
    {
      "cell_type": "markdown",
      "metadata": {
        "id": "4ZifwgyAOVCI"
      },
      "source": [
        "Let's compute the following probabilities:\n",
        "* Tossing T with a fair coin\n",
        "* Tossing HH with a fair coin\n",
        "* Tossing HT with a fair coin\n",
        "* Tossing HTH with a fair coin\n",
        "* Tossing H with a biased coin ($p(head) = \\lambda = 0.1$)\n",
        "* Tossing HT with a biased coin ($p(head) = \\lambda = 0.1$)"
      ]
    },
    {
      "cell_type": "markdown",
      "metadata": {
        "id": "Gn0vPwpZOYBM"
      },
      "source": [
        "Now we'll (informally) introduce the concept of a random variable, denoted $C$, where $C=0$ corresponds to coin landing on heads and $C=1$ corresponds to coin landing on tails. The probability of $C=1$ is equal to $\\lambda$. If $\\lambda=0.5$ then the coin is unbiased (and we're maximally uncertain about the outcome of a coin toss."
      ]
    },
    {
      "cell_type": "markdown",
      "metadata": {
        "id": "S49kuyroOa29"
      },
      "source": [
        "We can say that $C$ follows a Bernoulli distribution, with *probability mass function* equal to the following expression:\n",
        "\\begin{equation}\n",
        "p(C|\\lambda) = \\lambda^{C}(1-\\lambda)^{1-C}\n",
        "\\end{equation}"
      ]
    },
    {
      "cell_type": "markdown",
      "metadata": {
        "id": "Anjj8-FGOdzT"
      },
      "source": [
        "## Logistic regression - binary classification (supervised learning)"
      ]
    },
    {
      "cell_type": "markdown",
      "metadata": {
        "id": "hDK43Y6BOg_g"
      },
      "source": [
        "Consider the scenario where we wish to partition objects into two categories (e.g. spam or not spam, fraud or not fraud, positive sentiment or negative sentiment, face present or face not present, ...) given a set of attributes. The simplest (and widest used) model to achieve this is known as a Logistic Regression model. The Logistic Regression model \"squashes\" the output of a linear regression model, so that the resultant squashed output is between $0$ and $1$. This \"squashed\" output can be interpreted as a class probabaility (e.g. probability of spam or not spam). So what is the squashing function?"
      ]
    },
    {
      "cell_type": "markdown",
      "metadata": {
        "id": "uk6wTn0JOjlB"
      },
      "source": [
        "### Sigmoid function"
      ]
    },
    {
      "cell_type": "markdown",
      "metadata": {
        "id": "JxM-mw__Omai"
      },
      "source": [
        "$sigm(\\eta)$ is known as the sigmoid function (also known as the _logistic_ or _logit_ function):"
      ]
    },
    {
      "cell_type": "markdown",
      "metadata": {
        "id": "7KNVAYYEOo4X"
      },
      "source": [
        "\\begin{equation}\n",
        "sigm(\\eta) = \\frac{1}{1+e^{-\\eta}} = \\frac{e^{\\eta}}{e^{\\eta}+1}\n",
        "\\end{equation}"
      ]
    },
    {
      "cell_type": "markdown",
      "metadata": {
        "id": "0HdpBmF-Oreq"
      },
      "source": [
        "This function has the property that is \"squashes\" any input (from $-\\infty < \\eta < \\infty$) to a value between 0 and 1."
      ]
    },
    {
      "cell_type": "markdown",
      "metadata": {
        "id": "QG8NF9M7OuXP"
      },
      "source": [
        "We can use the Bernouilli expression introduced above to model input data and (probabilistically) ascertain whether the data are from one class or another:"
      ]
    },
    {
      "cell_type": "markdown",
      "metadata": {
        "id": "JiaZX9QjOw6O"
      },
      "source": [
        "\\begin{equation}\n",
        "\\prod_{i=1}^{N} Ber(C_{i}|sigm(\\theta x_{i})) = \\prod_{i=1}^{N} \\left[\\frac{1}{1+e^{-\\theta x_{i}}} \\right]^{C_{i}} \\left[1-\\frac{1}{1+e^{-\\theta x_{i}}} \\right]^{1-C_{i}}\n",
        "\\end{equation}"
      ]
    },
    {
      "cell_type": "markdown",
      "metadata": {
        "id": "PpecF5z2OzVB"
      },
      "source": [
        "So how do we estimate model parameters $\\theta$? What is the loss function?"
      ]
    },
    {
      "cell_type": "markdown",
      "metadata": {
        "id": "FRqvu_LIO15y"
      },
      "source": [
        "### Cross-entropy loss"
      ]
    },
    {
      "cell_type": "markdown",
      "metadata": {
        "id": "xxIXxMsTO4kw"
      },
      "source": [
        "Let's introduce entropy: https://en.wikipedia.org/wiki/Entropy_(information_theory). Entropy can be considered to be a measure of uncertainty. For example, in the case of coin tossing, the value oof $\\lambda$ that maximises entropy is $\\lambda = 0.5$ - we are maximally uncertain about the outcome of the \"experiment\". We therefore want to chose a value of $\\theta$ (in the above model) that minimises *cross entropy loss*:\n",
        "\\begin{equation}\n",
        "c(\\theta) = -\\frac{1}{N}\\sum_{i=1}^{N} \\left[C_{i}log\\hat{C}_{i}+(1-C_{i})log(1-\\hat{C}_{i})\\right]\n",
        "\\end{equation}"
      ]
    },
    {
      "cell_type": "markdown",
      "metadata": {
        "id": "75LA3C_pO7V5"
      },
      "source": [
        "where:\n",
        "\\begin{equation}\n",
        "\\hat{C}_{i} = \\frac{1}{1+e^{-\\theta x_{i}}}\n",
        "\\end{equation}"
      ]
    },
    {
      "cell_type": "markdown",
      "metadata": {
        "id": "VL_kMHlPO-WZ"
      },
      "source": [
        "In order to compute the optimal value of $\\theta$ that minimises the cross entropy loss, we use the chain rule (differentiation of composed functions) and gradient descent."
      ]
    },
    {
      "cell_type": "markdown",
      "metadata": {
        "id": "tXX1c8aYTAlG"
      },
      "source": [
        "### Tensorflow implementation\n"
      ]
    },
    {
      "cell_type": "code",
      "metadata": {
        "id": "-vUJBWSuTEje",
        "outputId": "02d24376-9e52-4f7c-bcae-c5326e34866f",
        "colab": {
          "base_uri": "https://localhost:8080/"
        }
      },
      "source": [
        "import pandas as pd\n",
        "import numpy as np\n",
        "import seaborn as sns\n",
        "import os\n",
        "os.environ['CUDA_VISIBLE_DEVICES'] = '-1'\n",
        "import tensorflow as tf\n",
        "print(\"TensorFlow version:\", tf.__version__)\n",
        "\n",
        "import matplotlib.pyplot as plt\n",
        "%matplotlib inline"
      ],
      "execution_count": 1,
      "outputs": [
        {
          "output_type": "stream",
          "name": "stdout",
          "text": [
            "TensorFlow version: 2.15.0\n"
          ]
        }
      ]
    },
    {
      "cell_type": "markdown",
      "metadata": {
        "id": "7q9Yzr0jTJz3"
      },
      "source": [
        "The dataset basically consists of 7 columns:\n",
        "\n",
        "* price (the buying price of the car)\n",
        "* maint (the maintenance cost)\n",
        "* doors (number of doors)\n",
        "* persons (the seating capacity)\n",
        "* lug_capacity (the luggage capacity)\n",
        "* safety (how safe is the car)\n",
        "* output (the condition of the car)\n",
        "\n",
        "Given the first 6 columns, the task is to predict the value for the 7th column i.e. the output column."
      ]
    },
    {
      "cell_type": "code",
      "metadata": {
        "id": "LAF3OGHiTann",
        "colab": {
          "base_uri": "https://localhost:8080/",
          "height": 206
        },
        "outputId": "5357cf62-2e1f-4055-b502-46d4f89dc710"
      },
      "source": [
        "cols = ['price', 'maint', 'doors', 'persons', 'lug_capacity', 'safety','output']\n",
        "cars = pd.read_csv('https://raw.githubusercontent.com/vortexeye/Car-Evaluation/master/car_evaluation.csv', names=cols, header=None)\n",
        "cars.head()"
      ],
      "execution_count": 2,
      "outputs": [
        {
          "output_type": "execute_result",
          "data": {
            "text/plain": [
              "   price  maint doors persons lug_capacity safety output\n",
              "0  vhigh  vhigh     2       2        small    low  unacc\n",
              "1  vhigh  vhigh     2       2        small    med  unacc\n",
              "2  vhigh  vhigh     2       2        small   high  unacc\n",
              "3  vhigh  vhigh     2       2          med    low  unacc\n",
              "4  vhigh  vhigh     2       2          med    med  unacc"
            ],
            "text/html": [
              "\n",
              "  <div id=\"df-609cb926-132c-4029-ab24-b86f6e2f8f87\" class=\"colab-df-container\">\n",
              "    <div>\n",
              "<style scoped>\n",
              "    .dataframe tbody tr th:only-of-type {\n",
              "        vertical-align: middle;\n",
              "    }\n",
              "\n",
              "    .dataframe tbody tr th {\n",
              "        vertical-align: top;\n",
              "    }\n",
              "\n",
              "    .dataframe thead th {\n",
              "        text-align: right;\n",
              "    }\n",
              "</style>\n",
              "<table border=\"1\" class=\"dataframe\">\n",
              "  <thead>\n",
              "    <tr style=\"text-align: right;\">\n",
              "      <th></th>\n",
              "      <th>price</th>\n",
              "      <th>maint</th>\n",
              "      <th>doors</th>\n",
              "      <th>persons</th>\n",
              "      <th>lug_capacity</th>\n",
              "      <th>safety</th>\n",
              "      <th>output</th>\n",
              "    </tr>\n",
              "  </thead>\n",
              "  <tbody>\n",
              "    <tr>\n",
              "      <th>0</th>\n",
              "      <td>vhigh</td>\n",
              "      <td>vhigh</td>\n",
              "      <td>2</td>\n",
              "      <td>2</td>\n",
              "      <td>small</td>\n",
              "      <td>low</td>\n",
              "      <td>unacc</td>\n",
              "    </tr>\n",
              "    <tr>\n",
              "      <th>1</th>\n",
              "      <td>vhigh</td>\n",
              "      <td>vhigh</td>\n",
              "      <td>2</td>\n",
              "      <td>2</td>\n",
              "      <td>small</td>\n",
              "      <td>med</td>\n",
              "      <td>unacc</td>\n",
              "    </tr>\n",
              "    <tr>\n",
              "      <th>2</th>\n",
              "      <td>vhigh</td>\n",
              "      <td>vhigh</td>\n",
              "      <td>2</td>\n",
              "      <td>2</td>\n",
              "      <td>small</td>\n",
              "      <td>high</td>\n",
              "      <td>unacc</td>\n",
              "    </tr>\n",
              "    <tr>\n",
              "      <th>3</th>\n",
              "      <td>vhigh</td>\n",
              "      <td>vhigh</td>\n",
              "      <td>2</td>\n",
              "      <td>2</td>\n",
              "      <td>med</td>\n",
              "      <td>low</td>\n",
              "      <td>unacc</td>\n",
              "    </tr>\n",
              "    <tr>\n",
              "      <th>4</th>\n",
              "      <td>vhigh</td>\n",
              "      <td>vhigh</td>\n",
              "      <td>2</td>\n",
              "      <td>2</td>\n",
              "      <td>med</td>\n",
              "      <td>med</td>\n",
              "      <td>unacc</td>\n",
              "    </tr>\n",
              "  </tbody>\n",
              "</table>\n",
              "</div>\n",
              "    <div class=\"colab-df-buttons\">\n",
              "\n",
              "  <div class=\"colab-df-container\">\n",
              "    <button class=\"colab-df-convert\" onclick=\"convertToInteractive('df-609cb926-132c-4029-ab24-b86f6e2f8f87')\"\n",
              "            title=\"Convert this dataframe to an interactive table.\"\n",
              "            style=\"display:none;\">\n",
              "\n",
              "  <svg xmlns=\"http://www.w3.org/2000/svg\" height=\"24px\" viewBox=\"0 -960 960 960\">\n",
              "    <path d=\"M120-120v-720h720v720H120Zm60-500h600v-160H180v160Zm220 220h160v-160H400v160Zm0 220h160v-160H400v160ZM180-400h160v-160H180v160Zm440 0h160v-160H620v160ZM180-180h160v-160H180v160Zm440 0h160v-160H620v160Z\"/>\n",
              "  </svg>\n",
              "    </button>\n",
              "\n",
              "  <style>\n",
              "    .colab-df-container {\n",
              "      display:flex;\n",
              "      gap: 12px;\n",
              "    }\n",
              "\n",
              "    .colab-df-convert {\n",
              "      background-color: #E8F0FE;\n",
              "      border: none;\n",
              "      border-radius: 50%;\n",
              "      cursor: pointer;\n",
              "      display: none;\n",
              "      fill: #1967D2;\n",
              "      height: 32px;\n",
              "      padding: 0 0 0 0;\n",
              "      width: 32px;\n",
              "    }\n",
              "\n",
              "    .colab-df-convert:hover {\n",
              "      background-color: #E2EBFA;\n",
              "      box-shadow: 0px 1px 2px rgba(60, 64, 67, 0.3), 0px 1px 3px 1px rgba(60, 64, 67, 0.15);\n",
              "      fill: #174EA6;\n",
              "    }\n",
              "\n",
              "    .colab-df-buttons div {\n",
              "      margin-bottom: 4px;\n",
              "    }\n",
              "\n",
              "    [theme=dark] .colab-df-convert {\n",
              "      background-color: #3B4455;\n",
              "      fill: #D2E3FC;\n",
              "    }\n",
              "\n",
              "    [theme=dark] .colab-df-convert:hover {\n",
              "      background-color: #434B5C;\n",
              "      box-shadow: 0px 1px 3px 1px rgba(0, 0, 0, 0.15);\n",
              "      filter: drop-shadow(0px 1px 2px rgba(0, 0, 0, 0.3));\n",
              "      fill: #FFFFFF;\n",
              "    }\n",
              "  </style>\n",
              "\n",
              "    <script>\n",
              "      const buttonEl =\n",
              "        document.querySelector('#df-609cb926-132c-4029-ab24-b86f6e2f8f87 button.colab-df-convert');\n",
              "      buttonEl.style.display =\n",
              "        google.colab.kernel.accessAllowed ? 'block' : 'none';\n",
              "\n",
              "      async function convertToInteractive(key) {\n",
              "        const element = document.querySelector('#df-609cb926-132c-4029-ab24-b86f6e2f8f87');\n",
              "        const dataTable =\n",
              "          await google.colab.kernel.invokeFunction('convertToInteractive',\n",
              "                                                    [key], {});\n",
              "        if (!dataTable) return;\n",
              "\n",
              "        const docLinkHtml = 'Like what you see? Visit the ' +\n",
              "          '<a target=\"_blank\" href=https://colab.research.google.com/notebooks/data_table.ipynb>data table notebook</a>'\n",
              "          + ' to learn more about interactive tables.';\n",
              "        element.innerHTML = '';\n",
              "        dataTable['output_type'] = 'display_data';\n",
              "        await google.colab.output.renderOutput(dataTable, element);\n",
              "        const docLink = document.createElement('div');\n",
              "        docLink.innerHTML = docLinkHtml;\n",
              "        element.appendChild(docLink);\n",
              "      }\n",
              "    </script>\n",
              "  </div>\n",
              "\n",
              "\n",
              "<div id=\"df-8843cb60-1fe9-44e0-ba75-2cf25338c473\">\n",
              "  <button class=\"colab-df-quickchart\" onclick=\"quickchart('df-8843cb60-1fe9-44e0-ba75-2cf25338c473')\"\n",
              "            title=\"Suggest charts\"\n",
              "            style=\"display:none;\">\n",
              "\n",
              "<svg xmlns=\"http://www.w3.org/2000/svg\" height=\"24px\"viewBox=\"0 0 24 24\"\n",
              "     width=\"24px\">\n",
              "    <g>\n",
              "        <path d=\"M19 3H5c-1.1 0-2 .9-2 2v14c0 1.1.9 2 2 2h14c1.1 0 2-.9 2-2V5c0-1.1-.9-2-2-2zM9 17H7v-7h2v7zm4 0h-2V7h2v10zm4 0h-2v-4h2v4z\"/>\n",
              "    </g>\n",
              "</svg>\n",
              "  </button>\n",
              "\n",
              "<style>\n",
              "  .colab-df-quickchart {\n",
              "      --bg-color: #E8F0FE;\n",
              "      --fill-color: #1967D2;\n",
              "      --hover-bg-color: #E2EBFA;\n",
              "      --hover-fill-color: #174EA6;\n",
              "      --disabled-fill-color: #AAA;\n",
              "      --disabled-bg-color: #DDD;\n",
              "  }\n",
              "\n",
              "  [theme=dark] .colab-df-quickchart {\n",
              "      --bg-color: #3B4455;\n",
              "      --fill-color: #D2E3FC;\n",
              "      --hover-bg-color: #434B5C;\n",
              "      --hover-fill-color: #FFFFFF;\n",
              "      --disabled-bg-color: #3B4455;\n",
              "      --disabled-fill-color: #666;\n",
              "  }\n",
              "\n",
              "  .colab-df-quickchart {\n",
              "    background-color: var(--bg-color);\n",
              "    border: none;\n",
              "    border-radius: 50%;\n",
              "    cursor: pointer;\n",
              "    display: none;\n",
              "    fill: var(--fill-color);\n",
              "    height: 32px;\n",
              "    padding: 0;\n",
              "    width: 32px;\n",
              "  }\n",
              "\n",
              "  .colab-df-quickchart:hover {\n",
              "    background-color: var(--hover-bg-color);\n",
              "    box-shadow: 0 1px 2px rgba(60, 64, 67, 0.3), 0 1px 3px 1px rgba(60, 64, 67, 0.15);\n",
              "    fill: var(--button-hover-fill-color);\n",
              "  }\n",
              "\n",
              "  .colab-df-quickchart-complete:disabled,\n",
              "  .colab-df-quickchart-complete:disabled:hover {\n",
              "    background-color: var(--disabled-bg-color);\n",
              "    fill: var(--disabled-fill-color);\n",
              "    box-shadow: none;\n",
              "  }\n",
              "\n",
              "  .colab-df-spinner {\n",
              "    border: 2px solid var(--fill-color);\n",
              "    border-color: transparent;\n",
              "    border-bottom-color: var(--fill-color);\n",
              "    animation:\n",
              "      spin 1s steps(1) infinite;\n",
              "  }\n",
              "\n",
              "  @keyframes spin {\n",
              "    0% {\n",
              "      border-color: transparent;\n",
              "      border-bottom-color: var(--fill-color);\n",
              "      border-left-color: var(--fill-color);\n",
              "    }\n",
              "    20% {\n",
              "      border-color: transparent;\n",
              "      border-left-color: var(--fill-color);\n",
              "      border-top-color: var(--fill-color);\n",
              "    }\n",
              "    30% {\n",
              "      border-color: transparent;\n",
              "      border-left-color: var(--fill-color);\n",
              "      border-top-color: var(--fill-color);\n",
              "      border-right-color: var(--fill-color);\n",
              "    }\n",
              "    40% {\n",
              "      border-color: transparent;\n",
              "      border-right-color: var(--fill-color);\n",
              "      border-top-color: var(--fill-color);\n",
              "    }\n",
              "    60% {\n",
              "      border-color: transparent;\n",
              "      border-right-color: var(--fill-color);\n",
              "    }\n",
              "    80% {\n",
              "      border-color: transparent;\n",
              "      border-right-color: var(--fill-color);\n",
              "      border-bottom-color: var(--fill-color);\n",
              "    }\n",
              "    90% {\n",
              "      border-color: transparent;\n",
              "      border-bottom-color: var(--fill-color);\n",
              "    }\n",
              "  }\n",
              "</style>\n",
              "\n",
              "  <script>\n",
              "    async function quickchart(key) {\n",
              "      const quickchartButtonEl =\n",
              "        document.querySelector('#' + key + ' button');\n",
              "      quickchartButtonEl.disabled = true;  // To prevent multiple clicks.\n",
              "      quickchartButtonEl.classList.add('colab-df-spinner');\n",
              "      try {\n",
              "        const charts = await google.colab.kernel.invokeFunction(\n",
              "            'suggestCharts', [key], {});\n",
              "      } catch (error) {\n",
              "        console.error('Error during call to suggestCharts:', error);\n",
              "      }\n",
              "      quickchartButtonEl.classList.remove('colab-df-spinner');\n",
              "      quickchartButtonEl.classList.add('colab-df-quickchart-complete');\n",
              "    }\n",
              "    (() => {\n",
              "      let quickchartButtonEl =\n",
              "        document.querySelector('#df-8843cb60-1fe9-44e0-ba75-2cf25338c473 button');\n",
              "      quickchartButtonEl.style.display =\n",
              "        google.colab.kernel.accessAllowed ? 'block' : 'none';\n",
              "    })();\n",
              "  </script>\n",
              "</div>\n",
              "    </div>\n",
              "  </div>\n"
            ],
            "application/vnd.google.colaboratory.intrinsic+json": {
              "type": "dataframe",
              "variable_name": "cars",
              "summary": "{\n  \"name\": \"cars\",\n  \"rows\": 1728,\n  \"fields\": [\n    {\n      \"column\": \"price\",\n      \"properties\": {\n        \"dtype\": \"category\",\n        \"num_unique_values\": 4,\n        \"samples\": [\n          \"high\",\n          \"low\",\n          \"vhigh\"\n        ],\n        \"semantic_type\": \"\",\n        \"description\": \"\"\n      }\n    },\n    {\n      \"column\": \"maint\",\n      \"properties\": {\n        \"dtype\": \"category\",\n        \"num_unique_values\": 4,\n        \"samples\": [\n          \"high\",\n          \"low\",\n          \"vhigh\"\n        ],\n        \"semantic_type\": \"\",\n        \"description\": \"\"\n      }\n    },\n    {\n      \"column\": \"doors\",\n      \"properties\": {\n        \"dtype\": \"category\",\n        \"num_unique_values\": 4,\n        \"samples\": [\n          \"3\",\n          \"5more\",\n          \"2\"\n        ],\n        \"semantic_type\": \"\",\n        \"description\": \"\"\n      }\n    },\n    {\n      \"column\": \"persons\",\n      \"properties\": {\n        \"dtype\": \"category\",\n        \"num_unique_values\": 3,\n        \"samples\": [\n          \"2\",\n          \"4\",\n          \"more\"\n        ],\n        \"semantic_type\": \"\",\n        \"description\": \"\"\n      }\n    },\n    {\n      \"column\": \"lug_capacity\",\n      \"properties\": {\n        \"dtype\": \"category\",\n        \"num_unique_values\": 3,\n        \"samples\": [\n          \"small\",\n          \"med\",\n          \"big\"\n        ],\n        \"semantic_type\": \"\",\n        \"description\": \"\"\n      }\n    },\n    {\n      \"column\": \"safety\",\n      \"properties\": {\n        \"dtype\": \"category\",\n        \"num_unique_values\": 3,\n        \"samples\": [\n          \"low\",\n          \"med\",\n          \"high\"\n        ],\n        \"semantic_type\": \"\",\n        \"description\": \"\"\n      }\n    },\n    {\n      \"column\": \"output\",\n      \"properties\": {\n        \"dtype\": \"category\",\n        \"num_unique_values\": 4,\n        \"samples\": [\n          \"acc\",\n          \"good\",\n          \"unacc\"\n        ],\n        \"semantic_type\": \"\",\n        \"description\": \"\"\n      }\n    }\n  ]\n}"
            }
          },
          "metadata": {},
          "execution_count": 2
        }
      ]
    },
    {
      "cell_type": "markdown",
      "metadata": {
        "id": "E30FLltNVN9S"
      },
      "source": [
        "### Brief exploratory analysis"
      ]
    },
    {
      "cell_type": "markdown",
      "metadata": {
        "id": "OdaDK4tjJDiK"
      },
      "source": [
        "Let's perform a brief exploratory analysis of the data:"
      ]
    },
    {
      "cell_type": "code",
      "metadata": {
        "colab": {
          "base_uri": "https://localhost:8080/",
          "height": 424
        },
        "id": "0zEuL2tSVaEf",
        "outputId": "c6e3826a-7d85-4432-a216-d6a04d92c210"
      },
      "source": [
        "cars.output.value_counts().plot(kind='pie', autopct='%0.05f%%', colors=['lightblue', 'lightgreen', 'orange', 'pink'], explode=(0.05, 0.05, 0.05,0.05))"
      ],
      "execution_count": 3,
      "outputs": [
        {
          "output_type": "execute_result",
          "data": {
            "text/plain": [
              "<Axes: ylabel='output'>"
            ]
          },
          "metadata": {},
          "execution_count": 3
        },
        {
          "output_type": "display_data",
          "data": {
            "text/plain": [
              "<Figure size 640x480 with 1 Axes>"
            ],
            "image/png": "[encoded data removed]"
          },
          "metadata": {}
        }
      ]
    },
    {
      "cell_type": "markdown",
      "metadata": {
        "id": "B7Fv-mCQVnmI"
      },
      "source": [
        "Let's convert the categorical values into numerical values (https://pandas.pydata.org/pandas-docs/stable/reference/api/pandas.get_dummies.html?highlight=get_dummies#pandas.get_dummies):"
      ]
    },
    {
      "cell_type": "code",
      "metadata": {
        "id": "U6493ntKVqGz"
      },
      "source": [
        "price = pd.get_dummies(cars.price, prefix='price') #The get_dummies() function is used to convert categorical variable into dummy/indicator variables\n",
        "maint = pd.get_dummies(cars.maint, prefix='maint')\n",
        "\n",
        "doors = pd.get_dummies(cars.doors, prefix='doors')\n",
        "persons = pd.get_dummies(cars.persons, prefix='persons')\n",
        "\n",
        "lug_capacity = pd.get_dummies(cars.lug_capacity, prefix='lug_capacity')\n",
        "safety = pd.get_dummies(cars.safety, prefix='safety')\n",
        "\n",
        "labels = pd.get_dummies(cars.output, prefix='condition')"
      ],
      "execution_count": 4,
      "outputs": []
    },
    {
      "cell_type": "markdown",
      "metadata": {
        "id": "_etXvdh3JyO3"
      },
      "source": [
        "Now concatonate the two data frames (https://pandas.pydata.org/pandas-docs/stable/reference/api/pandas.concat.html):"
      ]
    },
    {
      "cell_type": "code",
      "metadata": {
        "colab": {
          "base_uri": "https://localhost:8080/",
          "height": 256
        },
        "id": "lG_3PYIYVtoQ",
        "outputId": "2ecaa37d-e3a2-4682-c9ed-6ae19f46daa3"
      },
      "source": [
        "X = pd.concat([price, maint, doors, persons, lug_capacity, safety] , axis=1)\n",
        "X.head()"
      ],
      "execution_count": 5,
      "outputs": [
        {
          "output_type": "execute_result",
          "data": {
            "text/plain": [
              "   price_high  price_low  price_med  price_vhigh  maint_high  maint_low  \\\n",
              "0           0          0          0            1           0          0   \n",
              "1           0          0          0            1           0          0   \n",
              "2           0          0          0            1           0          0   \n",
              "3           0          0          0            1           0          0   \n",
              "4           0          0          0            1           0          0   \n",
              "\n",
              "   maint_med  maint_vhigh  doors_2  doors_3  ...  doors_5more  persons_2  \\\n",
              "0          0            1        1        0  ...            0          1   \n",
              "1          0            1        1        0  ...            0          1   \n",
              "2          0            1        1        0  ...            0          1   \n",
              "3          0            1        1        0  ...            0          1   \n",
              "4          0            1        1        0  ...            0          1   \n",
              "\n",
              "   persons_4  persons_more  lug_capacity_big  lug_capacity_med  \\\n",
              "0          0             0                 0                 0   \n",
              "1          0             0                 0                 0   \n",
              "2          0             0                 0                 0   \n",
              "3          0             0                 0                 1   \n",
              "4          0             0                 0                 1   \n",
              "\n",
              "   lug_capacity_small  safety_high  safety_low  safety_med  \n",
              "0                   1            0           1           0  \n",
              "1                   1            0           0           1  \n",
              "2                   1            1           0           0  \n",
              "3                   0            0           1           0  \n",
              "4                   0            0           0           1  \n",
              "\n",
              "[5 rows x 21 columns]"
            ],
            "text/html": [
              "\n",
              "  <div id=\"df-73e6259c-19c7-459e-b433-e24f36fde6a2\" class=\"colab-df-container\">\n",
              "    <div>\n",
              "<style scoped>\n",
              "    .dataframe tbody tr th:only-of-type {\n",
              "        vertical-align: middle;\n",
              "    }\n",
              "\n",
              "    .dataframe tbody tr th {\n",
              "        vertical-align: top;\n",
              "    }\n",
              "\n",
              "    .dataframe thead th {\n",
              "        text-align: right;\n",
              "    }\n",
              "</style>\n",
              "<table border=\"1\" class=\"dataframe\">\n",
              "  <thead>\n",
              "    <tr style=\"text-align: right;\">\n",
              "      <th></th>\n",
              "      <th>price_high</th>\n",
              "      <th>price_low</th>\n",
              "      <th>price_med</th>\n",
              "      <th>price_vhigh</th>\n",
              "      <th>maint_high</th>\n",
              "      <th>maint_low</th>\n",
              "      <th>maint_med</th>\n",
              "      <th>maint_vhigh</th>\n",
              "      <th>doors_2</th>\n",
              "      <th>doors_3</th>\n",
              "      <th>...</th>\n",
              "      <th>doors_5more</th>\n",
              "      <th>persons_2</th>\n",
              "      <th>persons_4</th>\n",
              "      <th>persons_more</th>\n",
              "      <th>lug_capacity_big</th>\n",
              "      <th>lug_capacity_med</th>\n",
              "      <th>lug_capacity_small</th>\n",
              "      <th>safety_high</th>\n",
              "      <th>safety_low</th>\n",
              "      <th>safety_med</th>\n",
              "    </tr>\n",
              "  </thead>\n",
              "  <tbody>\n",
              "    <tr>\n",
              "      <th>0</th>\n",
              "      <td>0</td>\n",
              "      <td>0</td>\n",
              "      <td>0</td>\n",
              "      <td>1</td>\n",
              "      <td>0</td>\n",
              "      <td>0</td>\n",
              "      <td>0</td>\n",
              "      <td>1</td>\n",
              "      <td>1</td>\n",
              "      <td>0</td>\n",
              "      <td>...</td>\n",
              "      <td>0</td>\n",
              "      <td>1</td>\n",
              "      <td>0</td>\n",
              "      <td>0</td>\n",
              "      <td>0</td>\n",
              "      <td>0</td>\n",
              "      <td>1</td>\n",
              "      <td>0</td>\n",
              "      <td>1</td>\n",
              "      <td>0</td>\n",
              "    </tr>\n",
              "    <tr>\n",
              "      <th>1</th>\n",
              "      <td>0</td>\n",
              "      <td>0</td>\n",
              "      <td>0</td>\n",
              "      <td>1</td>\n",
              "      <td>0</td>\n",
              "      <td>0</td>\n",
              "      <td>0</td>\n",
              "      <td>1</td>\n",
              "      <td>1</td>\n",
              "      <td>0</td>\n",
              "      <td>...</td>\n",
              "      <td>0</td>\n",
              "      <td>1</td>\n",
              "      <td>0</td>\n",
              "      <td>0</td>\n",
              "      <td>0</td>\n",
              "      <td>0</td>\n",
              "      <td>1</td>\n",
              "      <td>0</td>\n",
              "      <td>0</td>\n",
              "      <td>1</td>\n",
              "    </tr>\n",
              "    <tr>\n",
              "      <th>2</th>\n",
              "      <td>0</td>\n",
              "      <td>0</td>\n",
              "      <td>0</td>\n",
              "      <td>1</td>\n",
              "      <td>0</td>\n",
              "      <td>0</td>\n",
              "      <td>0</td>\n",
              "      <td>1</td>\n",
              "      <td>1</td>\n",
              "      <td>0</td>\n",
              "      <td>...</td>\n",
              "      <td>0</td>\n",
              "      <td>1</td>\n",
              "      <td>0</td>\n",
              "      <td>0</td>\n",
              "      <td>0</td>\n",
              "      <td>0</td>\n",
              "      <td>1</td>\n",
              "      <td>1</td>\n",
              "      <td>0</td>\n",
              "      <td>0</td>\n",
              "    </tr>\n",
              "    <tr>\n",
              "      <th>3</th>\n",
              "      <td>0</td>\n",
              "      <td>0</td>\n",
              "      <td>0</td>\n",
              "      <td>1</td>\n",
              "      <td>0</td>\n",
              "      <td>0</td>\n",
              "      <td>0</td>\n",
              "      <td>1</td>\n",
              "      <td>1</td>\n",
              "      <td>0</td>\n",
              "      <td>...</td>\n",
              "      <td>0</td>\n",
              "      <td>1</td>\n",
              "      <td>0</td>\n",
              "      <td>0</td>\n",
              "      <td>0</td>\n",
              "      <td>1</td>\n",
              "      <td>0</td>\n",
              "      <td>0</td>\n",
              "      <td>1</td>\n",
              "      <td>0</td>\n",
              "    </tr>\n",
              "    <tr>\n",
              "      <th>4</th>\n",
              "      <td>0</td>\n",
              "      <td>0</td>\n",
              "      <td>0</td>\n",
              "      <td>1</td>\n",
              "      <td>0</td>\n",
              "      <td>0</td>\n",
              "      <td>0</td>\n",
              "      <td>1</td>\n",
              "      <td>1</td>\n",
              "      <td>0</td>\n",
              "      <td>...</td>\n",
              "      <td>0</td>\n",
              "      <td>1</td>\n",
              "      <td>0</td>\n",
              "      <td>0</td>\n",
              "      <td>0</td>\n",
              "      <td>1</td>\n",
              "      <td>0</td>\n",
              "      <td>0</td>\n",
              "      <td>0</td>\n",
              "      <td>1</td>\n",
              "    </tr>\n",
              "  </tbody>\n",
              "</table>\n",
              "<p>5 rows × 21 columns</p>\n",
              "</div>\n",
              "    <div class=\"colab-df-buttons\">\n",
              "\n",
              "  <div class=\"colab-df-container\">\n",
              "    <button class=\"colab-df-convert\" onclick=\"convertToInteractive('df-73e6259c-19c7-459e-b433-e24f36fde6a2')\"\n",
              "            title=\"Convert this dataframe to an interactive table.\"\n",
              "            style=\"display:none;\">\n",
              "\n",
              "  <svg xmlns=\"http://www.w3.org/2000/svg\" height=\"24px\" viewBox=\"0 -960 960 960\">\n",
              "    <path d=\"M120-120v-720h720v720H120Zm60-500h600v-160H180v160Zm220 220h160v-160H400v160Zm0 220h160v-160H400v160ZM180-400h160v-160H180v160Zm440 0h160v-160H620v160ZM180-180h160v-160H180v160Zm440 0h160v-160H620v160Z\"/>\n",
              "  </svg>\n",
              "    </button>\n",
              "\n",
              "  <style>\n",
              "    .colab-df-container {\n",
              "      display:flex;\n",
              "      gap: 12px;\n",
              "    }\n",
              "\n",
              "    .colab-df-convert {\n",
              "      background-color: #E8F0FE;\n",
              "      border: none;\n",
              "      border-radius: 50%;\n",
              "      cursor: pointer;\n",
              "      display: none;\n",
              "      fill: #1967D2;\n",
              "      height: 32px;\n",
              "      padding: 0 0 0 0;\n",
              "      width: 32px;\n",
              "    }\n",
              "\n",
              "    .colab-df-convert:hover {\n",
              "      background-color: #E2EBFA;\n",
              "      box-shadow: 0px 1px 2px rgba(60, 64, 67, 0.3), 0px 1px 3px 1px rgba(60, 64, 67, 0.15);\n",
              "      fill: #174EA6;\n",
              "    }\n",
              "\n",
              "    .colab-df-buttons div {\n",
              "      margin-bottom: 4px;\n",
              "    }\n",
              "\n",
              "    [theme=dark] .colab-df-convert {\n",
              "      background-color: #3B4455;\n",
              "      fill: #D2E3FC;\n",
              "    }\n",
              "\n",
              "    [theme=dark] .colab-df-convert:hover {\n",
              "      background-color: #434B5C;\n",
              "      box-shadow: 0px 1px 3px 1px rgba(0, 0, 0, 0.15);\n",
              "      filter: drop-shadow(0px 1px 2px rgba(0, 0, 0, 0.3));\n",
              "      fill: #FFFFFF;\n",
              "    }\n",
              "  </style>\n",
              "\n",
              "    <script>\n",
              "      const buttonEl =\n",
              "        document.querySelector('#df-73e6259c-19c7-459e-b433-e24f36fde6a2 button.colab-df-convert');\n",
              "      buttonEl.style.display =\n",
              "        google.colab.kernel.accessAllowed ? 'block' : 'none';\n",
              "\n",
              "      async function convertToInteractive(key) {\n",
              "        const element = document.querySelector('#df-73e6259c-19c7-459e-b433-e24f36fde6a2');\n",
              "        const dataTable =\n",
              "          await google.colab.kernel.invokeFunction('convertToInteractive',\n",
              "                                                    [key], {});\n",
              "        if (!dataTable) return;\n",
              "\n",
              "        const docLinkHtml = 'Like what you see? Visit the ' +\n",
              "          '<a target=\"_blank\" href=https://colab.research.google.com/notebooks/data_table.ipynb>data table notebook</a>'\n",
              "          + ' to learn more about interactive tables.';\n",
              "        element.innerHTML = '';\n",
              "        dataTable['output_type'] = 'display_data';\n",
              "        await google.colab.output.renderOutput(dataTable, element);\n",
              "        const docLink = document.createElement('div');\n",
              "        docLink.innerHTML = docLinkHtml;\n",
              "        element.appendChild(docLink);\n",
              "      }\n",
              "    </script>\n",
              "  </div>\n",
              "\n",
              "\n",
              "<div id=\"df-243fd1a0-80ba-478a-93ca-37104b5c4386\">\n",
              "  <button class=\"colab-df-quickchart\" onclick=\"quickchart('df-243fd1a0-80ba-478a-93ca-37104b5c4386')\"\n",
              "            title=\"Suggest charts\"\n",
              "            style=\"display:none;\">\n",
              "\n",
              "<svg xmlns=\"http://www.w3.org/2000/svg\" height=\"24px\"viewBox=\"0 0 24 24\"\n",
              "     width=\"24px\">\n",
              "    <g>\n",
              "        <path d=\"M19 3H5c-1.1 0-2 .9-2 2v14c0 1.1.9 2 2 2h14c1.1 0 2-.9 2-2V5c0-1.1-.9-2-2-2zM9 17H7v-7h2v7zm4 0h-2V7h2v10zm4 0h-2v-4h2v4z\"/>\n",
              "    </g>\n",
              "</svg>\n",
              "  </button>\n",
              "\n",
              "<style>\n",
              "  .colab-df-quickchart {\n",
              "      --bg-color: #E8F0FE;\n",
              "      --fill-color: #1967D2;\n",
              "      --hover-bg-color: #E2EBFA;\n",
              "      --hover-fill-color: #174EA6;\n",
              "      --disabled-fill-color: #AAA;\n",
              "      --disabled-bg-color: #DDD;\n",
              "  }\n",
              "\n",
              "  [theme=dark] .colab-df-quickchart {\n",
              "      --bg-color: #3B4455;\n",
              "      --fill-color: #D2E3FC;\n",
              "      --hover-bg-color: #434B5C;\n",
              "      --hover-fill-color: #FFFFFF;\n",
              "      --disabled-bg-color: #3B4455;\n",
              "      --disabled-fill-color: #666;\n",
              "  }\n",
              "\n",
              "  .colab-df-quickchart {\n",
              "    background-color: var(--bg-color);\n",
              "    border: none;\n",
              "    border-radius: 50%;\n",
              "    cursor: pointer;\n",
              "    display: none;\n",
              "    fill: var(--fill-color);\n",
              "    height: 32px;\n",
              "    padding: 0;\n",
              "    width: 32px;\n",
              "  }\n",
              "\n",
              "  .colab-df-quickchart:hover {\n",
              "    background-color: var(--hover-bg-color);\n",
              "    box-shadow: 0 1px 2px rgba(60, 64, 67, 0.3), 0 1px 3px 1px rgba(60, 64, 67, 0.15);\n",
              "    fill: var(--button-hover-fill-color);\n",
              "  }\n",
              "\n",
              "  .colab-df-quickchart-complete:disabled,\n",
              "  .colab-df-quickchart-complete:disabled:hover {\n",
              "    background-color: var(--disabled-bg-color);\n",
              "    fill: var(--disabled-fill-color);\n",
              "    box-shadow: none;\n",
              "  }\n",
              "\n",
              "  .colab-df-spinner {\n",
              "    border: 2px solid var(--fill-color);\n",
              "    border-color: transparent;\n",
              "    border-bottom-color: var(--fill-color);\n",
              "    animation:\n",
              "      spin 1s steps(1) infinite;\n",
              "  }\n",
              "\n",
              "  @keyframes spin {\n",
              "    0% {\n",
              "      border-color: transparent;\n",
              "      border-bottom-color: var(--fill-color);\n",
              "      border-left-color: var(--fill-color);\n",
              "    }\n",
              "    20% {\n",
              "      border-color: transparent;\n",
              "      border-left-color: var(--fill-color);\n",
              "      border-top-color: var(--fill-color);\n",
              "    }\n",
              "    30% {\n",
              "      border-color: transparent;\n",
              "      border-left-color: var(--fill-color);\n",
              "      border-top-color: var(--fill-color);\n",
              "      border-right-color: var(--fill-color);\n",
              "    }\n",
              "    40% {\n",
              "      border-color: transparent;\n",
              "      border-right-color: var(--fill-color);\n",
              "      border-top-color: var(--fill-color);\n",
              "    }\n",
              "    60% {\n",
              "      border-color: transparent;\n",
              "      border-right-color: var(--fill-color);\n",
              "    }\n",
              "    80% {\n",
              "      border-color: transparent;\n",
              "      border-right-color: var(--fill-color);\n",
              "      border-bottom-color: var(--fill-color);\n",
              "    }\n",
              "    90% {\n",
              "      border-color: transparent;\n",
              "      border-bottom-color: var(--fill-color);\n",
              "    }\n",
              "  }\n",
              "</style>\n",
              "\n",
              "  <script>\n",
              "    async function quickchart(key) {\n",
              "      const quickchartButtonEl =\n",
              "        document.querySelector('#' + key + ' button');\n",
              "      quickchartButtonEl.disabled = true;  // To prevent multiple clicks.\n",
              "      quickchartButtonEl.classList.add('colab-df-spinner');\n",
              "      try {\n",
              "        const charts = await google.colab.kernel.invokeFunction(\n",
              "            'suggestCharts', [key], {});\n",
              "      } catch (error) {\n",
              "        console.error('Error during call to suggestCharts:', error);\n",
              "      }\n",
              "      quickchartButtonEl.classList.remove('colab-df-spinner');\n",
              "      quickchartButtonEl.classList.add('colab-df-quickchart-complete');\n",
              "    }\n",
              "    (() => {\n",
              "      let quickchartButtonEl =\n",
              "        document.querySelector('#df-243fd1a0-80ba-478a-93ca-37104b5c4386 button');\n",
              "      quickchartButtonEl.style.display =\n",
              "        google.colab.kernel.accessAllowed ? 'block' : 'none';\n",
              "    })();\n",
              "  </script>\n",
              "</div>\n",
              "    </div>\n",
              "  </div>\n"
            ],
            "application/vnd.google.colaboratory.intrinsic+json": {
              "type": "dataframe",
              "variable_name": "X"
            }
          },
          "metadata": {},
          "execution_count": 5
        }
      ]
    },
    {
      "cell_type": "markdown",
      "metadata": {
        "id": "TwLMM5WxPKhP"
      },
      "source": [
        "The labels dataframe corresponds to the output category (i.e. the condition of the vehicle):"
      ]
    },
    {
      "cell_type": "code",
      "metadata": {
        "colab": {
          "base_uri": "https://localhost:8080/",
          "height": 206
        },
        "id": "tR10u7IXVwsW",
        "outputId": "ab6422b5-36de-4583-c8ab-92a9740287a5"
      },
      "source": [
        "labels.head()"
      ],
      "execution_count": 6,
      "outputs": [
        {
          "output_type": "execute_result",
          "data": {
            "text/plain": [
              "   condition_acc  condition_good  condition_unacc  condition_vgood\n",
              "0              0               0                1                0\n",
              "1              0               0                1                0\n",
              "2              0               0                1                0\n",
              "3              0               0                1                0\n",
              "4              0               0                1                0"
            ],
            "text/html": [
              "\n",
              "  <div id=\"df-116891bb-c367-4318-adcb-62cbb8f825b4\" class=\"colab-df-container\">\n",
              "    <div>\n",
              "<style scoped>\n",
              "    .dataframe tbody tr th:only-of-type {\n",
              "        vertical-align: middle;\n",
              "    }\n",
              "\n",
              "    .dataframe tbody tr th {\n",
              "        vertical-align: top;\n",
              "    }\n",
              "\n",
              "    .dataframe thead th {\n",
              "        text-align: right;\n",
              "    }\n",
              "</style>\n",
              "<table border=\"1\" class=\"dataframe\">\n",
              "  <thead>\n",
              "    <tr style=\"text-align: right;\">\n",
              "      <th></th>\n",
              "      <th>condition_acc</th>\n",
              "      <th>condition_good</th>\n",
              "      <th>condition_unacc</th>\n",
              "      <th>condition_vgood</th>\n",
              "    </tr>\n",
              "  </thead>\n",
              "  <tbody>\n",
              "    <tr>\n",
              "      <th>0</th>\n",
              "      <td>0</td>\n",
              "      <td>0</td>\n",
              "      <td>1</td>\n",
              "      <td>0</td>\n",
              "    </tr>\n",
              "    <tr>\n",
              "      <th>1</th>\n",
              "      <td>0</td>\n",
              "      <td>0</td>\n",
              "      <td>1</td>\n",
              "      <td>0</td>\n",
              "    </tr>\n",
              "    <tr>\n",
              "      <th>2</th>\n",
              "      <td>0</td>\n",
              "      <td>0</td>\n",
              "      <td>1</td>\n",
              "      <td>0</td>\n",
              "    </tr>\n",
              "    <tr>\n",
              "      <th>3</th>\n",
              "      <td>0</td>\n",
              "      <td>0</td>\n",
              "      <td>1</td>\n",
              "      <td>0</td>\n",
              "    </tr>\n",
              "    <tr>\n",
              "      <th>4</th>\n",
              "      <td>0</td>\n",
              "      <td>0</td>\n",
              "      <td>1</td>\n",
              "      <td>0</td>\n",
              "    </tr>\n",
              "  </tbody>\n",
              "</table>\n",
              "</div>\n",
              "    <div class=\"colab-df-buttons\">\n",
              "\n",
              "  <div class=\"colab-df-container\">\n",
              "    <button class=\"colab-df-convert\" onclick=\"convertToInteractive('df-116891bb-c367-4318-adcb-62cbb8f825b4')\"\n",
              "            title=\"Convert this dataframe to an interactive table.\"\n",
              "            style=\"display:none;\">\n",
              "\n",
              "  <svg xmlns=\"http://www.w3.org/2000/svg\" height=\"24px\" viewBox=\"0 -960 960 960\">\n",
              "    <path d=\"M120-120v-720h720v720H120Zm60-500h600v-160H180v160Zm220 220h160v-160H400v160Zm0 220h160v-160H400v160ZM180-400h160v-160H180v160Zm440 0h160v-160H620v160ZM180-180h160v-160H180v160Zm440 0h160v-160H620v160Z\"/>\n",
              "  </svg>\n",
              "    </button>\n",
              "\n",
              "  <style>\n",
              "    .colab-df-container {\n",
              "      display:flex;\n",
              "      gap: 12px;\n",
              "    }\n",
              "\n",
              "    .colab-df-convert {\n",
              "      background-color: #E8F0FE;\n",
              "      border: none;\n",
              "      border-radius: 50%;\n",
              "      cursor: pointer;\n",
              "      display: none;\n",
              "      fill: #1967D2;\n",
              "      height: 32px;\n",
              "      padding: 0 0 0 0;\n",
              "      width: 32px;\n",
              "    }\n",
              "\n",
              "    .colab-df-convert:hover {\n",
              "      background-color: #E2EBFA;\n",
              "      box-shadow: 0px 1px 2px rgba(60, 64, 67, 0.3), 0px 1px 3px 1px rgba(60, 64, 67, 0.15);\n",
              "      fill: #174EA6;\n",
              "    }\n",
              "\n",
              "    .colab-df-buttons div {\n",
              "      margin-bottom: 4px;\n",
              "    }\n",
              "\n",
              "    [theme=dark] .colab-df-convert {\n",
              "      background-color: #3B4455;\n",
              "      fill: #D2E3FC;\n",
              "    }\n",
              "\n",
              "    [theme=dark] .colab-df-convert:hover {\n",
              "      background-color: #434B5C;\n",
              "      box-shadow: 0px 1px 3px 1px rgba(0, 0, 0, 0.15);\n",
              "      filter: drop-shadow(0px 1px 2px rgba(0, 0, 0, 0.3));\n",
              "      fill: #FFFFFF;\n",
              "    }\n",
              "  </style>\n",
              "\n",
              "    <script>\n",
              "      const buttonEl =\n",
              "        document.querySelector('#df-116891bb-c367-4318-adcb-62cbb8f825b4 button.colab-df-convert');\n",
              "      buttonEl.style.display =\n",
              "        google.colab.kernel.accessAllowed ? 'block' : 'none';\n",
              "\n",
              "      async function convertToInteractive(key) {\n",
              "        const element = document.querySelector('#df-116891bb-c367-4318-adcb-62cbb8f825b4');\n",
              "        const dataTable =\n",
              "          await google.colab.kernel.invokeFunction('convertToInteractive',\n",
              "                                                    [key], {});\n",
              "        if (!dataTable) return;\n",
              "\n",
              "        const docLinkHtml = 'Like what you see? Visit the ' +\n",
              "          '<a target=\"_blank\" href=https://colab.research.google.com/notebooks/data_table.ipynb>data table notebook</a>'\n",
              "          + ' to learn more about interactive tables.';\n",
              "        element.innerHTML = '';\n",
              "        dataTable['output_type'] = 'display_data';\n",
              "        await google.colab.output.renderOutput(dataTable, element);\n",
              "        const docLink = document.createElement('div');\n",
              "        docLink.innerHTML = docLinkHtml;\n",
              "        element.appendChild(docLink);\n",
              "      }\n",
              "    </script>\n",
              "  </div>\n",
              "\n",
              "\n",
              "<div id=\"df-cf84ddea-e95b-428b-96bb-0a9c3086465d\">\n",
              "  <button class=\"colab-df-quickchart\" onclick=\"quickchart('df-cf84ddea-e95b-428b-96bb-0a9c3086465d')\"\n",
              "            title=\"Suggest charts\"\n",
              "            style=\"display:none;\">\n",
              "\n",
              "<svg xmlns=\"http://www.w3.org/2000/svg\" height=\"24px\"viewBox=\"0 0 24 24\"\n",
              "     width=\"24px\">\n",
              "    <g>\n",
              "        <path d=\"M19 3H5c-1.1 0-2 .9-2 2v14c0 1.1.9 2 2 2h14c1.1 0 2-.9 2-2V5c0-1.1-.9-2-2-2zM9 17H7v-7h2v7zm4 0h-2V7h2v10zm4 0h-2v-4h2v4z\"/>\n",
              "    </g>\n",
              "</svg>\n",
              "  </button>\n",
              "\n",
              "<style>\n",
              "  .colab-df-quickchart {\n",
              "      --bg-color: #E8F0FE;\n",
              "      --fill-color: #1967D2;\n",
              "      --hover-bg-color: #E2EBFA;\n",
              "      --hover-fill-color: #174EA6;\n",
              "      --disabled-fill-color: #AAA;\n",
              "      --disabled-bg-color: #DDD;\n",
              "  }\n",
              "\n",
              "  [theme=dark] .colab-df-quickchart {\n",
              "      --bg-color: #3B4455;\n",
              "      --fill-color: #D2E3FC;\n",
              "      --hover-bg-color: #434B5C;\n",
              "      --hover-fill-color: #FFFFFF;\n",
              "      --disabled-bg-color: #3B4455;\n",
              "      --disabled-fill-color: #666;\n",
              "  }\n",
              "\n",
              "  .colab-df-quickchart {\n",
              "    background-color: var(--bg-color);\n",
              "    border: none;\n",
              "    border-radius: 50%;\n",
              "    cursor: pointer;\n",
              "    display: none;\n",
              "    fill: var(--fill-color);\n",
              "    height: 32px;\n",
              "    padding: 0;\n",
              "    width: 32px;\n",
              "  }\n",
              "\n",
              "  .colab-df-quickchart:hover {\n",
              "    background-color: var(--hover-bg-color);\n",
              "    box-shadow: 0 1px 2px rgba(60, 64, 67, 0.3), 0 1px 3px 1px rgba(60, 64, 67, 0.15);\n",
              "    fill: var(--button-hover-fill-color);\n",
              "  }\n",
              "\n",
              "  .colab-df-quickchart-complete:disabled,\n",
              "  .colab-df-quickchart-complete:disabled:hover {\n",
              "    background-color: var(--disabled-bg-color);\n",
              "    fill: var(--disabled-fill-color);\n",
              "    box-shadow: none;\n",
              "  }\n",
              "\n",
              "  .colab-df-spinner {\n",
              "    border: 2px solid var(--fill-color);\n",
              "    border-color: transparent;\n",
              "    border-bottom-color: var(--fill-color);\n",
              "    animation:\n",
              "      spin 1s steps(1) infinite;\n",
              "  }\n",
              "\n",
              "  @keyframes spin {\n",
              "    0% {\n",
              "      border-color: transparent;\n",
              "      border-bottom-color: var(--fill-color);\n",
              "      border-left-color: var(--fill-color);\n",
              "    }\n",
              "    20% {\n",
              "      border-color: transparent;\n",
              "      border-left-color: var(--fill-color);\n",
              "      border-top-color: var(--fill-color);\n",
              "    }\n",
              "    30% {\n",
              "      border-color: transparent;\n",
              "      border-left-color: var(--fill-color);\n",
              "      border-top-color: var(--fill-color);\n",
              "      border-right-color: var(--fill-color);\n",
              "    }\n",
              "    40% {\n",
              "      border-color: transparent;\n",
              "      border-right-color: var(--fill-color);\n",
              "      border-top-color: var(--fill-color);\n",
              "    }\n",
              "    60% {\n",
              "      border-color: transparent;\n",
              "      border-right-color: var(--fill-color);\n",
              "    }\n",
              "    80% {\n",
              "      border-color: transparent;\n",
              "      border-right-color: var(--fill-color);\n",
              "      border-bottom-color: var(--fill-color);\n",
              "    }\n",
              "    90% {\n",
              "      border-color: transparent;\n",
              "      border-bottom-color: var(--fill-color);\n",
              "    }\n",
              "  }\n",
              "</style>\n",
              "\n",
              "  <script>\n",
              "    async function quickchart(key) {\n",
              "      const quickchartButtonEl =\n",
              "        document.querySelector('#' + key + ' button');\n",
              "      quickchartButtonEl.disabled = true;  // To prevent multiple clicks.\n",
              "      quickchartButtonEl.classList.add('colab-df-spinner');\n",
              "      try {\n",
              "        const charts = await google.colab.kernel.invokeFunction(\n",
              "            'suggestCharts', [key], {});\n",
              "      } catch (error) {\n",
              "        console.error('Error during call to suggestCharts:', error);\n",
              "      }\n",
              "      quickchartButtonEl.classList.remove('colab-df-spinner');\n",
              "      quickchartButtonEl.classList.add('colab-df-quickchart-complete');\n",
              "    }\n",
              "    (() => {\n",
              "      let quickchartButtonEl =\n",
              "        document.querySelector('#df-cf84ddea-e95b-428b-96bb-0a9c3086465d button');\n",
              "      quickchartButtonEl.style.display =\n",
              "        google.colab.kernel.accessAllowed ? 'block' : 'none';\n",
              "    })();\n",
              "  </script>\n",
              "</div>\n",
              "    </div>\n",
              "  </div>\n"
            ],
            "application/vnd.google.colaboratory.intrinsic+json": {
              "type": "dataframe",
              "variable_name": "labels",
              "summary": "{\n  \"name\": \"labels\",\n  \"rows\": 1728,\n  \"fields\": [\n    {\n      \"column\": \"condition_acc\",\n      \"properties\": {\n        \"dtype\": \"uint8\",\n        \"num_unique_values\": 2,\n        \"samples\": [\n          1,\n          0\n        ],\n        \"semantic_type\": \"\",\n        \"description\": \"\"\n      }\n    },\n    {\n      \"column\": \"condition_good\",\n      \"properties\": {\n        \"dtype\": \"uint8\",\n        \"num_unique_values\": 2,\n        \"samples\": [\n          1,\n          0\n        ],\n        \"semantic_type\": \"\",\n        \"description\": \"\"\n      }\n    },\n    {\n      \"column\": \"condition_unacc\",\n      \"properties\": {\n        \"dtype\": \"uint8\",\n        \"num_unique_values\": 2,\n        \"samples\": [\n          0,\n          1\n        ],\n        \"semantic_type\": \"\",\n        \"description\": \"\"\n      }\n    },\n    {\n      \"column\": \"condition_vgood\",\n      \"properties\": {\n        \"dtype\": \"uint8\",\n        \"num_unique_values\": 2,\n        \"samples\": [\n          1,\n          0\n        ],\n        \"semantic_type\": \"\",\n        \"description\": \"\"\n      }\n    }\n  ]\n}"
            }
          },
          "metadata": {},
          "execution_count": 6
        }
      ]
    },
    {
      "cell_type": "code",
      "metadata": {
        "id": "oW4WxktAVzQP"
      },
      "source": [
        "y = labels.values"
      ],
      "execution_count": 7,
      "outputs": []
    },
    {
      "cell_type": "markdown",
      "metadata": {
        "id": "liZRIICoV1hE"
      },
      "source": [
        "We'll randomly split the data into training and test data:"
      ]
    },
    {
      "cell_type": "code",
      "metadata": {
        "id": "voUr4rKWV4km"
      },
      "source": [
        "from sklearn.model_selection import train_test_split\n",
        "X_train, X_test, y_train, y_test = train_test_split(X, y, test_size=0.20, random_state=42)"
      ],
      "execution_count": 8,
      "outputs": []
    },
    {
      "cell_type": "markdown",
      "metadata": {
        "id": "Jj8SJT5mV35H"
      },
      "source": [
        "And create the model as layers in tensorflow:"
      ]
    },
    {
      "cell_type": "code",
      "metadata": {
        "id": "gZ5VPs2GV9kK"
      },
      "source": [
        "from tensorflow.keras.layers import Input, Dense, Activation,Dropout\n",
        "from tensorflow.keras.models import Model"
      ],
      "execution_count": 9,
      "outputs": []
    },
    {
      "cell_type": "code",
      "metadata": {
        "id": "X3ySC9EuV_oz"
      },
      "source": [
        "input_layer = Input(shape=(X.shape[1],))\n",
        "output = Dense(y.shape[1], activation='softmax')(input_layer)\n",
        "\n",
        "model = Model(inputs=input_layer, outputs=output)\n",
        "model.compile(loss='categorical_crossentropy', optimizer='sgd', metrics=['acc'])"
      ],
      "execution_count": 10,
      "outputs": []
    },
    {
      "cell_type": "markdown",
      "metadata": {
        "id": "K5YmJGcfWDfB"
      },
      "source": [
        "The softmax activation function acts as a generalisation of the sigmoid function in logistic regression, to allow for multi-class classification problems (i.e. it extends binary classification) - see https://www.kdnuggets.com/2016/07/softmax-regression-related-logistic-regression.html"
      ]
    },
    {
      "cell_type": "code",
      "metadata": {
        "colab": {
          "base_uri": "https://localhost:8080/"
        },
        "id": "1zcpn2vUWGE2",
        "outputId": "5606fd8d-7256-4403-84b5-33ed6fca4c28"
      },
      "source": [
        "print(model.summary())"
      ],
      "execution_count": 11,
      "outputs": [
        {
          "output_type": "stream",
          "name": "stdout",
          "text": [
            "Model: \"model\"\n",
            "_________________________________________________________________\n",
            " Layer (type)                Output Shape              Param #   \n",
            "=================================================================\n",
            " input_1 (InputLayer)        [(None, 21)]              0         \n",
            "                                                                 \n",
            " dense (Dense)               (None, 4)                 88        \n",
            "                                                                 \n",
            "=================================================================\n",
            "Total params: 88 (352.00 Byte)\n",
            "Trainable params: 88 (352.00 Byte)\n",
            "Non-trainable params: 0 (0.00 Byte)\n",
            "_________________________________________________________________\n",
            "None\n"
          ]
        }
      ]
    },
    {
      "cell_type": "markdown",
      "metadata": {
        "id": "qPRuxgg7PcaW"
      },
      "source": [
        "Now we can fit the model (i.e. estimate the parameters):"
      ]
    },
    {
      "cell_type": "code",
      "metadata": {
        "colab": {
          "base_uri": "https://localhost:8080/"
        },
        "id": "lfjXAVMlWI0b",
        "outputId": "3924fe0f-c52b-49a8-991e-00be9eef214d"
      },
      "source": [
        "history = model.fit(X_train, y_train, batch_size=8, epochs=50, verbose=1, validation_split=0.2)"
      ],
      "execution_count": 12,
      "outputs": [
        {
          "output_type": "stream",
          "name": "stdout",
          "text": [
            "Epoch 1/50\n",
            "139/139 [==============================] - 2s 7ms/step - loss: 1.2267 - acc: 0.4661 - val_loss: 0.9876 - val_acc: 0.6390\n",
            "Epoch 2/50\n",
            "139/139 [==============================] - 1s 6ms/step - loss: 0.8088 - acc: 0.7222 - val_loss: 0.8571 - val_acc: 0.6643\n",
            "Epoch 3/50\n",
            "139/139 [==============================] - 1s 4ms/step - loss: 0.7074 - acc: 0.7348 - val_loss: 0.7992 - val_acc: 0.6823\n",
            "Epoch 4/50\n",
            "139/139 [==============================] - 1s 6ms/step - loss: 0.6556 - acc: 0.7403 - val_loss: 0.7563 - val_acc: 0.6931\n",
            "Epoch 5/50\n",
            "139/139 [==============================] - 1s 4ms/step - loss: 0.6190 - acc: 0.7548 - val_loss: 0.7235 - val_acc: 0.6895\n",
            "Epoch 6/50\n",
            "139/139 [==============================] - 1s 5ms/step - loss: 0.5906 - acc: 0.7629 - val_loss: 0.6936 - val_acc: 0.6859\n",
            "Epoch 7/50\n",
            "139/139 [==============================] - 1s 5ms/step - loss: 0.5674 - acc: 0.7783 - val_loss: 0.6710 - val_acc: 0.7076\n",
            "Epoch 8/50\n",
            "139/139 [==============================] - 1s 8ms/step - loss: 0.5477 - acc: 0.7855 - val_loss: 0.6533 - val_acc: 0.7076\n",
            "Epoch 9/50\n",
            "139/139 [==============================] - 1s 8ms/step - loss: 0.5311 - acc: 0.7919 - val_loss: 0.6358 - val_acc: 0.7148\n",
            "Epoch 10/50\n",
            "139/139 [==============================] - 1s 6ms/step - loss: 0.5164 - acc: 0.8045 - val_loss: 0.6213 - val_acc: 0.7184\n",
            "Epoch 11/50\n",
            "139/139 [==============================] - 1s 10ms/step - loss: 0.5035 - acc: 0.8072 - val_loss: 0.6084 - val_acc: 0.7401\n",
            "Epoch 12/50\n",
            "139/139 [==============================] - 1s 4ms/step - loss: 0.4920 - acc: 0.8181 - val_loss: 0.5973 - val_acc: 0.7437\n",
            "Epoch 13/50\n",
            "139/139 [==============================] - 1s 4ms/step - loss: 0.4815 - acc: 0.8190 - val_loss: 0.5863 - val_acc: 0.7509\n",
            "Epoch 14/50\n",
            "139/139 [==============================] - 1s 4ms/step - loss: 0.4720 - acc: 0.8262 - val_loss: 0.5768 - val_acc: 0.7509\n",
            "Epoch 15/50\n",
            "139/139 [==============================] - 1s 4ms/step - loss: 0.4633 - acc: 0.8308 - val_loss: 0.5671 - val_acc: 0.7581\n",
            "Epoch 16/50\n",
            "139/139 [==============================] - 1s 5ms/step - loss: 0.4551 - acc: 0.8281 - val_loss: 0.5568 - val_acc: 0.7762\n",
            "Epoch 17/50\n",
            "139/139 [==============================] - 0s 2ms/step - loss: 0.4474 - acc: 0.8416 - val_loss: 0.5494 - val_acc: 0.7798\n",
            "Epoch 18/50\n",
            "139/139 [==============================] - 0s 2ms/step - loss: 0.4405 - acc: 0.8452 - val_loss: 0.5421 - val_acc: 0.7834\n",
            "Epoch 19/50\n",
            "139/139 [==============================] - 0s 2ms/step - loss: 0.4340 - acc: 0.8480 - val_loss: 0.5353 - val_acc: 0.7978\n",
            "Epoch 20/50\n",
            "139/139 [==============================] - 0s 2ms/step - loss: 0.4280 - acc: 0.8489 - val_loss: 0.5289 - val_acc: 0.8014\n",
            "Epoch 21/50\n",
            "139/139 [==============================] - 0s 2ms/step - loss: 0.4222 - acc: 0.8552 - val_loss: 0.5233 - val_acc: 0.8014\n",
            "Epoch 22/50\n",
            "139/139 [==============================] - 0s 2ms/step - loss: 0.4167 - acc: 0.8534 - val_loss: 0.5174 - val_acc: 0.8014\n",
            "Epoch 23/50\n",
            "139/139 [==============================] - 0s 2ms/step - loss: 0.4117 - acc: 0.8570 - val_loss: 0.5120 - val_acc: 0.8014\n",
            "Epoch 24/50\n",
            "139/139 [==============================] - 0s 2ms/step - loss: 0.4070 - acc: 0.8597 - val_loss: 0.5069 - val_acc: 0.8087\n",
            "Epoch 25/50\n",
            "139/139 [==============================] - 0s 2ms/step - loss: 0.4023 - acc: 0.8597 - val_loss: 0.5024 - val_acc: 0.8051\n",
            "Epoch 26/50\n",
            "139/139 [==============================] - 0s 2ms/step - loss: 0.3980 - acc: 0.8606 - val_loss: 0.4969 - val_acc: 0.8123\n",
            "Epoch 27/50\n",
            "139/139 [==============================] - 0s 2ms/step - loss: 0.3938 - acc: 0.8606 - val_loss: 0.4923 - val_acc: 0.8195\n",
            "Epoch 28/50\n",
            "139/139 [==============================] - 1s 4ms/step - loss: 0.3899 - acc: 0.8624 - val_loss: 0.4883 - val_acc: 0.8231\n",
            "Epoch 29/50\n",
            "139/139 [==============================] - 1s 4ms/step - loss: 0.3861 - acc: 0.8643 - val_loss: 0.4846 - val_acc: 0.8195\n",
            "Epoch 30/50\n",
            "139/139 [==============================] - 0s 2ms/step - loss: 0.3825 - acc: 0.8652 - val_loss: 0.4807 - val_acc: 0.8231\n",
            "Epoch 31/50\n",
            "139/139 [==============================] - 0s 2ms/step - loss: 0.3791 - acc: 0.8633 - val_loss: 0.4770 - val_acc: 0.8231\n",
            "Epoch 32/50\n",
            "139/139 [==============================] - 0s 3ms/step - loss: 0.3758 - acc: 0.8661 - val_loss: 0.4736 - val_acc: 0.8231\n",
            "Epoch 33/50\n",
            "139/139 [==============================] - 0s 3ms/step - loss: 0.3726 - acc: 0.8633 - val_loss: 0.4703 - val_acc: 0.8231\n",
            "Epoch 34/50\n",
            "139/139 [==============================] - 0s 3ms/step - loss: 0.3695 - acc: 0.8670 - val_loss: 0.4670 - val_acc: 0.8231\n",
            "Epoch 35/50\n",
            "139/139 [==============================] - 0s 3ms/step - loss: 0.3666 - acc: 0.8643 - val_loss: 0.4639 - val_acc: 0.8231\n",
            "Epoch 36/50\n",
            "139/139 [==============================] - 1s 4ms/step - loss: 0.3638 - acc: 0.8633 - val_loss: 0.4608 - val_acc: 0.8231\n",
            "Epoch 37/50\n",
            "139/139 [==============================] - 0s 3ms/step - loss: 0.3610 - acc: 0.8661 - val_loss: 0.4579 - val_acc: 0.8267\n",
            "Epoch 38/50\n",
            "139/139 [==============================] - 0s 2ms/step - loss: 0.3584 - acc: 0.8652 - val_loss: 0.4550 - val_acc: 0.8231\n",
            "Epoch 39/50\n",
            "139/139 [==============================] - 0s 2ms/step - loss: 0.3559 - acc: 0.8688 - val_loss: 0.4517 - val_acc: 0.8267\n",
            "Epoch 40/50\n",
            "139/139 [==============================] - 0s 2ms/step - loss: 0.3535 - acc: 0.8688 - val_loss: 0.4490 - val_acc: 0.8267\n",
            "Epoch 41/50\n",
            "139/139 [==============================] - 0s 2ms/step - loss: 0.3510 - acc: 0.8652 - val_loss: 0.4465 - val_acc: 0.8267\n",
            "Epoch 42/50\n",
            "139/139 [==============================] - 0s 2ms/step - loss: 0.3487 - acc: 0.8670 - val_loss: 0.4442 - val_acc: 0.8267\n",
            "Epoch 43/50\n",
            "139/139 [==============================] - 0s 2ms/step - loss: 0.3465 - acc: 0.8661 - val_loss: 0.4421 - val_acc: 0.8267\n",
            "Epoch 44/50\n",
            "139/139 [==============================] - 0s 2ms/step - loss: 0.3443 - acc: 0.8688 - val_loss: 0.4396 - val_acc: 0.8267\n",
            "Epoch 45/50\n",
            "139/139 [==============================] - 0s 2ms/step - loss: 0.3423 - acc: 0.8679 - val_loss: 0.4372 - val_acc: 0.8267\n",
            "Epoch 46/50\n",
            "139/139 [==============================] - 0s 2ms/step - loss: 0.3402 - acc: 0.8715 - val_loss: 0.4352 - val_acc: 0.8303\n",
            "Epoch 47/50\n",
            "139/139 [==============================] - 0s 2ms/step - loss: 0.3383 - acc: 0.8679 - val_loss: 0.4333 - val_acc: 0.8303\n",
            "Epoch 48/50\n",
            "139/139 [==============================] - 0s 2ms/step - loss: 0.3363 - acc: 0.8688 - val_loss: 0.4313 - val_acc: 0.8339\n",
            "Epoch 49/50\n",
            "139/139 [==============================] - 0s 2ms/step - loss: 0.3344 - acc: 0.8697 - val_loss: 0.4294 - val_acc: 0.8267\n",
            "Epoch 50/50\n",
            "139/139 [==============================] - 0s 2ms/step - loss: 0.3327 - acc: 0.8688 - val_loss: 0.4276 - val_acc: 0.8267\n"
          ]
        }
      ]
    },
    {
      "cell_type": "markdown",
      "metadata": {
        "id": "790zNksLPgV_"
      },
      "source": [
        "And evaluate how well the model has performed on the held-out test set:"
      ]
    },
    {
      "cell_type": "code",
      "metadata": {
        "colab": {
          "base_uri": "https://localhost:8080/"
        },
        "id": "uHg6PGlAWNHb",
        "outputId": "62679300-7026-4a8b-dd6c-d9c977e66e63"
      },
      "source": [
        "score = model.evaluate(X_test, y_test, verbose=1)\n",
        "\n",
        "print(\"Test Score:\", score[0])\n",
        "print(\"Test Accuracy:\", score[1])"
      ],
      "execution_count": 13,
      "outputs": [
        {
          "output_type": "stream",
          "name": "stdout",
          "text": [
            "11/11 [==============================] - 0s 2ms/step - loss: 0.3749 - acc: 0.8439\n",
            "Test Score: 0.3748660087585449\n",
            "Test Accuracy: 0.8439306616783142\n"
          ]
        }
      ]
    },
    {
      "cell_type": "markdown",
      "metadata": {
        "id": "IDUaW9B3WTLN"
      },
      "source": [
        "## Deep Neural Network"
      ]
    },
    {
      "cell_type": "markdown",
      "metadata": {
        "id": "3TlumoIPWVr4"
      },
      "source": [
        "Finally, we can make our model \"Deep\" (i.e. we can create a deep neural network) by adding additional layers:"
      ]
    },
    {
      "cell_type": "code",
      "metadata": {
        "id": "IXQx1p0oWS-a"
      },
      "source": [
        "input_layer = Input(shape=(X.shape[1],))\n",
        "dense_layer_1 = Dense(15, activation='relu')(input_layer)\n",
        "dense_layer_2 = Dense(10, activation='relu')(dense_layer_1)\n",
        "dense_layer_3 = Dense(20, activation='relu')(dense_layer_2)\n",
        "output = Dense(y.shape[1], activation='softmax')(dense_layer_3)\n",
        "\n",
        "model = Model(inputs=input_layer, outputs=output)\n",
        "model.compile(loss='categorical_crossentropy', optimizer='adam', metrics=['acc'])"
      ],
      "execution_count": 14,
      "outputs": []
    },
    {
      "cell_type": "markdown",
      "metadata": {
        "id": "SKLr2lCNWaAY"
      },
      "source": [
        "Here we use a relu (rectified linear unit) activation function: https://www.tinymind.com/learn/terms/relu"
      ]
    },
    {
      "cell_type": "code",
      "metadata": {
        "colab": {
          "base_uri": "https://localhost:8080/"
        },
        "id": "hH__sJJ6Wb11",
        "outputId": "a41be742-f6ba-4ea4-fd2e-3f436f98c0ee"
      },
      "source": [
        "print(model.summary())"
      ],
      "execution_count": 15,
      "outputs": [
        {
          "output_type": "stream",
          "name": "stdout",
          "text": [
            "Model: \"model_1\"\n",
            "_________________________________________________________________\n",
            " Layer (type)                Output Shape              Param #   \n",
            "=================================================================\n",
            " input_2 (InputLayer)        [(None, 21)]              0         \n",
            "                                                                 \n",
            " dense_1 (Dense)             (None, 15)                330       \n",
            "                                                                 \n",
            " dense_2 (Dense)             (None, 10)                160       \n",
            "                                                                 \n",
            " dense_3 (Dense)             (None, 20)                220       \n",
            "                                                                 \n",
            " dense_4 (Dense)             (None, 4)                 84        \n",
            "                                                                 \n",
            "=================================================================\n",
            "Total params: 794 (3.10 KB)\n",
            "Trainable params: 794 (3.10 KB)\n",
            "Non-trainable params: 0 (0.00 Byte)\n",
            "_________________________________________________________________\n",
            "None\n"
          ]
        }
      ]
    },
    {
      "cell_type": "code",
      "metadata": {
        "colab": {
          "base_uri": "https://localhost:8080/"
        },
        "id": "3MWdBSHmWeg9",
        "outputId": "3dbf2023-c293-46a5-f2c7-214ffa8e456d"
      },
      "source": [
        "history = model.fit(X_train, y_train, batch_size=8, epochs=50, verbose=1, validation_split=0.2)"
      ],
      "execution_count": 16,
      "outputs": [
        {
          "output_type": "stream",
          "name": "stdout",
          "text": [
            "Epoch 1/50\n",
            "139/139 [==============================] - 2s 6ms/step - loss: 0.9263 - acc: 0.6452 - val_loss: 0.8061 - val_acc: 0.6498\n",
            "Epoch 2/50\n",
            "139/139 [==============================] - 0s 3ms/step - loss: 0.5974 - acc: 0.7195 - val_loss: 0.6399 - val_acc: 0.6498\n",
            "Epoch 3/50\n",
            "139/139 [==============================] - 1s 4ms/step - loss: 0.4397 - acc: 0.7792 - val_loss: 0.4719 - val_acc: 0.7834\n",
            "Epoch 4/50\n",
            "139/139 [==============================] - 0s 2ms/step - loss: 0.3231 - acc: 0.8643 - val_loss: 0.3768 - val_acc: 0.8267\n",
            "Epoch 5/50\n",
            "139/139 [==============================] - 0s 2ms/step - loss: 0.2557 - acc: 0.8914 - val_loss: 0.3176 - val_acc: 0.8520\n",
            "Epoch 6/50\n",
            "139/139 [==============================] - 0s 3ms/step - loss: 0.2172 - acc: 0.9077 - val_loss: 0.2871 - val_acc: 0.8592\n",
            "Epoch 7/50\n",
            "139/139 [==============================] - 0s 2ms/step - loss: 0.1801 - acc: 0.9240 - val_loss: 0.2437 - val_acc: 0.8881\n",
            "Epoch 8/50\n",
            "139/139 [==============================] - 0s 2ms/step - loss: 0.1597 - acc: 0.9357 - val_loss: 0.2241 - val_acc: 0.8953\n",
            "Epoch 9/50\n",
            "139/139 [==============================] - 0s 2ms/step - loss: 0.1373 - acc: 0.9511 - val_loss: 0.2077 - val_acc: 0.9061\n",
            "Epoch 10/50\n",
            "139/139 [==============================] - 0s 3ms/step - loss: 0.1204 - acc: 0.9593 - val_loss: 0.1825 - val_acc: 0.9278\n",
            "Epoch 11/50\n",
            "139/139 [==============================] - 0s 2ms/step - loss: 0.1065 - acc: 0.9629 - val_loss: 0.1748 - val_acc: 0.9206\n",
            "Epoch 12/50\n",
            "139/139 [==============================] - 0s 2ms/step - loss: 0.0984 - acc: 0.9665 - val_loss: 0.1766 - val_acc: 0.9134\n",
            "Epoch 13/50\n",
            "139/139 [==============================] - 0s 2ms/step - loss: 0.0883 - acc: 0.9701 - val_loss: 0.1676 - val_acc: 0.9134\n",
            "Epoch 14/50\n",
            "139/139 [==============================] - 0s 2ms/step - loss: 0.0777 - acc: 0.9729 - val_loss: 0.1896 - val_acc: 0.9206\n",
            "Epoch 15/50\n",
            "139/139 [==============================] - 0s 2ms/step - loss: 0.0764 - acc: 0.9683 - val_loss: 0.1435 - val_acc: 0.9350\n",
            "Epoch 16/50\n",
            "139/139 [==============================] - 0s 2ms/step - loss: 0.0657 - acc: 0.9774 - val_loss: 0.1428 - val_acc: 0.9422\n",
            "Epoch 17/50\n",
            "139/139 [==============================] - 0s 2ms/step - loss: 0.0644 - acc: 0.9774 - val_loss: 0.1266 - val_acc: 0.9567\n",
            "Epoch 18/50\n",
            "139/139 [==============================] - 0s 3ms/step - loss: 0.0554 - acc: 0.9855 - val_loss: 0.1426 - val_acc: 0.9314\n",
            "Epoch 19/50\n",
            "139/139 [==============================] - 0s 2ms/step - loss: 0.0492 - acc: 0.9873 - val_loss: 0.1150 - val_acc: 0.9531\n",
            "Epoch 20/50\n",
            "139/139 [==============================] - 0s 2ms/step - loss: 0.0463 - acc: 0.9891 - val_loss: 0.1248 - val_acc: 0.9278\n",
            "Epoch 21/50\n",
            "139/139 [==============================] - 0s 3ms/step - loss: 0.0414 - acc: 0.9891 - val_loss: 0.1082 - val_acc: 0.9458\n",
            "Epoch 22/50\n",
            "139/139 [==============================] - 0s 2ms/step - loss: 0.0419 - acc: 0.9864 - val_loss: 0.1087 - val_acc: 0.9422\n",
            "Epoch 23/50\n",
            "139/139 [==============================] - 0s 2ms/step - loss: 0.0351 - acc: 0.9928 - val_loss: 0.1057 - val_acc: 0.9567\n",
            "Epoch 24/50\n",
            "139/139 [==============================] - 0s 3ms/step - loss: 0.0300 - acc: 0.9946 - val_loss: 0.0949 - val_acc: 0.9603\n",
            "Epoch 25/50\n",
            "139/139 [==============================] - 0s 3ms/step - loss: 0.0258 - acc: 0.9964 - val_loss: 0.0799 - val_acc: 0.9603\n",
            "Epoch 26/50\n",
            "139/139 [==============================] - 0s 3ms/step - loss: 0.0262 - acc: 0.9946 - val_loss: 0.0865 - val_acc: 0.9675\n",
            "Epoch 27/50\n",
            "139/139 [==============================] - 0s 3ms/step - loss: 0.0196 - acc: 0.9973 - val_loss: 0.0792 - val_acc: 0.9639\n",
            "Epoch 28/50\n",
            "139/139 [==============================] - 0s 2ms/step - loss: 0.0191 - acc: 0.9964 - val_loss: 0.0744 - val_acc: 0.9675\n",
            "Epoch 29/50\n",
            "139/139 [==============================] - 0s 2ms/step - loss: 0.0149 - acc: 0.9973 - val_loss: 0.0814 - val_acc: 0.9711\n",
            "Epoch 30/50\n",
            "139/139 [==============================] - 0s 3ms/step - loss: 0.0138 - acc: 0.9991 - val_loss: 0.0676 - val_acc: 0.9711\n",
            "Epoch 31/50\n",
            "139/139 [==============================] - 0s 2ms/step - loss: 0.0124 - acc: 1.0000 - val_loss: 0.0696 - val_acc: 0.9819\n",
            "Epoch 32/50\n",
            "139/139 [==============================] - 0s 3ms/step - loss: 0.0113 - acc: 0.9982 - val_loss: 0.0686 - val_acc: 0.9711\n",
            "Epoch 33/50\n",
            "139/139 [==============================] - 1s 4ms/step - loss: 0.0093 - acc: 1.0000 - val_loss: 0.0652 - val_acc: 0.9819\n",
            "Epoch 34/50\n",
            "139/139 [==============================] - 1s 4ms/step - loss: 0.0081 - acc: 1.0000 - val_loss: 0.0684 - val_acc: 0.9747\n",
            "Epoch 35/50\n",
            "139/139 [==============================] - 1s 4ms/step - loss: 0.0073 - acc: 1.0000 - val_loss: 0.0962 - val_acc: 0.9675\n",
            "Epoch 36/50\n",
            "139/139 [==============================] - 1s 4ms/step - loss: 0.0067 - acc: 1.0000 - val_loss: 0.0689 - val_acc: 0.9783\n",
            "Epoch 37/50\n",
            "139/139 [==============================] - 0s 3ms/step - loss: 0.0055 - acc: 1.0000 - val_loss: 0.0582 - val_acc: 0.9819\n",
            "Epoch 38/50\n",
            "139/139 [==============================] - 0s 2ms/step - loss: 0.0048 - acc: 1.0000 - val_loss: 0.0659 - val_acc: 0.9819\n",
            "Epoch 39/50\n",
            "139/139 [==============================] - 0s 3ms/step - loss: 0.0044 - acc: 1.0000 - val_loss: 0.0663 - val_acc: 0.9819\n",
            "Epoch 40/50\n",
            "139/139 [==============================] - 0s 2ms/step - loss: 0.0035 - acc: 1.0000 - val_loss: 0.0600 - val_acc: 0.9783\n",
            "Epoch 41/50\n",
            "139/139 [==============================] - 0s 2ms/step - loss: 0.0031 - acc: 1.0000 - val_loss: 0.0635 - val_acc: 0.9819\n",
            "Epoch 42/50\n",
            "139/139 [==============================] - 0s 3ms/step - loss: 0.0027 - acc: 1.0000 - val_loss: 0.0689 - val_acc: 0.9747\n",
            "Epoch 43/50\n",
            "139/139 [==============================] - 0s 2ms/step - loss: 0.0026 - acc: 1.0000 - val_loss: 0.0595 - val_acc: 0.9783\n",
            "Epoch 44/50\n",
            "139/139 [==============================] - 0s 2ms/step - loss: 0.0022 - acc: 1.0000 - val_loss: 0.0623 - val_acc: 0.9783\n",
            "Epoch 45/50\n",
            "139/139 [==============================] - 0s 3ms/step - loss: 0.0020 - acc: 1.0000 - val_loss: 0.0544 - val_acc: 0.9819\n",
            "Epoch 46/50\n",
            "139/139 [==============================] - 0s 3ms/step - loss: 0.0017 - acc: 1.0000 - val_loss: 0.0575 - val_acc: 0.9819\n",
            "Epoch 47/50\n",
            "139/139 [==============================] - 0s 2ms/step - loss: 0.0016 - acc: 1.0000 - val_loss: 0.0644 - val_acc: 0.9819\n",
            "Epoch 48/50\n",
            "139/139 [==============================] - 0s 2ms/step - loss: 0.0014 - acc: 1.0000 - val_loss: 0.0540 - val_acc: 0.9819\n",
            "Epoch 49/50\n",
            "139/139 [==============================] - 0s 2ms/step - loss: 0.0013 - acc: 1.0000 - val_loss: 0.0604 - val_acc: 0.9819\n",
            "Epoch 50/50\n",
            "139/139 [==============================] - 0s 2ms/step - loss: 0.0011 - acc: 1.0000 - val_loss: 0.0530 - val_acc: 0.9819\n"
          ]
        }
      ]
    },
    {
      "cell_type": "markdown",
      "metadata": {
        "id": "s2VpFF3HPm6Z"
      },
      "source": [
        "Notice the difference (improvement) in classification performance when we added more layers into the model:"
      ]
    },
    {
      "cell_type": "code",
      "metadata": {
        "id": "HydrpJiMWir9",
        "colab": {
          "base_uri": "https://localhost:8080/"
        },
        "outputId": "b5aafd39-76e6-47ac-ee86-a16cc8510391"
      },
      "source": [
        "score = model.evaluate(X_test, y_test, verbose=1)\n",
        "\n",
        "print(\"Test Score:\", score[0])\n",
        "print(\"Test Accuracy:\", score[1])"
      ],
      "execution_count": 17,
      "outputs": [
        {
          "output_type": "stream",
          "name": "stdout",
          "text": [
            "11/11 [==============================] - 0s 2ms/step - loss: 0.0265 - acc: 0.9913\n",
            "Test Score: 0.026479478925466537\n",
            "Test Accuracy: 0.9913294911384583\n"
          ]
        }
      ]
    },
    {
      "cell_type": "markdown",
      "metadata": {
        "id": "PEn_R3M_WiNx"
      },
      "source": [
        "The art and science of deep neural networks involves designing appropriately large networks (with billions of parameters), defining the \"activation\" functions, and using specific \"bells and whistles\" to optimise performance. A further analysis of deep neural networks is beyond the scope of this module. The interested reader is referred to https://www.coursera.org/learn/neural-networks-deep-learning for an in-depth exposition."
      ]
    }
  ]
}