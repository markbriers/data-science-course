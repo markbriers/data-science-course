{
  "nbformat": 4,
  "nbformat_minor": 0,
  "metadata": {
    "colab": {
      "name": "week6-notes.ipynb",
      "provenance": [],
      "collapsed_sections": [],
      "authorship_tag": "ABX9TyO3xq0KJWLG0HyOBGXKOG5X",
      "include_colab_link": true
    },
    "kernelspec": {
      "name": "python3",
      "display_name": "Python 3"
    }
  },
  "cells": [
    {
      "cell_type": "markdown",
      "metadata": {
        "id": "view-in-github",
        "colab_type": "text"
      },
      "source": [
        "<a href=\"https://colab.research.google.com/github/markbriers/data-science-jupyter/blob/main/week6_notes.ipynb\" target=\"_parent\"><img src=\"https://colab.research.google.com/assets/colab-badge.svg\" alt=\"Open In Colab\"/></a>"
      ]
    },
    {
      "cell_type": "markdown",
      "metadata": {
        "id": "FTcafAmN7fc3"
      },
      "source": [
        "# Modelling part 1 (Week 6)"
      ]
    },
    {
      "cell_type": "markdown",
      "metadata": {
        "id": "HstJT44d7k2Z"
      },
      "source": [
        "Code at: https://github.com/markbriers/data-science-jupyter"
      ]
    },
    {
      "cell_type": "markdown",
      "metadata": {
        "id": "phKGJPBB7pEw"
      },
      "source": [
        "## Recap - the story so far"
      ]
    },
    {
      "cell_type": "markdown",
      "metadata": {
        "id": "jnmZOsqX7qzh"
      },
      "source": [
        "Our goal is to follow a data science process (CRISP-DM) to deliver a successful business outcome.\n",
        "\n",
        "Our learning objectives are as follows:\n",
        "\n",
        "* Describe the six stages of a data processing pipeline (using CRISP-DM)\n",
        "\n",
        "* Demonstrate an understanding of the python programming language through the production of elementary data analysis programme\n",
        "\n",
        "* Analyse at least three different data sources by applying at least one python data processing library to extract and explore pertinent features\n",
        "\n",
        "* Be able to design a set of data requirements for a specified business problem\n",
        "\n",
        "* Describe and apply (using the python programming language) the main approaches to supervised learning for a given classification problem\n",
        "\n",
        "* Understand the use cases of Big Data technology (in particular Spark)\n",
        "\n",
        "* Produce a report including appropriate data visualisations covering the analysis of a business problem using a data science based approach"
      ]
    },
    {
      "cell_type": "markdown",
      "metadata": {
        "id": "OhIbb7Jm71ZG"
      },
      "source": [
        "## Learning outcome\n",
        "\n",
        "* By the end of the lecture, you will be able to differentiate a multivariable function and functional compositions from first principles. This will allow you to select the parameters of a simple linear model.\n",
        "\n",
        "* By the end of the lecture, you will be able to determine the parameters of a linear regression model using least squares estimation. This will allow you to predict the outcome of an event with unseen data."
      ]
    },
    {
      "cell_type": "markdown",
      "metadata": {
        "id": "WHSuCSLp8leB"
      },
      "source": [
        "***"
      ]
    },
    {
      "cell_type": "markdown",
      "metadata": {
        "id": "DKZ_zhjy8kHP"
      },
      "source": [
        "## Functions and derivatives"
      ]
    },
    {
      "cell_type": "markdown",
      "metadata": {
        "id": "9Rr-iQG38o9A"
      },
      "source": [
        "A function is a relation between sets that associates to every element of a first set exactly one element of the second set\n",
        "* Examples:\n",
        "\\begin{eqnarray}\n",
        "f_1(x) & = & x^3 \\\\\n",
        "f_2(x) & = & x+2 \\\\\n",
        "f_3(x) & = & 2x \\\\\n",
        "f_4(x) & = & \\frac{1}{\\sqrt{2\\pi}}\\exp{\\left(-\\frac{x^2}{2}\\right)} \\\\\n",
        "f_5(x,y) & = & x^{2}2y^{3}\n",
        "\\end{eqnarray}"
      ]
    },
    {
      "cell_type": "markdown",
      "metadata": {
        "id": "H8KuuxM58sVP"
      },
      "source": [
        "We often wish to characterise how \"steep\" a function is at a particular point. The functions listed above (and all other _differentiable_ functions) have a _slope_ at a particlar point in the function. We can compute the extent of this slope as follows:\n",
        "\n",
        "\\begin{equation}\n",
        "\\mbox{slope} = \\frac{\\Delta_y}{\\Delta_x} = \\frac{\\mbox{change in y}}{\\mbox{change in x}}\n",
        "\\end{equation}\n",
        "![Slope](https://drive.google.com/uc?id=1bze2QvihebSI_7Ls9TBwWAVucu4-bDF_)"
      ]
    },
    {
      "cell_type": "markdown",
      "metadata": {
        "id": "dPEduFip-6S3"
      },
      "source": [
        "For example, lets calculate the average slope between two points:\n",
        "\n",
        "<img src=\"https://drive.google.com/uc?id=1q0FImsRZtKPpnWOY4H-0cEC8RXIGq0Vn\" alt=\"vector-scalar\" style=\"width: 550px;height: 500px\"/>"
      ]
    },
    {
      "cell_type": "markdown",
      "metadata": {
        "id": "At2RS-2P_i8V"
      },
      "source": [
        "### Introducting the derivative"
      ]
    },
    {
      "cell_type": "markdown",
      "metadata": {
        "id": "9KtTveKO_3cZ"
      },
      "source": [
        "* The _derivative_ of a function allows us to compute the slope at a particular point in the input space\n",
        "* Calculating a derivate is the same as calculating a slope, but we use a _smarter_ mathematical technique that allows us to compute the slope at any point in the function\n",
        "* We use $h$ to represent the infinitesimal distance (i.e. a very small number)\n",
        "<p>&nbsp;</p>\n",
        "* Example:\n",
        "\\begin{equation}\n",
        "f(\\theta_{1}) = \\theta_1^2\n",
        "\\end{equation}"
      ]
    },
    {
      "cell_type": "markdown",
      "metadata": {
        "id": "qi5bw6vx__sR"
      },
      "source": [
        "We can use differentiation to compute derivatives of functions:"
      ]
    },
    {
      "cell_type": "markdown",
      "metadata": {
        "id": "rnFCFxau_-L_"
      },
      "source": [
        "1. Increment $\\theta_{1}$ by a very small value, $h$, such that $f(\\theta_1 +h) = (\\theta_1+h)^2$\n",
        "2. Apply the slope formula:\n",
        "\\begin{equation}\n",
        "\\frac{f(\\theta_1 +h)-f(\\theta_1)}{h}\n",
        "\\end{equation}\n",
        "3. Simplify the equation:\n",
        "\\begin{equation}\n",
        "\\frac{\\theta_1^2+2\\theta_1 h+h^2-\\theta_1^2}{h} = \\frac{2\\theta_1 h+h^2}{h} = 2\\theta_1+h\n",
        "\\end{equation}\n",
        "4. Set $h$ to 0 (the limit as $h\\rightarrow 0$)\n",
        "\\begin{equation}\n",
        "2\\theta_1+0 = 2\\theta_1\n",
        "\\end{equation}\n",
        "<p>&nbsp;</p>\n",
        "This means that the slope at an any point of $f(\\theta_1)$, its derivative, is $2\\theta_1$"
      ]
    },
    {
      "cell_type": "markdown",
      "metadata": {
        "id": "dSeNGfpWASp8"
      },
      "source": [
        "<img src=\"https://drive.google.com/uc?id=1G_9l5awtaypv7c1HBXfZfBZLzeeWFGmT\" alt=\"vector-scalar\" style=\"width: 400px;height: 400px\"/>"
      ]
    },
    {
      "cell_type": "markdown",
      "metadata": {
        "id": "VaN6JPiIA-S3"
      },
      "source": [
        "What do we do if a function has more than one variable?\n",
        "\n",
        "In functions with 2 or more variables (e.g. functions of vectors), the partial derivative is the derivative of one variable with respect to the others. Let's look at an example:"
      ]
    },
    {
      "cell_type": "markdown",
      "metadata": {
        "id": "IPBA3DuJBICQ"
      },
      "source": [
        "1. Given a multivariable function, $f(x,z) = 2z^3 x^2$ calculate the derivative $\\frac{df}{dx}(x,z)$\n",
        "2. Swap $2z^3$ with a constant $b$:\n",
        "\\begin{equation}\n",
        "f(x,z) = bx^2\n",
        "\\end{equation}\n",
        "3. Calculate the derivative with $b$ constant:\n",
        "\\begin{eqnarray}\n",
        "\\lim_{h\\rightarrow 0} \\frac{b(x+h)^2-bx^2}{h}\\\\\n",
        "\\lim_{h\\rightarrow 0} \\frac{b((x+h)(x+h))-bx^2}{h} \\\\\n",
        "\\lim_{h\\rightarrow 0} \\frac{bx^2+2bxh+bh^2-bx^2}{h} \\\\\n",
        "\\lim_{h\\rightarrow 0} 2bx+bh\n",
        "\\end{eqnarray}\n",
        "4. Swap $b=2z^3$ back into this equation: $4z^3x$\n",
        "5. Repeat steps to calculate derivative w.r.t. $z$, $\\frac{df}{dz}(x,z) = 6x^2 z^2$"
      ]
    },
    {
      "cell_type": "markdown",
      "metadata": {
        "id": "DO99zGQYBMS2"
      },
      "source": [
        "We can store the partial derivates in a gradient:\n",
        "\\begin{equation}\n",
        "\\Delta f(x,z) = \\left[\\begin{matrix} \n",
        "   \\frac{df}{dx} \\\\\n",
        "   \\frac{df}{dz}\\\\\n",
        "   \\end{matrix}\\right] = \\left[\\begin{matrix} \n",
        "   4z^3x \\\\\n",
        "   6x^2 z^2\\\\\n",
        "   \\end{matrix}\\right]\n",
        "\\end{equation}"
      ]
    },
    {
      "cell_type": "markdown",
      "metadata": {
        "id": "bVuHHHfxBkjF"
      },
      "source": [
        "### Introducing a gradient\n",
        "\n",
        "* A gradient is a vector that stores the partial derivatives of multivariable functions\n",
        "* It helps us calculate the slope at a specific point on a curve for functions with multiple independent variables\n",
        "* In order to calculate this more complex slope, we need to isolate each variable to determine how it impacts the output on its own\n",
        "* To do this we iterate through each of the variables and calculate the derivative of the function after holding all other variables constant\n",
        "* Each iteration produces a partial derivative which we store in the gradient"
      ]
    },
    {
      "cell_type": "markdown",
      "metadata": {
        "id": "JKCDIfWPBslN"
      },
      "source": [
        "* A gradient always points in the direction of the greatest increase of a function\n",
        "* A gradient is always zero at a local minimum or maximum\n",
        "\n",
        "Let's compute the gradient of the function $f(\\theta_{1},\\theta_{2}) = \\theta_{1}^2 + \\theta_{2}^2$ as follows. (The function looks like this: https://www.google.com/search?q=x%5E2+%2B+y%5E2&oq=x%5E2+&aqs=chrome.0.69i59j69i57.1620j0j1&sourceid=chrome&ie=UTF-8)"
      ]
    },
    {
      "cell_type": "markdown",
      "metadata": {
        "id": "6bwrdcZLBx1G"
      },
      "source": [
        "<img src=\"https://drive.google.com/uc?id=1h13yiaQ9HFEgxigs8ABkHUfS45ZQjCsl\" alt=\"vector-scalar\" style=\"width: 550px;height: 500px\"/>"
      ]
    },
    {
      "cell_type": "markdown",
      "metadata": {
        "id": "v-ArwI4iDnOY"
      },
      "source": [
        "In this module, we will only superficially cover differentiation (in the interests of time). However, if you are interested in learning more (which may be useful for your wider careers in science) then this resource: https://www.khanacademy.org/math/differential-calculus/dc-diff-intro provides an excellent in-depth overview."
      ]
    },
    {
      "cell_type": "markdown",
      "metadata": {
        "id": "C7Ox4s_oESBA"
      },
      "source": [
        "## Introduction a linear modelling technique"
      ]
    },
    {
      "cell_type": "markdown",
      "metadata": {
        "id": "JWYoq3m6EVHC"
      },
      "source": [
        "We will now move onto modeling, exploring simple and complex statistical models (https://en.wikipedia.org/wiki/Statistical_model). Note that we will only be able to cover a small portion of the set of available models. Research into modeling and inference is constantly evolving - in this course, we will focus on linear models, logistic regression, and (for your wider knowledge) Deep Neural Networks.\n",
        "\n",
        "Modeling is used to represent the data generating process. That is, a model can be considered an abstraction of the data, allowing one to derive population based quantities from sample based quantities. The modeling process combines statistical assumptions (contextually related to the real-world or otherwise), a mathematical expression, and data. From the data, we can fit the mathematical model, and in doing so, encode the statistical assumptions."
      ]
    },
    {
      "cell_type": "markdown",
      "metadata": {
        "id": "xLz-tbu2EdDT"
      },
      "source": [
        "### Linear model\n",
        "\n",
        "We will first consider a linear model. This can be thought of as fitting a Normal (or Gaussian) distribution to data, or equivalently fitting a straight line (or plane) to the datapoints. A straight line (in 2 dimensions) is mathematically described as follows:\n",
        "\\begin{equation}\n",
        "y = ax + b\n",
        "\\end{equation}\n",
        "where $a$ is the gradient and $b$ is the $y$-axis intercept (see http://www.mathcentre.ac.uk/resources/uploaded/mc-ty-strtlines-2009-1.pdf for instance)."
      ]
    },
    {
      "cell_type": "markdown",
      "metadata": {
        "id": "ztdTzJTwEevp"
      },
      "source": [
        "<img src=\"https://drive.google.com/uc?id=1YekcxuT71dPgRZpS3zjpvNqBoLeazaC9\" style=\"width: 800px;height: 400px\"/>"
      ]
    },
    {
      "cell_type": "markdown",
      "metadata": {
        "id": "EiZ6kLwdFCo-"
      },
      "source": [
        "<img src=\"https://drive.google.com/uc?id=1krQ1nfA49U8kp47A022WnKs17RWK-H6K\" alt=\"vector-scalar\" style=\"width: 900px;height: 600px\"/>"
      ]
    },
    {
      "cell_type": "markdown",
      "metadata": {
        "id": "HJTsWWlPFQkU"
      },
      "source": [
        "<img src=\"https://drive.google.com/uc?id=1W8RHA7_X_qED6IA0lNThbxId4c3nb8ek\" alt=\"vector-scalar\" style=\"width: 900px;height: 600px\"/>"
      ]
    },
    {
      "cell_type": "markdown",
      "metadata": {
        "id": "sstBypizFcPK"
      },
      "source": [
        "<img src=\"https://drive.google.com/uc?id=11YGuosAuJjaztVh71wIQFFFo5qk8D2Kx\" alt=\"vector-scalar\" style=\"width: 900px;height: 600px\"/>"
      ]
    },
    {
      "cell_type": "markdown",
      "metadata": {
        "id": "_NDvG9bwF25t"
      },
      "source": [
        "<img src=\"https://drive.google.com/uc?id=1tse4evZ-BkdD928ZdKD47oZOmbynyXAg\" alt=\"vector-scalar\" style=\"width: 900px;height: 1100px\"/>"
      ]
    },
    {
      "cell_type": "markdown",
      "metadata": {
        "id": "opiQfvEmG5H3"
      },
      "source": [
        "<img src=\"https://drive.google.com/uc?id=1ACeG2ZvFUYUqKnq8e5pvJ5nDYQ4Ao6Kc\" alt=\"vector-scalar\" style=\"width: 900px;height: 600px\"/>"
      ]
    },
    {
      "cell_type": "markdown",
      "metadata": {
        "id": "G1XPVjH8HwP2"
      },
      "source": [
        "We will now construct a linear model and estimate the paramters using Tensorflow. This code has been adapted from https://sanjayasubedi.com.np/deeplearning/tensorflow-2-linear-regression-from-scratch/"
      ]
    },
    {
      "cell_type": "code",
      "metadata": {
        "id": "LG2WiHzwHwoN"
      },
      "source": [
        "import tensorflow as tf"
      ],
      "execution_count": 3,
      "outputs": []
    },
    {
      "cell_type": "markdown",
      "metadata": {
        "id": "JK7jLYEzH2iH"
      },
      "source": [
        "First of all, we define a linear model $y=wx+b$ as a python 'class':"
      ]
    },
    {
      "cell_type": "code",
      "metadata": {
        "id": "QIBeTs-YHyZs"
      },
      "source": [
        "class LinearModel:\n",
        "    def __init__(self):\n",
        "        self.w = tf.Variable(16.0) # Default value of W = 16.0\n",
        "        self.b = tf.Variable(10.0) # Default value of b = 10.0\n",
        "\n",
        "    def __call__(self, x):\n",
        "        return self.w * x + self.b # Linear model y = wx + b"
      ],
      "execution_count": 4,
      "outputs": []
    },
    {
      "cell_type": "markdown",
      "metadata": {
        "id": "43gbGqlIH7E0"
      },
      "source": [
        "We will now simulate some data, setting true values of w and b (which we will subsequently try to estimate):"
      ]
    },
    {
      "cell_type": "code",
      "metadata": {
        "id": "0KOpUE19H4vt"
      },
      "source": [
        "TRUE_W = 3.0 # slope\n",
        "TRUE_b = 0.5 # intercept\n",
        "\n",
        "NUM_EXAMPLES = 1000\n",
        "\n",
        "X = tf.random.normal(shape=(NUM_EXAMPLES,))\n",
        "noise = tf.random.normal(shape=(NUM_EXAMPLES,))\n",
        "y = X * TRUE_W + TRUE_b + noise"
      ],
      "execution_count": 5,
      "outputs": []
    },
    {
      "cell_type": "markdown",
      "metadata": {
        "id": "mQny9OKPH_NU"
      },
      "source": [
        "Let's plot what the initial model looks like, with the default values specified:"
      ]
    },
    {
      "cell_type": "code",
      "metadata": {
        "id": "X-zqJpydIHjx"
      },
      "source": [
        "import matplotlib.pyplot as plt\n",
        "%matplotlib inline"
      ],
      "execution_count": 7,
      "outputs": []
    },
    {
      "cell_type": "code",
      "metadata": {
        "colab": {
          "base_uri": "https://localhost:8080/",
          "height": 283
        },
        "id": "t_Dapw05H8s-",
        "outputId": "d5674ef6-c9fb-4228-9a18-f597554da594"
      },
      "source": [
        "model = LinearModel()\n",
        "plt.scatter(X, y, label=\"true\")\n",
        "plt.scatter(X, model(X), label=\"predicted\")\n",
        "plt.legend()"
      ],
      "execution_count": 8,
      "outputs": [
        {
          "output_type": "execute_result",
          "data": {
            "text/plain": [
              "<matplotlib.legend.Legend at 0x7f091598a7f0>"
            ]
          },
          "metadata": {
            "tags": []
          },
          "execution_count": 8
        },
        {
          "output_type": "display_data",
          "data": {
            "image/png": "[encoded data removed]",
            "text/plain": [
              "<Figure size 432x288 with 1 Axes>"
            ]
          },
          "metadata": {
            "tags": [],
            "needs_background": "light"
          }
        }
      ]
    },
    {
      "cell_type": "markdown",
      "metadata": {
        "id": "R7EdgU2uINtU"
      },
      "source": [
        "Now we will define the energy (or *loss*) function, using least squares expression (defined above):"
      ]
    },
    {
      "cell_type": "code",
      "metadata": {
        "id": "8Ro4FR9gIBaF"
      },
      "source": [
        "def loss(y, y_pred):\n",
        "    return tf.reduce_mean(tf.square(y - y_pred))"
      ],
      "execution_count": 9,
      "outputs": []
    },
    {
      "cell_type": "markdown",
      "metadata": {
        "id": "M8dpSND6ISTV"
      },
      "source": [
        "Finally, we define the training function which uses tensorflow's ability to automatically differentiate the loss function:"
      ]
    },
    {
      "cell_type": "code",
      "metadata": {
        "id": "SSxIVUhtIP-u"
      },
      "source": [
        "def train(model, X, y, lr=0.01):\n",
        "    with tf.GradientTape() as t:\n",
        "        current_loss = loss(y, model(X))\n",
        "    dW, db = t.gradient(current_loss, [model.w, model.b])\n",
        "    model.w.assign_sub(lr * dW)\n",
        "    model.b.assign_sub(lr * db)"
      ],
      "execution_count": 10,
      "outputs": []
    },
    {
      "cell_type": "markdown",
      "metadata": {
        "id": "j2VfglSgIWrw"
      },
      "source": [
        "We are now in a position to bring together the model and our training procedure:"
      ]
    },
    {
      "cell_type": "code",
      "metadata": {
        "colab": {
          "base_uri": "https://localhost:8080/",
          "height": 937
        },
        "id": "jxctFI4aIUso",
        "outputId": "2e792dd6-90b3-4599-86b0-9f0a6289259d"
      },
      "source": [
        "model = LinearModel()\n",
        "wStore, bStore = [], []\n",
        "trainingIterations = 40\n",
        "\n",
        "for epoch in range(trainingIterations):\n",
        "    wStore.append(model.w.numpy())\n",
        "    bStore.append(model.b.numpy())\n",
        "    current_loss = loss(y, model(X))\n",
        "    train(model, X, y, lr=0.1)\n",
        "    print(f\"Epoch {epoch}: Loss: {current_loss.numpy()}, W: {model.w.numpy()}, b: {model.b.numpy()}\")\n",
        "\n",
        "plt.plot(range(trainingIterations), wStore, 'r', range(trainingIterations), bStore, 'b')\n",
        "plt.plot([TRUE_W] * trainingIterations, 'r--', [TRUE_b] * trainingIterations, 'b--')\n",
        "plt.legend(['W', 'b', 'true W', 'true b'])\n",
        "plt.show()"
      ],
      "execution_count": 11,
      "outputs": [
        {
          "output_type": "stream",
          "text": [
            "Epoch 0: Loss: 255.96580505371094, W: 13.514087677001953, b: 8.042193412780762\n",
            "Epoch 1: Loss: 165.6798553466797, W: 11.503972053527832, b: 6.485626697540283\n",
            "Epoch 2: Loss: 107.39476013183594, W: 9.878483772277832, b: 5.248199939727783\n",
            "Epoch 3: Loss: 69.75796508789062, W: 8.563942909240723, b: 4.26458740234375\n",
            "Epoch 4: Loss: 45.44789123535156, W: 7.500800132751465, b: 3.482815742492676\n",
            "Epoch 5: Loss: 29.741348266601562, W: 6.640923500061035, b: 2.8615379333496094\n",
            "Epoch 6: Loss: 19.590641021728516, W: 5.945406913757324, b: 2.367863655090332\n",
            "Epoch 7: Loss: 13.028668403625488, W: 5.382800102233887, b: 1.9756321907043457\n",
            "Epoch 8: Loss: 8.785443305969238, W: 4.927676200866699, b: 1.6640375852584839\n",
            "Epoch 9: Loss: 6.040820121765137, W: 4.559479713439941, b: 1.4165339469909668\n",
            "Epoch 10: Loss: 4.265017509460449, W: 4.261589527130127, b: 1.219964623451233\n",
            "Epoch 11: Loss: 3.1157171726226807, W: 4.020566463470459, b: 1.0638691186904907\n",
            "Epoch 12: Loss: 2.371670961380005, W: 3.825543165206909, b: 0.9399310946464539\n",
            "Epoch 13: Loss: 1.8898403644561768, W: 3.667731285095215, b: 0.8415400385856628\n",
            "Epoch 14: Loss: 1.5777236223220825, W: 3.5400233268737793, b: 0.7634416222572327\n",
            "Epoch 15: Loss: 1.3754823207855225, W: 3.4366707801818848, b: 0.7014601230621338\n",
            "Epoch 16: Loss: 1.2443974018096924, W: 3.3530240058898926, b: 0.6522773504257202\n",
            "Epoch 17: Loss: 1.1594079732894897, W: 3.2853219509124756, b: 0.6132568120956421\n",
            "Epoch 18: Loss: 1.10428786277771, W: 3.230522394180298, b: 0.5823040008544922\n",
            "Epoch 19: Loss: 1.0685290098190308, W: 3.1861636638641357, b: 0.5577551126480103\n",
            "Epoch 20: Loss: 1.0453236103057861, W: 3.150254726409912, b: 0.5382887125015259\n",
            "Epoch 21: Loss: 1.0302599668502808, W: 3.1211843490600586, b: 0.5228554010391235\n",
            "Epoch 22: Loss: 1.0204787254333496, W: 3.097648859024048, b: 0.510621964931488\n",
            "Epoch 23: Loss: 1.0141254663467407, W: 3.0785934925079346, b: 0.5009268522262573\n",
            "Epoch 24: Loss: 1.0099976062774658, W: 3.063164472579956, b: 0.4932449460029602\n",
            "Epoch 25: Loss: 1.0073145627975464, W: 3.050671100616455, b: 0.48715949058532715\n",
            "Epoch 26: Loss: 1.005570411682129, W: 3.0405542850494385, b: 0.4823397696018219\n",
            "Epoch 27: Loss: 1.0044362545013428, W: 3.0323617458343506, b: 0.4785233736038208\n",
            "Epoch 28: Loss: 1.0036982297897339, W: 3.025726795196533, b: 0.4755021631717682\n",
            "Epoch 29: Loss: 1.003218173980713, W: 3.020353317260742, b: 0.47311103343963623\n",
            "Epoch 30: Loss: 1.0029056072235107, W: 3.016000986099243, b: 0.4712190330028534\n",
            "Epoch 31: Loss: 1.0027021169662476, W: 3.0124757289886475, b: 0.4697223901748657\n",
            "Epoch 32: Loss: 1.002569556236267, W: 3.009620189666748, b: 0.4685388207435608\n",
            "Epoch 33: Loss: 1.0024833679199219, W: 3.0073070526123047, b: 0.46760305762290955\n",
            "Epoch 34: Loss: 1.002427101135254, W: 3.0054333209991455, b: 0.4668634533882141\n",
            "Epoch 35: Loss: 1.0023903846740723, W: 3.003915309906006, b: 0.4662790596485138\n",
            "Epoch 36: Loss: 1.0023664236068726, W: 3.002685546875, b: 0.46581748127937317\n",
            "Epoch 37: Loss: 1.0023508071899414, W: 3.0016891956329346, b: 0.46545299887657166\n",
            "Epoch 38: Loss: 1.0023406744003296, W: 3.0008819103240967, b: 0.46516528725624084\n",
            "Epoch 39: Loss: 1.0023339986801147, W: 3.000227689743042, b: 0.4649382531642914\n"
          ],
          "name": "stdout"
        },
        {
          "output_type": "display_data",
          "data": {
            "image/png": "[encoded data removed]",
            "text/plain": [
              "<Figure size 432x288 with 1 Axes>"
            ]
          },
          "metadata": {
            "tags": [],
            "needs_background": "light"
          }
        }
      ]
    },
    {
      "cell_type": "markdown",
      "metadata": {
        "id": "8wUTHIWCIcuc"
      },
      "source": [
        "Lets plot the predicted data (based on the estimated model) by evaluating each of the training datapoints:"
      ]
    },
    {
      "cell_type": "code",
      "metadata": {
        "colab": {
          "base_uri": "https://localhost:8080/",
          "height": 282
        },
        "id": "gute4-upIZLF",
        "outputId": "16f55e99-a32e-423b-f9f2-49e279d52b22"
      },
      "source": [
        "plt.scatter(X, y, label=\"true\")\n",
        "plt.scatter(X, model(X), label=\"predicted\")\n",
        "plt.legend()"
      ],
      "execution_count": 12,
      "outputs": [
        {
          "output_type": "execute_result",
          "data": {
            "text/plain": [
              "<matplotlib.legend.Legend at 0x7f0910bf8e48>"
            ]
          },
          "metadata": {
            "tags": []
          },
          "execution_count": 12
        },
        {
          "output_type": "display_data",
          "data": {
            "image/png": "[encoded data removed]",
            "text/plain": [
              "<Figure size 432x288 with 1 Axes>"
            ]
          },
          "metadata": {
            "tags": [],
            "needs_background": "light"
          }
        }
      ]
    },
    {
      "cell_type": "code",
      "metadata": {
        "colab": {
          "base_uri": "https://localhost:8080/"
        },
        "id": "vYUz6ilXIfCn",
        "outputId": "bddff735-32c4-46e1-c503-a81e5db178a9"
      },
      "source": [
        "print(\"True value of W = \", TRUE_W)\n",
        "print(\"Estimated value of W = \", model.w)\n",
        "print(\"True value of b = \", TRUE_b)\n",
        "print(\"Estimated value of b = \", model.b)"
      ],
      "execution_count": 13,
      "outputs": [
        {
          "output_type": "stream",
          "text": [
            "True value of W =  3.0\n",
            "Estimated value of W =  <tf.Variable 'Variable:0' shape=() dtype=float32, numpy=3.0002277>\n",
            "True value of b =  0.5\n",
            "Estimated value of b =  <tf.Variable 'Variable:0' shape=() dtype=float32, numpy=0.46493825>\n"
          ],
          "name": "stdout"
        }
      ]
    },
    {
      "cell_type": "markdown",
      "metadata": {
        "id": "vgJ7l7T1IpCD"
      },
      "source": [
        "***\n",
        "Mandatory exercises:\n",
        "\n",
        "- [ ] Carefully read the material above, and ask questions over email.\n",
        "- [ ] Replicate all of the code in this notebook."
      ]
    }
  ]
}