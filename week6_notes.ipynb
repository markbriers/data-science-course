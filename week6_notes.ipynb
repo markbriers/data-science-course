{
  "nbformat": 4,
  "nbformat_minor": 0,
  "metadata": {
    "colab": {
      "name": "week6-notes.ipynb",
      "provenance": [],
      "include_colab_link": true
    },
    "kernelspec": {
      "name": "python3",
      "display_name": "Python 3"
    }
  },
  "cells": [
    {
      "cell_type": "markdown",
      "metadata": {
        "id": "view-in-github",
        "colab_type": "text"
      },
      "source": [
        "<a href=\"https://colab.research.google.com/github/markbriers/data-science-jupyter/blob/main/week6_notes.ipynb\" target=\"_parent\"><img src=\"https://colab.research.google.com/assets/colab-badge.svg\" alt=\"Open In Colab\"/></a>"
      ]
    },
    {
      "cell_type": "markdown",
      "metadata": {
        "id": "FTcafAmN7fc3"
      },
      "source": [
        "# Modelling part 1 (Week 6)"
      ]
    },
    {
      "cell_type": "markdown",
      "metadata": {
        "id": "HstJT44d7k2Z"
      },
      "source": [
        "Code at: https://github.com/markbriers/data-science-jupyter"
      ]
    },
    {
      "cell_type": "markdown",
      "metadata": {
        "id": "phKGJPBB7pEw"
      },
      "source": [
        "## Recap - the story so far"
      ]
    },
    {
      "cell_type": "markdown",
      "metadata": {
        "id": "jnmZOsqX7qzh"
      },
      "source": [
        "Our goal is to follow a data science process (CRISP-DM) to deliver a successful business outcome.\n",
        "\n",
        "Our learning objectives are as follows:\n",
        "\n",
        "* Describe the six stages of a data processing pipeline (using CRISP-DM)\n",
        "\n",
        "* Demonstrate an understanding of the python programming language through the production of elementary data analysis programme\n",
        "\n",
        "* Analyse at least three different data sources by applying at least one python data processing library to extract and explore pertinent features\n",
        "\n",
        "* Be able to design a set of data requirements for a specified business problem\n",
        "\n",
        "* Describe and apply (using the python programming language) the main approaches to supervised learning for a given classification problem\n",
        "\n",
        "* Understand the use cases of Big Data technology (in particular Spark)\n",
        "\n",
        "* Produce a report including appropriate data visualisations covering the analysis of a business problem using a data science based approach"
      ]
    },
    {
      "cell_type": "markdown",
      "metadata": {
        "id": "OhIbb7Jm71ZG"
      },
      "source": [
        "## Learning outcome\n",
        "\n",
        "* By the end of the lecture, you will be able to differentiate a multivariable function and functional compositions from first principles. This will allow you to select the parameters of a simple linear model.\n",
        "\n",
        "* By the end of the lecture, you will be able to determine the parameters of a linear regression model using least squares estimation. This will allow you to predict the outcome of an event with unseen data."
      ]
    },
    {
      "cell_type": "markdown",
      "metadata": {
        "id": "WHSuCSLp8leB"
      },
      "source": [
        "***"
      ]
    },
    {
      "cell_type": "markdown",
      "metadata": {
        "id": "DKZ_zhjy8kHP"
      },
      "source": [
        "## Functions and derivatives"
      ]
    },
    {
      "cell_type": "markdown",
      "metadata": {
        "id": "9Rr-iQG38o9A"
      },
      "source": [
        "A function is a relation between sets that associates to every element of a first set exactly one element of the second set\n",
        "* Examples:\n",
        "\\begin{eqnarray}\n",
        "f_1(x) & = & x^3 \\\\\n",
        "f_2(x) & = & x+2 \\\\\n",
        "f_3(x) & = & 2x \\\\\n",
        "f_4(x) & = & \\frac{1}{\\sqrt{2\\pi}}\\exp{\\left(-\\frac{x^2}{2}\\right)} \\\\\n",
        "f_5(x,y) & = & x^{2}2y^{3}\n",
        "\\end{eqnarray}"
      ]
    },
    {
      "cell_type": "markdown",
      "metadata": {
        "id": "H8KuuxM58sVP"
      },
      "source": [
        "We often wish to characterise how \"steep\" a function is at a particular point. The functions listed above (and all other _differentiable_ functions) have a _slope_ at a particlar point in the function. We can compute the extent of this slope as follows:\n",
        "\n",
        "\\begin{equation}\n",
        "\\mbox{slope} = \\frac{\\Delta_y}{\\Delta_x} = \\frac{\\mbox{change in y}}{\\mbox{change in x}}\n",
        "\\end{equation}\n",
        "![Slope](https://drive.google.com/uc?id=1bze2QvihebSI_7Ls9TBwWAVucu4-bDF_)"
      ]
    },
    {
      "cell_type": "markdown",
      "metadata": {
        "id": "dPEduFip-6S3"
      },
      "source": [
        "For example, lets calculate the average slope between two points:\n",
        "\n",
        "<img src=\"https://drive.google.com/uc?id=1q0FImsRZtKPpnWOY4H-0cEC8RXIGq0Vn\" alt=\"vector-scalar\" style=\"width: 550px;height: 500px\"/>"
      ]
    },
    {
      "cell_type": "markdown",
      "metadata": {
        "id": "At2RS-2P_i8V"
      },
      "source": [
        "### Introducting the derivative"
      ]
    },
    {
      "cell_type": "markdown",
      "metadata": {
        "id": "9KtTveKO_3cZ"
      },
      "source": [
        "* The _derivative_ of a function allows us to compute the slope at a particular point in the input space\n",
        "* Calculating a derivate is the same as calculating a slope, but we use a _smarter_ mathematical technique that allows us to compute the slope at any point in the function\n",
        "* We use $h$ to represent the infinitesimal distance (i.e. a very small number)\n",
        "<p>&nbsp;</p>\n",
        "* Example:\n",
        "\\begin{equation}\n",
        "f(\\theta_{1}) = \\theta_1^2\n",
        "\\end{equation}"
      ]
    },
    {
      "cell_type": "markdown",
      "metadata": {
        "id": "qi5bw6vx__sR"
      },
      "source": [
        "We can use differentiation to compute derivatives of functions:"
      ]
    },
    {
      "cell_type": "markdown",
      "metadata": {
        "id": "rnFCFxau_-L_"
      },
      "source": [
        "1. Increment $\\theta_{1}$ by a very small value, $h$, such that $f(\\theta_1 +h) = (\\theta_1+h)^2$\n",
        "2. Apply the slope formula:\n",
        "\\begin{equation}\n",
        "\\frac{f(\\theta_1 +h)-f(\\theta_1)}{h}\n",
        "\\end{equation}\n",
        "3. Simplify the equation:\n",
        "\\begin{equation}\n",
        "\\frac{\\theta_1^2+2\\theta_1 h+h^2-\\theta_1^2}{h} = \\frac{2\\theta_1 h+h^2}{h} = 2\\theta_1+h\n",
        "\\end{equation}\n",
        "4. Set $h$ to 0 (the limit as $h\\rightarrow 0$)\n",
        "\\begin{equation}\n",
        "2\\theta_1+0 = 2\\theta_1\n",
        "\\end{equation}\n",
        "<p>&nbsp;</p>\n",
        "This means that the slope at an any point of $f(\\theta_1)$, its derivative, is $2\\theta_1$"
      ]
    },
    {
      "cell_type": "markdown",
      "metadata": {
        "id": "dSeNGfpWASp8"
      },
      "source": [
        "<img src=\"https://drive.google.com/uc?id=1G_9l5awtaypv7c1HBXfZfBZLzeeWFGmT\" alt=\"vector-scalar\" style=\"width: 400px;height: 400px\"/>"
      ]
    },
    {
      "cell_type": "markdown",
      "metadata": {
        "id": "VaN6JPiIA-S3"
      },
      "source": [
        "What do we do if a function has more than one variable?\n",
        "\n",
        "In functions with 2 or more variables (e.g. functions of vectors), the partial derivative is the derivative of one variable with respect to the others. Let's look at an example:"
      ]
    },
    {
      "cell_type": "markdown",
      "metadata": {
        "id": "IPBA3DuJBICQ"
      },
      "source": [
        "1. Given a multivariable function, $f(x,z) = 2z^3 x^2$ calculate the derivative $\\frac{df}{dx}(x,z)$\n",
        "2. Swap $2z^3$ with a constant $b$:\n",
        "\\begin{equation}\n",
        "f(x,z) = bx^2\n",
        "\\end{equation}\n",
        "3. Calculate the derivative with $b$ constant:\n",
        "\\begin{eqnarray}\n",
        "\\lim_{h\\rightarrow 0} \\frac{b(x+h)^2-bx^2}{h}\\\\\n",
        "\\lim_{h\\rightarrow 0} \\frac{b((x+h)(x+h))-bx^2}{h} \\\\\n",
        "\\lim_{h\\rightarrow 0} \\frac{bx^2+2bxh+bh^2-bx^2}{h} \\\\\n",
        "\\lim_{h\\rightarrow 0} 2bx+bh\n",
        "\\end{eqnarray}\n",
        "4. Swap $b=2z^3$ back into this equation: $4z^3x$\n",
        "5. Repeat steps to calculate derivative w.r.t. $z$, $\\frac{df}{dz}(x,z) = 6x^2 z^2$"
      ]
    },
    {
      "cell_type": "markdown",
      "metadata": {
        "id": "DO99zGQYBMS2"
      },
      "source": [
        "We can store the partial derivates in a gradient:\n",
        "\\begin{equation}\n",
        "\\Delta f(x,z) = \\left[\\begin{matrix}\n",
        "   \\frac{df}{dx} \\\\\n",
        "   \\frac{df}{dz}\\\\\n",
        "   \\end{matrix}\\right] = \\left[\\begin{matrix}\n",
        "   4z^3x \\\\\n",
        "   6x^2 z^2\\\\\n",
        "   \\end{matrix}\\right]\n",
        "\\end{equation}"
      ]
    },
    {
      "cell_type": "markdown",
      "metadata": {
        "id": "bVuHHHfxBkjF"
      },
      "source": [
        "### Introducing a gradient\n",
        "\n",
        "* A gradient is a vector that stores the partial derivatives of multivariable functions\n",
        "* It helps us calculate the slope at a specific point on a curve for functions with multiple independent variables\n",
        "* In order to calculate this more complex slope, we need to isolate each variable to determine how it impacts the output on its own\n",
        "* To do this we iterate through each of the variables and calculate the derivative of the function after holding all other variables constant\n",
        "* Each iteration produces a partial derivative which we store in the gradient"
      ]
    },
    {
      "cell_type": "markdown",
      "metadata": {
        "id": "JKCDIfWPBslN"
      },
      "source": [
        "* A gradient always points in the direction of the greatest increase of a function\n",
        "* A gradient is always zero at a local minimum or maximum\n",
        "\n",
        "Let's compute the gradient of the function $f(\\theta_{1},\\theta_{2}) = \\theta_{1}^2 + \\theta_{2}^2$ as follows. (The function looks like this: https://www.google.com/search?q=x%5E2+%2B+y%5E2&oq=x%5E2+&aqs=chrome.0.69i59j69i57.1620j0j1&sourceid=chrome&ie=UTF-8)"
      ]
    },
    {
      "cell_type": "markdown",
      "metadata": {
        "id": "6bwrdcZLBx1G"
      },
      "source": [
        "<img src=\"https://drive.google.com/uc?id=1h13yiaQ9HFEgxigs8ABkHUfS45ZQjCsl\" alt=\"vector-scalar\" style=\"width: 550px;height: 500px\"/>"
      ]
    },
    {
      "cell_type": "markdown",
      "metadata": {
        "id": "v-ArwI4iDnOY"
      },
      "source": [
        "In this module, we will only superficially cover differentiation (in the interests of time). However, if you are interested in learning more (which may be useful for your wider careers in science) then this resource: https://www.khanacademy.org/math/differential-calculus/dc-diff-intro provides an excellent in-depth overview."
      ]
    },
    {
      "cell_type": "markdown",
      "metadata": {
        "id": "C7Ox4s_oESBA"
      },
      "source": [
        "## Introduction a linear modelling technique"
      ]
    },
    {
      "cell_type": "markdown",
      "metadata": {
        "id": "JWYoq3m6EVHC"
      },
      "source": [
        "We will now move onto modeling, exploring simple and complex statistical models (https://en.wikipedia.org/wiki/Statistical_model). Note that we will only be able to cover a small portion of the set of available models. Research into modeling and inference is constantly evolving - in this course, we will focus on linear models, logistic regression, and (for your wider knowledge) Deep Neural Networks.\n",
        "\n",
        "Modeling is used to represent the data generating process. That is, a model can be considered an abstraction of the data, allowing one to derive population based quantities from sample based quantities. The modeling process combines statistical assumptions (contextually related to the real-world or otherwise), a mathematical expression, and data. From the data, we can fit the mathematical model, and in doing so, encode the statistical assumptions."
      ]
    },
    {
      "cell_type": "markdown",
      "metadata": {
        "id": "xLz-tbu2EdDT"
      },
      "source": [
        "### Linear model\n",
        "\n",
        "We will first consider a linear model. This can be thought of as fitting a Normal (or Gaussian) distribution to data, or equivalently fitting a straight line (or plane) to the datapoints. A straight line (in 2 dimensions) is mathematically described as follows:\n",
        "\\begin{equation}\n",
        "y = ax + b\n",
        "\\end{equation}\n",
        "where $a$ is the gradient and $b$ is the $y$-axis intercept (see http://www.mathcentre.ac.uk/resources/uploaded/mc-ty-strtlines-2009-1.pdf for instance)."
      ]
    },
    {
      "cell_type": "markdown",
      "metadata": {
        "id": "ztdTzJTwEevp"
      },
      "source": [
        "<img src=\"https://drive.google.com/uc?id=1YekcxuT71dPgRZpS3zjpvNqBoLeazaC9\" style=\"width: 800px;height: 400px\"/>"
      ]
    },
    {
      "cell_type": "markdown",
      "metadata": {
        "id": "EiZ6kLwdFCo-"
      },
      "source": [
        "<img src=\"https://drive.google.com/uc?id=1krQ1nfA49U8kp47A022WnKs17RWK-H6K\" alt=\"vector-scalar\" style=\"width: 900px;height: 600px\"/>"
      ]
    },
    {
      "cell_type": "markdown",
      "metadata": {
        "id": "HJTsWWlPFQkU"
      },
      "source": [
        "<img src=\"https://drive.google.com/uc?id=1W8RHA7_X_qED6IA0lNThbxId4c3nb8ek\" alt=\"vector-scalar\" style=\"width: 900px;height: 600px\"/>"
      ]
    },
    {
      "cell_type": "markdown",
      "metadata": {
        "id": "sstBypizFcPK"
      },
      "source": [
        "<img src=\"https://drive.google.com/uc?id=11YGuosAuJjaztVh71wIQFFFo5qk8D2Kx\" alt=\"vector-scalar\" style=\"width: 900px;height: 600px\"/>"
      ]
    },
    {
      "cell_type": "markdown",
      "metadata": {
        "id": "_NDvG9bwF25t"
      },
      "source": [
        "<img src=\"https://drive.google.com/uc?id=1tse4evZ-BkdD928ZdKD47oZOmbynyXAg\" alt=\"vector-scalar\" style=\"width: 900px;height: 1100px\"/>"
      ]
    },
    {
      "cell_type": "markdown",
      "metadata": {
        "id": "opiQfvEmG5H3"
      },
      "source": [
        "<img src=\"https://drive.google.com/uc?id=1ACeG2ZvFUYUqKnq8e5pvJ5nDYQ4Ao6Kc\" alt=\"vector-scalar\" style=\"width: 900px;height: 600px\"/>"
      ]
    },
    {
      "cell_type": "markdown",
      "metadata": {
        "id": "G1XPVjH8HwP2"
      },
      "source": [
        "We will now construct a linear model and estimate the paramters using Tensorflow. This code has been adapted from https://sanjayasubedi.com.np/deeplearning/tensorflow-2-linear-regression-from-scratch/"
      ]
    },
    {
      "cell_type": "code",
      "metadata": {
        "id": "LG2WiHzwHwoN",
        "outputId": "a2c15c58-7e82-446f-cd5a-1010f08c1aed",
        "colab": {
          "base_uri": "https://localhost:8080/",
          "height": 0
        }
      },
      "source": [
        "import os\n",
        "os.environ['CUDA_VISIBLE_DEVICES'] = '-1'\n",
        "import tensorflow as tf\n",
        "print(\"TensorFlow version:\", tf.__version__)"
      ],
      "execution_count": 1,
      "outputs": [
        {
          "output_type": "stream",
          "name": "stdout",
          "text": [
            "TensorFlow version: 2.15.0\n"
          ]
        }
      ]
    },
    {
      "cell_type": "markdown",
      "metadata": {
        "id": "JK7jLYEzH2iH"
      },
      "source": [
        "First of all, we define a linear model $y=wx+b$ as a python 'class':"
      ]
    },
    {
      "cell_type": "code",
      "metadata": {
        "id": "QIBeTs-YHyZs"
      },
      "source": [
        "class LinearModel:\n",
        "    def __init__(self):\n",
        "        self.w = tf.Variable(16.0) # Default value of W = 16.0\n",
        "        self.b = tf.Variable(10.0) # Default value of b = 10.0\n",
        "\n",
        "    def __call__(self, x):\n",
        "        return self.w * x + self.b # Linear model y = wx + b"
      ],
      "execution_count": 2,
      "outputs": []
    },
    {
      "cell_type": "markdown",
      "metadata": {
        "id": "43gbGqlIH7E0"
      },
      "source": [
        "We will now simulate some data, setting true values of w and b (which we will subsequently try to estimate):"
      ]
    },
    {
      "cell_type": "code",
      "metadata": {
        "id": "0KOpUE19H4vt"
      },
      "source": [
        "TRUE_W = 3.0 # slope\n",
        "TRUE_b = 0.5 # intercept\n",
        "\n",
        "NUM_EXAMPLES = 1000\n",
        "\n",
        "X = tf.random.normal(shape=(NUM_EXAMPLES,))\n",
        "noise = tf.random.normal(shape=(NUM_EXAMPLES,))\n",
        "y = X * TRUE_W + TRUE_b + noise"
      ],
      "execution_count": 3,
      "outputs": []
    },
    {
      "cell_type": "markdown",
      "metadata": {
        "id": "mQny9OKPH_NU"
      },
      "source": [
        "Let's plot what the initial model looks like, with the default values specified:"
      ]
    },
    {
      "cell_type": "code",
      "metadata": {
        "id": "X-zqJpydIHjx"
      },
      "source": [
        "import matplotlib.pyplot as plt\n",
        "%matplotlib inline"
      ],
      "execution_count": 4,
      "outputs": []
    },
    {
      "cell_type": "code",
      "metadata": {
        "colab": {
          "base_uri": "https://localhost:8080/",
          "height": 448
        },
        "id": "t_Dapw05H8s-",
        "outputId": "bf556368-dd3b-4430-f861-b953083274df"
      },
      "source": [
        "model = LinearModel()\n",
        "plt.scatter(X, y, label=\"true\")\n",
        "plt.scatter(X, model(X), label=\"predicted\")\n",
        "plt.legend()"
      ],
      "execution_count": 5,
      "outputs": [
        {
          "output_type": "execute_result",
          "data": {
            "text/plain": [
              "<matplotlib.legend.Legend at 0x79b1885dcca0>"
            ]
          },
          "metadata": {},
          "execution_count": 5
        },
        {
          "output_type": "display_data",
          "data": {
            "text/plain": [
              "<Figure size 640x480 with 1 Axes>"
            ],
            "image/png": "[encoded data removed]"
          },
          "metadata": {}
        }
      ]
    },
    {
      "cell_type": "markdown",
      "metadata": {
        "id": "R7EdgU2uINtU"
      },
      "source": [
        "Now we will define the energy (or *loss*) function, using least squares expression (defined above):"
      ]
    },
    {
      "cell_type": "code",
      "metadata": {
        "id": "8Ro4FR9gIBaF"
      },
      "source": [
        "def loss(y, y_pred):\n",
        "    return tf.reduce_mean(tf.square(y - y_pred))"
      ],
      "execution_count": 6,
      "outputs": []
    },
    {
      "cell_type": "markdown",
      "metadata": {
        "id": "M8dpSND6ISTV"
      },
      "source": [
        "Finally, we define the training function which uses tensorflow's ability to automatically differentiate the loss function:"
      ]
    },
    {
      "cell_type": "code",
      "metadata": {
        "id": "SSxIVUhtIP-u"
      },
      "source": [
        "def train(model, X, y, lr=0.01):\n",
        "    with tf.GradientTape() as t:\n",
        "        current_loss = loss(y, model(X))\n",
        "    dW, db = t.gradient(current_loss, [model.w, model.b])\n",
        "    model.w.assign_sub(lr * dW)\n",
        "    model.b.assign_sub(lr * db)"
      ],
      "execution_count": 7,
      "outputs": []
    },
    {
      "cell_type": "markdown",
      "metadata": {
        "id": "j2VfglSgIWrw"
      },
      "source": [
        "We are now in a position to bring together the model and our training procedure:"
      ]
    },
    {
      "cell_type": "code",
      "metadata": {
        "colab": {
          "base_uri": "https://localhost:8080/",
          "height": 1123
        },
        "id": "jxctFI4aIUso",
        "outputId": "d5936cfd-ce6b-49da-9d3f-94a04264ee5c"
      },
      "source": [
        "model = LinearModel()\n",
        "wStore, bStore = [], []\n",
        "trainingIterations = 40\n",
        "\n",
        "for epoch in range(trainingIterations):\n",
        "    wStore.append(model.w.numpy())\n",
        "    bStore.append(model.b.numpy())\n",
        "    current_loss = loss(y, model(X))\n",
        "    train(model, X, y, lr=0.1)\n",
        "    print(f\"Epoch {epoch}: Loss: {current_loss.numpy()}, W: {model.w.numpy()}, b: {model.b.numpy()}\")\n",
        "\n",
        "plt.plot(range(trainingIterations), wStore, 'r', range(trainingIterations), bStore, 'b')\n",
        "plt.plot([TRUE_W] * trainingIterations, 'r--', [TRUE_b] * trainingIterations, 'b--')\n",
        "plt.legend(['W', 'b', 'true W', 'true b'])\n",
        "plt.show()"
      ],
      "execution_count": 8,
      "outputs": [
        {
          "output_type": "stream",
          "name": "stdout",
          "text": [
            "Epoch 0: Loss: 245.2859344482422, W: 13.503150939941406, b: 8.274539947509766\n",
            "Epoch 1: Loss: 161.86090087890625, W: 11.487634658813477, b: 6.859787940979004\n",
            "Epoch 2: Loss: 106.94035339355469, W: 9.860360145568848, b: 5.700230598449707\n",
            "Epoch 3: Loss: 70.77749633789062, W: 8.546302795410156, b: 4.750175476074219\n",
            "Epoch 4: Loss: 46.961212158203125, W: 7.484986305236816, b: 3.9720356464385986\n",
            "Epoch 5: Loss: 31.273351669311523, W: 6.627650737762451, b: 3.3349082469940186\n",
            "Epoch 6: Loss: 20.937955856323242, W: 5.93497371673584, b: 2.8134000301361084\n",
            "Epoch 7: Loss: 14.12775993347168, W: 5.375238418579102, b: 2.3866546154022217\n",
            "Epoch 8: Loss: 9.639720916748047, W: 4.92285680770874, b: 2.037550210952759\n",
            "Epoch 9: Loss: 6.681612014770508, W: 4.557181358337402, b: 1.7520369291305542\n",
            "Epoch 10: Loss: 4.731639862060547, W: 4.261547565460205, b: 1.5185905694961548\n",
            "Epoch 11: Loss: 3.446068286895752, W: 4.02250337600708, b: 1.3277623653411865\n",
            "Epoch 12: Loss: 2.598423719406128, W: 3.829188108444214, b: 1.171807885169983\n",
            "Epoch 13: Loss: 2.0394673347473145, W: 3.6728315353393555, b: 1.0443822145462036\n",
            "Epoch 14: Loss: 1.6708415746688843, W: 3.5463500022888184, b: 0.9402884244918823\n",
            "Epoch 15: Loss: 1.4277138710021973, W: 3.444021224975586, b: 0.8552716374397278\n",
            "Epoch 16: Loss: 1.2673447132110596, W: 3.3612220287323, b: 0.7858490347862244\n",
            "Epoch 17: Loss: 1.1615548133850098, W: 3.2942163944244385, b: 0.7291707396507263\n",
            "Epoch 18: Loss: 1.0917636156082153, W: 3.2399849891662598, b: 0.682905375957489\n",
            "Epoch 19: Loss: 1.0457183122634888, W: 3.196087121963501, b: 0.6451462507247925\n",
            "Epoch 20: Loss: 1.0153371095657349, W: 3.1605494022369385, b: 0.6143344044685364\n",
            "Epoch 21: Loss: 0.9952900409698486, W: 3.1317765712738037, b: 0.5891955494880676\n",
            "Epoch 22: Loss: 0.9820613861083984, W: 3.10847806930542, b: 0.5686882734298706\n",
            "Epoch 23: Loss: 0.9733313918113708, W: 3.0896103382110596, b: 0.5519616007804871\n",
            "Epoch 24: Loss: 0.9675701856613159, W: 3.074328899383545, b: 0.5383204221725464\n",
            "Epoch 25: Loss: 0.9637677073478699, W: 3.061950922012329, b: 0.5271970629692078\n",
            "Epoch 26: Loss: 0.9612579941749573, W: 3.0519237518310547, b: 0.5181279182434082\n",
            "Epoch 27: Loss: 0.9596014618873596, W: 3.043800115585327, b: 0.510734498500824\n",
            "Epoch 28: Loss: 0.9585080742835999, W: 3.0372180938720703, b: 0.5047078728675842\n",
            "Epoch 29: Loss: 0.9577863216400146, W: 3.0318844318389893, b: 0.49979594349861145\n",
            "Epoch 30: Loss: 0.9573098421096802, W: 3.027562141418457, b: 0.495792955160141\n",
            "Epoch 31: Loss: 0.9569953680038452, W: 3.0240590572357178, b: 0.49253103137016296\n",
            "Epoch 32: Loss: 0.956787645816803, W: 3.0212197303771973, b: 0.4898732602596283\n",
            "Epoch 33: Loss: 0.9566506147384644, W: 3.01891827583313, b: 0.4877079427242279\n",
            "Epoch 34: Loss: 0.9565601944923401, W: 3.01705265045166, b: 0.485944002866745\n",
            "Epoch 35: Loss: 0.9565003514289856, W: 3.01554012298584, b: 0.48450714349746704\n",
            "Epoch 36: Loss: 0.9564609527587891, W: 3.0143136978149414, b: 0.48333683609962463\n",
            "Epoch 37: Loss: 0.956434965133667, W: 3.013319253921509, b: 0.48238369822502136\n",
            "Epoch 38: Loss: 0.9564177393913269, W: 3.0125129222869873, b: 0.48160749673843384\n",
            "Epoch 39: Loss: 0.95640629529953, W: 3.0118589401245117, b: 0.4809754490852356\n"
          ]
        },
        {
          "output_type": "display_data",
          "data": {
            "text/plain": [
              "<Figure size 640x480 with 1 Axes>"
            ],
            "image/png": "[encoded data removed]"
          },
          "metadata": {}
        }
      ]
    },
    {
      "cell_type": "markdown",
      "metadata": {
        "id": "8wUTHIWCIcuc"
      },
      "source": [
        "Lets plot the predicted data (based on the estimated model) by evaluating each of the training datapoints:"
      ]
    },
    {
      "cell_type": "code",
      "metadata": {
        "colab": {
          "base_uri": "https://localhost:8080/",
          "height": 448
        },
        "id": "gute4-upIZLF",
        "outputId": "46d98414-3ebc-4bca-e2e7-fbb75b3d5205"
      },
      "source": [
        "plt.scatter(X, y, label=\"true\")\n",
        "plt.scatter(X, model(X), label=\"predicted\")\n",
        "plt.legend()"
      ],
      "execution_count": 9,
      "outputs": [
        {
          "output_type": "execute_result",
          "data": {
            "text/plain": [
              "<matplotlib.legend.Legend at 0x79b188406c50>"
            ]
          },
          "metadata": {},
          "execution_count": 9
        },
        {
          "output_type": "display_data",
          "data": {
            "text/plain": [
              "<Figure size 640x480 with 1 Axes>"
            ],
            "image/png": "[encoded data removed]"
          },
          "metadata": {}
        }
      ]
    },
    {
      "cell_type": "code",
      "metadata": {
        "colab": {
          "base_uri": "https://localhost:8080/",
          "height": 0
        },
        "id": "vYUz6ilXIfCn",
        "outputId": "7dc596db-1c82-42d8-aef3-f64e307defc7"
      },
      "source": [
        "print(\"True value of W = \", TRUE_W)\n",
        "print(\"Estimated value of W = \", model.w)\n",
        "print(\"True value of b = \", TRUE_b)\n",
        "print(\"Estimated value of b = \", model.b)"
      ],
      "execution_count": 10,
      "outputs": [
        {
          "output_type": "stream",
          "name": "stdout",
          "text": [
            "True value of W =  3.0\n",
            "Estimated value of W =  <tf.Variable 'Variable:0' shape=() dtype=float32, numpy=3.011859>\n",
            "True value of b =  0.5\n",
            "Estimated value of b =  <tf.Variable 'Variable:0' shape=() dtype=float32, numpy=0.48097545>\n"
          ]
        }
      ]
    },
    {
      "cell_type": "markdown",
      "metadata": {
        "id": "vgJ7l7T1IpCD"
      },
      "source": [
        "***\n",
        "Mandatory exercises:\n",
        "\n",
        "- [ ] Carefully read the material above, and ask questions over email.\n",
        "- [ ] Replicate all of the code in this notebook."
      ]
    }
  ]
}