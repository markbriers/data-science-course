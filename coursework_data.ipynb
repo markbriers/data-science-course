{
  "nbformat": 4,
  "nbformat_minor": 0,
  "metadata": {
    "colab": {
      "name": "coursework-data.ipynb",
      "provenance": [],
      "collapsed_sections": [],
      "authorship_tag": "ABX9TyNs1IxkOBP99M1k14hXF/Ay",
      "include_colab_link": true
    },
    "kernelspec": {
      "name": "python3",
      "display_name": "Python 3"
    }
  },
  "cells": [
    {
      "cell_type": "markdown",
      "metadata": {
        "id": "view-in-github",
        "colab_type": "text"
      },
      "source": [
        "<a href=\"https://colab.research.google.com/github/markbriers/data-science-jupyter/blob/main/coursework_data.ipynb\" target=\"_parent\"><img src=\"https://colab.research.google.com/assets/colab-badge.svg\" alt=\"Open In Colab\"/></a>"
      ]
    },
    {
      "cell_type": "markdown",
      "metadata": {
        "id": "WUN3qla7SZBD"
      },
      "source": [
        "The first stage in the coursework data analysis process is to copy the data linked in the documents supplied into your Google Drive, into a folder that is called \"Data\"."
      ]
    },
    {
      "cell_type": "markdown",
      "metadata": {
        "id": "phI3cwJnSxfe"
      },
      "source": [
        "In order to read data from your Google Drive, you need to \"mount\" the drive. This is a slightly involved process, where you need to authorise colab to access your Google Drive. Executing the code below will generate a (unique) URL. You will need to click on this, click accept, and copy the long code. (Clicking on the link will open a new window.) The code needs to be pasted into the text box that will appear below. Press enter on your keyboard, and you should see text that says: \"Mounted at /content/gdrive\"."
      ]
    },
    {
      "cell_type": "code",
      "metadata": {
        "id": "4uZrH5Ogh31E",
        "colab": {
          "base_uri": "https://localhost:8080/"
        },
        "outputId": "b9ddf8cc-3511-429e-9c2e-3dc0c0234026"
      },
      "source": [
        "from google.colab import drive\n",
        "drive.mount('/content/gdrive')"
      ],
      "execution_count": 4,
      "outputs": [
        {
          "output_type": "stream",
          "text": [
            "Mounted at /content/gdrive\n"
          ],
          "name": "stdout"
        }
      ]
    },
    {
      "cell_type": "markdown",
      "metadata": {
        "id": "bj6_KyowV8e4"
      },
      "source": [
        "The process listed above will need to be completed every time the analysis is performed (for security reasons)."
      ]
    },
    {
      "cell_type": "code",
      "metadata": {
        "id": "q5X-B74piz7u"
      },
      "source": [
        "import numpy as np\n",
        "import pandas as pd"
      ],
      "execution_count": 5,
      "outputs": []
    },
    {
      "cell_type": "markdown",
      "metadata": {
        "id": "Xv8JHgA4WS7g"
      },
      "source": [
        "This function loads the communication data into a DataFrame. I have optimised the memory usage - details are not important, but please do reuse the code below."
      ]
    },
    {
      "cell_type": "code",
      "metadata": {
        "id": "y3__mRxK0KD4"
      },
      "source": [
        "def readCommunicationData(fname):\n",
        "  # load dcomms ata file\n",
        "  comm = pd.read_csv(fname,dtype={\"Timestamp\": object, \"from\": np.uint32, \"to\": object, \"location\": object})\n",
        "  # display initial memory usage\n",
        "  comm.info(memory_usage='deep')\n",
        "  # convert the timestamp field to a timestamp object\n",
        "  comm['Timestamp'] = pd.to_datetime(comm['Timestamp'], infer_datetime_format=True) \n",
        "  # convert \"from\" field to 32-bit unsigned integer\n",
        "  comm['from'] = comm['from'].astype('uint32')\n",
        "  # convert all \"external\" references in the \"to\" field to be the value 0 so that we can convert this to an integer memory\n",
        "  comm['to'] = comm['to'].replace('external',0)\n",
        "  comm['to'] = comm['to'].astype('uint32')\n",
        "  # display revised memory usage\n",
        "  comm.info(memory_usage='deep')\n",
        "  return comm"
      ],
      "execution_count": 6,
      "outputs": []
    },
    {
      "cell_type": "code",
      "metadata": {
        "id": "-mQ-LQBi2CwU",
        "colab": {
          "base_uri": "https://localhost:8080/"
        },
        "outputId": "2c284337-bd09-45d5-ff26-5a80509fdc1f"
      },
      "source": [
        "commFri = readCommunicationData('/content/gdrive/My Drive/Data/comm-data-Fri.csv')"
      ],
      "execution_count": 7,
      "outputs": [
        {
          "output_type": "stream",
          "text": [
            "<class 'pandas.core.frame.DataFrame'>\n",
            "RangeIndex: 948739 entries, 0 to 948738\n",
            "Data columns (total 4 columns):\n",
            " #   Column     Non-Null Count   Dtype \n",
            "---  ------     --------------   ----- \n",
            " 0   Timestamp  948739 non-null  object\n",
            " 1   from       948739 non-null  uint32\n",
            " 2   to         948739 non-null  object\n",
            " 3   location   948739 non-null  object\n",
            "dtypes: object(3), uint32(1)\n",
            "memory usage: 190.2 MB\n",
            "<class 'pandas.core.frame.DataFrame'>\n",
            "RangeIndex: 948739 entries, 0 to 948738\n",
            "Data columns (total 4 columns):\n",
            " #   Column     Non-Null Count   Dtype         \n",
            "---  ------     --------------   -----         \n",
            " 0   Timestamp  948739 non-null  datetime64[ns]\n",
            " 1   from       948739 non-null  uint32        \n",
            " 2   to         948739 non-null  uint32        \n",
            " 3   location   948739 non-null  object        \n",
            "dtypes: datetime64[ns](1), object(1), uint32(2)\n",
            "memory usage: 75.8 MB\n"
          ],
          "name": "stdout"
        }
      ]
    },
    {
      "cell_type": "code",
      "metadata": {
        "id": "lyHCA9522NrY",
        "colab": {
          "base_uri": "https://localhost:8080/"
        },
        "outputId": "43580ed1-53d5-477f-8dc0-fe073ae35f1c"
      },
      "source": [
        "commSat = readCommunicationData('/content/gdrive/My Drive/Data/comm-data-Sat.csv')"
      ],
      "execution_count": 8,
      "outputs": [
        {
          "output_type": "stream",
          "text": [
            "<class 'pandas.core.frame.DataFrame'>\n",
            "RangeIndex: 1655866 entries, 0 to 1655865\n",
            "Data columns (total 4 columns):\n",
            " #   Column     Non-Null Count    Dtype \n",
            "---  ------     --------------    ----- \n",
            " 0   Timestamp  1655866 non-null  object\n",
            " 1   from       1655866 non-null  uint32\n",
            " 2   to         1655866 non-null  object\n",
            " 3   location   1655866 non-null  object\n",
            "dtypes: object(3), uint32(1)\n",
            "memory usage: 331.5 MB\n",
            "<class 'pandas.core.frame.DataFrame'>\n",
            "RangeIndex: 1655866 entries, 0 to 1655865\n",
            "Data columns (total 4 columns):\n",
            " #   Column     Non-Null Count    Dtype         \n",
            "---  ------     --------------    -----         \n",
            " 0   Timestamp  1655866 non-null  datetime64[ns]\n",
            " 1   from       1655866 non-null  uint32        \n",
            " 2   to         1655866 non-null  uint32        \n",
            " 3   location   1655866 non-null  object        \n",
            "dtypes: datetime64[ns](1), object(1), uint32(2)\n",
            "memory usage: 131.8 MB\n"
          ],
          "name": "stdout"
        }
      ]
    },
    {
      "cell_type": "code",
      "metadata": {
        "id": "pt0bxCLh2T90",
        "colab": {
          "base_uri": "https://localhost:8080/"
        },
        "outputId": "ec6223f6-f712-4074-a377-c5461ed9a69f"
      },
      "source": [
        "commSun = readCommunicationData('/content/gdrive/My Drive/Data/comm-data-Sun.csv')"
      ],
      "execution_count": 9,
      "outputs": [
        {
          "output_type": "stream",
          "text": [
            "<class 'pandas.core.frame.DataFrame'>\n",
            "RangeIndex: 1548724 entries, 0 to 1548723\n",
            "Data columns (total 4 columns):\n",
            " #   Column     Non-Null Count    Dtype \n",
            "---  ------     --------------    ----- \n",
            " 0   Timestamp  1548724 non-null  object\n",
            " 1   from       1548724 non-null  uint32\n",
            " 2   to         1548724 non-null  object\n",
            " 3   location   1548724 non-null  object\n",
            "dtypes: object(3), uint32(1)\n",
            "memory usage: 310.4 MB\n",
            "<class 'pandas.core.frame.DataFrame'>\n",
            "RangeIndex: 1548724 entries, 0 to 1548723\n",
            "Data columns (total 4 columns):\n",
            " #   Column     Non-Null Count    Dtype         \n",
            "---  ------     --------------    -----         \n",
            " 0   Timestamp  1548724 non-null  datetime64[ns]\n",
            " 1   from       1548724 non-null  uint32        \n",
            " 2   to         1548724 non-null  uint32        \n",
            " 3   location   1548724 non-null  object        \n",
            "dtypes: datetime64[ns](1), object(1), uint32(2)\n",
            "memory usage: 123.5 MB\n"
          ],
          "name": "stdout"
        }
      ]
    },
    {
      "cell_type": "markdown",
      "metadata": {
        "id": "zNveOi2LYdQH"
      },
      "source": [
        "This function returns the movement DataFrame."
      ]
    },
    {
      "cell_type": "code",
      "metadata": {
        "id": "Cn6ASQPx2Y0y"
      },
      "source": [
        "def readMovementData(fname):\n",
        "  # load movemement data file\n",
        "  move = pd.read_csv(fname)\n",
        "  # remove any null values that may exist\n",
        "  move = move[pd.notnull(move[\"id\"])]\n",
        "  # clear erroneous data\n",
        "  move = move[move['Timestamp'].str.len()==18]\n",
        "  # display initial memory usage\n",
        "  move.info(memory_usage='deep')\n",
        "  # convert the timestamp field to a timestamp object\n",
        "  move['Timestamp'] = pd.to_datetime(move['Timestamp'], infer_datetime_format=True,errors='ignore') \n",
        "  # convert \"from\" field to 32-bit unsigned integer\n",
        "  move['id'] = move['id'].astype('uint32')\n",
        "  # convert type field to categorical variable\n",
        "  move['type'] = move['type'].astype('category')\n",
        "  # convert positional fields to uint16\n",
        "  move['X'] = move['X'].astype('uint16')\n",
        "  move['Y'] = move['Y'].astype('uint16')\n",
        "  # display revised memory usage\n",
        "  move.info(memory_usage='deep')\n",
        "  return move"
      ],
      "execution_count": 10,
      "outputs": []
    },
    {
      "cell_type": "code",
      "metadata": {
        "id": "PeZfqym_4Ptv",
        "colab": {
          "base_uri": "https://localhost:8080/"
        },
        "outputId": "11b22a23-c6f9-42c0-c301-a36cdcd48cbc"
      },
      "source": [
        "moveFri = readMovementData('/content/gdrive/My Drive/Data/park-movement-Fri.csv')"
      ],
      "execution_count": 11,
      "outputs": [
        {
          "output_type": "stream",
          "text": [
            "<class 'pandas.core.frame.DataFrame'>\n",
            "Int64Index: 6010914 entries, 0 to 6010913\n",
            "Data columns (total 5 columns):\n",
            " #   Column     Dtype \n",
            "---  ------     ----- \n",
            " 0   Timestamp  object\n",
            " 1   id         int64 \n",
            " 2   type       object\n",
            " 3   X          int64 \n",
            " 4   Y          int64 \n",
            "dtypes: int64(3), object(2)\n",
            "memory usage: 986.0 MB\n",
            "<class 'pandas.core.frame.DataFrame'>\n",
            "Int64Index: 6010914 entries, 0 to 6010913\n",
            "Data columns (total 5 columns):\n",
            " #   Column     Dtype         \n",
            "---  ------     -----         \n",
            " 0   Timestamp  datetime64[ns]\n",
            " 1   id         uint32        \n",
            " 2   type       category      \n",
            " 3   X          uint16        \n",
            " 4   Y          uint16        \n",
            "dtypes: category(1), datetime64[ns](1), uint16(2), uint32(1)\n",
            "memory usage: 143.3 MB\n"
          ],
          "name": "stdout"
        }
      ]
    },
    {
      "cell_type": "code",
      "metadata": {
        "id": "MoJuwskp4V9a",
        "colab": {
          "base_uri": "https://localhost:8080/"
        },
        "outputId": "a8bda207-c739-4523-cc85-36933774bc49"
      },
      "source": [
        "moveSat = readMovementData('/content/gdrive/My Drive/Data/park-movement-Sat.csv')"
      ],
      "execution_count": 12,
      "outputs": [
        {
          "output_type": "stream",
          "text": [
            "<class 'pandas.core.frame.DataFrame'>\n",
            "Int64Index: 9078623 entries, 0 to 9078622\n",
            "Data columns (total 5 columns):\n",
            " #   Column     Dtype \n",
            "---  ------     ----- \n",
            " 0   Timestamp  object\n",
            " 1   id         int64 \n",
            " 2   type       object\n",
            " 3   X          int64 \n",
            " 4   Y          int64 \n",
            "dtypes: int64(3), object(2)\n",
            "memory usage: 1.5 GB\n",
            "<class 'pandas.core.frame.DataFrame'>\n",
            "Int64Index: 9078623 entries, 0 to 9078622\n",
            "Data columns (total 5 columns):\n",
            " #   Column     Dtype         \n",
            "---  ------     -----         \n",
            " 0   Timestamp  datetime64[ns]\n",
            " 1   id         uint32        \n",
            " 2   type       category      \n",
            " 3   X          uint16        \n",
            " 4   Y          uint16        \n",
            "dtypes: category(1), datetime64[ns](1), uint16(2), uint32(1)\n",
            "memory usage: 216.5 MB\n"
          ],
          "name": "stdout"
        }
      ]
    },
    {
      "cell_type": "code",
      "metadata": {
        "id": "R1dc1E-r5nmi",
        "colab": {
          "base_uri": "https://localhost:8080/"
        },
        "outputId": "44e62fff-3dc6-4f85-8fbe-65a17435df92"
      },
      "source": [
        "moveSun = readMovementData('/content/gdrive/My Drive/Data/park-movement-Sun.csv')"
      ],
      "execution_count": 13,
      "outputs": [
        {
          "output_type": "stream",
          "text": [
            "/usr/local/lib/python3.6/dist-packages/IPython/core/interactiveshell.py:2822: DtypeWarning: Columns (1,3,4) have mixed types.Specify dtype option on import or set low_memory=False.\n",
            "  if self.run_code(code, result):\n"
          ],
          "name": "stderr"
        },
        {
          "output_type": "stream",
          "text": [
            "<class 'pandas.core.frame.DataFrame'>\n",
            "Int64Index: 10932424 entries, 0 to 10932424\n",
            "Data columns (total 5 columns):\n",
            " #   Column     Dtype \n",
            "---  ------     ----- \n",
            " 0   Timestamp  object\n",
            " 1   id         object\n",
            " 2   type       object\n",
            " 3   X          object\n",
            " 4   Y          object\n",
            "dtypes: object(5)\n",
            "memory usage: 2.6 GB\n",
            "<class 'pandas.core.frame.DataFrame'>\n",
            "Int64Index: 10932424 entries, 0 to 10932424\n",
            "Data columns (total 5 columns):\n",
            " #   Column     Dtype         \n",
            "---  ------     -----         \n",
            " 0   Timestamp  datetime64[ns]\n",
            " 1   id         uint32        \n",
            " 2   type       category      \n",
            " 3   X          uint16        \n",
            " 4   Y          uint16        \n",
            "dtypes: category(1), datetime64[ns](1), uint16(2), uint32(1)\n",
            "memory usage: 260.6 MB\n"
          ],
          "name": "stdout"
        }
      ]
    }
  ]
}