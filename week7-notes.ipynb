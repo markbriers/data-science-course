{
  "nbformat": 4,
  "nbformat_minor": 0,
  "metadata": {
    "colab": {
      "name": "week7-notes.ipynb",
      "provenance": [],
      "authorship_tag": "ABX9TyMIGAwigDQZanCVMpzOaNtm",
      "include_colab_link": true
    },
    "kernelspec": {
      "name": "python3",
      "display_name": "Python 3"
    }
  },
  "cells": [
    {
      "cell_type": "markdown",
      "metadata": {
        "id": "view-in-github",
        "colab_type": "text"
      },
      "source": [
        "<a href=\"https://colab.research.google.com/github/markbriers/data-science-jupyter/blob/main/week7-notes.ipynb\" target=\"_parent\"><img src=\"https://colab.research.google.com/assets/colab-badge.svg\" alt=\"Open In Colab\"/></a>"
      ]
    },
    {
      "cell_type": "markdown",
      "metadata": {
        "id": "-ZrcmptoK8vc"
      },
      "source": [
        "# Modelling part 2 (Week 7)"
      ]
    },
    {
      "cell_type": "markdown",
      "metadata": {
        "id": "NCob0CtOLBkm"
      },
      "source": [
        "Code at: https://github.com/markbriers/data-science-jupyter"
      ]
    },
    {
      "cell_type": "markdown",
      "metadata": {
        "id": "cW_rz190LESD"
      },
      "source": [
        "## Recap - the story so far"
      ]
    },
    {
      "cell_type": "markdown",
      "metadata": {
        "id": "aTfkYdRxLHYX"
      },
      "source": [
        "Our goal is to follow a data science process (CRISP-DM) to deliver a successful business outcome.\n",
        "\n",
        "Our learning objectives are as follows:\n",
        "\n",
        "* Describe the six stages of a data processing pipeline (using CRISP-DM)\n",
        "\n",
        "* Demonstrate an understanding of the python programming language through the production of elementary data analysis programme\n",
        "\n",
        "* Analyse at least three different data sources by applying at least one python data processing library to extract and explore pertinent features\n",
        "\n",
        "* Be able to design a set of data requirements for a specified business problem\n",
        "\n",
        "* Describe and apply (using the python programming language) the main approaches to supervised learning for a given classification problem\n",
        "\n",
        "* Understand the use cases of Big Data technology (in particular Spark)\n",
        "\n",
        "* Produce a report including appropriate data visualisations covering the analysis of a business problem using a data science based approach"
      ]
    },
    {
      "cell_type": "markdown",
      "metadata": {
        "id": "DNEBvsRlLLRq"
      },
      "source": [
        "## Learning outcome\n",
        "\n",
        "* By the end of the lecture, you will be able to use the tensorflow library to estimate parameters of a simple linear model using the gradient descent algorithm.\n",
        "\n",
        "* By the end of the lecture, you will be able to use the tensorflow library to estimate parameters of a deep neural network."
      ]
    },
    {
      "cell_type": "markdown",
      "metadata": {
        "id": "8HM5RdIRL_hX"
      },
      "source": [
        "## Optimisation with tensorflow"
      ]
    },
    {
      "cell_type": "markdown",
      "metadata": {
        "id": "z7A8w_B0MB9E"
      },
      "source": [
        "During week 6, we introduced the concept of a gradient. *The gradient can be interpreted as a mathematical description of the direction and rate of fastest ascent.*\n",
        "\n",
        "A statistical model allows us to produce a generalised mathematical description of a sample - allowing us to extrapolate, or predict, the value of a *dependent variable* (i.e. the output) from one or more *independent variables* (i.e. inputs). To fit a statistical model to the data, we often specify an *objective function* (or loss function), which provides a basis on which we can estimate parameters of the model.\n",
        "\n",
        "For a given model (e.g. linear model - a straight line) and loss function (e.g. sum of squared errors) we can produce an estimate of the parameters (e.g. $a,b$ in $y=ax+b$) by minimising the loss.\n",
        "\n",
        "This minimisation problem is known as an *optimisation problem*. The optimisation process is a significant part of the machinery of data science modelling.\n",
        "\n",
        "There are many optimisation procedures available. Perhaps the most widely used (within data science) is that of *gradient descent*. Quite simply, gradient descent is a mechanism for \"walking down a hill\" in order to reach the parameters that are (locally) minimum. We use the loss function's gradient vector in order to \"take a step in the direction of the steepest descent\"."
      ]
    },
    {
      "cell_type": "markdown",
      "metadata": {
        "id": "3HlkO5NYQOsc"
      },
      "source": [
        "Let's start by revisiting the computation of a gradient using the tensorflow library. Thankfully, tensorflow takes away all of the mathematical complexity involved in differentiation. We can compute the gradient of a function at a particular point using tensorflow's automatic differentiation feature:"
      ]
    },
    {
      "cell_type": "code",
      "metadata": {
        "id": "l15Rbcl1Qfc4"
      },
      "source": [
        "import tensorflow as tf"
      ],
      "execution_count": 1,
      "outputs": []
    },
    {
      "cell_type": "markdown",
      "metadata": {
        "id": "o9i56TJAQrhY"
      },
      "source": [
        "Recall that the differential of $y=x^2$ is equal to $\\frac{dy}{dx} = 2x$. So, to find the gradient at any particular point of interest, we just need to evaluate the function at that point. Let's consider estimating the gradient at $x=2$. As mentioned, tensorflow does the hard work for us here:"
      ]
    },
    {
      "cell_type": "code",
      "metadata": {
        "colab": {
          "base_uri": "https://localhost:8080/"
        },
        "id": "BaTiUoW2KDql",
        "outputId": "96922f96-338a-49b9-b6ec-cffbe1bebb21"
      },
      "source": [
        "x = tf.Variable([[2.0]])\n",
        "with tf.GradientTape() as tape:\n",
        "  y = 2 * x * x\n",
        "\n",
        "dy_dx = tape.gradient(y, x)\n",
        "print(dy_dx)"
      ],
      "execution_count": 2,
      "outputs": [
        {
          "output_type": "stream",
          "text": [
            "tf.Tensor([[8.]], shape=(1, 1), dtype=float32)\n"
          ],
          "name": "stdout"
        }
      ]
    },
    {
      "cell_type": "markdown",
      "metadata": {
        "id": "fXYZ6YBCRXUw"
      },
      "source": [
        "Now let's consider finding the minimum of a more complex (multivariable) function, $z = x^2 + y^2$ (some of you may have computed the gradient vector of this function already, based on the lecture notes from week 6):"
      ]
    },
    {
      "cell_type": "code",
      "metadata": {
        "id": "fjJwLC4BQoWR"
      },
      "source": [
        "def evaluate_multivariate_function(x1, x2): \n",
        "    return x1 ** 2.0 + x2 ** 2"
      ],
      "execution_count": 3,
      "outputs": []
    },
    {
      "cell_type": "markdown",
      "metadata": {
        "id": "n-tJS145R5gz"
      },
      "source": [
        "First, let us import numpy, pandas, and a 3D plotting library:"
      ]
    },
    {
      "cell_type": "code",
      "metadata": {
        "id": "j6szxhYRR5DX"
      },
      "source": [
        "import numpy as np\n",
        "import pandas as pd\n",
        "from mpl_toolkits import mplot3d\n",
        "import matplotlib.pyplot as plt"
      ],
      "execution_count": 4,
      "outputs": []
    },
    {
      "cell_type": "code",
      "metadata": {
        "colab": {
          "base_uri": "https://localhost:8080/",
          "height": 248
        },
        "id": "5NoHHb37Rxgs",
        "outputId": "eedebbfd-3b59-4ea1-bbdc-8e1622e74718"
      },
      "source": [
        "x1 = np.outer(np.linspace(-20, 20, 200), np.ones(200))\n",
        "x2 = x1.copy().T\n",
        "f = evaluate_multivariate_function(x1,x2)\n",
        "\n",
        "fig = plt.figure()\n",
        "ax = plt.axes(projection='3d')\n",
        "\n",
        "ax.plot_surface(x1, x2, f,cmap='viridis', edgecolor='none')\n",
        "ax.set_title('Surface plot')\n",
        "plt.show()"
      ],
      "execution_count": 5,
      "outputs": [
        {
          "output_type": "display_data",
          "data": {
            "image/png": "[encoded data removed]",
            "text/plain": [
              "<Figure size 432x288 with 1 Axes>"
            ]
          },
          "metadata": {
            "tags": [],
            "needs_background": "light"
          }
        }
      ]
    },
    {
      "cell_type": "markdown",
      "metadata": {
        "id": "WYQ85SDtSSTY"
      },
      "source": [
        "As stated, an attractive property of the gradient is that it points in the direction of the steepest incline (so the negative gradient points in the direction of the steepest decline). This is described in mathematical detail here: https://mathcs.clarku.edu/~djoyce/ma131/directional.pdf\n",
        "<br>\n",
        "A natural algorithm to find a local optimal (minimal) solution is to use the gradient information in order to descend from a point to the lowest point in the surface (relative to the start point). This algorithm is known as the gradient descent algorithm. A varient of this algorithm is known as the stochastic gradient descent algorithm, which is the workhorse of modern machine learning based techniques. Details of gradient descent can be found here: https://en.wikipedia.org/wiki/Gradient_descent"
      ]
    },
    {
      "cell_type": "markdown",
      "metadata": {
        "id": "5Jo7s0kBSd-D"
      },
      "source": [
        "Simply, the gradient descent optimisation algorithm implements the following, iterative, formula:\n",
        "\\begin{equation}\n",
        "\\vec{x}_{i} = \\vec{x}_{i-1} - \\alpha \\Delta_x\n",
        "\\end{equation}\n",
        "By way of an example, this is implemented in tensorflow as follows:"
      ]
    },
    {
      "cell_type": "code",
      "metadata": {
        "colab": {
          "base_uri": "https://localhost:8080/"
        },
        "id": "UxxnMrf8R2P2",
        "outputId": "624d4976-7a4e-403a-d9a2-d3a2952d1a14"
      },
      "source": [
        "x1 = tf.Variable(-10.0) \n",
        "x2 = tf.Variable(10.0) \n",
        "\n",
        "for i in range(50):\n",
        "    with tf.GradientTape() as tape:\n",
        "        y = evaluate_multivariate_function(x1, x2)\n",
        "    grads = tape.gradient(y, [x1, x2])\n",
        "    print ('y = {:.1f}, x1 = {:.1f}, x2 = {:.1f},  grads0 = {:.1f}, grads1 = {:.1f} '.format(y.numpy(), x1.numpy(), x2.numpy(), grads[0].numpy(), grads[1].numpy()))\n",
        "    x1.assign(x1 - 0.1*grads[0].numpy())\n",
        "    x2.assign(x2 - 0.1*grads[1].numpy())"
      ],
      "execution_count": 6,
      "outputs": [
        {
          "output_type": "stream",
          "text": [
            "y = 200.0, x1 = -10.0, x2 = 10.0,  grads0 = -20.0, grads1 = 20.0 \n",
            "y = 128.0, x1 = -8.0, x2 = 8.0,  grads0 = -16.0, grads1 = 16.0 \n",
            "y = 81.9, x1 = -6.4, x2 = 6.4,  grads0 = -12.8, grads1 = 12.8 \n",
            "y = 52.4, x1 = -5.1, x2 = 5.1,  grads0 = -10.2, grads1 = 10.2 \n",
            "y = 33.6, x1 = -4.1, x2 = 4.1,  grads0 = -8.2, grads1 = 8.2 \n",
            "y = 21.5, x1 = -3.3, x2 = 3.3,  grads0 = -6.6, grads1 = 6.6 \n",
            "y = 13.7, x1 = -2.6, x2 = 2.6,  grads0 = -5.2, grads1 = 5.2 \n",
            "y = 8.8, x1 = -2.1, x2 = 2.1,  grads0 = -4.2, grads1 = 4.2 \n",
            "y = 5.6, x1 = -1.7, x2 = 1.7,  grads0 = -3.4, grads1 = 3.4 \n",
            "y = 3.6, x1 = -1.3, x2 = 1.3,  grads0 = -2.7, grads1 = 2.7 \n",
            "y = 2.3, x1 = -1.1, x2 = 1.1,  grads0 = -2.1, grads1 = 2.1 \n",
            "y = 1.5, x1 = -0.9, x2 = 0.9,  grads0 = -1.7, grads1 = 1.7 \n",
            "y = 0.9, x1 = -0.7, x2 = 0.7,  grads0 = -1.4, grads1 = 1.4 \n",
            "y = 0.6, x1 = -0.5, x2 = 0.5,  grads0 = -1.1, grads1 = 1.1 \n",
            "y = 0.4, x1 = -0.4, x2 = 0.4,  grads0 = -0.9, grads1 = 0.9 \n",
            "y = 0.2, x1 = -0.4, x2 = 0.4,  grads0 = -0.7, grads1 = 0.7 \n",
            "y = 0.2, x1 = -0.3, x2 = 0.3,  grads0 = -0.6, grads1 = 0.6 \n",
            "y = 0.1, x1 = -0.2, x2 = 0.2,  grads0 = -0.5, grads1 = 0.5 \n",
            "y = 0.1, x1 = -0.2, x2 = 0.2,  grads0 = -0.4, grads1 = 0.4 \n",
            "y = 0.0, x1 = -0.1, x2 = 0.1,  grads0 = -0.3, grads1 = 0.3 \n",
            "y = 0.0, x1 = -0.1, x2 = 0.1,  grads0 = -0.2, grads1 = 0.2 \n",
            "y = 0.0, x1 = -0.1, x2 = 0.1,  grads0 = -0.2, grads1 = 0.2 \n",
            "y = 0.0, x1 = -0.1, x2 = 0.1,  grads0 = -0.1, grads1 = 0.1 \n",
            "y = 0.0, x1 = -0.1, x2 = 0.1,  grads0 = -0.1, grads1 = 0.1 \n",
            "y = 0.0, x1 = -0.0, x2 = 0.0,  grads0 = -0.1, grads1 = 0.1 \n",
            "y = 0.0, x1 = -0.0, x2 = 0.0,  grads0 = -0.1, grads1 = 0.1 \n",
            "y = 0.0, x1 = -0.0, x2 = 0.0,  grads0 = -0.1, grads1 = 0.1 \n",
            "y = 0.0, x1 = -0.0, x2 = 0.0,  grads0 = -0.0, grads1 = 0.0 \n",
            "y = 0.0, x1 = -0.0, x2 = 0.0,  grads0 = -0.0, grads1 = 0.0 \n",
            "y = 0.0, x1 = -0.0, x2 = 0.0,  grads0 = -0.0, grads1 = 0.0 \n",
            "y = 0.0, x1 = -0.0, x2 = 0.0,  grads0 = -0.0, grads1 = 0.0 \n",
            "y = 0.0, x1 = -0.0, x2 = 0.0,  grads0 = -0.0, grads1 = 0.0 \n",
            "y = 0.0, x1 = -0.0, x2 = 0.0,  grads0 = -0.0, grads1 = 0.0 \n",
            "y = 0.0, x1 = -0.0, x2 = 0.0,  grads0 = -0.0, grads1 = 0.0 \n",
            "y = 0.0, x1 = -0.0, x2 = 0.0,  grads0 = -0.0, grads1 = 0.0 \n",
            "y = 0.0, x1 = -0.0, x2 = 0.0,  grads0 = -0.0, grads1 = 0.0 \n",
            "y = 0.0, x1 = -0.0, x2 = 0.0,  grads0 = -0.0, grads1 = 0.0 \n",
            "y = 0.0, x1 = -0.0, x2 = 0.0,  grads0 = -0.0, grads1 = 0.0 \n",
            "y = 0.0, x1 = -0.0, x2 = 0.0,  grads0 = -0.0, grads1 = 0.0 \n",
            "y = 0.0, x1 = -0.0, x2 = 0.0,  grads0 = -0.0, grads1 = 0.0 \n",
            "y = 0.0, x1 = -0.0, x2 = 0.0,  grads0 = -0.0, grads1 = 0.0 \n",
            "y = 0.0, x1 = -0.0, x2 = 0.0,  grads0 = -0.0, grads1 = 0.0 \n",
            "y = 0.0, x1 = -0.0, x2 = 0.0,  grads0 = -0.0, grads1 = 0.0 \n",
            "y = 0.0, x1 = -0.0, x2 = 0.0,  grads0 = -0.0, grads1 = 0.0 \n",
            "y = 0.0, x1 = -0.0, x2 = 0.0,  grads0 = -0.0, grads1 = 0.0 \n",
            "y = 0.0, x1 = -0.0, x2 = 0.0,  grads0 = -0.0, grads1 = 0.0 \n",
            "y = 0.0, x1 = -0.0, x2 = 0.0,  grads0 = -0.0, grads1 = 0.0 \n",
            "y = 0.0, x1 = -0.0, x2 = 0.0,  grads0 = -0.0, grads1 = 0.0 \n",
            "y = 0.0, x1 = -0.0, x2 = 0.0,  grads0 = -0.0, grads1 = 0.0 \n",
            "y = 0.0, x1 = -0.0, x2 = 0.0,  grads0 = -0.0, grads1 = 0.0 \n"
          ],
          "name": "stdout"
        }
      ]
    },
    {
      "cell_type": "markdown",
      "metadata": {
        "id": "0DazlzfNStpm"
      },
      "source": [
        "We can see that by following the direction of the negative gradient, with step size $\\alpha$, we have been able to find the local minimum of this function. (Why \"local\"? Well. the overall minimum of any complex function may not be the one that the gradient descent algorithm finds - it may have found a suboptimal solution, for the given initial conditions.)"
      ]
    },
    {
      "cell_type": "markdown",
      "metadata": {
        "id": "-qdFHFn6XFEm"
      },
      "source": [
        "## Linear regression model and gradient descent: predicting numerical variables - revisited"
      ]
    },
    {
      "cell_type": "markdown",
      "metadata": {
        "id": "QhUFKsc4XNjv"
      },
      "source": [
        "In week 6, we introduced a linear regression model. In general, regression models allow one to _predict_ the value of a **numerical** dependent variable from several _independent_ **numerical** variables.\n",
        "\n",
        "Let's start by defining a linear model $y=ax+b$ ($weight = a \\times height + b$) as a python 'class':"
      ]
    },
    {
      "cell_type": "code",
      "metadata": {
        "id": "qex_PyCwShMC"
      },
      "source": [
        "class LinearModel:\n",
        "    def __init__(self):\n",
        "        self.a = tf.Variable(16.0) # Default value of a = 16.0\n",
        "        self.b = tf.Variable(10.0) # Default value of b = 10.0\n",
        "\n",
        "    def __call__(self, x):\n",
        "        return self.a * x + self.b # Linear model y = ax + b"
      ],
      "execution_count": 7,
      "outputs": []
    },
    {
      "cell_type": "markdown",
      "metadata": {
        "id": "VAKVZ7W4dkYn"
      },
      "source": [
        "Now, let's synthetically generate some weight-height data, where $a = 2.0$ and $b = 70$."
      ]
    },
    {
      "cell_type": "code",
      "metadata": {
        "id": "aCPn2KuBXQPT"
      },
      "source": [
        "TRUE_a = 2.0 # slope\n",
        "TRUE_b = 70.0 # intercept\n",
        "\n",
        "NUM_EXAMPLES = 1000\n",
        "\n",
        "X = tf.random.normal(shape=(NUM_EXAMPLES,))\n",
        "noise = tf.random.normal(shape=(NUM_EXAMPLES,))\n",
        "y = X * TRUE_a + TRUE_b + noise"
      ],
      "execution_count": 8,
      "outputs": []
    },
    {
      "cell_type": "markdown",
      "metadata": {
        "id": "YBa370u3d6k6"
      },
      "source": [
        "Now we will define the *loss* function, using least squares expression (minimising the energy required to \"stretch\" the strings):"
      ]
    },
    {
      "cell_type": "code",
      "metadata": {
        "id": "Z5UVUxL9dykI"
      },
      "source": [
        "def loss(y, y_pred):\n",
        "    return tf.reduce_mean(tf.square(y - y_pred))"
      ],
      "execution_count": 9,
      "outputs": []
    },
    {
      "cell_type": "markdown",
      "metadata": {
        "id": "L_I4jhwcesoi"
      },
      "source": [
        "Now, let's define a *training* procedure (i.e. a mechanism for estimating the parameters $a$ and $b$), based on gradient descent:"
      ]
    },
    {
      "cell_type": "code",
      "metadata": {
        "id": "Fts7i8R3eDdf"
      },
      "source": [
        "def train(model, X, y, lr=0.01):\n",
        "    with tf.GradientTape() as t:\n",
        "        current_loss = loss(y, model(X))\n",
        "    da, db = t.gradient(current_loss, [model.a, model.b])\n",
        "    model.a.assign_sub(lr * da)\n",
        "    model.b.assign_sub(lr * db)"
      ],
      "execution_count": 10,
      "outputs": []
    },
    {
      "cell_type": "markdown",
      "metadata": {
        "id": "xyQEE9zke9rY"
      },
      "source": [
        "Let's bring all of this together:"
      ]
    },
    {
      "cell_type": "code",
      "metadata": {
        "colab": {
          "base_uri": "https://localhost:8080/",
          "height": 1000
        },
        "id": "NqAGPCX4ewRL",
        "outputId": "de7bc001-f2eb-4677-ecdf-873ebfeebd8a"
      },
      "source": [
        "model = LinearModel()\n",
        "aStore, bStore = [], []\n",
        "trainingIterations = 50\n",
        "\n",
        "for epoch in range(trainingIterations):\n",
        "    aStore.append(model.a.numpy())\n",
        "    bStore.append(model.b.numpy())\n",
        "    current_loss = loss(y, model(X))\n",
        "    train(model, X, y, lr=0.1)\n",
        "    print(f\"Epoch {epoch}: Loss: {current_loss.numpy()}, W: {model.a.numpy()}, b: {model.b.numpy()}\")\n",
        "\n",
        "plt.plot(range(trainingIterations), aStore, 'r', range(trainingIterations), bStore, 'b')\n",
        "plt.plot([TRUE_a] * trainingIterations, 'r--', [TRUE_b] * trainingIterations, 'b--')\n",
        "plt.legend(['a', 'b', 'true a', 'true b'])\n",
        "plt.show()"
      ],
      "execution_count": 11,
      "outputs": [
        {
          "output_type": "stream",
          "text": [
            "Epoch 0: Loss: 3778.8125, W: 13.207354545593262, b: 21.93859100341797\n",
            "Epoch 1: Loss: 2425.074462890625, W: 10.972184181213379, b: 31.50226593017578\n",
            "Epoch 2: Loss: 1556.4359130859375, W: 9.18316650390625, b: 39.1634521484375\n",
            "Epoch 3: Loss: 999.0658569335938, W: 7.751217842102051, b: 45.30060577392578\n",
            "Epoch 4: Loss: 641.4240112304688, W: 6.605047225952148, b: 50.21689224243164\n",
            "Epoch 5: Loss: 411.93975830078125, W: 5.687602996826172, b: 54.155174255371094\n",
            "Epoch 6: Loss: 264.6890563964844, W: 4.953227519989014, b: 57.31000518798828\n",
            "Epoch 7: Loss: 170.20425415039062, W: 4.365379333496094, b: 59.83723831176758\n",
            "Epoch 8: Loss: 109.57709503173828, W: 3.8948142528533936, b: 61.86172103881836\n",
            "Epoch 9: Loss: 70.6750717163086, W: 3.5181260108947754, b: 63.483463287353516\n",
            "Epoch 10: Loss: 45.71322250366211, W: 3.216580867767334, b: 64.78258514404297\n",
            "Epoch 11: Loss: 29.696197509765625, W: 2.9751851558685303, b: 65.8232650756836\n",
            "Epoch 12: Loss: 19.418710708618164, W: 2.781937599182129, b: 66.65691375732422\n",
            "Epoch 13: Loss: 12.824075698852539, W: 2.627232313156128, b: 67.32472229003906\n",
            "Epoch 14: Loss: 8.592540740966797, W: 2.503380060195923, b: 67.85967254638672\n",
            "Epoch 15: Loss: 5.8773627281188965, W: 2.404226303100586, b: 68.28820037841797\n",
            "Epoch 16: Loss: 4.135137557983398, W: 2.3248445987701416, b: 68.63147735595703\n",
            "Epoch 17: Loss: 3.017219305038452, W: 2.26129150390625, b: 68.90646362304688\n",
            "Epoch 18: Loss: 2.2998921871185303, W: 2.2104098796844482, b: 69.12674713134766\n",
            "Epoch 19: Loss: 1.8396050930023193, W: 2.169672727584839, b: 69.30320739746094\n",
            "Epoch 20: Loss: 1.5442575216293335, W: 2.137057065963745, b: 69.44456481933594\n",
            "Epoch 21: Loss: 1.354742169380188, W: 2.11094331741333, b: 69.55780029296875\n",
            "Epoch 22: Loss: 1.2331382036209106, W: 2.0900352001190186, b: 69.64850616455078\n",
            "Epoch 23: Loss: 1.1551121473312378, W: 2.0732946395874023, b: 69.7211685180664\n",
            "Epoch 24: Loss: 1.105045199394226, W: 2.0598909854888916, b: 69.77937316894531\n",
            "Epoch 25: Loss: 1.0729202032089233, W: 2.049158811569214, b: 69.82599639892578\n",
            "Epoch 26: Loss: 1.0523078441619873, W: 2.0405657291412354, b: 69.86334228515625\n",
            "Epoch 27: Loss: 1.0390820503234863, W: 2.0336852073669434, b: 69.89326477050781\n",
            "Epoch 28: Loss: 1.0305942296981812, W: 2.0281758308410645, b: 69.91722869873047\n",
            "Epoch 29: Loss: 1.0251492261886597, W: 2.0237643718719482, b: 69.9364242553711\n",
            "Epoch 30: Loss: 1.0216552019119263, W: 2.0202319622039795, b: 69.9518051147461\n",
            "Epoch 31: Loss: 1.019412875175476, W: 2.0174033641815186, b: 69.96412658691406\n",
            "Epoch 32: Loss: 1.01797354221344, W: 2.0151383876800537, b: 69.97399139404297\n",
            "Epoch 33: Loss: 1.0170509815216064, W: 2.013324737548828, b: 69.98189544677734\n",
            "Epoch 34: Loss: 1.016458511352539, W: 2.0118725299835205, b: 69.98822784423828\n",
            "Epoch 35: Loss: 1.0160784721374512, W: 2.010709524154663, b: 69.99330139160156\n",
            "Epoch 36: Loss: 1.0158344507217407, W: 2.0097782611846924, b: 69.99736785888672\n",
            "Epoch 37: Loss: 1.015677571296692, W: 2.0090324878692627, b: 70.00062561035156\n",
            "Epoch 38: Loss: 1.0155776739120483, W: 2.0084352493286133, b: 70.00323486328125\n",
            "Epoch 39: Loss: 1.0155129432678223, W: 2.0079569816589355, b: 70.00532531738281\n",
            "Epoch 40: Loss: 1.0154714584350586, W: 2.0075740814208984, b: 70.00699615478516\n",
            "Epoch 41: Loss: 1.0154452323913574, W: 2.007267475128174, b: 70.00833892822266\n",
            "Epoch 42: Loss: 1.0154279470443726, W: 2.007021903991699, b: 70.00941467285156\n",
            "Epoch 43: Loss: 1.015417218208313, W: 2.0068252086639404, b: 70.01026916503906\n",
            "Epoch 44: Loss: 1.01541006565094, W: 2.0066676139831543, b: 70.01095581054688\n",
            "Epoch 45: Loss: 1.015405535697937, W: 2.0065414905548096, b: 70.01150512695312\n",
            "Epoch 46: Loss: 1.0154026746749878, W: 2.0064404010772705, b: 70.01194763183594\n",
            "Epoch 47: Loss: 1.0154008865356445, W: 2.006359577178955, b: 70.01229858398438\n",
            "Epoch 48: Loss: 1.015399694442749, W: 2.0062947273254395, b: 70.01258087158203\n",
            "Epoch 49: Loss: 1.0153988599777222, W: 2.0062429904937744, b: 70.01280975341797\n"
          ],
          "name": "stdout"
        },
        {
          "output_type": "display_data",
          "data": {
            "image/png": "[encoded data removed]",
            "text/plain": [
              "<Figure size 432x288 with 1 Axes>"
            ]
          },
          "metadata": {
            "tags": [],
            "needs_background": "light"
          }
        }
      ]
    },
    {
      "cell_type": "markdown",
      "metadata": {
        "id": "WNZgDtJahRuj"
      },
      "source": [
        "## Regression tensorflow simplications\n",
        "\n",
        "Instead of writing all of the code to define the model and to perform optimisation, we can instead use tensorflow to represent the simple linear network that we defined above:"
      ]
    },
    {
      "cell_type": "code",
      "metadata": {
        "id": "BhsBEX8nfMW5"
      },
      "source": [
        "layer0 = tf.keras.layers.Dense(units=1, input_shape=[1])\n",
        "tfmodel = tf.keras.Sequential([layer0]) \n",
        "tfmodel.compile(loss='mean_squared_error', optimizer=tf.keras.optimizers.Adam(0.1))"
      ],
      "execution_count": 12,
      "outputs": []
    },
    {
      "cell_type": "markdown",
      "metadata": {
        "id": "7TOham3phfq-"
      },
      "source": [
        "We can now fit the model using tensorflow \"fit\" function:"
      ]
    },
    {
      "cell_type": "code",
      "metadata": {
        "id": "XsAbiKVbhbzD"
      },
      "source": [
        "history = tfmodel.fit(X,y,epochs=100,verbose=False)"
      ],
      "execution_count": 13,
      "outputs": []
    },
    {
      "cell_type": "markdown",
      "metadata": {
        "id": "iX8CJKIRh3xd"
      },
      "source": [
        "Let's look at the loss as a function of iteration count:"
      ]
    },
    {
      "cell_type": "code",
      "metadata": {
        "colab": {
          "base_uri": "https://localhost:8080/",
          "height": 279
        },
        "id": "syIWajUEhiZc",
        "outputId": "49c4491e-8fb7-4fea-fdb0-7de14ec50849"
      },
      "source": [
        "plt.xlabel('Optimisation iteration')\n",
        "plt.ylabel(\"Loss\")\n",
        "plt.plot(history.history['loss'])\n",
        "plt.show()"
      ],
      "execution_count": 14,
      "outputs": [
        {
          "output_type": "display_data",
          "data": {
            "image/png": "[encoded data removed]",
            "text/plain": [
              "<Figure size 432x288 with 1 Axes>"
            ]
          },
          "metadata": {
            "tags": [],
            "needs_background": "light"
          }
        }
      ]
    },
    {
      "cell_type": "code",
      "metadata": {
        "colab": {
          "base_uri": "https://localhost:8080/",
          "height": 284
        },
        "id": "iVQmklETh9AP",
        "outputId": "7fa25381-d1f3-4973-d2a8-6da43a28a518"
      },
      "source": [
        "weights = layer0.get_weights()\n",
        "theta1 = weights[0][0]\n",
        "theta0 = weights[1]\n",
        "print('theta0: {} theta1: {}'.format(theta0, theta1))\n",
        "y_learned = X * theta1 + theta0 \n",
        "plt.scatter(X, y, label='Training Data')\n",
        "plt.plot(X, y_learned, color='orangered', label='Fit Line')\n",
        "plt.legend() \n",
        "plt.show()"
      ],
      "execution_count": 15,
      "outputs": [
        {
          "output_type": "stream",
          "text": [
            "theta0: [70.008766] theta1: [1.9927973]\n"
          ],
          "name": "stdout"
        },
        {
          "output_type": "display_data",
          "data": {
            "image/png": "[encoded data removed]",
            "text/plain": [
              "<Figure size 432x288 with 1 Axes>"
            ]
          },
          "metadata": {
            "tags": [],
            "needs_background": "light"
          }
        }
      ]
    },
    {
      "cell_type": "markdown",
      "metadata": {
        "id": "YLP02LXcFQi1"
      },
      "source": [
        "This _network_ based thought process underpins Deep Neural Networks. Tensorflow has been developed to allow data scienctists to create such neural networks, with simplified python interfaces, and generically applicable optimisation functions, allowing us to compute parameters of deep neural networks using a combination of function convolutions, the chain rule for differentiation, and (specialised forms of) gradient descent. We will explore this in more detail now."
      ]
    },
    {
      "cell_type": "markdown",
      "metadata": {
        "id": "BjxusxcTFWxU"
      },
      "source": [
        "## Interlude: Bernoulli distribution and coin tossing"
      ]
    },
    {
      "cell_type": "markdown",
      "metadata": {
        "id": "RGnoHoiHFcB-"
      },
      "source": [
        "Let's compute the following probabilities:\n",
        "* Tossing T with a fair coin\n",
        "* Tossing HH with a fair coin\n",
        "* Tossing HT with a fair coin\n",
        "* Tossing HTH with a fair coin\n",
        "* Tossing H with a biased coin ($p(head) = \\lambda = 0.1$)\n",
        "* Tossing HT with a biased coin ($p(head) = \\lambda = 0.1$)"
      ]
    },
    {
      "cell_type": "markdown",
      "metadata": {
        "id": "aod9zWMdFg_s"
      },
      "source": [
        "Now we'll (informally) introduce the concept of a random variable, denoted $C$, where $C=0$ corresponds to coin landing on heads and $C=1$ corresponds to coin landing on tails. The probability of $C=1$ is equal to $\\lambda$. If $\\lambda=0.5$ then the coin is unbiased (and we're maximally uncertain about the outcome of a coin toss."
      ]
    },
    {
      "cell_type": "markdown",
      "metadata": {
        "id": "NicqMAdJGn8g"
      },
      "source": [
        "We can say that $C$ follows a Bernoulli distribution, with *probability mass function* equal to the following expression:\n",
        "\\begin{equation}\n",
        "p(C|\\lambda) = \\lambda^{C}(1-\\lambda)^{1-C}\n",
        "\\end{equation}"
      ]
    },
    {
      "cell_type": "markdown",
      "metadata": {
        "id": "Z2os-h9cIBEs"
      },
      "source": [
        "## Logistic regression - binary classification"
      ]
    },
    {
      "cell_type": "markdown",
      "metadata": {
        "id": "hsCLCAyOIKpf"
      },
      "source": [
        "Consider the scenario where we wish to partition objects into two categories (e.g. spam or not spam, fraud or not fraud, positive sentiment or negative sentiment, face present or face not present, ...) given a set of attributes. The simplest (and widest used) model to achieve this is known as a Logistic Regression model. The Logistic Regression model \"squashes\" the output of a linear regression model, so that the resultant squashed output is between $0$ and $1$. This \"squashed\" output can be interpreted as a class probabaility (e.g. probability of spam or not spam). So what is the squashing function? "
      ]
    },
    {
      "cell_type": "markdown",
      "metadata": {
        "id": "yVPg-fznITnS"
      },
      "source": [
        "### Sigmoid function"
      ]
    },
    {
      "cell_type": "markdown",
      "metadata": {
        "id": "mkZ0p0i9IXB7"
      },
      "source": [
        "$sigm(\\eta)$ is known as the sigmoid function (also known as the _logistic_ or _logit_ function):"
      ]
    },
    {
      "cell_type": "markdown",
      "metadata": {
        "id": "L9D9bpjsIZre"
      },
      "source": [
        "\\begin{equation}\n",
        "sigm(\\eta) = \\frac{1}{1+e^{-\\eta}} = \\frac{e^{\\eta}}{e^{\\eta}+1}\n",
        "\\end{equation}"
      ]
    },
    {
      "cell_type": "markdown",
      "metadata": {
        "id": "nCZtGdg6IdQq"
      },
      "source": [
        "This function has the property that is \"squashes\" any input (from $-\\infty < \\eta < \\infty$) to a value between 0 and 1."
      ]
    },
    {
      "cell_type": "markdown",
      "metadata": {
        "id": "jK6R8M0nIhE4"
      },
      "source": [
        "We can use the Bernouilli expression introduced above to model input data and (probabilistically) ascertain whether the data are from one class or another:"
      ]
    },
    {
      "cell_type": "markdown",
      "metadata": {
        "id": "2GCtTjw9Il5a"
      },
      "source": [
        "\\begin{equation}\n",
        "\\prod_{i=1}^{N} Ber(C_{i}|sigm(\\theta x_{i})) = \\prod_{i=1}^{N} \\left[\\frac{1}{1+e^{-\\theta x_{i}}} \\right]^{C_{i}} \\left[1-\\frac{1}{1+e^{-\\theta x_{i}}} \\right]^{1-C_{i}}\n",
        "\\end{equation}"
      ]
    },
    {
      "cell_type": "markdown",
      "metadata": {
        "id": "AV_Hke5oIqg7"
      },
      "source": [
        "So how do we estimate model parameters $\\theta$? What is the loss function?"
      ]
    },
    {
      "cell_type": "markdown",
      "metadata": {
        "id": "Miacy_R2IyaQ"
      },
      "source": [
        "### Cross-entropy loss"
      ]
    },
    {
      "cell_type": "markdown",
      "metadata": {
        "id": "kQZuW5fyI1PK"
      },
      "source": [
        "Let's introduce entropy: https://en.wikipedia.org/wiki/Entropy_(information_theory). Entropy can be considered to be a measure of uncertainty. For example, in the case of coin tossing, the value oof $\\lambda$ that maximises entropy is $\\lambda = 0.5$ - we are maximally uncertain about the outcome of the \"experiment\". We therefore want to chose a value of $\\theta$ (in the above model) that minimises *cross entropy loss*:\n",
        "\\begin{equation}\n",
        "c(\\theta) = -\\frac{1}{N}\\sum_{i=1}^{N} \\left[C_{i}log\\hat{C}_{i}+(1-C_{i})log(1-\\hat{C}_{i})\\right]\n",
        "\\end{equation}"
      ]
    },
    {
      "cell_type": "markdown",
      "metadata": {
        "id": "Mn6uHFODI3Us"
      },
      "source": [
        "where:\n",
        "\\begin{equation}\n",
        "\\hat{C}_{i} = \\frac{1}{1+e^{-\\theta x_{i}}}\n",
        "\\end{equation}"
      ]
    },
    {
      "cell_type": "markdown",
      "metadata": {
        "id": "ixBvTYsQI5uU"
      },
      "source": [
        "In order to compute the optimal value of $\\theta$ that minimises the cross entropy loss, we use the chain rule (differentiation of composed functions) and gradient descent. Next week, we will use tensorflow to achieve this."
      ]
    },
    {
      "cell_type": "markdown",
      "metadata": {
        "id": "oDLIthUMJNZq"
      },
      "source": [
        "***\n",
        "Mandatory exercises:\n",
        "\n",
        "- [ ] Carefully read the material above, and ask questions over email.\n",
        "- [ ] Replicate all of the code in this notebook."
      ]
    },
    {
      "cell_type": "code",
      "metadata": {
        "id": "gHuIotACJQT_"
      },
      "source": [
        ""
      ],
      "execution_count": 15,
      "outputs": []
    }
  ]
}